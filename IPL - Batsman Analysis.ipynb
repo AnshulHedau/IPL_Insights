{
 "cells": [
  {
   "cell_type": "markdown",
   "metadata": {},
   "source": [
    "# IPL Insights\n",
    "### Importing all the library\n",
    "numpy, pandas, matplotlib, seaborn, math, pylab, json, datetime"
   ]
  },
  {
   "cell_type": "code",
   "execution_count": 362,
   "metadata": {},
   "outputs": [],
   "source": [
    "import numpy as np \n",
    "import pandas as pd  \n",
    "import matplotlib.pyplot as plt\n",
    "import seaborn as sns\n",
    "import math\n",
    "import pylab as pl\n",
    "import json\n",
    "import datetime\n",
    "\n",
    "from IPython.display import Markdown, display\n",
    "from sklearn.cluster import KMeans\n",
    "from mpl_toolkits.mplot3d import Axes3D\n",
    "from gmplot import gmplot\n",
    "\n",
    "%matplotlib inline"
   ]
  },
  {
   "cell_type": "markdown",
   "metadata": {},
   "source": [
    "## Storing csv file in a variable\n",
    "Storing matches.csv in variable data_setm"
   ]
  },
  {
   "cell_type": "code",
   "execution_count": 363,
   "metadata": {
    "scrolled": false
   },
   "outputs": [
    {
     "data": {
      "text/html": [
       "<div>\n",
       "<style scoped>\n",
       "    .dataframe tbody tr th:only-of-type {\n",
       "        vertical-align: middle;\n",
       "    }\n",
       "\n",
       "    .dataframe tbody tr th {\n",
       "        vertical-align: top;\n",
       "    }\n",
       "\n",
       "    .dataframe thead th {\n",
       "        text-align: right;\n",
       "    }\n",
       "</style>\n",
       "<table border=\"1\" class=\"dataframe\">\n",
       "  <thead>\n",
       "    <tr style=\"text-align: right;\">\n",
       "      <th></th>\n",
       "      <th>match_id</th>\n",
       "      <th>season</th>\n",
       "      <th>city</th>\n",
       "      <th>date</th>\n",
       "      <th>team1</th>\n",
       "      <th>team2</th>\n",
       "      <th>toss_winner</th>\n",
       "      <th>toss_decision</th>\n",
       "      <th>result</th>\n",
       "      <th>dl_applied</th>\n",
       "      <th>winner</th>\n",
       "      <th>win_by_runs</th>\n",
       "      <th>win_by_wickets</th>\n",
       "      <th>player_of_match</th>\n",
       "      <th>venue</th>\n",
       "      <th>umpire1</th>\n",
       "      <th>umpire2</th>\n",
       "      <th>umpire3</th>\n",
       "    </tr>\n",
       "  </thead>\n",
       "  <tbody>\n",
       "    <tr>\n",
       "      <th>0</th>\n",
       "      <td>1</td>\n",
       "      <td>2017</td>\n",
       "      <td>Hyderabad</td>\n",
       "      <td>2017-04-05</td>\n",
       "      <td>Sunrisers Hyderabad</td>\n",
       "      <td>Royal Challengers Bangalore</td>\n",
       "      <td>Royal Challengers Bangalore</td>\n",
       "      <td>field</td>\n",
       "      <td>normal</td>\n",
       "      <td>0</td>\n",
       "      <td>Sunrisers Hyderabad</td>\n",
       "      <td>35</td>\n",
       "      <td>0</td>\n",
       "      <td>Yuvraj Singh</td>\n",
       "      <td>Rajiv Gandhi International Stadium, Uppal</td>\n",
       "      <td>AY Dandekar</td>\n",
       "      <td>NJ Llong</td>\n",
       "      <td></td>\n",
       "    </tr>\n",
       "    <tr>\n",
       "      <th>1</th>\n",
       "      <td>2</td>\n",
       "      <td>2017</td>\n",
       "      <td>Pune</td>\n",
       "      <td>2017-04-06</td>\n",
       "      <td>Mumbai Indians</td>\n",
       "      <td>Rising Pune Supergiant</td>\n",
       "      <td>Rising Pune Supergiant</td>\n",
       "      <td>field</td>\n",
       "      <td>normal</td>\n",
       "      <td>0</td>\n",
       "      <td>Rising Pune Supergiant</td>\n",
       "      <td>0</td>\n",
       "      <td>7</td>\n",
       "      <td>SPD Smith</td>\n",
       "      <td>Maharashtra Cricket Association Stadium</td>\n",
       "      <td>A Nand Kishore</td>\n",
       "      <td>S Ravi</td>\n",
       "      <td></td>\n",
       "    </tr>\n",
       "    <tr>\n",
       "      <th>2</th>\n",
       "      <td>3</td>\n",
       "      <td>2017</td>\n",
       "      <td>Rajkot</td>\n",
       "      <td>2017-04-07</td>\n",
       "      <td>Gujarat Lions</td>\n",
       "      <td>Kolkata Knight Riders</td>\n",
       "      <td>Kolkata Knight Riders</td>\n",
       "      <td>field</td>\n",
       "      <td>normal</td>\n",
       "      <td>0</td>\n",
       "      <td>Kolkata Knight Riders</td>\n",
       "      <td>0</td>\n",
       "      <td>10</td>\n",
       "      <td>CA Lynn</td>\n",
       "      <td>Saurashtra Cricket Association Stadium</td>\n",
       "      <td>Nitin Menon</td>\n",
       "      <td>CK Nandan</td>\n",
       "      <td></td>\n",
       "    </tr>\n",
       "    <tr>\n",
       "      <th>3</th>\n",
       "      <td>4</td>\n",
       "      <td>2017</td>\n",
       "      <td>Indore</td>\n",
       "      <td>2017-04-08</td>\n",
       "      <td>Rising Pune Supergiant</td>\n",
       "      <td>Kings XI Punjab</td>\n",
       "      <td>Kings XI Punjab</td>\n",
       "      <td>field</td>\n",
       "      <td>normal</td>\n",
       "      <td>0</td>\n",
       "      <td>Kings XI Punjab</td>\n",
       "      <td>0</td>\n",
       "      <td>6</td>\n",
       "      <td>GJ Maxwell</td>\n",
       "      <td>Holkar Cricket Stadium</td>\n",
       "      <td>AK Chaudhary</td>\n",
       "      <td>C Shamshuddin</td>\n",
       "      <td></td>\n",
       "    </tr>\n",
       "    <tr>\n",
       "      <th>4</th>\n",
       "      <td>5</td>\n",
       "      <td>2017</td>\n",
       "      <td>Bangalore</td>\n",
       "      <td>2017-04-08</td>\n",
       "      <td>Royal Challengers Bangalore</td>\n",
       "      <td>Delhi Daredevils</td>\n",
       "      <td>Royal Challengers Bangalore</td>\n",
       "      <td>bat</td>\n",
       "      <td>normal</td>\n",
       "      <td>0</td>\n",
       "      <td>Royal Challengers Bangalore</td>\n",
       "      <td>15</td>\n",
       "      <td>0</td>\n",
       "      <td>KM Jadhav</td>\n",
       "      <td>M Chinnaswamy Stadium</td>\n",
       "      <td></td>\n",
       "      <td></td>\n",
       "      <td></td>\n",
       "    </tr>\n",
       "  </tbody>\n",
       "</table>\n",
       "</div>"
      ],
      "text/plain": [
       "   match_id  season       city        date                        team1  \\\n",
       "0         1    2017  Hyderabad  2017-04-05          Sunrisers Hyderabad   \n",
       "1         2    2017       Pune  2017-04-06               Mumbai Indians   \n",
       "2         3    2017     Rajkot  2017-04-07                Gujarat Lions   \n",
       "3         4    2017     Indore  2017-04-08       Rising Pune Supergiant   \n",
       "4         5    2017  Bangalore  2017-04-08  Royal Challengers Bangalore   \n",
       "\n",
       "                         team2                  toss_winner toss_decision  \\\n",
       "0  Royal Challengers Bangalore  Royal Challengers Bangalore         field   \n",
       "1       Rising Pune Supergiant       Rising Pune Supergiant         field   \n",
       "2        Kolkata Knight Riders        Kolkata Knight Riders         field   \n",
       "3              Kings XI Punjab              Kings XI Punjab         field   \n",
       "4             Delhi Daredevils  Royal Challengers Bangalore           bat   \n",
       "\n",
       "   result  dl_applied                       winner  win_by_runs  \\\n",
       "0  normal           0          Sunrisers Hyderabad           35   \n",
       "1  normal           0       Rising Pune Supergiant            0   \n",
       "2  normal           0        Kolkata Knight Riders            0   \n",
       "3  normal           0              Kings XI Punjab            0   \n",
       "4  normal           0  Royal Challengers Bangalore           15   \n",
       "\n",
       "   win_by_wickets player_of_match                                      venue  \\\n",
       "0               0    Yuvraj Singh  Rajiv Gandhi International Stadium, Uppal   \n",
       "1               7       SPD Smith    Maharashtra Cricket Association Stadium   \n",
       "2              10         CA Lynn     Saurashtra Cricket Association Stadium   \n",
       "3               6      GJ Maxwell                     Holkar Cricket Stadium   \n",
       "4               0       KM Jadhav                      M Chinnaswamy Stadium   \n",
       "\n",
       "          umpire1        umpire2 umpire3  \n",
       "0     AY Dandekar       NJ Llong          \n",
       "1  A Nand Kishore         S Ravi          \n",
       "2     Nitin Menon      CK Nandan          \n",
       "3    AK Chaudhary  C Shamshuddin          \n",
       "4                                         "
      ]
     },
     "execution_count": 363,
     "metadata": {},
     "output_type": "execute_result"
    }
   ],
   "source": [
    "data_setm = pd.read_csv('./matches.csv',keep_default_na=False)\n",
    "\n",
    "data_setm.columns = ['match_id','season','city','date','team1','team2','toss_winner','toss_decision','result','dl_applied','winner','win_by_runs','win_by_wickets','player_of_match','venue','umpire1','umpire2','umpire3']\n",
    "data_setm.head(5)"
   ]
  },
  {
   "cell_type": "code",
   "execution_count": 364,
   "metadata": {},
   "outputs": [
    {
     "name": "stdout",
     "output_type": "stream",
     "text": [
      "['match_id' 'season' 'city' 'date' 'team1' 'team2' 'toss_winner'\n",
      " 'toss_decision' 'result' 'dl_applied' 'winner' 'win_by_runs'\n",
      " 'win_by_wickets' 'player_of_match' 'venue' 'umpire1' 'umpire2' 'umpire3']\n"
     ]
    }
   ],
   "source": [
    "print(data_setm.columns.values)"
   ]
  },
  {
   "cell_type": "markdown",
   "metadata": {},
   "source": [
    "### Ploting the Histogram of the Matches in Each season"
   ]
  },
  {
   "cell_type": "code",
   "execution_count": 108,
   "metadata": {
    "collapsed": true
   },
   "outputs": [],
   "source": [
    "def histogram_plot(dataset, title):\n",
    "    plt.figure(figsize=(8, 6))    \n",
    "    \n",
    "    ax = plt.subplot()    \n",
    "    ax.spines[\"top\"].set_visible(False)    \n",
    "    ax.spines[\"bottom\"].set_visible(False)    \n",
    "    ax.spines[\"right\"].set_visible(False)    \n",
    "    ax.spines[\"left\"].set_visible(False)\n",
    "    \n",
    "    ax.get_xaxis().tick_bottom()\n",
    "    ax.get_yaxis().tick_left() \n",
    "    \n",
    "    plt.title(title, fontsize = 22)\n",
    "    plt.hist(dataset, edgecolor='black', linewidth=1)"
   ]
  },
  {
   "cell_type": "code",
   "execution_count": 109,
   "metadata": {},
   "outputs": [
    {
     "data": {
      "image/png": "[encoded data removed]",
      "text/plain": [
       "<matplotlib.figure.Figure at 0x2aee1143358>"
      ]
     },
     "metadata": {},
     "output_type": "display_data"
    }
   ],
   "source": [
    "season_years = list([data_setm['season']])\n",
    "histogram_plot(season_years, title = \"Seasons\")\n",
    "plt.show()"
   ]
  },
  {
   "cell_type": "markdown",
   "metadata": {},
   "source": [
    "## Storing csv file in a variable\n",
    "storing deliveries.csv in variable data_set"
   ]
  },
  {
   "cell_type": "code",
   "execution_count": 365,
   "metadata": {},
   "outputs": [
    {
     "data": {
      "text/html": [
       "<div>\n",
       "<style scoped>\n",
       "    .dataframe tbody tr th:only-of-type {\n",
       "        vertical-align: middle;\n",
       "    }\n",
       "\n",
       "    .dataframe tbody tr th {\n",
       "        vertical-align: top;\n",
       "    }\n",
       "\n",
       "    .dataframe thead th {\n",
       "        text-align: right;\n",
       "    }\n",
       "</style>\n",
       "<table border=\"1\" class=\"dataframe\">\n",
       "  <thead>\n",
       "    <tr style=\"text-align: right;\">\n",
       "      <th></th>\n",
       "      <th>match_id</th>\n",
       "      <th>inning</th>\n",
       "      <th>batting_team</th>\n",
       "      <th>bowling_team</th>\n",
       "      <th>over</th>\n",
       "      <th>ball</th>\n",
       "      <th>batsman</th>\n",
       "      <th>non_striker</th>\n",
       "      <th>bowler</th>\n",
       "      <th>is_super_over</th>\n",
       "      <th>...</th>\n",
       "      <th>bye_runs</th>\n",
       "      <th>legbye_runs</th>\n",
       "      <th>noball_runs</th>\n",
       "      <th>penalty_runs</th>\n",
       "      <th>batsman_runs</th>\n",
       "      <th>extra_runs</th>\n",
       "      <th>total_runs</th>\n",
       "      <th>player_dismissed</th>\n",
       "      <th>dismissal_kind</th>\n",
       "      <th>fielder</th>\n",
       "    </tr>\n",
       "  </thead>\n",
       "  <tbody>\n",
       "    <tr>\n",
       "      <th>0</th>\n",
       "      <td>1</td>\n",
       "      <td>1</td>\n",
       "      <td>Sunrisers Hyderabad</td>\n",
       "      <td>Royal Challengers Bangalore</td>\n",
       "      <td>1</td>\n",
       "      <td>1</td>\n",
       "      <td>DA Warner</td>\n",
       "      <td>S Dhawan</td>\n",
       "      <td>TS Mills</td>\n",
       "      <td>0</td>\n",
       "      <td>...</td>\n",
       "      <td>0</td>\n",
       "      <td>0</td>\n",
       "      <td>0</td>\n",
       "      <td>0</td>\n",
       "      <td>0</td>\n",
       "      <td>0</td>\n",
       "      <td>0</td>\n",
       "      <td>NaN</td>\n",
       "      <td>NaN</td>\n",
       "      <td>NaN</td>\n",
       "    </tr>\n",
       "    <tr>\n",
       "      <th>1</th>\n",
       "      <td>1</td>\n",
       "      <td>1</td>\n",
       "      <td>Sunrisers Hyderabad</td>\n",
       "      <td>Royal Challengers Bangalore</td>\n",
       "      <td>1</td>\n",
       "      <td>2</td>\n",
       "      <td>DA Warner</td>\n",
       "      <td>S Dhawan</td>\n",
       "      <td>TS Mills</td>\n",
       "      <td>0</td>\n",
       "      <td>...</td>\n",
       "      <td>0</td>\n",
       "      <td>0</td>\n",
       "      <td>0</td>\n",
       "      <td>0</td>\n",
       "      <td>0</td>\n",
       "      <td>0</td>\n",
       "      <td>0</td>\n",
       "      <td>NaN</td>\n",
       "      <td>NaN</td>\n",
       "      <td>NaN</td>\n",
       "    </tr>\n",
       "    <tr>\n",
       "      <th>2</th>\n",
       "      <td>1</td>\n",
       "      <td>1</td>\n",
       "      <td>Sunrisers Hyderabad</td>\n",
       "      <td>Royal Challengers Bangalore</td>\n",
       "      <td>1</td>\n",
       "      <td>3</td>\n",
       "      <td>DA Warner</td>\n",
       "      <td>S Dhawan</td>\n",
       "      <td>TS Mills</td>\n",
       "      <td>0</td>\n",
       "      <td>...</td>\n",
       "      <td>0</td>\n",
       "      <td>0</td>\n",
       "      <td>0</td>\n",
       "      <td>0</td>\n",
       "      <td>4</td>\n",
       "      <td>0</td>\n",
       "      <td>4</td>\n",
       "      <td>NaN</td>\n",
       "      <td>NaN</td>\n",
       "      <td>NaN</td>\n",
       "    </tr>\n",
       "    <tr>\n",
       "      <th>3</th>\n",
       "      <td>1</td>\n",
       "      <td>1</td>\n",
       "      <td>Sunrisers Hyderabad</td>\n",
       "      <td>Royal Challengers Bangalore</td>\n",
       "      <td>1</td>\n",
       "      <td>4</td>\n",
       "      <td>DA Warner</td>\n",
       "      <td>S Dhawan</td>\n",
       "      <td>TS Mills</td>\n",
       "      <td>0</td>\n",
       "      <td>...</td>\n",
       "      <td>0</td>\n",
       "      <td>0</td>\n",
       "      <td>0</td>\n",
       "      <td>0</td>\n",
       "      <td>0</td>\n",
       "      <td>0</td>\n",
       "      <td>0</td>\n",
       "      <td>NaN</td>\n",
       "      <td>NaN</td>\n",
       "      <td>NaN</td>\n",
       "    </tr>\n",
       "    <tr>\n",
       "      <th>4</th>\n",
       "      <td>1</td>\n",
       "      <td>1</td>\n",
       "      <td>Sunrisers Hyderabad</td>\n",
       "      <td>Royal Challengers Bangalore</td>\n",
       "      <td>1</td>\n",
       "      <td>5</td>\n",
       "      <td>DA Warner</td>\n",
       "      <td>S Dhawan</td>\n",
       "      <td>TS Mills</td>\n",
       "      <td>0</td>\n",
       "      <td>...</td>\n",
       "      <td>0</td>\n",
       "      <td>0</td>\n",
       "      <td>0</td>\n",
       "      <td>0</td>\n",
       "      <td>0</td>\n",
       "      <td>2</td>\n",
       "      <td>2</td>\n",
       "      <td>NaN</td>\n",
       "      <td>NaN</td>\n",
       "      <td>NaN</td>\n",
       "    </tr>\n",
       "  </tbody>\n",
       "</table>\n",
       "<p>5 rows × 21 columns</p>\n",
       "</div>"
      ],
      "text/plain": [
       "   match_id  inning         batting_team                 bowling_team  over  \\\n",
       "0         1       1  Sunrisers Hyderabad  Royal Challengers Bangalore     1   \n",
       "1         1       1  Sunrisers Hyderabad  Royal Challengers Bangalore     1   \n",
       "2         1       1  Sunrisers Hyderabad  Royal Challengers Bangalore     1   \n",
       "3         1       1  Sunrisers Hyderabad  Royal Challengers Bangalore     1   \n",
       "4         1       1  Sunrisers Hyderabad  Royal Challengers Bangalore     1   \n",
       "\n",
       "   ball    batsman non_striker    bowler  is_super_over   ...    bye_runs  \\\n",
       "0     1  DA Warner    S Dhawan  TS Mills              0   ...           0   \n",
       "1     2  DA Warner    S Dhawan  TS Mills              0   ...           0   \n",
       "2     3  DA Warner    S Dhawan  TS Mills              0   ...           0   \n",
       "3     4  DA Warner    S Dhawan  TS Mills              0   ...           0   \n",
       "4     5  DA Warner    S Dhawan  TS Mills              0   ...           0   \n",
       "\n",
       "   legbye_runs  noball_runs  penalty_runs  batsman_runs  extra_runs  \\\n",
       "0            0            0             0             0           0   \n",
       "1            0            0             0             0           0   \n",
       "2            0            0             0             4           0   \n",
       "3            0            0             0             0           0   \n",
       "4            0            0             0             0           2   \n",
       "\n",
       "   total_runs  player_dismissed dismissal_kind fielder  \n",
       "0           0               NaN            NaN     NaN  \n",
       "1           0               NaN            NaN     NaN  \n",
       "2           4               NaN            NaN     NaN  \n",
       "3           0               NaN            NaN     NaN  \n",
       "4           2               NaN            NaN     NaN  \n",
       "\n",
       "[5 rows x 21 columns]"
      ]
     },
     "execution_count": 365,
     "metadata": {},
     "output_type": "execute_result"
    }
   ],
   "source": [
    "data_set = pd.read_csv('./deliveries.csv')\n",
    "data_set.head(5)"
   ]
  },
  {
   "cell_type": "code",
   "execution_count": 366,
   "metadata": {},
   "outputs": [
    {
     "name": "stdout",
     "output_type": "stream",
     "text": [
      "['match_id' 'inning' 'batting_team' 'bowling_team' 'over' 'ball' 'batsman'\n",
      " 'non_striker' 'bowler' 'is_super_over' 'wide_runs' 'bye_runs'\n",
      " 'legbye_runs' 'noball_runs' 'penalty_runs' 'batsman_runs' 'extra_runs'\n",
      " 'total_runs' 'player_dismissed' 'dismissal_kind' 'fielder']\n"
     ]
    }
   ],
   "source": [
    "print(data_set.columns.values)"
   ]
  },
  {
   "cell_type": "markdown",
   "metadata": {},
   "source": [
    "### Merging the two CSV dataframes in single dataframe"
   ]
  },
  {
   "cell_type": "code",
   "execution_count": 111,
   "metadata": {},
   "outputs": [
    {
     "data": {
      "text/html": [
       "<div>\n",
       "<style scoped>\n",
       "    .dataframe tbody tr th:only-of-type {\n",
       "        vertical-align: middle;\n",
       "    }\n",
       "\n",
       "    .dataframe tbody tr th {\n",
       "        vertical-align: top;\n",
       "    }\n",
       "\n",
       "    .dataframe thead th {\n",
       "        text-align: right;\n",
       "    }\n",
       "</style>\n",
       "<table border=\"1\" class=\"dataframe\">\n",
       "  <thead>\n",
       "    <tr style=\"text-align: right;\">\n",
       "      <th></th>\n",
       "      <th>match_id</th>\n",
       "      <th>inning</th>\n",
       "      <th>batting_team</th>\n",
       "      <th>bowling_team</th>\n",
       "      <th>over</th>\n",
       "      <th>ball</th>\n",
       "      <th>batsman</th>\n",
       "      <th>non_striker</th>\n",
       "      <th>bowler</th>\n",
       "      <th>is_super_over</th>\n",
       "      <th>...</th>\n",
       "      <th>result</th>\n",
       "      <th>dl_applied</th>\n",
       "      <th>winner</th>\n",
       "      <th>win_by_runs</th>\n",
       "      <th>win_by_wickets</th>\n",
       "      <th>player_of_match</th>\n",
       "      <th>venue</th>\n",
       "      <th>umpire1</th>\n",
       "      <th>umpire2</th>\n",
       "      <th>umpire3</th>\n",
       "    </tr>\n",
       "  </thead>\n",
       "  <tbody>\n",
       "    <tr>\n",
       "      <th>0</th>\n",
       "      <td>1</td>\n",
       "      <td>1</td>\n",
       "      <td>Sunrisers Hyderabad</td>\n",
       "      <td>Royal Challengers Bangalore</td>\n",
       "      <td>1</td>\n",
       "      <td>1</td>\n",
       "      <td>DA Warner</td>\n",
       "      <td>S Dhawan</td>\n",
       "      <td>TS Mills</td>\n",
       "      <td>0</td>\n",
       "      <td>...</td>\n",
       "      <td>normal</td>\n",
       "      <td>0</td>\n",
       "      <td>Sunrisers Hyderabad</td>\n",
       "      <td>35</td>\n",
       "      <td>0</td>\n",
       "      <td>Yuvraj Singh</td>\n",
       "      <td>Rajiv Gandhi International Stadium, Uppal</td>\n",
       "      <td>AY Dandekar</td>\n",
       "      <td>NJ Llong</td>\n",
       "      <td></td>\n",
       "    </tr>\n",
       "    <tr>\n",
       "      <th>1</th>\n",
       "      <td>1</td>\n",
       "      <td>1</td>\n",
       "      <td>Sunrisers Hyderabad</td>\n",
       "      <td>Royal Challengers Bangalore</td>\n",
       "      <td>1</td>\n",
       "      <td>2</td>\n",
       "      <td>DA Warner</td>\n",
       "      <td>S Dhawan</td>\n",
       "      <td>TS Mills</td>\n",
       "      <td>0</td>\n",
       "      <td>...</td>\n",
       "      <td>normal</td>\n",
       "      <td>0</td>\n",
       "      <td>Sunrisers Hyderabad</td>\n",
       "      <td>35</td>\n",
       "      <td>0</td>\n",
       "      <td>Yuvraj Singh</td>\n",
       "      <td>Rajiv Gandhi International Stadium, Uppal</td>\n",
       "      <td>AY Dandekar</td>\n",
       "      <td>NJ Llong</td>\n",
       "      <td></td>\n",
       "    </tr>\n",
       "    <tr>\n",
       "      <th>2</th>\n",
       "      <td>1</td>\n",
       "      <td>1</td>\n",
       "      <td>Sunrisers Hyderabad</td>\n",
       "      <td>Royal Challengers Bangalore</td>\n",
       "      <td>1</td>\n",
       "      <td>3</td>\n",
       "      <td>DA Warner</td>\n",
       "      <td>S Dhawan</td>\n",
       "      <td>TS Mills</td>\n",
       "      <td>0</td>\n",
       "      <td>...</td>\n",
       "      <td>normal</td>\n",
       "      <td>0</td>\n",
       "      <td>Sunrisers Hyderabad</td>\n",
       "      <td>35</td>\n",
       "      <td>0</td>\n",
       "      <td>Yuvraj Singh</td>\n",
       "      <td>Rajiv Gandhi International Stadium, Uppal</td>\n",
       "      <td>AY Dandekar</td>\n",
       "      <td>NJ Llong</td>\n",
       "      <td></td>\n",
       "    </tr>\n",
       "    <tr>\n",
       "      <th>3</th>\n",
       "      <td>1</td>\n",
       "      <td>1</td>\n",
       "      <td>Sunrisers Hyderabad</td>\n",
       "      <td>Royal Challengers Bangalore</td>\n",
       "      <td>1</td>\n",
       "      <td>4</td>\n",
       "      <td>DA Warner</td>\n",
       "      <td>S Dhawan</td>\n",
       "      <td>TS Mills</td>\n",
       "      <td>0</td>\n",
       "      <td>...</td>\n",
       "      <td>normal</td>\n",
       "      <td>0</td>\n",
       "      <td>Sunrisers Hyderabad</td>\n",
       "      <td>35</td>\n",
       "      <td>0</td>\n",
       "      <td>Yuvraj Singh</td>\n",
       "      <td>Rajiv Gandhi International Stadium, Uppal</td>\n",
       "      <td>AY Dandekar</td>\n",
       "      <td>NJ Llong</td>\n",
       "      <td></td>\n",
       "    </tr>\n",
       "    <tr>\n",
       "      <th>4</th>\n",
       "      <td>1</td>\n",
       "      <td>1</td>\n",
       "      <td>Sunrisers Hyderabad</td>\n",
       "      <td>Royal Challengers Bangalore</td>\n",
       "      <td>1</td>\n",
       "      <td>5</td>\n",
       "      <td>DA Warner</td>\n",
       "      <td>S Dhawan</td>\n",
       "      <td>TS Mills</td>\n",
       "      <td>0</td>\n",
       "      <td>...</td>\n",
       "      <td>normal</td>\n",
       "      <td>0</td>\n",
       "      <td>Sunrisers Hyderabad</td>\n",
       "      <td>35</td>\n",
       "      <td>0</td>\n",
       "      <td>Yuvraj Singh</td>\n",
       "      <td>Rajiv Gandhi International Stadium, Uppal</td>\n",
       "      <td>AY Dandekar</td>\n",
       "      <td>NJ Llong</td>\n",
       "      <td></td>\n",
       "    </tr>\n",
       "  </tbody>\n",
       "</table>\n",
       "<p>5 rows × 38 columns</p>\n",
       "</div>"
      ],
      "text/plain": [
       "   match_id  inning         batting_team                 bowling_team  over  \\\n",
       "0         1       1  Sunrisers Hyderabad  Royal Challengers Bangalore     1   \n",
       "1         1       1  Sunrisers Hyderabad  Royal Challengers Bangalore     1   \n",
       "2         1       1  Sunrisers Hyderabad  Royal Challengers Bangalore     1   \n",
       "3         1       1  Sunrisers Hyderabad  Royal Challengers Bangalore     1   \n",
       "4         1       1  Sunrisers Hyderabad  Royal Challengers Bangalore     1   \n",
       "\n",
       "   ball    batsman non_striker    bowler  is_super_over   ...    result  \\\n",
       "0     1  DA Warner    S Dhawan  TS Mills              0   ...    normal   \n",
       "1     2  DA Warner    S Dhawan  TS Mills              0   ...    normal   \n",
       "2     3  DA Warner    S Dhawan  TS Mills              0   ...    normal   \n",
       "3     4  DA Warner    S Dhawan  TS Mills              0   ...    normal   \n",
       "4     5  DA Warner    S Dhawan  TS Mills              0   ...    normal   \n",
       "\n",
       "   dl_applied               winner  win_by_runs  win_by_wickets  \\\n",
       "0           0  Sunrisers Hyderabad           35               0   \n",
       "1           0  Sunrisers Hyderabad           35               0   \n",
       "2           0  Sunrisers Hyderabad           35               0   \n",
       "3           0  Sunrisers Hyderabad           35               0   \n",
       "4           0  Sunrisers Hyderabad           35               0   \n",
       "\n",
       "   player_of_match                                      venue      umpire1  \\\n",
       "0     Yuvraj Singh  Rajiv Gandhi International Stadium, Uppal  AY Dandekar   \n",
       "1     Yuvraj Singh  Rajiv Gandhi International Stadium, Uppal  AY Dandekar   \n",
       "2     Yuvraj Singh  Rajiv Gandhi International Stadium, Uppal  AY Dandekar   \n",
       "3     Yuvraj Singh  Rajiv Gandhi International Stadium, Uppal  AY Dandekar   \n",
       "4     Yuvraj Singh  Rajiv Gandhi International Stadium, Uppal  AY Dandekar   \n",
       "\n",
       "    umpire2 umpire3  \n",
       "0  NJ Llong          \n",
       "1  NJ Llong          \n",
       "2  NJ Llong          \n",
       "3  NJ Llong          \n",
       "4  NJ Llong          \n",
       "\n",
       "[5 rows x 38 columns]"
      ]
     },
     "execution_count": 111,
     "metadata": {},
     "output_type": "execute_result"
    }
   ],
   "source": [
    "data_set = pd.merge(data_set, data_setm, on='match_id')\n",
    "data_set.head(5)"
   ]
  },
  {
   "cell_type": "markdown",
   "metadata": {},
   "source": [
    "## Creating custom list\n",
    "list contains match_id,batsman's name, runs scored, is_super_over"
   ]
  },
  {
   "cell_type": "code",
   "execution_count": 112,
   "metadata": {
    "collapsed": true
   },
   "outputs": [],
   "source": [
    "Player_Runs  = list([data_set['match_id'],data_set['batsman'],data_set['batsman_runs'],data_set['is_super_over'],data_set['wide_runs'],data_set['noball_runs'],data_set['season']])"
   ]
  },
  {
   "cell_type": "markdown",
   "metadata": {},
   "source": [
    "### Get the Match Id for particular season"
   ]
  },
  {
   "cell_type": "code",
   "execution_count": 306,
   "metadata": {},
   "outputs": [
    {
     "name": "stdout",
     "output_type": "stream",
     "text": [
      "Enter the year to see the statistics :2008\n",
      "Match id of match during the year are :\n",
      "[60, 61, 62, 63, 64, 65, 66, 67, 68, 69, 70, 71, 72, 73, 74, 75, 76, 77, 78, 79, 80, 81, 82, 83, 84, 85, 86, 87, 88, 89, 90, 91, 92, 93, 94, 95, 96, 97, 98, 99, 100, 101, 102, 103, 104, 105, 106, 107, 108, 109, 110, 111, 112, 113, 114, 115, 116, 117]\n",
      "Total no. of matches in that year : 58\n"
     ]
    }
   ],
   "source": [
    "input_year = int(input(\"Enter the year to see the statistics :\"))\n",
    "Years = list([[data_setm['season']],[data_setm['match_id']]])\n",
    "print(\"Match id of match during the year are :\")\n",
    "match_during_input_year = []\n",
    "for i in range(len(Years[0][0])):\n",
    "    if(Years[0][0][i]==input_year):\n",
    "        match_during_input_year.append(Years[1][0][i])\n",
    "print(match_during_input_year)\n",
    "print(\"Total no. of matches in that year :\",len(match_during_input_year))\n",
    "#for id we use Years[1][0][i]\n",
    "#for year we use Years[0][0][i]"
   ]
  },
  {
   "cell_type": "markdown",
   "metadata": {},
   "source": [
    "### Finding the list of Players who have batted\n",
    "player contains the list of players"
   ]
  },
  {
   "cell_type": "code",
   "execution_count": 114,
   "metadata": {
    "collapsed": true
   },
   "outputs": [],
   "source": [
    "player = set()\n",
    "for i in range(len(Player_Runs[0:][1])):\n",
    "    player.add(Player_Runs[0:][1][i])\n",
    "#print(player)"
   ]
  },
  {
   "cell_type": "code",
   "execution_count": 115,
   "metadata": {},
   "outputs": [
    {
     "name": "stdout",
     "output_type": "stream",
     "text": [
      "['JP Duminy', 'ML Hayden', 'AS Rajpoot', 'Rashid Khan', 'CJ Ferguson', 'MJ Clarke', 'VY Mahesh', 'BA Bhatt', 'KC Sangakkara', 'DP Nannes', 'CH Gayle', 'A Symonds', 'MN van Wyk', 'YS Chahal', 'H Das', 'SL Malinga', 'VRV Singh', 'L Ronchi', 'F du Plessis', 'S Rana', 'DL Chahar', 'AR Patel', 'AR Bawne', 'JM Kemp', 'MJ Lumb', 'Washington Sundar', 'MEK Hussey', 'SM Katich', 'SR Tendulkar', 'AC Voges', 'WA Mota', 'Mohammad Nabi', 'JO Holder', 'NV Ojha', 'T Thushara', 'S Vidyut', 'MV Boucher', 'UT Khawaja', 'RD Chahar', 'ST Jayasuriya', 'Vishnu Vinod', 'R Sathish', 'RS Bopara', 'M Rawat', 'L Ablish', 'CJ Jordan', 'Imran Tahir', 'AA Bilakhia', 'R Bhatia', 'LA Carseldine', 'UT Yadav', 'Sunny Gupta', 'RJ Quiney', 'RS Gavaskar', 'DA Warner', 'T Henderson', 'MA Starc', 'LJ Wright', 'RE van der Merwe', 'JD Unadkat', 'DM Bravo', 'MC Juneja', 'B Chipli', 'Mohammad Asif', 'M Ntini', 'PP Ojha', 'DR Smith', 'CK Kapugedera', 'CA Lynn', 'VS Yeligati', 'KP Appanna', 'C Nanda', 'RN ten Doeschate', 'VS Malik', 'NLTC Perera', 'S Anirudha', 'A Singh', 'Iqbal Abdulla', 'SW Billings', 'A Uniyal', 'Abdur Razzak', 'SA Asnodkar', 'DJ Bravo', 'PJ Cummins', 'PJ Sangwan', 'AUK Pathan', 'TL Suman', 'Anureet Singh', 'YV Takawale', 'CJ Anderson', 'IR Jaggi', 'JJ Roy', 'YK Pathan', 'IK Pathan', 'M Kartik', 'GH Vihari', 'HM Amla', 'M Muralitharan', 'BJ Rohrer', 'Sohail Tanvir', 'DW Steyn', 'A Zampa', 'SV Samson', 'MC Henriques', 'A Choudhary', 'Umar Gul', 'PSP Handscomb', 'Mandeep Singh', 'Shakib Al Hasan', 'BE Hendricks', 'DPMD Jayawardene', 'RP Singh', 'Sandeep Sharma', 'M Ashwin', 'JA Morkel', 'CA Pujara', 'DJG Sammy', 'AC Blizzard', 'SB Wagh', 'KM Jadhav', 'Gurkeerat Singh', 'BB Samantray', 'AP Majumdar', 'AG Murtaza', 'DR Martyn', 'R Ninan', 'Mohammed Shami', 'WP Saha', 'AA Noffke', 'Jaskaran Singh', 'LH Ferguson', 'DS Kulkarni', 'RA Jadeja', 'KAJ Roach', 'GB Hogg', 'DB Ravi Teja', 'R Tewatia', 'SC Ganguly', 'SJ Srivastava', 'DA Miller', 'RS Sodhi', 'TS Mills', 'S Ladda', 'MK Pandey', 'TA Boult', 'SB Styris', 'JDS Neesham', 'CR Woakes', 'JP Faulkner', 'AC Thomas', 'MA Agarwal', 'DT Christian', 'Salman Butt', 'RR Sarwan', 'MS Bisla', 'B Laughlin', 'DJ Jacobs', 'TG Southee', 'VH Zol', 'J Yadav', 'X Thalaivan Sargunam', 'BCJ Cutting', 'AB de Villiers', 'SR Watson', 'K Goel', 'PR Shah', 'SP Goswami', 'KK Nair', 'T Taibu', 'R Ashwin', 'A Nehra', 'Shivam Sharma', 'MP Stoinis', 'M de Lange', 'RR Powar', 'Z Khan', 'AJ Finch', 'R Dhawan', 'S Kaushik', 'D Salunkhe', 'SN Khan', 'AL Menaria', 'PA Reddy', 'KL Rahul', 'Sachin Baby', 'AD Nath', 'MS Wade', 'N Saini', 'CM Gautam', 'SB Bangar', 'DJ Hussey', 'Harbhajan Singh', 'MD Mishra', 'UA Birla', 'RJ Harris', 'B Kumar', 'A Flintoff', 'CH Morris', 'MF Maharoof', 'L Balaji', 'SE Bond', 'R Rampaul', 'AA Chavan', 'C de Grandhomme', 'PA Patel', 'Kamran Akmal', 'S Sriram', 'CA Ingram', 'JEC Franklin', 'S Sohal', 'U Kaul', 'AA Jhunjhunwala', 'TM Dilshan', 'Yuvraj Singh', 'M Klinger', 'M Kaif', 'JDP Oram', 'AD Mathews', 'SM Pollock', 'PP Chawla', 'S Kaul', 'SB Jakati', 'Harpreet Singh', 'Misbah-ul-Haq', 'MR Marsh', 'Parvez Rasool', 'D Kalyankrishna', 'RR Pant', 'PD Collingwood', 'W Jaffer', 'SW Tait', 'HH Gibbs', 'RV Uthappa', 'SA Abbott', 'ND Doshi', 'AB Agarkar', 'OA Shah', 'DJ Muthuswami', 'C Madan', 'DJ Thornely', 'DJ Harris', 'JC Buttler', 'BJ Hodge', 'AT Rayudu', 'JH Kallis', 'AS Yadav', 'SP Fleming', 'AN Ahmed', 'V Kohli', 'DH Yagnik', 'JJ Bumrah', 'S Randiv', 'STR Binny', 'KP Pietersen', 'UBT Chand', 'SK Warne', 'MS Dhoni', 'AP Dole', 'HH Pandya', 'R Bishnoi', 'SM Harwood', 'S Badrinath', 'AS Raut', 'BA Stokes', 'TM Head', 'Ankit Soni', 'R Vinay Kumar', 'AP Tare', 'Younis Khan', 'AD Mascarenhas', 'Y Venugopal Rao', 'SMSM Senanayake', 'MS Gony', 'Bipul Sharma', 'KC Cariappa', 'A Mithun', 'SA Yadav', 'Pankaj Singh', 'NS Naik', 'AB Barath', 'S Nadeem', 'Mohammad Hafeez', 'HV Patel', 'S Tyagi', 'GD McGrath', 'Harmeet Singh', 'SP Jackson', 'KA Pollard', 'G Gambhir', 'B Lee', 'Yashpal Singh', 'V Shankar', 'YA Abdulla', 'LR Shukla', 'V Sehwag', 'JR Hopes', 'R Sharma', 'SP Narine', 'AD Russell', 'DB Das', 'I Malhotra', 'SS Iyer', 'DNT Zoysa', 'A Kumble', 'J Theron', 'Basil Thampi', 'S Gopal', 'SS Shaikh', 'RG Sharma', 'MK Tiwary', 'Y Nagar', 'S Badree', 'Ishan Kishan', 'DT Patil', 'MN Samuels', 'DL Vettori', 'JE Taylor', 'RG More', 'DP Vijaykumar', 'P Negi', 'LMP Simmons', 'N Rana', 'Ankit Sharma', 'B Akhil', 'GJ Maxwell', 'R Shukla', 'CL White', 'KD Karthik', 'M Manhas', 'R McLaren', 'V Pratap Singh', 'Niraj Patel', 'Shoaib Ahmed', 'IC Pandey', 'KS Williamson', 'A Mishra', 'TD Paine', 'SE Marsh', 'AB Dinda', 'LA Pomersbach', 'GJ Bailey', 'J Syed Mohammad', 'NM Coulter-Nile', 'FY Fazal', 'CRD Fernando', 'ER Dwivedi', 'SD Chitnis', 'J Suchith', 'FH Edwards', 'Kuldeep Yadav', 'K Upadhyay', 'JD Ryder', 'AN Ghosh', 'PM Sarvesh Kumar', 'AJ Tye', 'NL McCullum', 'PV Tambe', 'P Kumar', 'RR Rossouw', 'C Munro', 'SB Joshi', 'LPC Silva', 'AB McDonald', 'KJ Abbott', 'J Arunkumar', 'S Aravind', 'BR Dunk', 'J Botha', 'RR Bhatkal', 'RT Ponting', 'D Wiese', 'BJ Haddin', 'NJ Rimmington', 'AF Milne', 'M Vijay', 'A Chopra', 'Mashrafe Mortaza', 'BB Sran', 'RJ Peterson', 'KV Sharma', 'JJ van der Wath', 'Karanveer Singh', 'KW Richardson', 'D du Preez', 'CK Langeveldt', 'SS Tiwary', 'DJ Hooda', 'WD Parnell', 'DAJ Bracewell', 'GC Smith', 'Shoaib Akhtar', 'KMDN Kulasekara', 'PC Valthaty', 'S Narwal', 'CR Brathwaite', 'LRPL Taylor', 'GR Napier', 'RR Raje', 'AC Gilchrist', 'S Dhawan', 'MM Sharma', 'P Sahu', 'Sunny Singh', 'RA Tripathi', 'Shahid Afridi', 'R Dravid', 'A Ashish Reddy', 'P Dogra', 'AG Paunikar', 'VR Aaron', 'DE Bollinger', 'BMAJ Mendis', 'AM Nayar', 'SPD Smith', 'VVS Laxman', 'CJ McKay', 'Anirudh Singh', 'S Sreesanth', 'TR Birt', 'P Parameswaran', 'MG Johnson', 'B Sumanth', 'KK Cooper', 'MDKJ Perera', 'I Sharma', 'Shoaib Malik', 'Y Gnaneswara Rao', 'Kamran Khan', 'RV Gomez', 'NJ Maddinson', 'Swapnil Singh', 'WPUJC Vaas', 'A Mukund', 'SK Trivedi', 'A Chandila', 'Azhar Mahmood', 'Joginder Sharma', 'F Behardien', 'Q de Kock', 'KH Pandya', 'KB Arun Karthik', 'S Chanderpaul', 'MM Patel', 'P Awana', 'DS Lehmann', 'AM Rahane', 'MJ Guptill', 'MJ McClenaghan', 'M Morkel', 'SN Thakur', 'TM Srivastava', 'M Vohra', 'BAW Mendis', 'T Kohli', 'RE Levi', 'EJG Morgan', 'Mohammad Ashraful', 'K Rabada', 'MA Khote', 'BB McCullum', 'SK Raina']\n"
     ]
    }
   ],
   "source": [
    "player_list = list(player)\n",
    "print(player_list)"
   ]
  },
  {
   "cell_type": "code",
   "execution_count": 116,
   "metadata": {
    "collapsed": true
   },
   "outputs": [],
   "source": [
    "player_list= ['JP Duminy', 'ML Hayden', 'AS Rajpoot', 'Rashid Khan', 'CJ Ferguson', 'MJ Clarke', 'VY Mahesh', 'BA Bhatt', 'KC Sangakkara', 'DP Nannes', 'CH Gayle', 'A Symonds', 'MN van Wyk', 'YS Chahal', 'H Das', 'SL Malinga', 'VRV Singh', 'L Ronchi', 'F du Plessis', 'S Rana', 'DL Chahar', 'AR Patel', 'AR Bawne', 'JM Kemp', 'MJ Lumb', 'Washington Sundar', 'MEK Hussey', 'SM Katich', 'SR Tendulkar', 'AC Voges', 'WA Mota', 'Mohammad Nabi', 'JO Holder', 'NV Ojha', 'T Thushara', 'S Vidyut', 'MV Boucher', 'UT Khawaja', 'RD Chahar', 'ST Jayasuriya', 'Vishnu Vinod', 'R Sathish', 'RS Bopara', 'M Rawat', 'L Ablish', 'CJ Jordan', 'Imran Tahir', 'AA Bilakhia', 'R Bhatia', 'LA Carseldine', 'UT Yadav', 'Sunny Gupta', 'RJ Quiney', 'RS Gavaskar', 'DA Warner', 'T Henderson', 'MA Starc', 'LJ Wright', 'RE van der Merwe', 'JD Unadkat', 'DM Bravo', 'MC Juneja', 'B Chipli', 'Mohammad Asif', 'M Ntini', 'PP Ojha', 'DR Smith', 'CK Kapugedera', 'CA Lynn', 'VS Yeligati', 'KP Appanna', 'C Nanda', 'RN ten Doeschate', 'VS Malik', 'NLTC Perera', 'S Anirudha', 'A Singh', 'Iqbal Abdulla', 'SW Billings', 'A Uniyal', 'Abdur Razzak', 'SA Asnodkar', 'DJ Bravo', 'PJ Cummins', 'PJ Sangwan', 'AUK Pathan', 'TL Suman', 'Anureet Singh', 'YV Takawale', 'CJ Anderson', 'IR Jaggi', 'JJ Roy', 'YK Pathan', 'IK Pathan', 'M Kartik', 'GH Vihari', 'HM Amla', 'M Muralitharan', 'BJ Rohrer', 'Sohail Tanvir', 'DW Steyn', 'A Zampa', 'SV Samson', 'MC Henriques', 'A Choudhary', 'Umar Gul', 'PSP Handscomb', 'Mandeep Singh', 'Shakib Al Hasan', 'BE Hendricks', 'DPMD Jayawardene', 'RP Singh', 'Sandeep Sharma', 'M Ashwin', 'JA Morkel', 'CA Pujara', 'DJG Sammy', 'AC Blizzard', 'SB Wagh', 'KM Jadhav', 'Gurkeerat Singh', 'BB Samantray', 'AP Majumdar', 'AG Murtaza', 'DR Martyn', 'R Ninan', 'Mohammed Shami', 'WP Saha', 'AA Noffke', 'Jaskaran Singh', 'LH Ferguson', 'DS Kulkarni', 'RA Jadeja', 'KAJ Roach', 'GB Hogg', 'DB Ravi Teja', 'R Tewatia', 'SC Ganguly', 'SJ Srivastava', 'DA Miller', 'RS Sodhi', 'TS Mills', 'S Ladda', 'MK Pandey', 'TA Boult', 'SB Styris', 'JDS Neesham', 'CR Woakes', 'JP Faulkner', 'AC Thomas', 'MA Agarwal', 'DT Christian', 'Salman Butt', 'RR Sarwan', 'MS Bisla', 'B Laughlin', 'DJ Jacobs', 'TG Southee', 'VH Zol', 'J Yadav', 'X Thalaivan Sargunam', 'BCJ Cutting', 'AB de Villiers', 'SR Watson', 'K Goel', 'PR Shah', 'SP Goswami', 'KK Nair', 'T Taibu', 'R Ashwin', 'A Nehra', 'Shivam Sharma', 'MP Stoinis', 'M de Lange', 'RR Powar', 'Z Khan', 'AJ Finch', 'R Dhawan', 'S Kaushik', 'D Salunkhe', 'SN Khan', 'AL Menaria', 'PA Reddy', 'KL Rahul', 'Sachin Baby', 'AD Nath', 'MS Wade', 'N Saini', 'CM Gautam', 'SB Bangar', 'DJ Hussey', 'Harbhajan Singh', 'MD Mishra', 'UA Birla', 'RJ Harris', 'B Kumar', 'A Flintoff', 'CH Morris', 'MF Maharoof', 'L Balaji', 'SE Bond', 'R Rampaul', 'AA Chavan', 'C de Grandhomme', 'PA Patel', 'Kamran Akmal', 'S Sriram', 'CA Ingram', 'JEC Franklin', 'S Sohal', 'U Kaul', 'AA Jhunjhunwala', 'TM Dilshan', 'Yuvraj Singh', 'M Klinger', 'M Kaif', 'JDP Oram', 'AD Mathews', 'SM Pollock', 'PP Chawla', 'S Kaul', 'SB Jakati', 'Harpreet Singh', 'Misbah-ul-Haq', 'MR Marsh', 'Parvez Rasool', 'D Kalyankrishna', 'RR Pant', 'PD Collingwood', 'W Jaffer', 'SW Tait', 'HH Gibbs', 'RV Uthappa', 'SA Abbott', 'ND Doshi', 'AB Agarkar', 'OA Shah', 'DJ Muthuswami', 'C Madan', 'DJ Thornely', 'DJ Harris', 'JC Buttler', 'BJ Hodge', 'AT Rayudu', 'JH Kallis', 'AS Yadav', 'SP Fleming', 'AN Ahmed', 'V Kohli', 'DH Yagnik', 'JJ Bumrah', 'S Randiv', 'STR Binny', 'KP Pietersen', 'UBT Chand', 'SK Warne', 'MS Dhoni', 'AP Dole', 'HH Pandya', 'R Bishnoi', 'SM Harwood', 'S Badrinath', 'AS Raut', 'BA Stokes', 'TM Head', 'Ankit Soni', 'R Vinay Kumar', 'AP Tare', 'Younis Khan', 'AD Mascarenhas', 'Y Venugopal Rao', 'SMSM Senanayake', 'MS Gony', 'Bipul Sharma', 'KC Cariappa', 'A Mithun', 'SA Yadav', 'Pankaj Singh', 'NS Naik', 'AB Barath', 'S Nadeem', 'Mohammad Hafeez', 'HV Patel', 'S Tyagi', 'GD McGrath', 'Harmeet Singh', 'SP Jackson', 'KA Pollard', 'G Gambhir', 'B Lee', 'Yashpal Singh', 'V Shankar', 'YA Abdulla', 'LR Shukla', 'V Sehwag', 'JR Hopes', 'R Sharma', 'SP Narine', 'AD Russell', 'DB Das', 'I Malhotra', 'SS Iyer', 'DNT Zoysa', 'A Kumble', 'J Theron', 'Basil Thampi', 'S Gopal', 'SS Shaikh', 'RG Sharma', 'MK Tiwary', 'Y Nagar', 'S Badree', 'Ishan Kishan', 'DT Patil', 'MN Samuels', 'DL Vettori', 'JE Taylor', 'RG More', 'DP Vijaykumar', 'P Negi', 'LMP Simmons', 'N Rana', 'Ankit Sharma', 'B Akhil', 'GJ Maxwell', 'R Shukla', 'CL White', 'KD Karthik', 'M Manhas', 'R McLaren', 'V Pratap Singh', 'Niraj Patel', 'Shoaib Ahmed', 'IC Pandey', 'KS Williamson', 'A Mishra', 'TD Paine', 'SE Marsh', 'AB Dinda', 'LA Pomersbach', 'GJ Bailey', 'J Syed Mohammad', 'NM Coulter-Nile', 'FY Fazal', 'CRD Fernando', 'ER Dwivedi', 'SD Chitnis', 'J Suchith', 'FH Edwards', 'Kuldeep Yadav', 'K Upadhyay', 'JD Ryder', 'AN Ghosh', 'PM Sarvesh Kumar', 'AJ Tye', 'NL McCullum', 'PV Tambe', 'P Kumar', 'RR Rossouw', 'C Munro', 'SB Joshi', 'LPC Silva', 'AB McDonald', 'KJ Abbott', 'J Arunkumar', 'S Aravind', 'BR Dunk', 'J Botha', 'RR Bhatkal', 'RT Ponting', 'D Wiese', 'BJ Haddin', 'NJ Rimmington', 'AF Milne', 'M Vijay', 'A Chopra', 'Mashrafe Mortaza', 'BB Sran', 'RJ Peterson', 'KV Sharma', 'JJ van der Wath', 'Karanveer Singh', 'KW Richardson', 'D du Preez', 'CK Langeveldt', 'SS Tiwary', 'DJ Hooda', 'WD Parnell', 'DAJ Bracewell', 'GC Smith', 'Shoaib Akhtar', 'KMDN Kulasekara', 'PC Valthaty', 'S Narwal', 'CR Brathwaite', 'LRPL Taylor', 'GR Napier', 'RR Raje', 'AC Gilchrist', 'S Dhawan', 'MM Sharma', 'P Sahu', 'Sunny Singh', 'RA Tripathi', 'Shahid Afridi', 'R Dravid', 'A Ashish Reddy', 'P Dogra', 'AG Paunikar', 'VR Aaron', 'DE Bollinger', 'BMAJ Mendis', 'AM Nayar', 'SPD Smith', 'VVS Laxman', 'CJ McKay', 'Anirudh Singh', 'S Sreesanth', 'TR Birt', 'P Parameswaran', 'MG Johnson', 'B Sumanth', 'KK Cooper', 'MDKJ Perera', 'I Sharma', 'Shoaib Malik', 'Y Gnaneswara Rao', 'Kamran Khan', 'RV Gomez', 'NJ Maddinson', 'Swapnil Singh', 'WPUJC Vaas', 'A Mukund', 'SK Trivedi', 'A Chandila', 'Azhar Mahmood', 'Joginder Sharma', 'F Behardien', 'Q de Kock', 'KH Pandya', 'KB Arun Karthik', 'S Chanderpaul', 'MM Patel', 'P Awana', 'DS Lehmann', 'AM Rahane', 'MJ Guptill', 'MJ McClenaghan', 'M Morkel', 'SN Thakur', 'TM Srivastava', 'M Vohra', 'BAW Mendis', 'T Kohli', 'RE Levi', 'EJG Morgan', 'Mohammad Ashraful', 'K Rabada', 'MA Khote', 'BB McCullum', 'SK Raina']"
   ]
  },
  {
   "cell_type": "markdown",
   "metadata": {},
   "source": [
    "### Creating custom list of a particular player\n",
    "List contains match_id, player_name, runs_scored at particular ball"
   ]
  },
  {
   "cell_type": "code",
   "execution_count": 117,
   "metadata": {},
   "outputs": [
    {
     "name": "stdout",
     "output_type": "stream",
     "text": [
      "Enter the name of the Batsman :V Kohli\n",
      "V Kohli\n"
     ]
    }
   ],
   "source": [
    "name = input(\"Enter the name of the Batsman :\")\n",
    "print(name)\n",
    "Player_Match = []\n",
    "for i in range(len(Player_Runs[0:][1])):\n",
    "    if(Player_Runs[0:][1][i]==name and Player_Runs[0:][3][i]==0):\n",
    "        Player_Match.append([[Player_Runs[0:][0][i]],[Player_Runs[0:][1][i]],[Player_Runs[0:][2][i]],[Player_Runs[0:][6][i]]])\n",
    "#Player_Match[-50:]"
   ]
  },
  {
   "cell_type": "markdown",
   "metadata": {},
   "source": [
    "### Finding the Ball faced by the player"
   ]
  },
  {
   "cell_type": "code",
   "execution_count": 119,
   "metadata": {},
   "outputs": [
    {
     "name": "stdout",
     "output_type": "stream",
     "text": [
      "No of Balls played by V Kohli are :  3403\n"
     ]
    }
   ],
   "source": [
    "Player_Balls = []\n",
    "for i in range(len(Player_Runs[0:][1])):\n",
    "    if(Player_Runs[0:][1][i]==name and Player_Runs[0:][3][i]==0 and Player_Runs[0:][4][i]==0 ):\n",
    "        Player_Balls.append([[Player_Runs[0:][0][i]],[Player_Runs[0:][1][i]],[Player_Runs[0:][2][i]]])\n",
    "\n",
    "count = 0\n",
    "for i in range(len(Player_Match)):\n",
    "    #if(Player_Match[i][2][0]):\n",
    "        count += 1\n",
    "count\n",
    "print(\"No of Balls faced by\",name, \"are : \",len(Player_Balls))"
   ]
  },
  {
   "cell_type": "markdown",
   "metadata": {},
   "source": [
    "### Finding Runs, Century and Half Century scored by the player in a match"
   ]
  },
  {
   "cell_type": "code",
   "execution_count": 120,
   "metadata": {
    "collapsed": true
   },
   "outputs": [],
   "source": [
    "Player_Match_Runs = []\n",
    "Runs = []\n",
    "match_no = Player_Match[0][0]\n",
    "sum = 0\n",
    "for i in range(len(Player_Match)):\n",
    "    if(Player_Match[i][0] == match_no):\n",
    "        sum += Player_Match[i][2][0]\n",
    "    else:\n",
    "        Player_Match_Runs.append([Player_Match[i-1][0],Player_Match[i-1][1],[sum],Player_Match[i-1][3]])\n",
    "        Runs.append(sum)\n",
    "        sum = Player_Match[i][2][0]\n",
    "        match_no =  Player_Match[i][0];\n",
    "Player_Match_Runs.append([Player_Match[i-1][0],Player_Match[i-1][1],[sum],Player_Match[i-1][3]])\n",
    "Runs.append(sum)"
   ]
  },
  {
   "cell_type": "markdown",
   "metadata": {},
   "source": [
    "### Century and Half Century scored by the player"
   ]
  },
  {
   "cell_type": "code",
   "execution_count": 121,
   "metadata": {},
   "outputs": [
    {
     "name": "stdout",
     "output_type": "stream",
     "text": [
      "Century :  4\n",
      "Half Century :  30\n"
     ]
    }
   ],
   "source": [
    "fifty = 0\n",
    "century = 0\n",
    "for i in range(len(Player_Match_Runs)):\n",
    "    if(Player_Match_Runs[i][2][0]>=50 and Player_Match_Runs[i][2][0]<100):\n",
    "        fifty = fifty+1\n",
    "    elif(Player_Match_Runs[i][2][0]>=100):\n",
    "        century = century+1\n",
    "print(\"Century : \",century)\n",
    "print(\"Half Century : \",fifty)"
   ]
  },
  {
   "cell_type": "markdown",
   "metadata": {},
   "source": [
    "### Runs Scored in each match"
   ]
  },
  {
   "cell_type": "code",
   "execution_count": 122,
   "metadata": {},
   "outputs": [
    {
     "data": {
      "text/plain": [
       "[[[12], ['V Kohli'], [62], [2017]],\n",
       " [[17], ['V Kohli'], [28], [2017]],\n",
       " [[20], ['V Kohli'], [64], [2017]],\n",
       " [[27], ['V Kohli'], [0], [2017]],\n",
       " [[30], ['V Kohli'], [10], [2017]],\n",
       " [[33], ['V Kohli'], [55], [2017]],\n",
       " [[37], ['V Kohli'], [20], [2017]],\n",
       " [[42], ['V Kohli'], [6], [2017]],\n",
       " [[45], ['V Kohli'], [5], [2017]],\n",
       " [[55], ['V Kohli'], [58], [2017]],\n",
       " [[60], ['V Kohli'], [1], [2008]],\n",
       " [[63], ['V Kohli'], [23], [2008]],\n",
       " [[70], ['V Kohli'], [13], [2008]],\n",
       " [[74], ['V Kohli'], [12], [2008]],\n",
       " [[76], ['V Kohli'], [1], [2008]],\n",
       " [[80], ['V Kohli'], [9], [2008]],\n",
       " [[84], ['V Kohli'], [34], [2008]],\n",
       " [[90], ['V Kohli'], [0], [2008]],\n",
       " [[94], ['V Kohli'], [21], [2008]],\n",
       " [[101], ['V Kohli'], [3], [2008]],\n",
       " [[107], ['V Kohli'], [10], [2008]],\n",
       " [[111], ['V Kohli'], [38], [2008]],\n",
       " [[119], ['V Kohli'], [3], [2009]],\n",
       " [[122], ['V Kohli'], [11], [2009]],\n",
       " [[124], ['V Kohli'], [50], [2009]],\n",
       " [[127], ['V Kohli'], [2], [2009]],\n",
       " [[129], ['V Kohli'], [22], [2009]],\n",
       " [[134], ['V Kohli'], [19], [2009]],\n",
       " [[139], ['V Kohli'], [16], [2009]],\n",
       " [[148], ['V Kohli'], [15], [2009]],\n",
       " [[153], ['V Kohli'], [20], [2009]],\n",
       " [[159], ['V Kohli'], [38], [2009]],\n",
       " [[171], ['V Kohli'], [19], [2009]],\n",
       " [[173], ['V Kohli'], [24], [2009]],\n",
       " [[174], ['V Kohli'], [7], [2009]],\n",
       " [[178], ['V Kohli'], [2], [2010]],\n",
       " [[181], ['V Kohli'], [16], [2010]],\n",
       " [[188], ['V Kohli'], [17], [2010]],\n",
       " [[192], ['V Kohli'], [24], [2010]],\n",
       " [[197], ['V Kohli'], [38], [2010]],\n",
       " [[202], ['V Kohli'], [34], [2010]],\n",
       " [[205], ['V Kohli'], [42], [2010]],\n",
       " [[209], ['V Kohli'], [13], [2010]],\n",
       " [[214], ['V Kohli'], [58], [2010]],\n",
       " [[220], ['V Kohli'], [3], [2010]],\n",
       " [[223], ['V Kohli'], [14], [2010]],\n",
       " [[226], ['V Kohli'], [37], [2010]],\n",
       " [[231], ['V Kohli'], [9], [2010]],\n",
       " [[237], ['V Kohli'], [23], [2011]],\n",
       " [[242], ['V Kohli'], [12], [2011]],\n",
       " [[245], ['V Kohli'], [71], [2011]],\n",
       " [[248], ['V Kohli'], [35], [2011]],\n",
       " [[258], ['V Kohli'], [30], [2011]],\n",
       " [[263], ['V Kohli'], [56], [2011]],\n",
       " [[268], ['V Kohli'], [67], [2011]],\n",
       " [[280], ['V Kohli'], [27], [2011]],\n",
       " [[283], ['V Kohli'], [27], [2011]],\n",
       " [[288], ['V Kohli'], [39], [2011]],\n",
       " [[291], ['V Kohli'], [15], [2011]],\n",
       " [[296], ['V Kohli'], [11], [2011]],\n",
       " [[302], ['V Kohli'], [31], [2011]],\n",
       " [[304], ['V Kohli'], [70], [2011]],\n",
       " [[306], ['V Kohli'], [8], [2011]],\n",
       " [[307], ['V Kohli'], [35], [2011]],\n",
       " [[312], ['V Kohli'], [8], [2012]],\n",
       " [[317], ['V Kohli'], [6], [2012]],\n",
       " [[320], ['V Kohli'], [57], [2012]],\n",
       " [[326], ['V Kohli'], [22], [2012]],\n",
       " [[329], ['V Kohli'], [16], [2012]],\n",
       " [[333], ['V Kohli'], [4], [2012]],\n",
       " [[338], ['V Kohli'], [16], [2012]],\n",
       " [[344], ['V Kohli'], [18], [2012]],\n",
       " [[350], ['V Kohli'], [45], [2012]],\n",
       " [[356], ['V Kohli'], [9], [2012]],\n",
       " [[360], ['V Kohli'], [36], [2012]],\n",
       " [[362], ['V Kohli'], [9], [2012]],\n",
       " [[367], ['V Kohli'], [3], [2012]],\n",
       " [[372], ['V Kohli'], [73], [2012]],\n",
       " [[376], ['V Kohli'], [42], [2012]],\n",
       " [[383], ['V Kohli'], [24], [2013]],\n",
       " [[388], ['V Kohli'], [46], [2013]],\n",
       " [[392], ['V Kohli'], [35], [2013]],\n",
       " [[396], ['V Kohli'], [58], [2013]],\n",
       " [[401], ['V Kohli'], [65], [2013]],\n",
       " [[407], ['V Kohli'], [1], [2013]],\n",
       " [[411], ['V Kohli'], [11], [2013]],\n",
       " [[417], ['V Kohli'], [1], [2013]],\n",
       " [[420], ['V Kohli'], [32], [2013]],\n",
       " [[426], ['V Kohli'], [25], [2013]],\n",
       " [[429], ['V Kohli'], [57], [2013]],\n",
       " [[432], ['V Kohli'], [93], [2013]],\n",
       " [[438], ['V Kohli'], [99], [2013]],\n",
       " [[441], ['V Kohli'], [17], [2013]],\n",
       " [[448], ['V Kohli'], [14], [2013]],\n",
       " [[452], ['V Kohli'], [56], [2013]],\n",
       " [[459], ['V Kohli'], [49], [2014]],\n",
       " [[462], ['V Kohli'], [0], [2014]],\n",
       " [[468], ['V Kohli'], [31], [2014]],\n",
       " [[471], ['V Kohli'], [21], [2014]],\n",
       " [[475], ['V Kohli'], [4], [2014]],\n",
       " [[481], ['V Kohli'], [0], [2014]],\n",
       " [[484], ['V Kohli'], [35], [2014]],\n",
       " [[488], ['V Kohli'], [0], [2014]],\n",
       " [[492], ['V Kohli'], [4], [2014]],\n",
       " [[495], ['V Kohli'], [10], [2014]],\n",
       " [[499], ['V Kohli'], [27], [2014]],\n",
       " [[503], ['V Kohli'], [67], [2014]],\n",
       " [[506], ['V Kohli'], [38], [2014]],\n",
       " [[510], ['V Kohli'], [73], [2014]],\n",
       " [[522], ['V Kohli'], [13], [2015]],\n",
       " [[525], ['V Kohli'], [41], [2015]],\n",
       " [[534], ['V Kohli'], [18], [2015]],\n",
       " [[538], ['V Kohli'], [51], [2015]],\n",
       " [[540], ['V Kohli'], [62], [2015]],\n",
       " [[543], ['V Kohli'], [35], [2015]],\n",
       " [[546], ['V Kohli'], [1], [2015]],\n",
       " [[550], ['V Kohli'], [34], [2015]],\n",
       " [[554], ['V Kohli'], [48], [2015]],\n",
       " [[557], ['V Kohli'], [32], [2015]],\n",
       " [[562], ['V Kohli'], [82], [2015]],\n",
       " [[566], ['V Kohli'], [19], [2015]],\n",
       " [[568], ['V Kohli'], [44], [2015]],\n",
       " [[571], ['V Kohli'], [1], [2015]],\n",
       " [[574], ['V Kohli'], [12], [2015]],\n",
       " [[575], ['V Kohli'], [12], [2015]],\n",
       " [[580], ['V Kohli'], [75], [2016]],\n",
       " [[587], ['V Kohli'], [79], [2016]],\n",
       " [[590], ['V Kohli'], [33], [2016]],\n",
       " [[592], ['V Kohli'], [80], [2016]],\n",
       " [[595], ['V Kohli'], [100], [2016]],\n",
       " [[603], ['V Kohli'], [14], [2016]],\n",
       " [[606], ['V Kohli'], [52], [2016]],\n",
       " [[611], ['V Kohli'], [108], [2016]],\n",
       " [[615], ['V Kohli'], [20], [2016]],\n",
       " [[617], ['V Kohli'], [7], [2016]],\n",
       " [[620], ['V Kohli'], [109], [2016]],\n",
       " [[624], ['V Kohli'], [75], [2016]],\n",
       " [[626], ['V Kohli'], [113], [2016]],\n",
       " [[632], ['V Kohli'], [54], [2016]],\n",
       " [[633], ['V Kohli'], [0], [2016]],\n",
       " [[636], ['V Kohli'], [54], [2016]]]"
      ]
     },
     "execution_count": 122,
     "metadata": {},
     "output_type": "execute_result"
    }
   ],
   "source": [
    "Player_Match_Runs"
   ]
  },
  {
   "cell_type": "markdown",
   "metadata": {},
   "source": [
    "### Total Runs Scored"
   ]
  },
  {
   "cell_type": "code",
   "execution_count": 123,
   "metadata": {},
   "outputs": [
    {
     "name": "stdout",
     "output_type": "stream",
     "text": [
      "Total Runs scored by V Kohli are : 4418 in 141 matches\n"
     ]
    }
   ],
   "source": [
    "total_runs = 0\n",
    "matchess = 0\n",
    "for i in range(len(Player_Match_Runs)):\n",
    "    #if(Player_Match_Runs[i][3][0]==input_year):\n",
    "        \n",
    "        #for i in range(len(Runs)):\n",
    "        total_runs += Runs[i]\n",
    "        matchess += 1\n",
    "print(\"Total Runs scored by\",name,\"are :\",total_runs,\"in\",matchess,\"matches\")\n"
   ]
  },
  {
   "cell_type": "markdown",
   "metadata": {},
   "source": [
    "### Plot of the Runs Scored by the Player"
   ]
  },
  {
   "cell_type": "code",
   "execution_count": 124,
   "metadata": {},
   "outputs": [
    {
     "data": {
      "image/png": "[encoded data removed]",
      "text/plain": [
       "<matplotlib.figure.Figure at 0x2aedf9bdfd0>"
      ]
     },
     "metadata": {},
     "output_type": "display_data"
    }
   ],
   "source": [
    "total_runs = 0\n",
    "for i in range(len(Runs)):\n",
    "    total_runs += Runs[i]\n",
    "total_runs\n",
    "\n",
    "x = np.arange(len(Player_Match_Runs))\n",
    "plt.figure(figsize=(20, 10))  \n",
    "plt.scatter(x,Runs)\n",
    "plt.plot(Runs)\n",
    "plt.title('PlayerStats')\n",
    "plt.plot(x,0*x+total_runs/len(Runs))\n",
    "plt.plot(x,0*x+50)\n",
    "plt.plot(x,0*x+100)\n",
    "plt.show()"
   ]
  },
  {
   "cell_type": "markdown",
   "metadata": {},
   "source": [
    "### Find the runs scored by the player"
   ]
  },
  {
   "cell_type": "code",
   "execution_count": 125,
   "metadata": {},
   "outputs": [
    {
     "data": {
      "text/plain": [
       "4418"
      ]
     },
     "execution_count": 125,
     "metadata": {},
     "output_type": "execute_result"
    }
   ],
   "source": [
    "total_runs = 0\n",
    "k = len(Runs)\n",
    "for i in range(k):\n",
    "    total_runs += Runs[i]\n",
    "total_runs"
   ]
  },
  {
   "cell_type": "markdown",
   "metadata": {},
   "source": [
    "### Strike Rate of the Batsman"
   ]
  },
  {
   "cell_type": "code",
   "execution_count": 303,
   "metadata": {},
   "outputs": [
    {
     "name": "stdout",
     "output_type": "stream",
     "text": [
      "Strike Rate of V Kohli is 129.8266235674405\n"
     ]
    }
   ],
   "source": [
    "strike_rate = total_runs/len(Player_Balls)*100\n",
    "print(\"Strike Rate of\",name,\"is\",strike_rate)"
   ]
  },
  {
   "cell_type": "markdown",
   "metadata": {},
   "source": [
    "### Average of the Batsman"
   ]
  },
  {
   "cell_type": "code",
   "execution_count": 127,
   "metadata": {},
   "outputs": [
    {
     "name": "stdout",
     "output_type": "stream",
     "text": [
      "Average of V Kohli is 37.440677966101696\n"
     ]
    }
   ],
   "source": [
    "dismisal_list = list(data_set.player_dismissed)\n",
    "current_player_dismisal_count = 0\n",
    "for item in dismisal_list:\n",
    "    if(item == name):\n",
    "        current_player_dismisal_count = current_player_dismisal_count+1\n",
    "print(\"Average of\",name,\"is\",total_runs/current_player_dismisal_count)"
   ]
  },
  {
   "cell_type": "code",
   "execution_count": 374,
   "metadata": {},
   "outputs": [
    {
     "data": {
      "text/html": [
       "<div>\n",
       "<style scoped>\n",
       "    .dataframe tbody tr th:only-of-type {\n",
       "        vertical-align: middle;\n",
       "    }\n",
       "\n",
       "    .dataframe tbody tr th {\n",
       "        vertical-align: top;\n",
       "    }\n",
       "\n",
       "    .dataframe thead th {\n",
       "        text-align: right;\n",
       "    }\n",
       "</style>\n",
       "<table border=\"1\" class=\"dataframe\">\n",
       "  <thead>\n",
       "    <tr style=\"text-align: right;\">\n",
       "      <th></th>\n",
       "      <th>Attributes</th>\n",
       "      <th>Values</th>\n",
       "    </tr>\n",
       "  </thead>\n",
       "  <tbody>\n",
       "    <tr>\n",
       "      <th>0</th>\n",
       "      <td>Name</td>\n",
       "      <td>V Kohli</td>\n",
       "    </tr>\n",
       "    <tr>\n",
       "      <th>1</th>\n",
       "      <td>Runs Scored</td>\n",
       "      <td>4418</td>\n",
       "    </tr>\n",
       "    <tr>\n",
       "      <th>2</th>\n",
       "      <td>Strike rate</td>\n",
       "      <td>129.827</td>\n",
       "    </tr>\n",
       "    <tr>\n",
       "      <th>3</th>\n",
       "      <td>Average</td>\n",
       "      <td>37.4407</td>\n",
       "    </tr>\n",
       "    <tr>\n",
       "      <th>4</th>\n",
       "      <td>Century</td>\n",
       "      <td>4</td>\n",
       "    </tr>\n",
       "    <tr>\n",
       "      <th>5</th>\n",
       "      <td>Fifty</td>\n",
       "      <td>30</td>\n",
       "    </tr>\n",
       "  </tbody>\n",
       "</table>\n",
       "</div>"
      ],
      "text/plain": [
       "    Attributes   Values\n",
       "0         Name  V Kohli\n",
       "1  Runs Scored     4418\n",
       "2  Strike rate  129.827\n",
       "3      Average  37.4407\n",
       "4      Century        4\n",
       "5        Fifty       30"
      ]
     },
     "execution_count": 374,
     "metadata": {},
     "output_type": "execute_result"
    }
   ],
   "source": [
    "attribute_player = [\"Name\",\"Runs Scored\",\"Strike rate\",\"Average\",\"Century\",\"Fifty\"]\n",
    "value_player = [name,total_runs,strike_rate,total_runs/current_player_dismisal_count,century,fifty]\n",
    "player_consolidated = {\"Attributes\":attribute_player,\"Values\":value_player}\n",
    "player_consolidated_dataframe = pd.DataFrame(player_consolidated)\n",
    "player_consolidated_dataframe"
   ]
  },
  {
   "cell_type": "code",
   "execution_count": 380,
   "metadata": {},
   "outputs": [
    {
     "name": "stdout",
     "output_type": "stream",
     "text": [
      "0.9971641204866131\n",
      "0.9600000000000002\n",
      "-1.0\n",
      "1.0\n"
     ]
    }
   ],
   "source": [
    "from scipy import spatial\n",
    "\n",
    "dataSetI = [0.8,0.6]\n",
    "dataSetII = [0.8,0.7]\n",
    "dataSetIII = [6,8]\n",
    "dataset4 = [-0.8,-0.6]\n",
    "datset5 = [32,24]\n",
    "print(1 - spatial.distance.cosine(dataSetI, dataSetII))\n",
    "print(1 - spatial.distance.cosine(dataSetI, dataSetIII))\n",
    "print(1 - spatial.distance.cosine(dataSetI, dataset4))\n",
    "print(1 - spatial.distance.cosine(dataSetI, datset5))"
   ]
  },
  {
   "cell_type": "markdown",
   "metadata": {},
   "source": [
    "## Complete Analysis of Players (Batsman)"
   ]
  },
  {
   "cell_type": "code",
   "execution_count": 128,
   "metadata": {
    "collapsed": true
   },
   "outputs": [],
   "source": [
    "def per_batsman_analysis(batsman_name,Players_Runs,  Players_SR):\n",
    "    #print(batsman_name)\n",
    "    Player_Match = []\n",
    "    for i in range(len(Player_Runs[0:][1])):\n",
    "        if(Player_Runs[0:][1][i]==batsman_name and Player_Runs[0:][3][i]==0):\n",
    "            Player_Match.append([[Player_Runs[0:][0][i]],[Player_Runs[0:][1][i]],[Player_Runs[0:][2][i]],[Player_Runs[0:][6][i]]])\n",
    "    per_batsman_analysis1(batsman_name,Player_Match,Players_Runs,  Players_SR)\n",
    "def per_batsman_analysis1(batsman_name,Player_Match,Players_Runs,  Players_SR):\n",
    "    Player_Balls = []\n",
    "    for i in range(len(Player_Runs[0:][1])):\n",
    "        if(Player_Runs[0:][1][i] == batsman_name and Player_Runs[0:][3][i]==0 and Player_Runs[0:][4][i]==0 ):\n",
    "            Player_Balls.append([[Player_Runs[0:][0][i]],[Player_Runs[0:][1][i]],[Player_Runs[0:][2][i]]])\n",
    "    per_batsman_analysis2(batsman_name,Player_Match,Player_Balls,Players_Runs,  Players_SR)\n",
    "def per_batsman_analysis2(batsman_name,Player_Match,Player_Balls,Players_Runs,  Players_SR):\n",
    "    count = 0\n",
    "    #print(Player_Balls)\n",
    "    for i in range(len(Player_Match)):\n",
    "        #if(Player_Match[i][2][0]):\n",
    "            count += 1\n",
    "    Player_Match_Runs = []\n",
    "    Runs = []\n",
    "    match_no = Player_Match[0][0]\n",
    "    sum = 0\n",
    "    for i in range(len(Player_Match)):\n",
    "        if(Player_Match[i][0] == match_no):\n",
    "            sum += Player_Match[i][2][0]\n",
    "        else:\n",
    "            Player_Match_Runs.append([Player_Match[i-1][0],Player_Match[i-1][1],[sum],Player_Match[i-1][3]])\n",
    "            Runs.append(sum)\n",
    "            sum = Player_Match[i][2][0]\n",
    "            match_no =  Player_Match[i][0];\n",
    "    Player_Match_Runs.append([Player_Match[i-1][0],Player_Match[i-1][1],[sum],Player_Match[i-1][3]])\n",
    "    Runs.append(sum)\n",
    "    total_runs = 0\n",
    "    k = len(Runs)\n",
    "    for i in range(k):\n",
    "        total_runs += Runs[i]\n",
    "    #print(total_runs)\n",
    "    #print(total_runs/len(Player_Balls)*100)\n",
    "    player_dismisal_count = 0\n",
    "    for item in dismisal_list:\n",
    "        if(item == batsman_name):\n",
    "            player_dismisal_count = player_dismisal_count+1\n",
    "    Player_ball_faced.append(player_dismisal_count)\n",
    "    Players_Runs.append(total_runs)\n",
    "    Players_SR.append(total_runs/len(Player_Balls)*100)\n",
    "    Players_avg.append(total_runs/player_dismisal_count)"
   ]
  },
  {
   "cell_type": "code",
   "execution_count": 129,
   "metadata": {},
   "outputs": [
    {
     "name": "stdout",
     "output_type": "stream",
     "text": [
      "1\n",
      "2\n",
      "3\n",
      "4\n",
      "5\n",
      "6\n",
      "7\n",
      "8\n",
      "9\n",
      "10\n",
      "11\n",
      "12\n",
      "13\n",
      "14\n",
      "15\n",
      "16\n",
      "17\n",
      "18\n",
      "19\n",
      "20\n",
      "21\n",
      "22\n"
     ]
    },
    {
     "name": "stderr",
     "output_type": "stream",
     "text": [
      "H:\\Anaconda3\\lib\\site-packages\\ipykernel_launcher.py:47: RuntimeWarning: divide by zero encountered in longlong_scalars\n"
     ]
    },
    {
     "name": "stdout",
     "output_type": "stream",
     "text": [
      "23\n",
      "24\n",
      "25\n",
      "26\n",
      "27\n",
      "28\n",
      "29\n",
      "30\n",
      "31\n",
      "32\n",
      "33\n",
      "34\n",
      "35\n",
      "36\n",
      "37\n",
      "38\n",
      "39\n",
      "40\n",
      "41\n",
      "42\n",
      "43\n",
      "44\n"
     ]
    },
    {
     "name": "stderr",
     "output_type": "stream",
     "text": [
      "H:\\Anaconda3\\lib\\site-packages\\ipykernel_launcher.py:47: RuntimeWarning: invalid value encountered in longlong_scalars\n"
     ]
    },
    {
     "name": "stdout",
     "output_type": "stream",
     "text": [
      "45\n",
      "46\n",
      "47\n",
      "48\n",
      "49\n",
      "50\n",
      "51\n",
      "52\n",
      "53\n",
      "54\n",
      "55\n",
      "56\n",
      "57\n",
      "58\n",
      "59\n",
      "60\n",
      "61\n",
      "62\n",
      "63\n",
      "64\n",
      "65\n",
      "66\n",
      "67\n",
      "68\n",
      "69\n",
      "70\n",
      "71\n",
      "72\n",
      "73\n",
      "74\n",
      "75\n",
      "76\n",
      "77\n",
      "78\n",
      "79\n",
      "80\n",
      "81\n",
      "82\n",
      "83\n",
      "84\n",
      "85\n",
      "86\n",
      "87\n",
      "88\n",
      "89\n",
      "90\n",
      "91\n",
      "92\n",
      "93\n",
      "94\n",
      "95\n",
      "96\n",
      "97\n",
      "98\n",
      "99\n",
      "100\n",
      "101\n",
      "102\n",
      "103\n",
      "104\n",
      "105\n",
      "106\n",
      "107\n",
      "108\n",
      "109\n",
      "110\n",
      "111\n",
      "112\n",
      "113\n",
      "114\n",
      "115\n",
      "116\n",
      "117\n",
      "118\n",
      "119\n",
      "120\n",
      "121\n",
      "122\n",
      "123\n",
      "124\n",
      "125\n",
      "126\n",
      "127\n",
      "128\n",
      "129\n",
      "130\n",
      "131\n",
      "132\n",
      "133\n",
      "134\n",
      "135\n",
      "136\n",
      "137\n",
      "138\n",
      "139\n",
      "140\n",
      "141\n",
      "142\n",
      "143\n",
      "144\n",
      "145\n",
      "146\n",
      "147\n",
      "148\n",
      "149\n",
      "150\n",
      "151\n",
      "152\n",
      "153\n",
      "154\n",
      "155\n",
      "156\n",
      "157\n",
      "158\n",
      "159\n",
      "160\n",
      "161\n",
      "162\n",
      "163\n",
      "164\n",
      "165\n",
      "166\n",
      "167\n",
      "168\n",
      "169\n",
      "170\n",
      "171\n",
      "172\n",
      "173\n",
      "174\n",
      "175\n",
      "176\n",
      "177\n",
      "178\n",
      "179\n",
      "180\n",
      "181\n",
      "182\n",
      "183\n",
      "184\n",
      "185\n",
      "186\n",
      "187\n",
      "188\n",
      "189\n",
      "190\n",
      "191\n",
      "192\n",
      "193\n",
      "194\n",
      "195\n",
      "196\n",
      "197\n",
      "198\n",
      "199\n",
      "200\n",
      "201\n",
      "202\n",
      "203\n",
      "204\n",
      "205\n",
      "206\n",
      "207\n",
      "208\n",
      "209\n",
      "210\n",
      "211\n",
      "212\n",
      "213\n",
      "214\n",
      "215\n",
      "216\n",
      "217\n",
      "218\n",
      "219\n",
      "220\n",
      "221\n",
      "222\n",
      "223\n",
      "224\n",
      "225\n",
      "226\n",
      "227\n",
      "228\n",
      "229\n",
      "230\n",
      "231\n",
      "232\n",
      "233\n",
      "234\n",
      "235\n",
      "236\n",
      "237\n",
      "238\n",
      "239\n",
      "240\n",
      "241\n",
      "242\n",
      "243\n",
      "244\n",
      "245\n",
      "246\n",
      "247\n",
      "248\n",
      "249\n",
      "250\n",
      "251\n",
      "252\n",
      "253\n",
      "254\n",
      "255\n",
      "256\n",
      "257\n",
      "258\n",
      "259\n",
      "260\n",
      "261\n",
      "262\n",
      "263\n",
      "264\n",
      "265\n",
      "266\n",
      "267\n",
      "268\n",
      "269\n",
      "270\n",
      "271\n",
      "272\n",
      "273\n",
      "274\n",
      "275\n",
      "276\n",
      "277\n",
      "278\n",
      "279\n",
      "280\n",
      "281\n",
      "282\n",
      "283\n",
      "284\n",
      "285\n",
      "286\n",
      "287\n",
      "288\n",
      "289\n",
      "290\n",
      "291\n",
      "292\n",
      "293\n",
      "294\n",
      "295\n",
      "296\n",
      "297\n",
      "298\n",
      "299\n",
      "300\n",
      "301\n",
      "302\n",
      "303\n",
      "304\n",
      "305\n",
      "306\n",
      "307\n",
      "308\n",
      "309\n",
      "310\n",
      "311\n",
      "312\n",
      "313\n",
      "314\n",
      "315\n",
      "316\n",
      "317\n",
      "318\n",
      "319\n",
      "320\n",
      "321\n",
      "322\n",
      "323\n",
      "324\n",
      "325\n",
      "326\n",
      "327\n",
      "328\n",
      "329\n",
      "330\n",
      "331\n",
      "332\n",
      "333\n",
      "334\n",
      "335\n",
      "336\n",
      "337\n",
      "338\n",
      "339\n",
      "340\n",
      "341\n",
      "342\n",
      "343\n",
      "344\n",
      "345\n",
      "346\n",
      "347\n",
      "348\n",
      "349\n",
      "350\n",
      "351\n",
      "352\n",
      "353\n",
      "354\n",
      "355\n",
      "356\n",
      "357\n",
      "358\n",
      "359\n",
      "360\n",
      "361\n",
      "362\n",
      "363\n",
      "364\n",
      "365\n",
      "366\n",
      "367\n",
      "368\n",
      "369\n",
      "370\n",
      "371\n",
      "372\n",
      "373\n",
      "374\n",
      "375\n",
      "376\n",
      "377\n",
      "378\n",
      "379\n",
      "380\n",
      "381\n",
      "382\n",
      "383\n",
      "384\n",
      "385\n",
      "386\n",
      "387\n",
      "388\n",
      "389\n",
      "390\n",
      "391\n",
      "392\n",
      "393\n",
      "394\n",
      "395\n",
      "396\n",
      "397\n",
      "398\n",
      "399\n",
      "400\n",
      "401\n",
      "402\n",
      "403\n",
      "404\n",
      "405\n",
      "406\n",
      "407\n",
      "408\n",
      "409\n",
      "410\n",
      "411\n",
      "412\n",
      "413\n",
      "414\n",
      "415\n",
      "416\n",
      "417\n",
      "418\n",
      "419\n",
      "420\n",
      "421\n",
      "422\n",
      "423\n",
      "424\n",
      "425\n",
      "426\n",
      "427\n",
      "428\n",
      "429\n",
      "430\n",
      "431\n",
      "432\n",
      "433\n",
      "434\n",
      "435\n",
      "436\n",
      "437\n",
      "438\n",
      "439\n",
      "440\n",
      "441\n",
      "442\n",
      "443\n",
      "444\n",
      "445\n",
      "446\n",
      "447\n",
      "448\n",
      "449\n",
      "450\n",
      "451\n",
      "452\n",
      "453\n",
      "454\n",
      "455\n",
      "456\n",
      "457\n",
      "458\n",
      "459\n",
      "460\n",
      "461\n"
     ]
    }
   ],
   "source": [
    "Players_Runs = []\n",
    "Players_SR = []\n",
    "Players_avg = []\n",
    "Player_ball_faced = []\n",
    "count = 0\n",
    "for Name_bat in player_list:\n",
    "    per_batsman_analysis(Name_bat,Players_Runs,  Players_SR)\n",
    "    count += 1\n",
    "    #if(count>20):\n",
    "        #plt.scatter(Players_Runs,Players_SR)    \n",
    "        #plt.show()\n",
    "    print(count)\n",
    "    #print(Name_bat)"
   ]
  },
  {
   "cell_type": "code",
   "execution_count": 133,
   "metadata": {},
   "outputs": [
    {
     "name": "stdout",
     "output_type": "stream",
     "text": [
      "[1993, 1107, 6, 11, 98, 98, 15, 6, 1687, 4, 3626, 974, 167, 15, 2, 88, 4, 34, 1295, 91, 14, 606, 12, 26, 278, 9, 1977, 241, 2334, 181, 56, 2, 38, 1553, 12, 145, 394, 127, 3, 768, 19, 270, 531, 55, 0, 3, 18, 69, 342, 81, 94, 0, 103, 2, 4014, 11, 96, 106, 159, 5, 6, 125, 280, 3, 11, 16, 2385, 16, 384, 2, 2, 0, 326, 7, 422, 136, 2, 88, 226, 4, 0, 423, 1262, 77, 24, 39, 676, 33, 192, 521, 76, 59, 2904, 1139, 113, 280, 577, 20, 193, 36, 166, 5, 1426, 969, 25, 39, 6, 1112, 498, 1, 1802, 52, 26, 0, 974, 390, 295, 120, 2, 893, 342, 125, 87, 10, 19, 3, 46, 1557, 9, 8, 1, 90, 1732, 10, 22, 375, 35, 1349, 5, 1563, 4, 8, 0, 2215, 5, 131, 42, 46, 527, 20, 814, 420, 193, 73, 798, 4, 92, 54, 29, 6, 10, 124, 3473, 2622, 218, 92, 241, 1158, 31, 231, 41, 5, 163, 1, 67, 117, 1603, 153, 0, 33, 177, 401, 164, 725, 137, 20, 22, 140, 169, 49, 1322, 799, 237, 7, 117, 158, 62, 439, 177, 36, 1, 51, 12, 126, 2322, 128, 31, 21, 327, 368, 0, 217, 1153, 2587, 73, 259, 106, 724, 147, 515, 9, 28, 20, 117, 225, 17, 3, 564, 203, 130, 23, 886, 3778, 15, 0, 179, 506, 1, 15, 39, 111, 527, 1400, 2416, 2427, 49, 196, 36, 4418, 170, 25, 2, 766, 1001, 300, 198, 3560, 34, 406, 19, 9, 1441, 194, 316, 205, 7, 304, 339, 3, 79, 985, 10, 99, 187, 15, 34, 608, 7, 23, 42, 26, 64, 47, 3, 4, 18, 38, 2344, 4132, 124, 47, 101, 0, 405, 2728, 417, 66, 271, 574, 304, 7, 807, 11, 35, 10, 28, 14, 6, 4207, 1648, 285, 13, 319, 13, 161, 121, 3, 2, 1, 353, 1079, 437, 87, 76, 1228, 19, 954, 2903, 514, 159, 0, 121, 1, 0, 411, 340, 10, 2477, 26, 302, 663, 29, 52, 183, 4, 24, 99, 48, 4, 20, 12, 604, 7, 1, 53, 26, 18, 340, 53, 30, 6, 40, 123, 13, 23, 59, 40, 409, 0, 91, 127, 18, 1, 7, 2511, 53, 2, 4, 32, 317, 18, 12, 36, 10, 8, 1276, 373, 63, 12, 739, 2, 5, 505, 37, 95, 1017, 15, 20, 2069, 3561, 112, 19, 43, 391, 81, 2174, 280, 127, 49, 46, 21, 23, 672, 1703, 282, 8, 63, 34, 75, 1, 151, 35, 116, 14, 45, 52, 19, 3, 50, 20, 12, 81, 19, 42, 4, 388, 36, 14, 726, 480, 51, 25, 39, 5, 18, 3057, 189, 63, 126, 7, 8, 957, 3, 11, 83, 854, 2, 55, 24, 2753, 4540]\n"
     ]
    }
   ],
   "source": [
    "print(Players_Runs)"
   ]
  },
  {
   "cell_type": "code",
   "execution_count": 134,
   "metadata": {},
   "outputs": [
    {
     "name": "stdout",
     "output_type": "stream",
     "text": [
      "[124.87468671679198, 137.51552795031057, 46.15384615384615, 122.22222222222223, 83.76068376068376, 104.25531914893618, 55.55555555555556, 85.71428571428571, 121.19252873563218, 30.76923076923077, 151.209341117598, 129.86666666666667, 126.51515151515152, 53.57142857142857, 40.0, 88.88888888888889, 133.33333333333331, 100.0, 127.96442687747036, 112.34567901234568, 233.33333333333334, 128.1183932346723, 100.0, 108.33333333333333, 143.29896907216494, 75.0, 122.64267990074443, 129.56989247311827, 119.81519507186857, 126.57342657342659, 74.66666666666667, 66.66666666666666, 122.58064516129032, 118.6401833460657, 66.66666666666666, 133.0275229357798, 127.50809061488673, 127.0, 150.0, 144.36090225563908, 73.07692307692307, 116.88311688311688, 117.21854304635761, 79.71014492753623, 0.0, 60.0, 72.0, 81.17647058823529, 120.4225352112676, 119.11764705882352, 104.44444444444446, 0.0, 100.98039215686273, 25.0, 142.1388101983003, 68.75, 97.95918367346938, 176.66666666666666, 112.7659574468085, 38.46153846153847, 120.0, 97.65625, 111.55378486055776, 50.0, 61.111111111111114, 35.55555555555556, 135.20408163265304, 69.56521739130434, 158.02469135802468, 100.0, 50.0, 0.0, 138.72340425531914, 100.0, 137.45928338762215, 120.35398230088497, 20.0, 104.76190476190477, 134.52380952380955, 57.14285714285714, 0.0, 124.7787610619469, 126.32632632632632, 140.0, 68.57142857142857, 169.56521739130434, 117.56521739130434, 76.74418604651163, 107.86516853932584, 129.92518703241896, 78.35051546391753, 147.5, 145.49098196392785, 120.40169133192389, 104.62962962962963, 89.45686900958466, 141.76904176904176, 66.66666666666666, 137.85714285714286, 124.13793103448276, 105.0632911392405, 62.5, 124.43280977312392, 128.1746031746032, 125.0, 205.26315789473685, 50.0, 120.8695652173913, 130.36649214659687, 33.33333333333333, 123.25581395348837, 68.42105263157895, 74.28571428571429, 0.0, 141.98250728862973, 99.74424552429667, 122.40663900414938, 133.33333333333331, 66.66666666666666, 134.89425981873111, 125.73529411764706, 110.61946902654867, 114.4736842105263, 71.42857142857143, 79.16666666666666, 50.0, 102.22222222222221, 130.73047858942067, 90.0, 72.72727272727273, 100.0, 93.75, 122.92405961674946, 111.11111111111111, 100.0, 118.29652996845425, 145.83333333333331, 106.80918448139352, 100.0, 141.44796380090497, 200.0, 72.72727272727273, 0.0, 120.11930585683297, 62.5, 98.49624060150376, 91.30434782608695, 97.87234042553192, 135.47557840616966, 105.26315789473684, 123.33333333333334, 123.16715542521995, 119.87577639751552, 97.33333333333334, 113.67521367521367, 44.44444444444444, 93.87755102040816, 154.2857142857143, 111.53846153846155, 60.0, 58.82352941176471, 187.87878787878788, 148.1655290102389, 138.65679534637758, 94.37229437229438, 101.0989010989011, 96.01593625498009, 126.9736842105263, 119.23076923076923, 96.25, 66.12903225806451, 166.66666666666669, 123.48484848484848, 50.0, 104.6875, 82.97872340425532, 130.43124491456467, 113.33333333333333, 0.0, 137.5, 173.52941176470588, 112.64044943820224, 102.49999999999999, 125.64991334488735, 135.64356435643566, 71.42857142857143, 66.66666666666666, 99.29078014184397, 112.66666666666667, 84.48275862068965, 122.97674418604652, 142.42424242424244, 113.9423076923077, 50.0, 104.46428571428572, 100.63694267515923, 116.98113207547169, 165.66037735849056, 143.90243902439025, 73.46938775510205, 50.0, 102.0, 109.09090909090908, 136.95652173913044, 117.21352852094901, 164.1025641025641, 86.11111111111111, 80.76923076923077, 108.63787375415282, 126.02739726027397, 0.0, 103.33333333333334, 114.49851042701091, 131.1866125760649, 94.8051948051948, 103.60000000000001, 98.14814814814815, 125.91304347826086, 132.43243243243242, 113.68653421633555, 69.23076923076923, 96.55172413793103, 76.92307692307693, 144.44444444444443, 114.79591836734696, 85.0, 37.5, 151.20643431635386, 130.12820512820514, 107.43801652892562, 88.46153846153845, 109.78934324659231, 131.6376306620209, 115.38461538461537, 0.0, 116.23376623376625, 130.0771208226221, 33.33333333333333, 78.94736842105263, 73.58490566037736, 109.9009900990099, 145.98337950138506, 125.22361359570662, 126.16187989556136, 109.22592259225922, 125.64102564102564, 118.7878787878788, 138.46153846153845, 129.8266235674405, 124.08759124087592, 96.15384615384616, 50.0, 126.82119205298012, 134.72409152086138, 100.0, 92.5233644859813, 136.7127496159754, 154.54545454545453, 142.4561403508772, 111.76470588235294, 64.28571428571429, 118.8943894389439, 116.1676646706587, 142.98642533936652, 138.51351351351352, 77.77777777777779, 112.1771217712177, 124.17582417582418, 42.857142857142854, 101.28205128205127, 117.82296650717703, 58.82352941176471, 139.43661971830986, 152.03252032520325, 83.33333333333334, 130.76923076923077, 130.752688172043, 58.333333333333336, 74.19354838709677, 100.0, 37.142857142857146, 77.10843373493977, 138.23529411764704, 75.0, 80.0, 150.0, 122.58064516129032, 146.59161976235146, 124.60796139927623, 127.83505154639174, 71.21212121212122, 134.66666666666666, 0.0, 115.71428571428572, 155.44159544159544, 136.27450980392157, 88.0, 147.2826086956522, 173.41389728096678, 116.47509578544062, 175.0, 128.50318471337582, 122.22222222222223, 74.46808510638297, 83.33333333333334, 100.0, 51.85185185185185, 85.71428571428571, 130.8960796515246, 117.29537366548041, 110.03861003861005, 56.52173913043478, 129.1497975708502, 100.0, 93.6046511627907, 107.07964601769913, 100.0, 100.0, 100.0, 129.77941176470588, 126.6431924882629, 128.90855457227138, 129.8507462686567, 138.1818181818182, 164.3908969210174, 82.6086956521739, 126.35761589403972, 125.94360086767895, 109.36170212765957, 92.98245614035088, 0.0, 101.68067226890756, 16.666666666666664, 0.0, 129.24528301886792, 93.66391184573003, 38.46153846153847, 132.7438370846731, 54.166666666666664, 122.76422764227641, 121.875, 111.53846153846155, 104.0, 105.78034682080926, 133.33333333333331, 171.42857142857142, 111.23595505617978, 150.0, 80.0, 90.9090909090909, 133.33333333333331, 131.87772925764193, 87.5, 50.0, 176.66666666666666, 118.18181818181819, 46.15384615384615, 108.28025477707006, 103.921568627451, 100.0, 42.857142857142854, 153.84615384615387, 123.0, 162.5, 100.0, 103.50877192982458, 114.28571428571428, 113.9275766016713, 0.0, 71.09375, 141.11111111111111, 163.63636363636365, 100.0, 58.333333333333336, 123.39066339066338, 74.64788732394366, 100.0, 100.0, 106.66666666666667, 115.69343065693431, 112.5, 70.58823529411765, 92.3076923076923, 76.92307692307693, 88.88888888888889, 119.58762886597938, 139.17910447761196, 84.0, 133.33333333333331, 110.62874251497006, 28.57142857142857, 166.66666666666669, 120.8133971291866, 137.03703703703704, 179.24528301886792, 123.72262773722629, 93.75, 111.11111111111111, 138.39464882943145, 121.86858316221767, 109.80392156862746, 146.15384615384613, 138.70967741935485, 146.44194756554307, 176.08695652173913, 115.5154091392136, 145.0777202072539, 92.02898550724638, 84.48275862068965, 83.63636363636363, 91.30434782608695, 85.18518518518519, 116.46447140381282, 131.7092034029389, 105.61797752808988, 53.333333333333336, 95.45454545454545, 61.81818181818181, 129.31034482758622, 50.0, 98.69281045751634, 94.5945945945946, 170.58823529411765, 107.6923076923077, 77.58620689655173, 110.63829787234043, 111.76470588235294, 60.0, 98.0392156862745, 95.23809523809523, 60.0, 110.95890410958904, 86.36363636363636, 71.1864406779661, 57.14285714285714, 128.05280528052805, 120.0, 107.6923076923077, 132.24043715846994, 158.41584158415841, 100.0, 80.64516129032258, 95.1219512195122, 35.714285714285715, 100.0, 120.59171597633136, 132.16783216783216, 143.1818181818182, 140.0, 77.77777777777779, 72.72727272727273, 132.73231622746187, 50.0, 57.89473684210527, 113.69863013698631, 121.13475177304964, 20.0, 85.9375, 109.09090909090908, 131.22020972354625, 139.09313725490196]\n"
     ]
    }
   ],
   "source": [
    "print(Players_SR)"
   ]
  },
  {
   "cell_type": "code",
   "execution_count": 135,
   "metadata": {},
   "outputs": [
    {
     "name": "stdout",
     "output_type": "stream",
     "text": [
      "[39.86, 35.70967741935484, 6.0, 5.5, 16.333333333333332, 16.333333333333332, 7.5, 6.0, 25.953846153846154, 4.0, 40.741573033707866, 36.074074074074076, 55.666666666666664, 5.0, 2.0, 5.5, 2.0, 6.8, 30.11627906976744, 22.75, 14.0, 20.2, inf, 13.0, 23.166666666666668, 9.0, 38.76470588235294, 24.1, 33.82608695652174, 45.25, 9.333333333333334, 2.0, 7.6, 20.986486486486488, 6.0, 18.125, 28.142857142857142, 21.166666666666668, inf, 27.428571428571427, 6.333333333333333, 15.882352941176471, 29.5, 11.0, nan, 1.5, 4.5, 13.8, 11.4, 20.25, 13.428571428571429, 0.0, 14.714285714285714, 2.0, 40.14, 5.5, 13.714285714285714, 21.2, 14.454545454545455, 5.0, inf, 17.857142857142858, 18.666666666666668, 1.5, 11.0, 1.3333333333333333, 28.392857142857142, 5.333333333333333, 38.4, 2.0, 2.0, 0.0, 23.285714285714285, 7.0, 19.181818181818183, 17.0, 0.5, 44.0, 22.6, 4.0, nan, 21.15, 22.945454545454545, 12.833333333333334, 4.0, 7.8, 21.125, 8.25, 24.0, 27.42105263157895, 15.2, 29.5, 29.632653061224488, 21.49056603773585, 16.142857142857142, 15.555555555555555, 44.38461538461539, 3.3333333333333335, 27.571428571428573, 12.0, 7.545454545454546, 2.5, 25.464285714285715, 28.5, 25.0, 13.0, 6.0, 20.21818181818182, 20.75, 1.0, 28.15625, 3.466666666666667, 26.0, 0.0, 24.35, 20.526315789473685, 19.666666666666668, 17.142857142857142, 1.0, 23.5, 16.285714285714285, 25.0, 21.75, 10.0, 19.0, 3.0, 6.571428571428571, 25.524590163934427, 9.0, 8.0, inf, 11.25, 24.055555555555557, 10.0, 7.333333333333333, 19.736842105263158, 17.5, 25.452830188679247, 5.0, 34.733333333333334, inf, 2.6666666666666665, 0.0, 28.397435897435898, inf, 18.714285714285715, 14.0, 11.5, 20.26923076923077, 10.0, 17.695652173913043, 18.26086956521739, 27.571428571428573, 18.25, 21.0, 4.0, 13.142857142857142, 9.0, 14.5, 3.0, 10.0, 24.8, 38.16483516483517, 30.847058823529412, 14.533333333333333, 11.5, 16.066666666666666, 25.17391304347826, 10.333333333333334, 10.5, 5.857142857142857, 5.0, 23.285714285714285, 1.0, 22.333333333333332, 8.357142857142858, 27.16949152542373, 21.857142857142858, 0.0, 16.5, 29.5, 19.095238095238095, 16.4, 30.208333333333332, 17.125, 5.0, 7.333333333333333, 14.0, 16.9, 7.0, 26.979591836734695, 15.666666666666666, 14.8125, 7.0, 9.75, 8.31578947368421, 31.0, 36.583333333333336, 17.7, 4.5, 1.0, 10.2, 6.0, 15.75, 21.700934579439252, 25.6, 15.5, 10.5, 29.727272727272727, 18.4, nan, 16.692307692307693, 26.813953488372093, 25.613861386138613, 18.25, 14.38888888888889, 13.25, 23.35483870967742, 18.375, 12.261904761904763, inf, 28.0, 10.0, 16.714285714285715, 18.75, 8.5, 3.0, 25.636363636363637, 40.6, 16.25, 7.666666666666667, 27.6875, 29.515625, 7.5, 0.0, 17.9, 33.733333333333334, 1.0, 15.0, 13.0, 27.75, 23.954545454545453, 33.333333333333336, 27.146067415730336, 28.55294117647059, 9.8, 21.77777777777778, 36.0, 37.440677966101696, 17.0, 12.5, 2.0, 20.157894736842106, 35.75, 15.0, 9.9, 37.87234042553192, 17.0, 21.36842105263158, 6.333333333333333, inf, 30.659574468085108, 21.555555555555557, 31.6, 29.285714285714285, 3.5, 10.857142857142858, 14.125, 3.0, 8.777777777777779, 22.386363636363637, 10.0, 9.9, 23.375, 5.0, 6.8, 20.96551724137931, 3.5, 11.5, 21.0, 2.1666666666666665, 9.142857142857142, 5.222222222222222, 3.0, 4.0, 4.5, 19.0, 28.585365853658537, 31.541984732824428, 12.4, 11.75, 50.5, nan, 15.0, 27.555555555555557, 26.0625, 4.714285714285714, 13.55, 26.09090909090909, 21.714285714285715, inf, 27.82758620689655, 11.0, 11.666666666666666, 5.0, inf, 7.0, 6.0, 32.6124031007752, 29.428571428571427, 20.357142857142858, 2.6, 21.266666666666666, 6.5, 12.384615384615385, 15.125, 3.0, inf, inf, 17.65, 39.96296296296296, 31.214285714285715, 12.428571428571429, 12.666666666666666, 25.06122448979592, 19.0, 26.5, 24.811965811965813, 22.347826086956523, 19.875, 0.0, 30.25, 0.5, 0.0, 31.615384615384617, 11.724137931034482, 5.0, 39.317460317460316, 2.6, 27.454545454545453, 24.555555555555557, 14.5, 6.5, 18.3, inf, 12.0, 14.142857142857142, 48.0, 4.0, 10.0, inf, 21.571428571428573, 3.5, inf, 26.5, 26.0, 9.0, 8.947368421052632, 10.6, 10.0, 3.0, 20.0, 24.6, 13.0, 7.666666666666667, 14.75, 13.333333333333334, 20.45, 0.0, 10.11111111111111, 31.75, 18.0, inf, 3.5, 26.431578947368422, 8.833333333333334, inf, inf, 10.666666666666666, 15.095238095238095, 9.0, 12.0, 12.0, 10.0, 4.0, 28.355555555555554, 14.346153846153847, 7.0, inf, 28.423076923076923, 2.0, inf, 22.954545454545453, 12.333333333333334, 11.875, 25.425, 15.0, 20.0, 27.223684210526315, 32.669724770642205, 8.0, 19.0, 10.75, 27.928571428571427, 10.125, 28.233766233766232, 18.666666666666668, 11.545454545454545, 9.8, 11.5, 21.0, 7.666666666666667, 17.68421052631579, 37.02173913043478, 14.842105263157896, 8.0, 15.75, 8.5, 15.0, inf, 11.615384615384615, 35.0, 12.88888888888889, 7.0, 7.5, 13.0, 19.0, 3.0, 10.0, 6.666666666666667, 4.0, 10.125, 9.5, 6.0, inf, 20.42105263157895, 9.0, 7.0, 29.04, 34.285714285714285, 10.2, 8.333333333333334, 6.5, 2.5, 9.0, 33.59340659340659, 21.0, 7.875, 11.454545454545455, 2.3333333333333335, 8.0, 24.53846153846154, 1.5, 3.6666666666666665, 13.833333333333334, 21.35, 2.0, 18.333333333333332, 12.0, 28.091836734693878, 33.88059701492537]\n"
     ]
    }
   ],
   "source": [
    "print(Players_avg)"
   ]
  },
  {
   "cell_type": "markdown",
   "metadata": {},
   "source": [
    "### Handling NaN values in Average Calculation"
   ]
  },
  {
   "cell_type": "code",
   "execution_count": 136,
   "metadata": {
    "collapsed": true
   },
   "outputs": [],
   "source": [
    "P_avg = []\n",
    "for item in Players_avg:\n",
    "    if(str(item) == 'nan'):\n",
    "        P_avg.append(0)\n",
    "    elif(str(item)=='inf'):\n",
    "        P_avg.append(0)\n",
    "    else:\n",
    "        P_avg.append(item)"
   ]
  },
  {
   "cell_type": "code",
   "execution_count": 137,
   "metadata": {},
   "outputs": [
    {
     "name": "stdout",
     "output_type": "stream",
     "text": [
      "[39.86, 35.70967741935484, 6.0, 5.5, 16.333333333333332, 16.333333333333332, 7.5, 6.0, 25.953846153846154, 4.0, 40.741573033707866, 36.074074074074076, 55.666666666666664, 5.0, 2.0, 5.5, 2.0, 6.8, 30.11627906976744, 22.75, 14.0, 20.2, 0, 13.0, 23.166666666666668, 9.0, 38.76470588235294, 24.1, 33.82608695652174, 45.25, 9.333333333333334, 2.0, 7.6, 20.986486486486488, 6.0, 18.125, 28.142857142857142, 21.166666666666668, 0, 27.428571428571427, 6.333333333333333, 15.882352941176471, 29.5, 11.0, 0, 1.5, 4.5, 13.8, 11.4, 20.25, 13.428571428571429, 0.0, 14.714285714285714, 2.0, 40.14, 5.5, 13.714285714285714, 21.2, 14.454545454545455, 5.0, 0, 17.857142857142858, 18.666666666666668, 1.5, 11.0, 1.3333333333333333, 28.392857142857142, 5.333333333333333, 38.4, 2.0, 2.0, 0.0, 23.285714285714285, 7.0, 19.181818181818183, 17.0, 0.5, 44.0, 22.6, 4.0, 0, 21.15, 22.945454545454545, 12.833333333333334, 4.0, 7.8, 21.125, 8.25, 24.0, 27.42105263157895, 15.2, 29.5, 29.632653061224488, 21.49056603773585, 16.142857142857142, 15.555555555555555, 44.38461538461539, 3.3333333333333335, 27.571428571428573, 12.0, 7.545454545454546, 2.5, 25.464285714285715, 28.5, 25.0, 13.0, 6.0, 20.21818181818182, 20.75, 1.0, 28.15625, 3.466666666666667, 26.0, 0.0, 24.35, 20.526315789473685, 19.666666666666668, 17.142857142857142, 1.0, 23.5, 16.285714285714285, 25.0, 21.75, 10.0, 19.0, 3.0, 6.571428571428571, 25.524590163934427, 9.0, 8.0, 0, 11.25, 24.055555555555557, 10.0, 7.333333333333333, 19.736842105263158, 17.5, 25.452830188679247, 5.0, 34.733333333333334, 0, 2.6666666666666665, 0.0, 28.397435897435898, 0, 18.714285714285715, 14.0, 11.5, 20.26923076923077, 10.0, 17.695652173913043, 18.26086956521739, 27.571428571428573, 18.25, 21.0, 4.0, 13.142857142857142, 9.0, 14.5, 3.0, 10.0, 24.8, 38.16483516483517, 30.847058823529412, 14.533333333333333, 11.5, 16.066666666666666, 25.17391304347826, 10.333333333333334, 10.5, 5.857142857142857, 5.0, 23.285714285714285, 1.0, 22.333333333333332, 8.357142857142858, 27.16949152542373, 21.857142857142858, 0.0, 16.5, 29.5, 19.095238095238095, 16.4, 30.208333333333332, 17.125, 5.0, 7.333333333333333, 14.0, 16.9, 7.0, 26.979591836734695, 15.666666666666666, 14.8125, 7.0, 9.75, 8.31578947368421, 31.0, 36.583333333333336, 17.7, 4.5, 1.0, 10.2, 6.0, 15.75, 21.700934579439252, 25.6, 15.5, 10.5, 29.727272727272727, 18.4, 0, 16.692307692307693, 26.813953488372093, 25.613861386138613, 18.25, 14.38888888888889, 13.25, 23.35483870967742, 18.375, 12.261904761904763, 0, 28.0, 10.0, 16.714285714285715, 18.75, 8.5, 3.0, 25.636363636363637, 40.6, 16.25, 7.666666666666667, 27.6875, 29.515625, 7.5, 0.0, 17.9, 33.733333333333334, 1.0, 15.0, 13.0, 27.75, 23.954545454545453, 33.333333333333336, 27.146067415730336, 28.55294117647059, 9.8, 21.77777777777778, 36.0, 37.440677966101696, 17.0, 12.5, 2.0, 20.157894736842106, 35.75, 15.0, 9.9, 37.87234042553192, 17.0, 21.36842105263158, 6.333333333333333, 0, 30.659574468085108, 21.555555555555557, 31.6, 29.285714285714285, 3.5, 10.857142857142858, 14.125, 3.0, 8.777777777777779, 22.386363636363637, 10.0, 9.9, 23.375, 5.0, 6.8, 20.96551724137931, 3.5, 11.5, 21.0, 2.1666666666666665, 9.142857142857142, 5.222222222222222, 3.0, 4.0, 4.5, 19.0, 28.585365853658537, 31.541984732824428, 12.4, 11.75, 50.5, 0, 15.0, 27.555555555555557, 26.0625, 4.714285714285714, 13.55, 26.09090909090909, 21.714285714285715, 0, 27.82758620689655, 11.0, 11.666666666666666, 5.0, 0, 7.0, 6.0, 32.6124031007752, 29.428571428571427, 20.357142857142858, 2.6, 21.266666666666666, 6.5, 12.384615384615385, 15.125, 3.0, 0, 0, 17.65, 39.96296296296296, 31.214285714285715, 12.428571428571429, 12.666666666666666, 25.06122448979592, 19.0, 26.5, 24.811965811965813, 22.347826086956523, 19.875, 0.0, 30.25, 0.5, 0.0, 31.615384615384617, 11.724137931034482, 5.0, 39.317460317460316, 2.6, 27.454545454545453, 24.555555555555557, 14.5, 6.5, 18.3, 0, 12.0, 14.142857142857142, 48.0, 4.0, 10.0, 0, 21.571428571428573, 3.5, 0, 26.5, 26.0, 9.0, 8.947368421052632, 10.6, 10.0, 3.0, 20.0, 24.6, 13.0, 7.666666666666667, 14.75, 13.333333333333334, 20.45, 0.0, 10.11111111111111, 31.75, 18.0, 0, 3.5, 26.431578947368422, 8.833333333333334, 0, 0, 10.666666666666666, 15.095238095238095, 9.0, 12.0, 12.0, 10.0, 4.0, 28.355555555555554, 14.346153846153847, 7.0, 0, 28.423076923076923, 2.0, 0, 22.954545454545453, 12.333333333333334, 11.875, 25.425, 15.0, 20.0, 27.223684210526315, 32.669724770642205, 8.0, 19.0, 10.75, 27.928571428571427, 10.125, 28.233766233766232, 18.666666666666668, 11.545454545454545, 9.8, 11.5, 21.0, 7.666666666666667, 17.68421052631579, 37.02173913043478, 14.842105263157896, 8.0, 15.75, 8.5, 15.0, 0, 11.615384615384615, 35.0, 12.88888888888889, 7.0, 7.5, 13.0, 19.0, 3.0, 10.0, 6.666666666666667, 4.0, 10.125, 9.5, 6.0, 0, 20.42105263157895, 9.0, 7.0, 29.04, 34.285714285714285, 10.2, 8.333333333333334, 6.5, 2.5, 9.0, 33.59340659340659, 21.0, 7.875, 11.454545454545455, 2.3333333333333335, 8.0, 24.53846153846154, 1.5, 3.6666666666666665, 13.833333333333334, 21.35, 2.0, 18.333333333333332, 12.0, 28.091836734693878, 33.88059701492537]\n"
     ]
    }
   ],
   "source": [
    "print(P_avg)"
   ]
  },
  {
   "cell_type": "markdown",
   "metadata": {},
   "source": [
    "### Plot of Players Runs vs Strike Rate"
   ]
  },
  {
   "cell_type": "code",
   "execution_count": 138,
   "metadata": {
    "collapsed": true
   },
   "outputs": [],
   "source": [
    "ClassA_Runs = []\n",
    "ClassB_Runs = []\n",
    "ClassC_Runs = []\n",
    "ClassA_SR = []\n",
    "ClassB_SR = []\n",
    "ClassC_SR = []\n",
    "for i in range(len(Players_Runs)-1):\n",
    "    if(Players_Runs[i]>1500 and Players_SR[i]<130):\n",
    "        ClassB_Runs.append(Players_Runs[i])\n",
    "        ClassB_SR.append(Players_SR[i])\n",
    "    elif(Players_Runs[i]>1500 and Players_SR[i]>130):\n",
    "        ClassA_Runs.append(Players_Runs[i])\n",
    "        ClassA_SR.append(Players_SR[i])\n",
    "    else:\n",
    "        ClassC_Runs.append(Players_Runs[i])\n",
    "        ClassC_SR.append(Players_SR[i])"
   ]
  },
  {
   "cell_type": "code",
   "execution_count": 356,
   "metadata": {
    "scrolled": false
   },
   "outputs": [
    {
     "data": {
      "image/png": "[encoded data removed]",
      "text/plain": [
       "<matplotlib.figure.Figure at 0x2ae90902668>"
      ]
     },
     "metadata": {},
     "output_type": "display_data"
    }
   ],
   "source": [
    "x = np.arange(461)\n",
    "plt.figure(figsize=(20,10))\n",
    "plt.title(\"Class A-B-C\",fontsize=20)\n",
    "plt.ylabel(\"Strike Rate\",fontsize=18)\n",
    "plt.xlabel(\"Runs Scored\",fontsize=16)\n",
    "plt.scatter(ClassA_Runs,ClassA_SR,marker='.',c='green',alpha=0.85) \n",
    "plt.scatter(ClassB_Runs,ClassB_SR,marker='.',c='red',alpha=0.85) \n",
    "plt.scatter(ClassC_Runs,ClassC_SR,marker='.',c='blue',alpha=0.85) \n",
    "    \n",
    "plt.show()"
   ]
  },
  {
   "cell_type": "code",
   "execution_count": 359,
   "metadata": {},
   "outputs": [
    {
     "data": {
      "image/png": "[encoded data removed]",
      "text/plain": [
       "<matplotlib.figure.Figure at 0x2ae90d6ab38>"
      ]
     },
     "metadata": {},
     "output_type": "display_data"
    }
   ],
   "source": [
    "x = np.arange(461)\n",
    "plt.figure(figsize=(20,10))\n",
    "plt.title(\"Runs vs Average\",fontsize=20)\n",
    "plt.ylabel(\"Average\",fontsize=18)\n",
    "plt.xlabel(\"Runs Scored\",fontsize=16)\n",
    "plt.scatter(Player_ball_faced,Players_SR,marker='.',c='green')    \n",
    "plt.show()"
   ]
  },
  {
   "cell_type": "markdown",
   "metadata": {},
   "source": [
    "### Calculating the Century, Half Century , Sixes and Fours Scored by Players"
   ]
  },
  {
   "cell_type": "code",
   "execution_count": 141,
   "metadata": {
    "collapsed": true
   },
   "outputs": [],
   "source": [
    "def milestones(name):\n",
    "    Player_Match = []\n",
    "    four = 0\n",
    "    six = 0\n",
    "    for i in range(len(Player_Runs[0:][1])):\n",
    "        if(Player_Runs[0:][1][i]==name and Player_Runs[0:][3][i]==0):\n",
    "            Player_Match.append([[Player_Runs[0:][0][i]],[Player_Runs[0:][1][i]],[Player_Runs[0:][2][i]],[Player_Runs[0:][6][i]]])\n",
    "    for i in range(len(Player_Match)):\n",
    "        if(Player_Match[i][2][0]==4):\n",
    "            four=four+1\n",
    "        elif(Player_Match[i][2][0]==6):\n",
    "            six = six+1\n",
    "            \n",
    "    Player_four.append(four)\n",
    "    Player_six.append(six)\n",
    "    \n",
    "    Player_Match_Runs = []\n",
    "    Runs = []\n",
    "    match_no = Player_Match[0][0]\n",
    "    sum = 0\n",
    "    for i in range(len(Player_Match)):\n",
    "        if(Player_Match[i][0] == match_no):\n",
    "            sum += Player_Match[i][2][0]\n",
    "        else:\n",
    "            Player_Match_Runs.append([Player_Match[i-1][0],Player_Match[i-1][1],[sum],Player_Match[i-1][3]])\n",
    "            Runs.append(sum)\n",
    "            sum = Player_Match[i][2][0]\n",
    "            match_no =  Player_Match[i][0];\n",
    "    Player_Match_Runs.append([Player_Match[i-1][0],Player_Match[i-1][1],[sum],Player_Match[i-1][3]])\n",
    "    Runs.append(sum)\n",
    "\n",
    "    fifty = 0\n",
    "    century = 0\n",
    "    for i in range(len(Player_Match_Runs)):\n",
    "        if(Player_Match_Runs[i][2][0]>=50 and Player_Match_Runs[i][2][0]<100):\n",
    "            fifty = fifty+1\n",
    "        elif(Player_Match_Runs[i][2][0]>=100):\n",
    "            century = century+1\n",
    "    Player_century.append(century)\n",
    "    Player_fifty.append(fifty)"
   ]
  },
  {
   "cell_type": "code",
   "execution_count": 147,
   "metadata": {},
   "outputs": [
    {
     "name": "stdout",
     "output_type": "stream",
     "text": [
      "1\n",
      "2\n",
      "3\n",
      "4\n",
      "5\n",
      "6\n",
      "7\n",
      "8\n",
      "9\n",
      "10\n",
      "11\n",
      "12\n",
      "13\n",
      "14\n",
      "15\n",
      "16\n",
      "17\n",
      "18\n",
      "19\n",
      "20\n",
      "21\n",
      "22\n",
      "23\n",
      "24\n",
      "25\n",
      "26\n",
      "27\n",
      "28\n",
      "29\n",
      "30\n",
      "31\n",
      "32\n",
      "33\n",
      "34\n",
      "35\n",
      "36\n",
      "37\n",
      "38\n",
      "39\n",
      "40\n",
      "41\n",
      "42\n",
      "43\n",
      "44\n",
      "45\n",
      "46\n",
      "47\n",
      "48\n",
      "49\n",
      "50\n",
      "51\n",
      "52\n",
      "53\n",
      "54\n",
      "55\n",
      "56\n",
      "57\n",
      "58\n",
      "59\n",
      "60\n",
      "61\n",
      "62\n",
      "63\n",
      "64\n",
      "65\n",
      "66\n",
      "67\n",
      "68\n",
      "69\n",
      "70\n",
      "71\n",
      "72\n",
      "73\n",
      "74\n",
      "75\n",
      "76\n",
      "77\n",
      "78\n",
      "79\n",
      "80\n",
      "81\n",
      "82\n",
      "83\n",
      "84\n",
      "85\n",
      "86\n",
      "87\n",
      "88\n",
      "89\n",
      "90\n",
      "91\n",
      "92\n",
      "93\n",
      "94\n",
      "95\n",
      "96\n",
      "97\n",
      "98\n",
      "99\n",
      "100\n",
      "101\n",
      "102\n",
      "103\n",
      "104\n",
      "105\n",
      "106\n",
      "107\n",
      "108\n",
      "109\n",
      "110\n",
      "111\n",
      "112\n",
      "113\n",
      "114\n",
      "115\n",
      "116\n",
      "117\n",
      "118\n",
      "119\n",
      "120\n",
      "121\n",
      "122\n",
      "123\n",
      "124\n",
      "125\n",
      "126\n",
      "127\n",
      "128\n",
      "129\n",
      "130\n",
      "131\n",
      "132\n",
      "133\n",
      "134\n",
      "135\n",
      "136\n",
      "137\n",
      "138\n",
      "139\n",
      "140\n",
      "141\n",
      "142\n",
      "143\n",
      "144\n",
      "145\n",
      "146\n",
      "147\n",
      "148\n",
      "149\n",
      "150\n",
      "151\n",
      "152\n",
      "153\n",
      "154\n",
      "155\n",
      "156\n",
      "157\n",
      "158\n",
      "159\n",
      "160\n",
      "161\n",
      "162\n",
      "163\n",
      "164\n",
      "165\n",
      "166\n",
      "167\n",
      "168\n",
      "169\n",
      "170\n",
      "171\n",
      "172\n",
      "173\n",
      "174\n",
      "175\n",
      "176\n",
      "177\n",
      "178\n",
      "179\n",
      "180\n",
      "181\n",
      "182\n",
      "183\n",
      "184\n",
      "185\n",
      "186\n",
      "187\n",
      "188\n",
      "189\n",
      "190\n",
      "191\n",
      "192\n",
      "193\n",
      "194\n",
      "195\n",
      "196\n",
      "197\n",
      "198\n",
      "199\n",
      "200\n",
      "201\n",
      "202\n",
      "203\n",
      "204\n",
      "205\n",
      "206\n",
      "207\n",
      "208\n",
      "209\n",
      "210\n",
      "211\n",
      "212\n",
      "213\n",
      "214\n",
      "215\n",
      "216\n",
      "217\n",
      "218\n",
      "219\n",
      "220\n",
      "221\n",
      "222\n",
      "223\n",
      "224\n",
      "225\n",
      "226\n",
      "227\n",
      "228\n",
      "229\n",
      "230\n",
      "231\n",
      "232\n",
      "233\n",
      "234\n",
      "235\n",
      "236\n",
      "237\n",
      "238\n",
      "239\n",
      "240\n",
      "241\n",
      "242\n",
      "243\n",
      "244\n",
      "245\n",
      "246\n",
      "247\n",
      "248\n",
      "249\n",
      "250\n",
      "251\n",
      "252\n",
      "253\n",
      "254\n",
      "255\n",
      "256\n",
      "257\n",
      "258\n",
      "259\n",
      "260\n",
      "261\n",
      "262\n",
      "263\n",
      "264\n",
      "265\n",
      "266\n",
      "267\n",
      "268\n",
      "269\n",
      "270\n",
      "271\n",
      "272\n",
      "273\n",
      "274\n",
      "275\n",
      "276\n",
      "277\n",
      "278\n",
      "279\n",
      "280\n",
      "281\n",
      "282\n",
      "283\n",
      "284\n",
      "285\n",
      "286\n",
      "287\n",
      "288\n",
      "289\n",
      "290\n",
      "291\n",
      "292\n",
      "293\n",
      "294\n",
      "295\n",
      "296\n",
      "297\n",
      "298\n",
      "299\n",
      "300\n",
      "301\n",
      "302\n",
      "303\n",
      "304\n",
      "305\n",
      "306\n",
      "307\n",
      "308\n",
      "309\n",
      "310\n",
      "311\n",
      "312\n",
      "313\n",
      "314\n",
      "315\n",
      "316\n",
      "317\n",
      "318\n",
      "319\n",
      "320\n",
      "321\n",
      "322\n",
      "323\n",
      "324\n",
      "325\n",
      "326\n",
      "327\n",
      "328\n",
      "329\n",
      "330\n",
      "331\n",
      "332\n",
      "333\n",
      "334\n",
      "335\n",
      "336\n",
      "337\n",
      "338\n",
      "339\n",
      "340\n",
      "341\n",
      "342\n",
      "343\n",
      "344\n",
      "345\n",
      "346\n",
      "347\n",
      "348\n",
      "349\n",
      "350\n",
      "351\n",
      "352\n",
      "353\n",
      "354\n",
      "355\n",
      "356\n",
      "357\n",
      "358\n",
      "359\n",
      "360\n",
      "361\n",
      "362\n",
      "363\n",
      "364\n",
      "365\n",
      "366\n",
      "367\n",
      "368\n",
      "369\n",
      "370\n",
      "371\n",
      "372\n",
      "373\n",
      "374\n",
      "375\n",
      "376\n",
      "377\n",
      "378\n",
      "379\n",
      "380\n",
      "381\n",
      "382\n",
      "383\n",
      "384\n",
      "385\n",
      "386\n",
      "387\n",
      "388\n",
      "389\n",
      "390\n",
      "391\n",
      "392\n",
      "393\n",
      "394\n",
      "395\n",
      "396\n",
      "397\n",
      "398\n",
      "399\n",
      "400\n",
      "401\n",
      "402\n",
      "403\n",
      "404\n",
      "405\n",
      "406\n",
      "407\n",
      "408\n",
      "409\n",
      "410\n",
      "411\n",
      "412\n",
      "413\n",
      "414\n",
      "415\n",
      "416\n",
      "417\n",
      "418\n",
      "419\n",
      "420\n",
      "421\n",
      "422\n",
      "423\n",
      "424\n",
      "425\n",
      "426\n",
      "427\n",
      "428\n",
      "429\n",
      "430\n",
      "431\n",
      "432\n",
      "433\n",
      "434\n",
      "435\n",
      "436\n",
      "437\n",
      "438\n",
      "439\n",
      "440\n",
      "441\n",
      "442\n",
      "443\n",
      "444\n",
      "445\n",
      "446\n",
      "447\n",
      "448\n",
      "449\n",
      "450\n",
      "451\n",
      "452\n",
      "453\n",
      "454\n",
      "455\n",
      "456\n",
      "457\n",
      "458\n",
      "459\n",
      "460\n",
      "461\n"
     ]
    }
   ],
   "source": [
    "Player_fifty = []\n",
    "Player_century = []\n",
    "Player_four = []\n",
    "Player_six = []\n",
    "index = 1\n",
    "for player in player_list:\n",
    "    milestones(player)\n",
    "    print(index)\n",
    "    index = index+1"
   ]
  },
  {
   "cell_type": "code",
   "execution_count": 148,
   "metadata": {},
   "outputs": [
    {
     "name": "stdout",
     "output_type": "stream",
     "text": [
      "[14, 8, 0, 0, 0, 0, 0, 0, 10, 0, 21, 5, 1, 0, 0, 0, 0, 0, 8, 0, 0, 0, 0, 0, 1, 0, 15, 2, 13, 0, 0, 0, 0, 6, 0, 1, 1, 0, 0, 4, 0, 0, 3, 0, 0, 0, 0, 0, 0, 0, 0, 0, 1, 0, 36, 0, 0, 0, 0, 0, 0, 0, 1, 0, 0, 0, 17, 0, 3, 0, 0, 0, 1, 0, 0, 1, 0, 0, 2, 0, 0, 2, 4, 0, 0, 0, 2, 0, 0, 3, 0, 0, 13, 1, 0, 0, 3, 0, 1, 0, 0, 0, 7, 5, 0, 0, 0, 5, 2, 0, 10, 0, 0, 0, 3, 1, 1, 1, 0, 3, 1, 1, 0, 0, 0, 0, 0, 6, 0, 0, 0, 0, 0, 0, 0, 1, 0, 7, 0, 8, 0, 0, 0, 9, 0, 0, 0, 0, 0, 0, 3, 0, 1, 0, 4, 0, 0, 0, 0, 0, 0, 0, 22, 14, 0, 0, 1, 8, 0, 0, 0, 0, 1, 0, 0, 0, 13, 0, 0, 0, 0, 0, 0, 4, 0, 0, 0, 1, 0, 0, 5, 1, 0, 0, 0, 0, 0, 2, 0, 0, 0, 0, 0, 0, 10, 1, 0, 0, 1, 2, 0, 1, 9, 12, 0, 0, 0, 1, 0, 0, 0, 0, 0, 0, 0, 0, 0, 3, 3, 1, 0, 6, 22, 0, 0, 0, 4, 0, 0, 0, 0, 1, 6, 14, 17, 0, 0, 0, 30, 0, 0, 0, 0, 4, 1, 0, 17, 0, 1, 0, 0, 11, 0, 1, 1, 0, 0, 1, 0, 0, 3, 0, 0, 0, 0, 0, 1, 0, 0, 0, 0, 0, 0, 0, 0, 0, 0, 12, 35, 0, 0, 1, 0, 0, 16, 4, 0, 1, 3, 0, 0, 6, 0, 0, 0, 0, 0, 0, 32, 7, 0, 0, 1, 0, 0, 0, 0, 0, 0, 0, 11, 4, 0, 0, 6, 0, 6, 14, 0, 1, 0, 1, 0, 0, 3, 0, 0, 20, 0, 1, 2, 0, 0, 0, 0, 0, 0, 0, 0, 0, 0, 4, 0, 0, 0, 0, 0, 0, 0, 0, 0, 0, 0, 0, 0, 0, 0, 1, 0, 0, 0, 0, 0, 0, 13, 0, 0, 0, 0, 0, 0, 0, 0, 0, 0, 7, 1, 0, 0, 4, 0, 0, 2, 0, 0, 3, 0, 0, 11, 28, 0, 0, 0, 2, 0, 11, 0, 0, 0, 0, 0, 0, 0, 5, 1, 0, 0, 0, 0, 0, 0, 0, 0, 0, 0, 0, 0, 0, 0, 0, 0, 0, 0, 0, 0, 2, 0, 0, 5, 1, 0, 0, 0, 0, 0, 25, 1, 0, 0, 0, 0, 3, 0, 0, 1, 4, 0, 0, 0, 13, 31]\n"
     ]
    }
   ],
   "source": [
    "print(Player_fifty)"
   ]
  },
  {
   "cell_type": "code",
   "execution_count": 149,
   "metadata": {},
   "outputs": [
    {
     "name": "stdout",
     "output_type": "stream",
     "text": [
      "[78, 44, 0, 1, 0, 0, 0, 1, 27, 0, 265, 41, 1, 0, 0, 5, 0, 1, 38, 1, 2, 28, 0, 1, 6, 0, 52, 8, 29, 3, 0, 0, 2, 79, 0, 3, 13, 3, 0, 39, 1, 6, 16, 1, 0, 0, 0, 0, 13, 0, 3, 0, 3, 0, 160, 1, 0, 3, 8, 0, 0, 1, 7, 0, 0, 0, 117, 0, 23, 0, 0, 0, 15, 0, 26, 7, 0, 1, 5, 0, 0, 10, 48, 4, 0, 2, 26, 1, 3, 30, 0, 1, 147, 37, 1, 1, 21, 0, 5, 1, 3, 0, 57, 27, 1, 5, 0, 18, 15, 0, 39, 1, 0, 0, 55, 4, 18, 2, 0, 33, 9, 2, 2, 0, 0, 0, 2, 57, 0, 0, 0, 2, 57, 0, 0, 9, 1, 42, 0, 78, 0, 1, 0, 64, 0, 3, 1, 1, 23, 1, 33, 18, 2, 1, 23, 0, 4, 3, 1, 0, 0, 10, 156, 122, 9, 2, 2, 26, 0, 2, 1, 0, 4, 0, 1, 2, 59, 4, 0, 0, 6, 18, 2, 24, 5, 0, 0, 0, 6, 3, 60, 41, 8, 0, 3, 3, 2, 23, 9, 1, 0, 2, 0, 6, 35, 8, 0, 0, 9, 18, 0, 5, 24, 141, 0, 6, 5, 29, 8, 15, 0, 0, 0, 6, 14, 0, 0, 30, 13, 3, 1, 31, 125, 1, 0, 5, 23, 0, 0, 2, 5, 26, 43, 79, 44, 2, 3, 1, 160, 2, 1, 0, 29, 40, 9, 6, 156, 1, 28, 2, 0, 28, 7, 15, 8, 1, 9, 11, 0, 1, 37, 0, 8, 9, 1, 1, 21, 0, 0, 1, 0, 2, 3, 0, 0, 0, 0, 147, 58, 8, 0, 1, 0, 16, 106, 11, 3, 12, 37, 16, 0, 32, 0, 0, 0, 1, 0, 0, 173, 39, 9, 0, 13, 0, 7, 2, 0, 0, 0, 16, 44, 25, 4, 5, 82, 0, 36, 71, 10, 1, 0, 1, 0, 0, 11, 5, 0, 78, 0, 13, 19, 0, 4, 1, 0, 2, 2, 2, 0, 0, 1, 19, 0, 0, 3, 1, 0, 17, 3, 0, 0, 1, 4, 1, 0, 0, 0, 5, 0, 2, 4, 1, 0, 0, 89, 0, 0, 0, 1, 14, 1, 0, 1, 0, 1, 45, 20, 1, 0, 9, 0, 0, 20, 0, 8, 46, 0, 1, 92, 71, 4, 1, 1, 17, 6, 28, 15, 5, 0, 2, 1, 0, 20, 45, 5, 0, 1, 0, 2, 0, 7, 0, 8, 0, 1, 0, 0, 0, 1, 0, 0, 3, 0, 1, 0, 13, 2, 0, 21, 20, 1, 0, 0, 0, 0, 60, 8, 6, 5, 0, 0, 35, 0, 1, 4, 34, 0, 1, 1, 124, 173]\n"
     ]
    }
   ],
   "source": [
    "print(Player_six)"
   ]
  },
  {
   "cell_type": "code",
   "execution_count": 150,
   "metadata": {},
   "outputs": [
    {
     "name": "stdout",
     "output_type": "stream",
     "text": [
      "[0, 0, 0, 0, 0, 0, 0, 0, 0, 0, 5, 1, 0, 0, 0, 0, 0, 0, 0, 0, 0, 0, 0, 0, 0, 0, 1, 0, 1, 0, 0, 0, 0, 0, 0, 0, 0, 0, 0, 1, 0, 0, 0, 0, 0, 0, 0, 0, 0, 0, 0, 0, 0, 0, 3, 0, 0, 0, 0, 0, 0, 0, 0, 0, 0, 0, 0, 0, 0, 0, 0, 0, 0, 0, 0, 0, 0, 0, 0, 0, 0, 0, 0, 0, 0, 0, 0, 0, 0, 0, 0, 0, 1, 0, 0, 0, 2, 0, 0, 0, 0, 0, 1, 0, 0, 0, 0, 0, 0, 0, 1, 0, 0, 0, 0, 0, 0, 0, 0, 0, 0, 0, 0, 0, 0, 0, 0, 1, 0, 0, 0, 0, 0, 0, 0, 0, 0, 0, 0, 1, 0, 0, 0, 1, 0, 0, 0, 0, 0, 0, 0, 0, 0, 0, 0, 0, 0, 0, 0, 0, 0, 0, 3, 2, 0, 0, 0, 0, 0, 0, 0, 0, 0, 0, 0, 0, 0, 0, 0, 0, 0, 0, 0, 0, 0, 0, 0, 0, 0, 0, 0, 0, 0, 0, 0, 0, 0, 0, 0, 0, 0, 0, 0, 0, 0, 0, 0, 0, 0, 0, 0, 0, 0, 0, 0, 0, 0, 0, 0, 0, 0, 0, 0, 0, 0, 0, 0, 0, 0, 0, 0, 0, 0, 0, 0, 0, 0, 0, 0, 0, 0, 0, 0, 0, 0, 0, 0, 0, 4, 0, 0, 0, 0, 1, 0, 0, 0, 0, 0, 0, 0, 0, 0, 1, 0, 0, 0, 0, 0, 0, 0, 0, 0, 0, 0, 0, 0, 0, 0, 0, 0, 0, 0, 0, 0, 0, 0, 0, 0, 0, 0, 0, 0, 0, 2, 0, 0, 0, 0, 0, 0, 0, 0, 0, 0, 0, 0, 0, 1, 0, 0, 0, 0, 0, 0, 0, 0, 0, 0, 0, 1, 0, 0, 0, 0, 0, 0, 0, 0, 0, 0, 0, 0, 0, 0, 0, 0, 1, 0, 0, 0, 0, 0, 0, 0, 0, 0, 0, 0, 0, 0, 0, 0, 0, 0, 0, 0, 0, 0, 0, 0, 0, 0, 0, 0, 0, 0, 0, 0, 0, 0, 0, 0, 0, 2, 0, 0, 0, 0, 0, 0, 0, 0, 0, 0, 0, 0, 0, 0, 0, 0, 0, 1, 0, 0, 0, 0, 0, 2, 0, 0, 0, 0, 0, 0, 0, 0, 0, 0, 0, 0, 0, 0, 1, 0, 0, 0, 0, 0, 0, 0, 0, 0, 0, 0, 0, 0, 0, 0, 0, 0, 0, 0, 0, 0, 0, 0, 0, 1, 0, 0, 0, 0, 0, 0, 1, 0, 0, 0, 0, 0, 0, 0, 0, 0, 0, 0, 0, 0, 2, 1]\n"
     ]
    }
   ],
   "source": [
    "print(Player_century)"
   ]
  },
  {
   "cell_type": "code",
   "execution_count": 151,
   "metadata": {},
   "outputs": [
    {
     "name": "stdout",
     "output_type": "stream",
     "text": [
      "[123, 121, 1, 0, 9, 12, 0, 0, 195, 0, 294, 74, 19, 0, 0, 6, 1, 6, 110, 9, 0, 34, 1, 1, 45, 0, 198, 26, 296, 15, 2, 0, 4, 121, 0, 21, 32, 14, 0, 84, 1, 22, 39, 4, 0, 0, 3, 5, 24, 11, 8, 0, 12, 0, 401, 0, 10, 16, 11, 0, 1, 11, 28, 0, 2, 0, 245, 0, 31, 0, 0, 0, 26, 1, 23, 9, 0, 9, 23, 0, 0, 56, 102, 5, 1, 5, 55, 2, 26, 40, 6, 9, 239, 87, 7, 23, 60, 1, 21, 3, 14, 1, 112, 87, 1, 1, 0, 134, 44, 0, 200, 2, 1, 0, 61, 50, 15, 21, 0, 72, 36, 13, 7, 1, 1, 0, 4, 130, 1, 0, 0, 6, 125, 1, 1, 35, 4, 137, 0, 104, 1, 0, 0, 197, 0, 10, 3, 4, 36, 1, 82, 22, 30, 6, 93, 0, 10, 3, 3, 0, 0, 9, 287, 257, 17, 9, 26, 135, 3, 22, 3, 1, 14, 0, 6, 11, 170, 13, 0, 5, 19, 24, 15, 61, 11, 1, 0, 16, 17, 1, 90, 76, 24, 1, 6, 15, 5, 33, 12, 2, 0, 3, 2, 10, 297, 13, 3, 2, 25, 34, 0, 19, 140, 204, 9, 22, 6, 44, 12, 49, 0, 3, 0, 10, 9, 1, 0, 47, 9, 14, 1, 83, 377, 1, 0, 13, 34, 0, 3, 2, 11, 50, 122, 205, 255, 5, 27, 4, 383, 23, 1, 0, 59, 91, 32, 14, 251, 3, 24, 1, 0, 154, 13, 22, 12, 0, 20, 40, 0, 5, 77, 0, 6, 11, 0, 4, 54, 0, 1, 5, 1, 7, 2, 0, 1, 3, 5, 157, 484, 8, 5, 12, 0, 33, 334, 49, 5, 36, 48, 23, 1, 79, 1, 3, 1, 1, 1, 1, 354, 152, 20, 0, 34, 1, 9, 11, 0, 0, 0, 26, 109, 31, 7, 5, 96, 2, 76, 286, 43, 14, 0, 14, 0, 0, 35, 27, 0, 266, 2, 25, 59, 4, 3, 22, 0, 2, 10, 4, 0, 2, 0, 69, 1, 0, 4, 0, 1, 22, 3, 3, 0, 5, 9, 0, 5, 7, 7, 39, 0, 5, 12, 2, 0, 0, 237, 7, 0, 0, 3, 18, 1, 1, 2, 0, 0, 93, 20, 4, 1, 94, 0, 1, 61, 6, 8, 66, 1, 1, 239, 401, 8, 1, 6, 43, 7, 269, 16, 4, 9, 2, 1, 0, 55, 150, 33, 0, 6, 6, 9, 0, 8, 3, 9, 3, 3, 5, 3, 0, 5, 4, 0, 2, 1, 3, 0, 39, 1, 2, 90, 46, 4, 4, 5, 0, 3, 320, 20, 2, 11, 1, 0, 95, 0, 0, 10, 72, 0, 5, 2, 277, 402]\n"
     ]
    }
   ],
   "source": [
    "print(Player_four)"
   ]
  },
  {
   "cell_type": "code",
   "execution_count": 143,
   "metadata": {
    "collapsed": true
   },
   "outputs": [],
   "source": [
    "Players_Runs = [1993, 1107, 6, 11, 98, 98, 15, 6, 1687, 4, 3626, 974, 167, 15, 2, 88, 4, 34, 1295, 91, 14, 606, 12, 26, 278, 9, 1977, 241, 2334, 181, 56, 2, 38, 1553, 12, 145, 394, 127, 3, 768, 19, 270, 531, 55, 0, 3, 18, 69, 342, 81, 94, 0, 103, 2, 4014, 11, 96, 106, 159, 5, 6, 125, 280, 3, 11, 16, 2385, 16, 384, 2, 2, 0, 326, 7, 422, 136, 2, 88, 226, 4, 0, 423, 1262, 77, 24, 39, 676, 33, 192, 521, 76, 59, 2904, 1139, 113, 280, 577, 20, 193, 36, 166, 5, 1426, 969, 25, 39, 6, 1112, 498, 1, 1802, 52, 26, 0, 974, 390, 295, 120, 2, 893, 342, 125, 87, 10, 19, 3, 46, 1557, 9, 8, 1, 90, 1732, 10, 22, 375, 35, 1349, 5, 1563, 4, 8, 0, 2215, 5, 131, 42, 46, 527, 20, 814, 420, 193, 73, 798, 4, 92, 54, 29, 6, 10, 124, 3473, 2622, 218, 92, 241, 1158, 31, 231, 41, 5, 163, 1, 67, 117, 1603, 153, 0, 33, 177, 401, 164, 725, 137, 20, 22, 140, 169, 49, 1322, 799, 237, 7, 117, 158, 62, 439, 177, 36, 1, 51, 12, 126, 2322, 128, 31, 21, 327, 368, 0, 217, 1153, 2587, 73, 259, 106, 724, 147, 515, 9, 28, 20, 117, 225, 17, 3, 564, 203, 130, 23, 886, 3778, 15, 0, 179, 506, 1, 15, 39, 111, 527, 1400, 2416, 2427, 49, 196, 36, 4418, 170, 25, 2, 766, 1001, 300, 198, 3560, 34, 406, 19, 9, 1441, 194, 316, 205, 7, 304, 339, 3, 79, 985, 10, 99, 187, 15, 34, 608, 7, 23, 42, 26, 64, 47, 3, 4, 18, 38, 2344, 4132, 124, 47, 101, 0, 405, 2728, 417, 66, 271, 574, 304, 7, 807, 11, 35, 10, 28, 14, 6, 4207, 1648, 285, 13, 319, 13, 161, 121, 3, 2, 1, 353, 1079, 437, 87, 76, 1228, 19, 954, 2903, 514, 159, 0, 121, 1, 0, 411, 340, 10, 2477, 26, 302, 663, 29, 52, 183, 4, 24, 99, 48, 4, 20, 12, 604, 7, 1, 53, 26, 18, 340, 53, 30, 6, 40, 123, 13, 23, 59, 40, 409, 0, 91, 127, 18, 1, 7, 2511, 53, 2, 4, 32, 317, 18, 12, 36, 10, 8, 1276, 373, 63, 12, 739, 2, 5, 505, 37, 95, 1017, 15, 20, 2069, 3561, 112, 19, 43, 391, 81, 2174, 280, 127, 49, 46, 21, 23, 672, 1703, 282, 8, 63, 34, 75, 1, 151, 35, 116, 14, 45, 52, 19, 3, 50, 20, 12, 81, 19, 42, 4, 388, 36, 14, 726, 480, 51, 25, 39, 5, 18, 3057, 189, 63, 126, 7, 8, 957, 3, 11, 83, 854, 2, 55, 24, 2753, 4540]\n",
    "\n",
    "Players_SR = [124.87468671679198, 137.51552795031057, 46.15384615384615, 122.22222222222223, 83.76068376068376, 104.25531914893618, 55.55555555555556, 85.71428571428571, 121.19252873563218, 30.76923076923077, 151.209341117598, 129.86666666666667, 126.51515151515152, 53.57142857142857, 40.0, 88.88888888888889, 133.33333333333331, 100.0, 127.96442687747036, 112.34567901234568, 233.33333333333334, 128.1183932346723, 100.0, 108.33333333333333, 143.29896907216494, 75.0, 122.64267990074443, 129.56989247311827, 119.81519507186857, 126.57342657342659, 74.66666666666667, 66.66666666666666, 122.58064516129032, 118.6401833460657, 66.66666666666666, 133.0275229357798, 127.50809061488673, 127.0, 150.0, 144.36090225563908, 73.07692307692307, 116.88311688311688, 117.21854304635761, 79.71014492753623, 0.0, 60.0, 72.0, 81.17647058823529, 120.4225352112676, 119.11764705882352, 104.44444444444446, 0.0, 100.98039215686273, 25.0, 142.1388101983003, 68.75, 97.95918367346938, 176.66666666666666, 112.7659574468085, 38.46153846153847, 120.0, 97.65625, 111.55378486055776, 50.0, 61.111111111111114, 35.55555555555556, 135.20408163265304, 69.56521739130434, 158.02469135802468, 100.0, 50.0, 0.0, 138.72340425531914, 100.0, 137.45928338762215, 120.35398230088497, 20.0, 104.76190476190477, 134.52380952380955, 57.14285714285714, 0.0, 124.7787610619469, 126.32632632632632, 140.0, 68.57142857142857, 169.56521739130434, 117.56521739130434, 76.74418604651163, 107.86516853932584, 129.92518703241896, 78.35051546391753, 147.5, 145.49098196392785, 120.40169133192389, 104.62962962962963, 89.45686900958466, 141.76904176904176, 66.66666666666666, 137.85714285714286, 124.13793103448276, 105.0632911392405, 62.5, 124.43280977312392, 128.1746031746032, 125.0, 205.26315789473685, 50.0, 120.8695652173913, 130.36649214659687, 33.33333333333333, 123.25581395348837, 68.42105263157895, 74.28571428571429, 0.0, 141.98250728862973, 99.74424552429667, 122.40663900414938, 133.33333333333331, 66.66666666666666, 134.89425981873111, 125.73529411764706, 110.61946902654867, 114.4736842105263, 71.42857142857143, 79.16666666666666, 50.0, 102.22222222222221, 130.73047858942067, 90.0, 72.72727272727273, 100.0, 93.75, 122.92405961674946, 111.11111111111111, 100.0, 118.29652996845425, 145.83333333333331, 106.80918448139352, 100.0, 141.44796380090497, 200.0, 72.72727272727273, 0.0, 120.11930585683297, 62.5, 98.49624060150376, 91.30434782608695, 97.87234042553192, 135.47557840616966, 105.26315789473684, 123.33333333333334, 123.16715542521995, 119.87577639751552, 97.33333333333334, 113.67521367521367, 44.44444444444444, 93.87755102040816, 154.2857142857143, 111.53846153846155, 60.0, 58.82352941176471, 187.87878787878788, 148.1655290102389, 138.65679534637758, 94.37229437229438, 101.0989010989011, 96.01593625498009, 126.9736842105263, 119.23076923076923, 96.25, 66.12903225806451, 166.66666666666669, 123.48484848484848, 50.0, 104.6875, 82.97872340425532, 130.43124491456467, 113.33333333333333, 0.0, 137.5, 173.52941176470588, 112.64044943820224, 102.49999999999999, 125.64991334488735, 135.64356435643566, 71.42857142857143, 66.66666666666666, 99.29078014184397, 112.66666666666667, 84.48275862068965, 122.97674418604652, 142.42424242424244, 113.9423076923077, 50.0, 104.46428571428572, 100.63694267515923, 116.98113207547169, 165.66037735849056, 143.90243902439025, 73.46938775510205, 50.0, 102.0, 109.09090909090908, 136.95652173913044, 117.21352852094901, 164.1025641025641, 86.11111111111111, 80.76923076923077, 108.63787375415282, 126.02739726027397, 0.0, 103.33333333333334, 114.49851042701091, 131.1866125760649, 94.8051948051948, 103.60000000000001, 98.14814814814815, 125.91304347826086, 132.43243243243242, 113.68653421633555, 69.23076923076923, 96.55172413793103, 76.92307692307693, 144.44444444444443, 114.79591836734696, 85.0, 37.5, 151.20643431635386, 130.12820512820514, 107.43801652892562, 88.46153846153845, 109.78934324659231, 131.6376306620209, 115.38461538461537, 0.0, 116.23376623376625, 130.0771208226221, 33.33333333333333, 78.94736842105263, 73.58490566037736, 109.9009900990099, 145.98337950138506, 125.22361359570662, 126.16187989556136, 109.22592259225922, 125.64102564102564, 118.7878787878788, 138.46153846153845, 129.8266235674405, 124.08759124087592, 96.15384615384616, 50.0, 126.82119205298012, 134.72409152086138, 100.0, 92.5233644859813, 136.7127496159754, 154.54545454545453, 142.4561403508772, 111.76470588235294, 64.28571428571429, 118.8943894389439, 116.1676646706587, 142.98642533936652, 138.51351351351352, 77.77777777777779, 112.1771217712177, 124.17582417582418, 42.857142857142854, 101.28205128205127, 117.82296650717703, 58.82352941176471, 139.43661971830986, 152.03252032520325, 83.33333333333334, 130.76923076923077, 130.752688172043, 58.333333333333336, 74.19354838709677, 100.0, 37.142857142857146, 77.10843373493977, 138.23529411764704, 75.0, 80.0, 150.0, 122.58064516129032, 146.59161976235146, 124.60796139927623, 127.83505154639174, 71.21212121212122, 134.66666666666666, 0.0, 115.71428571428572, 155.44159544159544, 136.27450980392157, 88.0, 147.2826086956522, 173.41389728096678, 116.47509578544062, 175.0, 128.50318471337582, 122.22222222222223, 74.46808510638297, 83.33333333333334, 100.0, 51.85185185185185, 85.71428571428571, 130.8960796515246, 117.29537366548041, 110.03861003861005, 56.52173913043478, 129.1497975708502, 100.0, 93.6046511627907, 107.07964601769913, 100.0, 100.0, 100.0, 129.77941176470588, 126.6431924882629, 128.90855457227138, 129.8507462686567, 138.1818181818182, 164.3908969210174, 82.6086956521739, 126.35761589403972, 125.94360086767895, 109.36170212765957, 92.98245614035088, 0.0, 101.68067226890756, 16.666666666666664, 0.0, 129.24528301886792, 93.66391184573003, 38.46153846153847, 132.7438370846731, 54.166666666666664, 122.76422764227641, 121.875, 111.53846153846155, 104.0, 105.78034682080926, 133.33333333333331, 171.42857142857142, 111.23595505617978, 150.0, 80.0, 90.9090909090909, 133.33333333333331, 131.87772925764193, 87.5, 50.0, 176.66666666666666, 118.18181818181819, 46.15384615384615, 108.28025477707006, 103.921568627451, 100.0, 42.857142857142854, 153.84615384615387, 123.0, 162.5, 100.0, 103.50877192982458, 114.28571428571428, 113.9275766016713, 0.0, 71.09375, 141.11111111111111, 163.63636363636365, 100.0, 58.333333333333336, 123.39066339066338, 74.64788732394366, 100.0, 100.0, 106.66666666666667, 115.69343065693431, 112.5, 70.58823529411765, 92.3076923076923, 76.92307692307693, 88.88888888888889, 119.58762886597938, 139.17910447761196, 84.0, 133.33333333333331, 110.62874251497006, 28.57142857142857, 166.66666666666669, 120.8133971291866, 137.03703703703704, 179.24528301886792, 123.72262773722629, 93.75, 111.11111111111111, 138.39464882943145, 121.86858316221767, 109.80392156862746, 146.15384615384613, 138.70967741935485, 146.44194756554307, 176.08695652173913, 115.5154091392136, 145.0777202072539, 92.02898550724638, 84.48275862068965, 83.63636363636363, 91.30434782608695, 85.18518518518519, 116.46447140381282, 131.7092034029389, 105.61797752808988, 53.333333333333336, 95.45454545454545, 61.81818181818181, 129.31034482758622, 50.0, 98.69281045751634, 94.5945945945946, 170.58823529411765, 107.6923076923077, 77.58620689655173, 110.63829787234043, 111.76470588235294, 60.0, 98.0392156862745, 95.23809523809523, 60.0, 110.95890410958904, 86.36363636363636, 71.1864406779661, 57.14285714285714, 128.05280528052805, 120.0, 107.6923076923077, 132.24043715846994, 158.41584158415841, 100.0, 80.64516129032258, 95.1219512195122, 35.714285714285715, 100.0, 120.59171597633136, 132.16783216783216, 143.1818181818182, 140.0, 77.77777777777779, 72.72727272727273, 132.73231622746187, 50.0, 57.89473684210527, 113.69863013698631, 121.13475177304964, 20.0, 85.9375, 109.09090909090908, 131.22020972354625, 139.09313725490196]\n",
    "\n",
    "#Players_avg = [39.86, 35.70967741935484, 6.0, 5.5, 16.333333333333332, 16.333333333333332, 7.5, 6.0, 25.953846153846154, 4.0, 40.741573033707866, 36.074074074074076, 55.666666666666664, 5.0, 2.0, 5.5, 2.0, 6.8, 30.11627906976744, 22.75, 14.0, 20.2, inf, 13.0, 23.166666666666668, 9.0, 38.76470588235294, 24.1, 33.82608695652174, 45.25, 9.333333333333334, 2.0, 7.6, 20.986486486486488, 6.0, 18.125, 28.142857142857142, 21.166666666666668, inf, 27.428571428571427, 6.333333333333333, 15.882352941176471, 29.5, 11.0, nan, 1.5, 4.5, 13.8, 11.4, 20.25, 13.428571428571429, 0.0, 14.714285714285714, 2.0, 40.14, 5.5, 13.714285714285714, 21.2, 14.454545454545455, 5.0, inf, 17.857142857142858, 18.666666666666668, 1.5, 11.0, 1.3333333333333333, 28.392857142857142, 5.333333333333333, 38.4, 2.0, 2.0, 0.0, 23.285714285714285, 7.0, 19.181818181818183, 17.0, 0.5, 44.0, 22.6, 4.0, nan, 21.15, 22.945454545454545, 12.833333333333334, 4.0, 7.8, 21.125, 8.25, 24.0, 27.42105263157895, 15.2, 29.5, 29.632653061224488, 21.49056603773585, 16.142857142857142, 15.555555555555555, 44.38461538461539, 3.3333333333333335, 27.571428571428573, 12.0, 7.545454545454546, 2.5, 25.464285714285715, 28.5, 25.0, 13.0, 6.0, 20.21818181818182, 20.75, 1.0, 28.15625, 3.466666666666667, 26.0, 0.0, 24.35, 20.526315789473685, 19.666666666666668, 17.142857142857142, 1.0, 23.5, 16.285714285714285, 25.0, 21.75, 10.0, 19.0, 3.0, 6.571428571428571, 25.524590163934427, 9.0, 8.0, inf, 11.25, 24.055555555555557, 10.0, 7.333333333333333, 19.736842105263158, 17.5, 25.452830188679247, 5.0, 34.733333333333334, inf, 2.6666666666666665, 0.0, 28.397435897435898, inf, 18.714285714285715, 14.0, 11.5, 20.26923076923077, 10.0, 17.695652173913043, 18.26086956521739, 27.571428571428573, 18.25, 21.0, 4.0, 13.142857142857142, 9.0, 14.5, 3.0, 10.0, 24.8, 38.16483516483517, 30.847058823529412, 14.533333333333333, 11.5, 16.066666666666666, 25.17391304347826, 10.333333333333334, 10.5, 5.857142857142857, 5.0, 23.285714285714285, 1.0, 22.333333333333332, 8.357142857142858, 27.16949152542373, 21.857142857142858, 0.0, 16.5, 29.5, 19.095238095238095, 16.4, 30.208333333333332, 17.125, 5.0, 7.333333333333333, 14.0, 16.9, 7.0, 26.979591836734695, 15.666666666666666, 14.8125, 7.0, 9.75, 8.31578947368421, 31.0, 36.583333333333336, 17.7, 4.5, 1.0, 10.2, 6.0, 15.75, 21.700934579439252, 25.6, 15.5, 10.5, 29.727272727272727, 18.4, nan, 16.692307692307693, 26.813953488372093, 25.613861386138613, 18.25, 14.38888888888889, 13.25, 23.35483870967742, 18.375, 12.261904761904763, inf, 28.0, 10.0, 16.714285714285715, 18.75, 8.5, 3.0, 25.636363636363637, 40.6, 16.25, 7.666666666666667, 27.6875, 29.515625, 7.5, 0.0, 17.9, 33.733333333333334, 1.0, 15.0, 13.0, 27.75, 23.954545454545453, 33.333333333333336, 27.146067415730336, 28.55294117647059, 9.8, 21.77777777777778, 36.0, 37.440677966101696, 17.0, 12.5, 2.0, 20.157894736842106, 35.75, 15.0, 9.9, 37.87234042553192, 17.0, 21.36842105263158, 6.333333333333333, inf, 30.659574468085108, 21.555555555555557, 31.6, 29.285714285714285, 3.5, 10.857142857142858, 14.125, 3.0, 8.777777777777779, 22.386363636363637, 10.0, 9.9, 23.375, 5.0, 6.8, 20.96551724137931, 3.5, 11.5, 21.0, 2.1666666666666665, 9.142857142857142, 5.222222222222222, 3.0, 4.0, 4.5, 19.0, 28.585365853658537, 31.541984732824428, 12.4, 11.75, 50.5, nan, 15.0, 27.555555555555557, 26.0625, 4.714285714285714, 13.55, 26.09090909090909, 21.714285714285715, inf, 27.82758620689655, 11.0, 11.666666666666666, 5.0, inf, 7.0, 6.0, 32.6124031007752, 29.428571428571427, 20.357142857142858, 2.6, 21.266666666666666, 6.5, 12.384615384615385, 15.125, 3.0, inf, inf, 17.65, 39.96296296296296, 31.214285714285715, 12.428571428571429, 12.666666666666666, 25.06122448979592, 19.0, 26.5, 24.811965811965813, 22.347826086956523, 19.875, 0.0, 30.25, 0.5, 0.0, 31.615384615384617, 11.724137931034482, 5.0, 39.317460317460316, 2.6, 27.454545454545453, 24.555555555555557, 14.5, 6.5, 18.3, inf, 12.0, 14.142857142857142, 48.0, 4.0, 10.0, inf, 21.571428571428573, 3.5, inf, 26.5, 26.0, 9.0, 8.947368421052632, 10.6, 10.0, 3.0, 20.0, 24.6, 13.0, 7.666666666666667, 14.75, 13.333333333333334, 20.45, 0.0, 10.11111111111111, 31.75, 18.0, inf, 3.5, 26.431578947368422, 8.833333333333334, inf, inf, 10.666666666666666, 15.095238095238095, 9.0, 12.0, 12.0, 10.0, 4.0, 28.355555555555554, 14.346153846153847, 7.0, inf, 28.423076923076923, 2.0, inf, 22.954545454545453, 12.333333333333334, 11.875, 25.425, 15.0, 20.0, 27.223684210526315, 32.669724770642205, 8.0, 19.0, 10.75, 27.928571428571427, 10.125, 28.233766233766232, 18.666666666666668, 11.545454545454545, 9.8, 11.5, 21.0, 7.666666666666667, 17.68421052631579, 37.02173913043478, 14.842105263157896, 8.0, 15.75, 8.5, 15.0, inf, 11.615384615384615, 35.0, 12.88888888888889, 7.0, 7.5, 13.0, 19.0, 3.0, 10.0, 6.666666666666667, 4.0, 10.125, 9.5, 6.0, inf, 20.42105263157895, 9.0, 7.0, 29.04, 34.285714285714285, 10.2, 8.333333333333334, 6.5, 2.5, 9.0, 33.59340659340659, 21.0, 7.875, 11.454545454545455, 2.3333333333333335, 8.0, 24.53846153846154, 1.5, 3.6666666666666665, 13.833333333333334, 21.35, 2.0, 18.333333333333332, 12.0, 28.091836734693878, 33.88059701492537]\n",
    "\n",
    "P_avg = [39.86, 35.70967741935484, 6.0, 5.5, 16.333333333333332, 16.333333333333332, 7.5, 6.0, 25.953846153846154, 4.0, 40.741573033707866, 36.074074074074076, 55.666666666666664, 5.0, 2.0, 5.5, 2.0, 6.8, 30.11627906976744, 22.75, 14.0, 20.2, 0, 13.0, 23.166666666666668, 9.0, 38.76470588235294, 24.1, 33.82608695652174, 45.25, 9.333333333333334, 2.0, 7.6, 20.986486486486488, 6.0, 18.125, 28.142857142857142, 21.166666666666668, 0, 27.428571428571427, 6.333333333333333, 15.882352941176471, 29.5, 11.0, 0, 1.5, 4.5, 13.8, 11.4, 20.25, 13.428571428571429, 0.0, 14.714285714285714, 2.0, 40.14, 5.5, 13.714285714285714, 21.2, 14.454545454545455, 5.0, 0, 17.857142857142858, 18.666666666666668, 1.5, 11.0, 1.3333333333333333, 28.392857142857142, 5.333333333333333, 38.4, 2.0, 2.0, 0.0, 23.285714285714285, 7.0, 19.181818181818183, 17.0, 0.5, 44.0, 22.6, 4.0, 0, 21.15, 22.945454545454545, 12.833333333333334, 4.0, 7.8, 21.125, 8.25, 24.0, 27.42105263157895, 15.2, 29.5, 29.632653061224488, 21.49056603773585, 16.142857142857142, 15.555555555555555, 44.38461538461539, 3.3333333333333335, 27.571428571428573, 12.0, 7.545454545454546, 2.5, 25.464285714285715, 28.5, 25.0, 13.0, 6.0, 20.21818181818182, 20.75, 1.0, 28.15625, 3.466666666666667, 26.0, 0.0, 24.35, 20.526315789473685, 19.666666666666668, 17.142857142857142, 1.0, 23.5, 16.285714285714285, 25.0, 21.75, 10.0, 19.0, 3.0, 6.571428571428571, 25.524590163934427, 9.0, 8.0, 0, 11.25, 24.055555555555557, 10.0, 7.333333333333333, 19.736842105263158, 17.5, 25.452830188679247, 5.0, 34.733333333333334, 0, 2.6666666666666665, 0.0, 28.397435897435898, 0, 18.714285714285715, 14.0, 11.5, 20.26923076923077, 10.0, 17.695652173913043, 18.26086956521739, 27.571428571428573, 18.25, 21.0, 4.0, 13.142857142857142, 9.0, 14.5, 3.0, 10.0, 24.8, 38.16483516483517, 30.847058823529412, 14.533333333333333, 11.5, 16.066666666666666, 25.17391304347826, 10.333333333333334, 10.5, 5.857142857142857, 5.0, 23.285714285714285, 1.0, 22.333333333333332, 8.357142857142858, 27.16949152542373, 21.857142857142858, 0.0, 16.5, 29.5, 19.095238095238095, 16.4, 30.208333333333332, 17.125, 5.0, 7.333333333333333, 14.0, 16.9, 7.0, 26.979591836734695, 15.666666666666666, 14.8125, 7.0, 9.75, 8.31578947368421, 31.0, 36.583333333333336, 17.7, 4.5, 1.0, 10.2, 6.0, 15.75, 21.700934579439252, 25.6, 15.5, 10.5, 29.727272727272727, 18.4, 0, 16.692307692307693, 26.813953488372093, 25.613861386138613, 18.25, 14.38888888888889, 13.25, 23.35483870967742, 18.375, 12.261904761904763, 0, 28.0, 10.0, 16.714285714285715, 18.75, 8.5, 3.0, 25.636363636363637, 40.6, 16.25, 7.666666666666667, 27.6875, 29.515625, 7.5, 0.0, 17.9, 33.733333333333334, 1.0, 15.0, 13.0, 27.75, 23.954545454545453, 33.333333333333336, 27.146067415730336, 28.55294117647059, 9.8, 21.77777777777778, 36.0, 37.440677966101696, 17.0, 12.5, 2.0, 20.157894736842106, 35.75, 15.0, 9.9, 37.87234042553192, 17.0, 21.36842105263158, 6.333333333333333, 0, 30.659574468085108, 21.555555555555557, 31.6, 29.285714285714285, 3.5, 10.857142857142858, 14.125, 3.0, 8.777777777777779, 22.386363636363637, 10.0, 9.9, 23.375, 5.0, 6.8, 20.96551724137931, 3.5, 11.5, 21.0, 2.1666666666666665, 9.142857142857142, 5.222222222222222, 3.0, 4.0, 4.5, 19.0, 28.585365853658537, 31.541984732824428, 12.4, 11.75, 50.5, 0, 15.0, 27.555555555555557, 26.0625, 4.714285714285714, 13.55, 26.09090909090909, 21.714285714285715, 0, 27.82758620689655, 11.0, 11.666666666666666, 5.0, 0, 7.0, 6.0, 32.6124031007752, 29.428571428571427, 20.357142857142858, 2.6, 21.266666666666666, 6.5, 12.384615384615385, 15.125, 3.0, 0, 0, 17.65, 39.96296296296296, 31.214285714285715, 12.428571428571429, 12.666666666666666, 25.06122448979592, 19.0, 26.5, 24.811965811965813, 22.347826086956523, 19.875, 0.0, 30.25, 0.5, 0.0, 31.615384615384617, 11.724137931034482, 5.0, 39.317460317460316, 2.6, 27.454545454545453, 24.555555555555557, 14.5, 6.5, 18.3, 0, 12.0, 14.142857142857142, 48.0, 4.0, 10.0, 0, 21.571428571428573, 3.5, 0, 26.5, 26.0, 9.0, 8.947368421052632, 10.6, 10.0, 3.0, 20.0, 24.6, 13.0, 7.666666666666667, 14.75, 13.333333333333334, 20.45, 0.0, 10.11111111111111, 31.75, 18.0, 0, 3.5, 26.431578947368422, 8.833333333333334, 0, 0, 10.666666666666666, 15.095238095238095, 9.0, 12.0, 12.0, 10.0, 4.0, 28.355555555555554, 14.346153846153847, 7.0, 0, 28.423076923076923, 2.0, 0, 22.954545454545453, 12.333333333333334, 11.875, 25.425, 15.0, 20.0, 27.223684210526315, 32.669724770642205, 8.0, 19.0, 10.75, 27.928571428571427, 10.125, 28.233766233766232, 18.666666666666668, 11.545454545454545, 9.8, 11.5, 21.0, 7.666666666666667, 17.68421052631579, 37.02173913043478, 14.842105263157896, 8.0, 15.75, 8.5, 15.0, 0, 11.615384615384615, 35.0, 12.88888888888889, 7.0, 7.5, 13.0, 19.0, 3.0, 10.0, 6.666666666666667, 4.0, 10.125, 9.5, 6.0, 0, 20.42105263157895, 9.0, 7.0, 29.04, 34.285714285714285, 10.2, 8.333333333333334, 6.5, 2.5, 9.0, 33.59340659340659, 21.0, 7.875, 11.454545454545455, 2.3333333333333335, 8.0, 24.53846153846154, 1.5, 3.6666666666666665, 13.833333333333334, 21.35, 2.0, 18.333333333333332, 12.0, 28.091836734693878, 33.88059701492537]\n",
    "\n",
    "Player_fifty = [14, 8, 0, 0, 0, 0, 0, 0, 10, 0, 21, 5, 1, 0, 0, 0, 0, 0, 8, 0, 0, 0, 0, 0, 1, 0, 15, 2, 13, 0, 0, 0, 0, 6, 0, 1, 1, 0, 0, 4, 0, 0, 3, 0, 0, 0, 0, 0, 0, 0, 0, 0, 1, 0, 36, 0, 0, 0, 0, 0, 0, 0, 1, 0, 0, 0, 17, 0, 3, 0, 0, 0, 1, 0, 0, 1, 0, 0, 2, 0, 0, 2, 4, 0, 0, 0, 2, 0, 0, 3, 0, 0, 13, 1, 0, 0, 3, 0, 1, 0, 0, 0, 7, 5, 0, 0, 0, 5, 2, 0, 10, 0, 0, 0, 3, 1, 1, 1, 0, 3, 1, 1, 0, 0, 0, 0, 0, 6, 0, 0, 0, 0, 0, 0, 0, 1, 0, 7, 0, 8, 0, 0, 0, 9, 0, 0, 0, 0, 0, 0, 3, 0, 1, 0, 4, 0, 0, 0, 0, 0, 0, 0, 22, 14, 0, 0, 1, 8, 0, 0, 0, 0, 1, 0, 0, 0, 13, 0, 0, 0, 0, 0, 0, 4, 0, 0, 0, 1, 0, 0, 5, 1, 0, 0, 0, 0, 0, 2, 0, 0, 0, 0, 0, 0, 10, 1, 0, 0, 1, 2, 0, 1, 9, 12, 0, 0, 0, 1, 0, 0, 0, 0, 0, 0, 0, 0, 0, 3, 3, 1, 0, 6, 22, 0, 0, 0, 4, 0, 0, 0, 0, 1, 6, 14, 17, 0, 0, 0, 30, 0, 0, 0, 0, 4, 1, 0, 17, 0, 1, 0, 0, 11, 0, 1, 1, 0, 0, 1, 0, 0, 3, 0, 0, 0, 0, 0, 1, 0, 0, 0, 0, 0, 0, 0, 0, 0, 0, 12, 35, 0, 0, 1, 0, 0, 16, 4, 0, 1, 3, 0, 0, 6, 0, 0, 0, 0, 0, 0, 32, 7, 0, 0, 1, 0, 0, 0, 0, 0, 0, 0, 11, 4, 0, 0, 6, 0, 6, 14, 0, 1, 0, 1, 0, 0, 3, 0, 0, 20, 0, 1, 2, 0, 0, 0, 0, 0, 0, 0, 0, 0, 0, 4, 0, 0, 0, 0, 0, 0, 0, 0, 0, 0, 0, 0, 0, 0, 0, 1, 0, 0, 0, 0, 0, 0, 13, 0, 0, 0, 0, 0, 0, 0, 0, 0, 0, 7, 1, 0, 0, 4, 0, 0, 2, 0, 0, 3, 0, 0, 11, 28, 0, 0, 0, 2, 0, 11, 0, 0, 0, 0, 0, 0, 0, 5, 1, 0, 0, 0, 0, 0, 0, 0, 0, 0, 0, 0, 0, 0, 0, 0, 0, 0, 0, 0, 0, 2, 0, 0, 5, 1, 0, 0, 0, 0, 0, 25, 1, 0, 0, 0, 0, 3, 0, 0, 1, 4, 0, 0, 0, 13, 31]\n",
    "\n",
    "Player_six = [78, 44, 0, 1, 0, 0, 0, 1, 27, 0, 265, 41, 1, 0, 0, 5, 0, 1, 38, 1, 2, 28, 0, 1, 6, 0, 52, 8, 29, 3, 0, 0, 2, 79, 0, 3, 13, 3, 0, 39, 1, 6, 16, 1, 0, 0, 0, 0, 13, 0, 3, 0, 3, 0, 160, 1, 0, 3, 8, 0, 0, 1, 7, 0, 0, 0, 117, 0, 23, 0, 0, 0, 15, 0, 26, 7, 0, 1, 5, 0, 0, 10, 48, 4, 0, 2, 26, 1, 3, 30, 0, 1, 147, 37, 1, 1, 21, 0, 5, 1, 3, 0, 57, 27, 1, 5, 0, 18, 15, 0, 39, 1, 0, 0, 55, 4, 18, 2, 0, 33, 9, 2, 2, 0, 0, 0, 2, 57, 0, 0, 0, 2, 57, 0, 0, 9, 1, 42, 0, 78, 0, 1, 0, 64, 0, 3, 1, 1, 23, 1, 33, 18, 2, 1, 23, 0, 4, 3, 1, 0, 0, 10, 156, 122, 9, 2, 2, 26, 0, 2, 1, 0, 4, 0, 1, 2, 59, 4, 0, 0, 6, 18, 2, 24, 5, 0, 0, 0, 6, 3, 60, 41, 8, 0, 3, 3, 2, 23, 9, 1, 0, 2, 0, 6, 35, 8, 0, 0, 9, 18, 0, 5, 24, 141, 0, 6, 5, 29, 8, 15, 0, 0, 0, 6, 14, 0, 0, 30, 13, 3, 1, 31, 125, 1, 0, 5, 23, 0, 0, 2, 5, 26, 43, 79, 44, 2, 3, 1, 160, 2, 1, 0, 29, 40, 9, 6, 156, 1, 28, 2, 0, 28, 7, 15, 8, 1, 9, 11, 0, 1, 37, 0, 8, 9, 1, 1, 21, 0, 0, 1, 0, 2, 3, 0, 0, 0, 0, 147, 58, 8, 0, 1, 0, 16, 106, 11, 3, 12, 37, 16, 0, 32, 0, 0, 0, 1, 0, 0, 173, 39, 9, 0, 13, 0, 7, 2, 0, 0, 0, 16, 44, 25, 4, 5, 82, 0, 36, 71, 10, 1, 0, 1, 0, 0, 11, 5, 0, 78, 0, 13, 19, 0, 4, 1, 0, 2, 2, 2, 0, 0, 1, 19, 0, 0, 3, 1, 0, 17, 3, 0, 0, 1, 4, 1, 0, 0, 0, 5, 0, 2, 4, 1, 0, 0, 89, 0, 0, 0, 1, 14, 1, 0, 1, 0, 1, 45, 20, 1, 0, 9, 0, 0, 20, 0, 8, 46, 0, 1, 92, 71, 4, 1, 1, 17, 6, 28, 15, 5, 0, 2, 1, 0, 20, 45, 5, 0, 1, 0, 2, 0, 7, 0, 8, 0, 1, 0, 0, 0, 1, 0, 0, 3, 0, 1, 0, 13, 2, 0, 21, 20, 1, 0, 0, 0, 0, 60, 8, 6, 5, 0, 0, 35, 0, 1, 4, 34, 0, 1, 1, 124, 173]\n",
    "\n",
    "Player_century = [0, 0, 0, 0, 0, 0, 0, 0, 0, 0, 5, 1, 0, 0, 0, 0, 0, 0, 0, 0, 0, 0, 0, 0, 0, 0, 1, 0, 1, 0, 0, 0, 0, 0, 0, 0, 0, 0, 0, 1, 0, 0, 0, 0, 0, 0, 0, 0, 0, 0, 0, 0, 0, 0, 3, 0, 0, 0, 0, 0, 0, 0, 0, 0, 0, 0, 0, 0, 0, 0, 0, 0, 0, 0, 0, 0, 0, 0, 0, 0, 0, 0, 0, 0, 0, 0, 0, 0, 0, 0, 0, 0, 1, 0, 0, 0, 2, 0, 0, 0, 0, 0, 1, 0, 0, 0, 0, 0, 0, 0, 1, 0, 0, 0, 0, 0, 0, 0, 0, 0, 0, 0, 0, 0, 0, 0, 0, 1, 0, 0, 0, 0, 0, 0, 0, 0, 0, 0, 0, 1, 0, 0, 0, 1, 0, 0, 0, 0, 0, 0, 0, 0, 0, 0, 0, 0, 0, 0, 0, 0, 0, 0, 3, 2, 0, 0, 0, 0, 0, 0, 0, 0, 0, 0, 0, 0, 0, 0, 0, 0, 0, 0, 0, 0, 0, 0, 0, 0, 0, 0, 0, 0, 0, 0, 0, 0, 0, 0, 0, 0, 0, 0, 0, 0, 0, 0, 0, 0, 0, 0, 0, 0, 0, 0, 0, 0, 0, 0, 0, 0, 0, 0, 0, 0, 0, 0, 0, 0, 0, 0, 0, 0, 0, 0, 0, 0, 0, 0, 0, 0, 0, 0, 0, 0, 0, 0, 0, 0, 4, 0, 0, 0, 0, 1, 0, 0, 0, 0, 0, 0, 0, 0, 0, 1, 0, 0, 0, 0, 0, 0, 0, 0, 0, 0, 0, 0, 0, 0, 0, 0, 0, 0, 0, 0, 0, 0, 0, 0, 0, 0, 0, 0, 0, 0, 2, 0, 0, 0, 0, 0, 0, 0, 0, 0, 0, 0, 0, 0, 1, 0, 0, 0, 0, 0, 0, 0, 0, 0, 0, 0, 1, 0, 0, 0, 0, 0, 0, 0, 0, 0, 0, 0, 0, 0, 0, 0, 0, 1, 0, 0, 0, 0, 0, 0, 0, 0, 0, 0, 0, 0, 0, 0, 0, 0, 0, 0, 0, 0, 0, 0, 0, 0, 0, 0, 0, 0, 0, 0, 0, 0, 0, 0, 0, 0, 2, 0, 0, 0, 0, 0, 0, 0, 0, 0, 0, 0, 0, 0, 0, 0, 0, 0, 1, 0, 0, 0, 0, 0, 2, 0, 0, 0, 0, 0, 0, 0, 0, 0, 0, 0, 0, 0, 0, 1, 0, 0, 0, 0, 0, 0, 0, 0, 0, 0, 0, 0, 0, 0, 0, 0, 0, 0, 0, 0, 0, 0, 0, 0, 1, 0, 0, 0, 0, 0, 0, 1, 0, 0, 0, 0, 0, 0, 0, 0, 0, 0, 0, 0, 0, 2, 1]\n",
    "\n",
    "Player_four = [123, 121, 1, 0, 9, 12, 0, 0, 195, 0, 294, 74, 19, 0, 0, 6, 1, 6, 110, 9, 0, 34, 1, 1, 45, 0, 198, 26, 296, 15, 2, 0, 4, 121, 0, 21, 32, 14, 0, 84, 1, 22, 39, 4, 0, 0, 3, 5, 24, 11, 8, 0, 12, 0, 401, 0, 10, 16, 11, 0, 1, 11, 28, 0, 2, 0, 245, 0, 31, 0, 0, 0, 26, 1, 23, 9, 0, 9, 23, 0, 0, 56, 102, 5, 1, 5, 55, 2, 26, 40, 6, 9, 239, 87, 7, 23, 60, 1, 21, 3, 14, 1, 112, 87, 1, 1, 0, 134, 44, 0, 200, 2, 1, 0, 61, 50, 15, 21, 0, 72, 36, 13, 7, 1, 1, 0, 4, 130, 1, 0, 0, 6, 125, 1, 1, 35, 4, 137, 0, 104, 1, 0, 0, 197, 0, 10, 3, 4, 36, 1, 82, 22, 30, 6, 93, 0, 10, 3, 3, 0, 0, 9, 287, 257, 17, 9, 26, 135, 3, 22, 3, 1, 14, 0, 6, 11, 170, 13, 0, 5, 19, 24, 15, 61, 11, 1, 0, 16, 17, 1, 90, 76, 24, 1, 6, 15, 5, 33, 12, 2, 0, 3, 2, 10, 297, 13, 3, 2, 25, 34, 0, 19, 140, 204, 9, 22, 6, 44, 12, 49, 0, 3, 0, 10, 9, 1, 0, 47, 9, 14, 1, 83, 377, 1, 0, 13, 34, 0, 3, 2, 11, 50, 122, 205, 255, 5, 27, 4, 383, 23, 1, 0, 59, 91, 32, 14, 251, 3, 24, 1, 0, 154, 13, 22, 12, 0, 20, 40, 0, 5, 77, 0, 6, 11, 0, 4, 54, 0, 1, 5, 1, 7, 2, 0, 1, 3, 5, 157, 484, 8, 5, 12, 0, 33, 334, 49, 5, 36, 48, 23, 1, 79, 1, 3, 1, 1, 1, 1, 354, 152, 20, 0, 34, 1, 9, 11, 0, 0, 0, 26, 109, 31, 7, 5, 96, 2, 76, 286, 43, 14, 0, 14, 0, 0, 35, 27, 0, 266, 2, 25, 59, 4, 3, 22, 0, 2, 10, 4, 0, 2, 0, 69, 1, 0, 4, 0, 1, 22, 3, 3, 0, 5, 9, 0, 5, 7, 7, 39, 0, 5, 12, 2, 0, 0, 237, 7, 0, 0, 3, 18, 1, 1, 2, 0, 0, 93, 20, 4, 1, 94, 0, 1, 61, 6, 8, 66, 1, 1, 239, 401, 8, 1, 6, 43, 7, 269, 16, 4, 9, 2, 1, 0, 55, 150, 33, 0, 6, 6, 9, 0, 8, 3, 9, 3, 3, 5, 3, 0, 5, 4, 0, 2, 1, 3, 0, 39, 1, 2, 90, 46, 4, 4, 5, 0, 3, 320, 20, 2, 11, 1, 0, 95, 0, 0, 10, 72, 0, 5, 2, 277, 402]"
   ]
  },
  {
   "cell_type": "markdown",
   "metadata": {},
   "source": [
    "### Display the Data in Tabular Format"
   ]
  },
  {
   "cell_type": "code",
   "execution_count": 152,
   "metadata": {
    "collapsed": true
   },
   "outputs": [],
   "source": [
    "class ListTable(list):\n",
    "    def _repr_html_(self):\n",
    "        html = [\"<table width=100%>\"]\n",
    "        row_count = 0\n",
    "        \n",
    "        for row in self:\n",
    "            row_count = row_count + 1\n",
    "            \n",
    "            if(row_count == 1):\n",
    "                html.append(\"<tr>\")\n",
    "                \n",
    "                for col in row:\n",
    "                    html.append(\"<th align = 'center'>{0}</th>\".format(col))\n",
    "                \n",
    "                html.append(\"</tr>\")\n",
    "            \n",
    "            else:\n",
    "                html.append(\"<tr>\")\n",
    "                col_count = 0\n",
    "                \n",
    "                for col in row:\n",
    "                    if(col_count == 0):\n",
    "                        html.append(\"<th>{0}</th>\".format(col))\n",
    "                    else:\n",
    "                        html.append(\"<td>{0}</td>\".format(col))\n",
    "                        \n",
    "                    col_count = col_count + 1\n",
    "                html.append(\"</tr>\")\n",
    "        \n",
    "        html.append(\"</table>\")\n",
    "        return ''.join(html)"
   ]
  },
  {
   "cell_type": "markdown",
   "metadata": {},
   "source": [
    "### Table with Name, Runs, Average, Strike Rate, Fifty, Century, Four, Sixes"
   ]
  },
  {
   "cell_type": "code",
   "execution_count": 324,
   "metadata": {},
   "outputs": [
    {
     "data": {
      "text/html": [
       "<table width=100%><tr><th align = 'center'>Name</th><th align = 'center'>Runs</th><th align = 'center'>Average</th><th align = 'center'>Strike rate</th><th align = 'center'>Fifty</th><th align = 'center'>Century</th><th align = 'center'>Fours</th><th align = 'center'>Sixes</th></tr><tr><th>JP Duminy</th><td>1993</td><td>39.86</td><td>124.87468671679198</td><td>14</td><td>0</td><td>123</td><td>78</td></tr><tr><th>ML Hayden</th><td>1107</td><td>35.70967741935484</td><td>137.51552795031057</td><td>8</td><td>0</td><td>121</td><td>44</td></tr><tr><th>AS Rajpoot</th><td>6</td><td>6.0</td><td>46.15384615384615</td><td>0</td><td>0</td><td>1</td><td>0</td></tr><tr><th>Rashid Khan</th><td>11</td><td>5.5</td><td>122.22222222222223</td><td>0</td><td>0</td><td>0</td><td>1</td></tr><tr><th>CJ Ferguson</th><td>98</td><td>16.333333333333332</td><td>83.76068376068376</td><td>0</td><td>0</td><td>9</td><td>0</td></tr><tr><th>MJ Clarke</th><td>98</td><td>16.333333333333332</td><td>104.25531914893618</td><td>0</td><td>0</td><td>12</td><td>0</td></tr><tr><th>VY Mahesh</th><td>15</td><td>7.5</td><td>55.55555555555556</td><td>0</td><td>0</td><td>0</td><td>0</td></tr><tr><th>BA Bhatt</th><td>6</td><td>6.0</td><td>85.71428571428571</td><td>0</td><td>0</td><td>0</td><td>1</td></tr><tr><th>KC Sangakkara</th><td>1687</td><td>25.953846153846154</td><td>121.19252873563218</td><td>10</td><td>0</td><td>195</td><td>27</td></tr><tr><th>DP Nannes</th><td>4</td><td>4.0</td><td>30.76923076923077</td><td>0</td><td>0</td><td>0</td><td>0</td></tr><tr><th>CH Gayle</th><td>3626</td><td>40.741573033707866</td><td>151.209341117598</td><td>21</td><td>5</td><td>294</td><td>265</td></tr><tr><th>A Symonds</th><td>974</td><td>36.074074074074076</td><td>129.86666666666667</td><td>5</td><td>1</td><td>74</td><td>41</td></tr><tr><th>MN van Wyk</th><td>167</td><td>55.666666666666664</td><td>126.51515151515152</td><td>1</td><td>0</td><td>19</td><td>1</td></tr><tr><th>YS Chahal</th><td>15</td><td>5.0</td><td>53.57142857142857</td><td>0</td><td>0</td><td>0</td><td>0</td></tr><tr><th>H Das</th><td>2</td><td>2.0</td><td>40.0</td><td>0</td><td>0</td><td>0</td><td>0</td></tr><tr><th>SL Malinga</th><td>88</td><td>5.5</td><td>88.88888888888889</td><td>0</td><td>0</td><td>6</td><td>5</td></tr><tr><th>VRV Singh</th><td>4</td><td>2.0</td><td>133.33333333333331</td><td>0</td><td>0</td><td>1</td><td>0</td></tr><tr><th>L Ronchi</th><td>34</td><td>6.8</td><td>100.0</td><td>0</td><td>0</td><td>6</td><td>1</td></tr><tr><th>F du Plessis</th><td>1295</td><td>30.11627906976744</td><td>127.96442687747036</td><td>8</td><td>0</td><td>110</td><td>38</td></tr><tr><th>S Rana</th><td>91</td><td>22.75</td><td>112.34567901234568</td><td>0</td><td>0</td><td>9</td><td>1</td></tr><tr><th>DL Chahar</th><td>14</td><td>14.0</td><td>233.33333333333334</td><td>0</td><td>0</td><td>0</td><td>2</td></tr><tr><th>AR Patel</th><td>606</td><td>20.2</td><td>128.1183932346723</td><td>0</td><td>0</td><td>34</td><td>28</td></tr><tr><th>AR Bawne</th><td>12</td><td>0</td><td>100.0</td><td>0</td><td>0</td><td>1</td><td>0</td></tr><tr><th>JM Kemp</th><td>26</td><td>13.0</td><td>108.33333333333333</td><td>0</td><td>0</td><td>1</td><td>1</td></tr><tr><th>MJ Lumb</th><td>278</td><td>23.166666666666668</td><td>143.29896907216494</td><td>1</td><td>0</td><td>45</td><td>6</td></tr><tr><th>Washington Sundar</th><td>9</td><td>9.0</td><td>75.0</td><td>0</td><td>0</td><td>0</td><td>0</td></tr><tr><th>MEK Hussey</th><td>1977</td><td>38.76470588235294</td><td>122.64267990074443</td><td>15</td><td>1</td><td>198</td><td>52</td></tr><tr><th>SM Katich</th><td>241</td><td>24.1</td><td>129.56989247311827</td><td>2</td><td>0</td><td>26</td><td>8</td></tr><tr><th>SR Tendulkar</th><td>2334</td><td>33.82608695652174</td><td>119.81519507186857</td><td>13</td><td>1</td><td>296</td><td>29</td></tr><tr><th>AC Voges</th><td>181</td><td>45.25</td><td>126.57342657342659</td><td>0</td><td>0</td><td>15</td><td>3</td></tr><tr><th>WA Mota</th><td>56</td><td>9.333333333333334</td><td>74.66666666666667</td><td>0</td><td>0</td><td>2</td><td>0</td></tr><tr><th>Mohammad Nabi</th><td>2</td><td>2.0</td><td>66.66666666666666</td><td>0</td><td>0</td><td>0</td><td>0</td></tr><tr><th>JO Holder</th><td>38</td><td>7.6</td><td>122.58064516129032</td><td>0</td><td>0</td><td>4</td><td>2</td></tr><tr><th>NV Ojha</th><td>1553</td><td>20.986486486486488</td><td>118.6401833460657</td><td>6</td><td>0</td><td>121</td><td>79</td></tr><tr><th>T Thushara</th><td>12</td><td>6.0</td><td>66.66666666666666</td><td>0</td><td>0</td><td>0</td><td>0</td></tr><tr><th>S Vidyut</th><td>145</td><td>18.125</td><td>133.0275229357798</td><td>1</td><td>0</td><td>21</td><td>3</td></tr><tr><th>MV Boucher</th><td>394</td><td>28.142857142857142</td><td>127.50809061488673</td><td>1</td><td>0</td><td>32</td><td>13</td></tr><tr><th>UT Khawaja</th><td>127</td><td>21.166666666666668</td><td>127.0</td><td>0</td><td>0</td><td>14</td><td>3</td></tr><tr><th>RD Chahar</th><td>3</td><td>0</td><td>150.0</td><td>0</td><td>0</td><td>0</td><td>0</td></tr><tr><th>ST Jayasuriya</th><td>768</td><td>27.428571428571427</td><td>144.36090225563908</td><td>4</td><td>1</td><td>84</td><td>39</td></tr><tr><th>Vishnu Vinod</th><td>19</td><td>6.333333333333333</td><td>73.07692307692307</td><td>0</td><td>0</td><td>1</td><td>1</td></tr><tr><th>R Sathish</th><td>270</td><td>15.882352941176471</td><td>116.88311688311688</td><td>0</td><td>0</td><td>22</td><td>6</td></tr><tr><th>RS Bopara</th><td>531</td><td>29.5</td><td>117.21854304635761</td><td>3</td><td>0</td><td>39</td><td>16</td></tr><tr><th>M Rawat</th><td>55</td><td>11.0</td><td>79.71014492753623</td><td>0</td><td>0</td><td>4</td><td>1</td></tr><tr><th>L Ablish</th><td>0</td><td>0</td><td>0.0</td><td>0</td><td>0</td><td>0</td><td>0</td></tr><tr><th>CJ Jordan</th><td>3</td><td>1.5</td><td>60.0</td><td>0</td><td>0</td><td>0</td><td>0</td></tr><tr><th>Imran Tahir</th><td>18</td><td>4.5</td><td>72.0</td><td>0</td><td>0</td><td>3</td><td>0</td></tr><tr><th>AA Bilakhia</th><td>69</td><td>13.8</td><td>81.17647058823529</td><td>0</td><td>0</td><td>5</td><td>0</td></tr><tr><th>R Bhatia</th><td>342</td><td>11.4</td><td>120.4225352112676</td><td>0</td><td>0</td><td>24</td><td>13</td></tr><tr><th>LA Carseldine</th><td>81</td><td>20.25</td><td>119.11764705882352</td><td>0</td><td>0</td><td>11</td><td>0</td></tr><tr><th>UT Yadav</th><td>94</td><td>13.428571428571429</td><td>104.44444444444446</td><td>0</td><td>0</td><td>8</td><td>3</td></tr><tr><th>Sunny Gupta</th><td>0</td><td>0.0</td><td>0.0</td><td>0</td><td>0</td><td>0</td><td>0</td></tr><tr><th>RJ Quiney</th><td>103</td><td>14.714285714285714</td><td>100.98039215686273</td><td>1</td><td>0</td><td>12</td><td>3</td></tr><tr><th>RS Gavaskar</th><td>2</td><td>2.0</td><td>25.0</td><td>0</td><td>0</td><td>0</td><td>0</td></tr><tr><th>DA Warner</th><td>4014</td><td>40.14</td><td>142.1388101983003</td><td>36</td><td>3</td><td>401</td><td>160</td></tr><tr><th>T Henderson</th><td>11</td><td>5.5</td><td>68.75</td><td>0</td><td>0</td><td>0</td><td>1</td></tr><tr><th>MA Starc</th><td>96</td><td>13.714285714285714</td><td>97.95918367346938</td><td>0</td><td>0</td><td>10</td><td>0</td></tr><tr><th>LJ Wright</th><td>106</td><td>21.2</td><td>176.66666666666666</td><td>0</td><td>0</td><td>16</td><td>3</td></tr><tr><th>RE van der Merwe</th><td>159</td><td>14.454545454545455</td><td>112.7659574468085</td><td>0</td><td>0</td><td>11</td><td>8</td></tr><tr><th>JD Unadkat</th><td>5</td><td>5.0</td><td>38.46153846153847</td><td>0</td><td>0</td><td>0</td><td>0</td></tr><tr><th>DM Bravo</th><td>6</td><td>0</td><td>120.0</td><td>0</td><td>0</td><td>1</td><td>0</td></tr><tr><th>MC Juneja</th><td>125</td><td>17.857142857142858</td><td>97.65625</td><td>0</td><td>0</td><td>11</td><td>1</td></tr><tr><th>B Chipli</th><td>280</td><td>18.666666666666668</td><td>111.55378486055776</td><td>1</td><td>0</td><td>28</td><td>7</td></tr><tr><th>Mohammad Asif</th><td>3</td><td>1.5</td><td>50.0</td><td>0</td><td>0</td><td>0</td><td>0</td></tr><tr><th>M Ntini</th><td>11</td><td>11.0</td><td>61.111111111111114</td><td>0</td><td>0</td><td>2</td><td>0</td></tr><tr><th>PP Ojha</th><td>16</td><td>1.3333333333333333</td><td>35.55555555555556</td><td>0</td><td>0</td><td>0</td><td>0</td></tr><tr><th>DR Smith</th><td>2385</td><td>28.392857142857142</td><td>135.20408163265304</td><td>17</td><td>0</td><td>245</td><td>117</td></tr><tr><th>CK Kapugedera</th><td>16</td><td>5.333333333333333</td><td>69.56521739130434</td><td>0</td><td>0</td><td>0</td><td>0</td></tr><tr><th>CA Lynn</th><td>384</td><td>38.4</td><td>158.02469135802468</td><td>3</td><td>0</td><td>31</td><td>23</td></tr><tr><th>VS Yeligati</th><td>2</td><td>2.0</td><td>100.0</td><td>0</td><td>0</td><td>0</td><td>0</td></tr><tr><th>KP Appanna</th><td>2</td><td>2.0</td><td>50.0</td><td>0</td><td>0</td><td>0</td><td>0</td></tr><tr><th>C Nanda</th><td>0</td><td>0.0</td><td>0.0</td><td>0</td><td>0</td><td>0</td><td>0</td></tr><tr><th>RN ten Doeschate</th><td>326</td><td>23.285714285714285</td><td>138.72340425531914</td><td>1</td><td>0</td><td>26</td><td>15</td></tr><tr><th>VS Malik</th><td>7</td><td>7.0</td><td>100.0</td><td>0</td><td>0</td><td>1</td><td>0</td></tr><tr><th>NLTC Perera</th><td>422</td><td>19.181818181818183</td><td>137.45928338762215</td><td>0</td><td>0</td><td>23</td><td>26</td></tr><tr><th>S Anirudha</th><td>136</td><td>17.0</td><td>120.35398230088497</td><td>1</td><td>0</td><td>9</td><td>7</td></tr><tr><th>A Singh</th><td>2</td><td>0.5</td><td>20.0</td><td>0</td><td>0</td><td>0</td><td>0</td></tr><tr><th>Iqbal Abdulla</th><td>88</td><td>44.0</td><td>104.76190476190477</td><td>0</td><td>0</td><td>9</td><td>1</td></tr><tr><th>SW Billings</th><td>226</td><td>22.6</td><td>134.52380952380955</td><td>2</td><td>0</td><td>23</td><td>5</td></tr><tr><th>A Uniyal</th><td>4</td><td>4.0</td><td>57.14285714285714</td><td>0</td><td>0</td><td>0</td><td>0</td></tr><tr><th>Abdur Razzak</th><td>0</td><td>0</td><td>0.0</td><td>0</td><td>0</td><td>0</td><td>0</td></tr><tr><th>SA Asnodkar</th><td>423</td><td>21.15</td><td>124.7787610619469</td><td>2</td><td>0</td><td>56</td><td>10</td></tr><tr><th>DJ Bravo</th><td>1262</td><td>22.945454545454545</td><td>126.32632632632632</td><td>4</td><td>0</td><td>102</td><td>48</td></tr><tr><th>PJ Cummins</th><td>77</td><td>12.833333333333334</td><td>140.0</td><td>0</td><td>0</td><td>5</td><td>4</td></tr><tr><th>PJ Sangwan</th><td>24</td><td>4.0</td><td>68.57142857142857</td><td>0</td><td>0</td><td>1</td><td>0</td></tr><tr><th>AUK Pathan</th><td>39</td><td>7.8</td><td>169.56521739130434</td><td>0</td><td>0</td><td>5</td><td>2</td></tr><tr><th>TL Suman</th><td>676</td><td>21.125</td><td>117.56521739130434</td><td>2</td><td>0</td><td>55</td><td>26</td></tr><tr><th>Anureet Singh</th><td>33</td><td>8.25</td><td>76.74418604651163</td><td>0</td><td>0</td><td>2</td><td>1</td></tr><tr><th>YV Takawale</th><td>192</td><td>24.0</td><td>107.86516853932584</td><td>0</td><td>0</td><td>26</td><td>3</td></tr><tr><th>CJ Anderson</th><td>521</td><td>27.42105263157895</td><td>129.92518703241896</td><td>3</td><td>0</td><td>40</td><td>30</td></tr><tr><th>IR Jaggi</th><td>76</td><td>15.2</td><td>78.35051546391753</td><td>0</td><td>0</td><td>6</td><td>0</td></tr><tr><th>JJ Roy</th><td>59</td><td>29.5</td><td>147.5</td><td>0</td><td>0</td><td>9</td><td>1</td></tr><tr><th>YK Pathan</th><td>2904</td><td>29.632653061224488</td><td>145.49098196392785</td><td>13</td><td>1</td><td>239</td><td>147</td></tr><tr><th>IK Pathan</th><td>1139</td><td>21.49056603773585</td><td>120.40169133192389</td><td>1</td><td>0</td><td>87</td><td>37</td></tr><tr><th>M Kartik</th><td>113</td><td>16.142857142857142</td><td>104.62962962962963</td><td>0</td><td>0</td><td>7</td><td>1</td></tr><tr><th>GH Vihari</th><td>280</td><td>15.555555555555555</td><td>89.45686900958466</td><td>0</td><td>0</td><td>23</td><td>1</td></tr><tr><th>HM Amla</th><td>577</td><td>44.38461538461539</td><td>141.76904176904176</td><td>3</td><td>2</td><td>60</td><td>21</td></tr><tr><th>M Muralitharan</th><td>20</td><td>3.3333333333333335</td><td>66.66666666666666</td><td>0</td><td>0</td><td>1</td><td>0</td></tr><tr><th>BJ Rohrer</th><td>193</td><td>27.571428571428573</td><td>137.85714285714286</td><td>1</td><td>0</td><td>21</td><td>5</td></tr><tr><th>Sohail Tanvir</th><td>36</td><td>12.0</td><td>124.13793103448276</td><td>0</td><td>0</td><td>3</td><td>1</td></tr><tr><th>DW Steyn</th><td>166</td><td>7.545454545454546</td><td>105.0632911392405</td><td>0</td><td>0</td><td>14</td><td>3</td></tr><tr><th>A Zampa</th><td>5</td><td>2.5</td><td>62.5</td><td>0</td><td>0</td><td>1</td><td>0</td></tr><tr><th>SV Samson</th><td>1426</td><td>25.464285714285715</td><td>124.43280977312392</td><td>7</td><td>1</td><td>112</td><td>57</td></tr><tr><th>MC Henriques</th><td>969</td><td>28.5</td><td>128.1746031746032</td><td>5</td><td>0</td><td>87</td><td>27</td></tr><tr><th>A Choudhary</th><td>25</td><td>25.0</td><td>125.0</td><td>0</td><td>0</td><td>1</td><td>1</td></tr><tr><th>Umar Gul</th><td>39</td><td>13.0</td><td>205.26315789473685</td><td>0</td><td>0</td><td>1</td><td>5</td></tr><tr><th>PSP Handscomb</th><td>6</td><td>6.0</td><td>50.0</td><td>0</td><td>0</td><td>0</td><td>0</td></tr><tr><th>Mandeep Singh</th><td>1112</td><td>20.21818181818182</td><td>120.8695652173913</td><td>5</td><td>0</td><td>134</td><td>18</td></tr><tr><th>Shakib Al Hasan</th><td>498</td><td>20.75</td><td>130.36649214659687</td><td>2</td><td>0</td><td>44</td><td>15</td></tr><tr><th>BE Hendricks</th><td>1</td><td>1.0</td><td>33.33333333333333</td><td>0</td><td>0</td><td>0</td><td>0</td></tr><tr><th>DPMD Jayawardene</th><td>1802</td><td>28.15625</td><td>123.25581395348837</td><td>10</td><td>1</td><td>200</td><td>39</td></tr><tr><th>RP Singh</th><td>52</td><td>3.466666666666667</td><td>68.42105263157895</td><td>0</td><td>0</td><td>2</td><td>1</td></tr><tr><th>Sandeep Sharma</th><td>26</td><td>26.0</td><td>74.28571428571429</td><td>0</td><td>0</td><td>1</td><td>0</td></tr><tr><th>M Ashwin</th><td>0</td><td>0.0</td><td>0.0</td><td>0</td><td>0</td><td>0</td><td>0</td></tr><tr><th>JA Morkel</th><td>974</td><td>24.35</td><td>141.98250728862973</td><td>3</td><td>0</td><td>61</td><td>55</td></tr><tr><th>CA Pujara</th><td>390</td><td>20.526315789473685</td><td>99.74424552429667</td><td>1</td><td>0</td><td>50</td><td>4</td></tr><tr><th>DJG Sammy</th><td>295</td><td>19.666666666666668</td><td>122.40663900414938</td><td>1</td><td>0</td><td>15</td><td>18</td></tr><tr><th>AC Blizzard</th><td>120</td><td>17.142857142857142</td><td>133.33333333333331</td><td>1</td><td>0</td><td>21</td><td>2</td></tr><tr><th>SB Wagh</th><td>2</td><td>1.0</td><td>66.66666666666666</td><td>0</td><td>0</td><td>0</td><td>0</td></tr><tr><th>KM Jadhav</th><td>893</td><td>23.5</td><td>134.89425981873111</td><td>3</td><td>0</td><td>72</td><td>33</td></tr><tr><th>Gurkeerat Singh</th><td>342</td><td>16.285714285714285</td><td>125.73529411764706</td><td>1</td><td>0</td><td>36</td><td>9</td></tr><tr><th>BB Samantray</th><td>125</td><td>25.0</td><td>110.61946902654867</td><td>1</td><td>0</td><td>13</td><td>2</td></tr><tr><th>AP Majumdar</th><td>87</td><td>21.75</td><td>114.4736842105263</td><td>0</td><td>0</td><td>7</td><td>2</td></tr><tr><th>AG Murtaza</th><td>10</td><td>10.0</td><td>71.42857142857143</td><td>0</td><td>0</td><td>1</td><td>0</td></tr><tr><th>DR Martyn</th><td>19</td><td>19.0</td><td>79.16666666666666</td><td>0</td><td>0</td><td>1</td><td>0</td></tr><tr><th>R Ninan</th><td>3</td><td>3.0</td><td>50.0</td><td>0</td><td>0</td><td>0</td><td>0</td></tr><tr><th>Mohammed Shami</th><td>46</td><td>6.571428571428571</td><td>102.22222222222221</td><td>0</td><td>0</td><td>4</td><td>2</td></tr><tr><th>WP Saha</th><td>1557</td><td>25.524590163934427</td><td>130.73047858942067</td><td>6</td><td>1</td><td>130</td><td>57</td></tr><tr><th>AA Noffke</th><td>9</td><td>9.0</td><td>90.0</td><td>0</td><td>0</td><td>1</td><td>0</td></tr><tr><th>Jaskaran Singh</th><td>8</td><td>8.0</td><td>72.72727272727273</td><td>0</td><td>0</td><td>0</td><td>0</td></tr><tr><th>LH Ferguson</th><td>1</td><td>0</td><td>100.0</td><td>0</td><td>0</td><td>0</td><td>0</td></tr><tr><th>DS Kulkarni</th><td>90</td><td>11.25</td><td>93.75</td><td>0</td><td>0</td><td>6</td><td>2</td></tr><tr><th>RA Jadeja</th><td>1732</td><td>24.055555555555557</td><td>122.92405961674946</td><td>0</td><td>0</td><td>125</td><td>57</td></tr><tr><th>KAJ Roach</th><td>10</td><td>10.0</td><td>111.11111111111111</td><td>0</td><td>0</td><td>1</td><td>0</td></tr><tr><th>GB Hogg</th><td>22</td><td>7.333333333333333</td><td>100.0</td><td>0</td><td>0</td><td>1</td><td>0</td></tr><tr><th>DB Ravi Teja</th><td>375</td><td>19.736842105263158</td><td>118.29652996845425</td><td>1</td><td>0</td><td>35</td><td>9</td></tr><tr><th>R Tewatia</th><td>35</td><td>17.5</td><td>145.83333333333331</td><td>0</td><td>0</td><td>4</td><td>1</td></tr><tr><th>SC Ganguly</th><td>1349</td><td>25.452830188679247</td><td>106.80918448139352</td><td>7</td><td>0</td><td>137</td><td>42</td></tr><tr><th>SJ Srivastava</th><td>5</td><td>5.0</td><td>100.0</td><td>0</td><td>0</td><td>0</td><td>0</td></tr><tr><th>DA Miller</th><td>1563</td><td>34.733333333333334</td><td>141.44796380090497</td><td>8</td><td>1</td><td>104</td><td>78</td></tr><tr><th>RS Sodhi</th><td>4</td><td>0</td><td>200.0</td><td>0</td><td>0</td><td>1</td><td>0</td></tr><tr><th>TS Mills</th><td>8</td><td>2.6666666666666665</td><td>72.72727272727273</td><td>0</td><td>0</td><td>0</td><td>1</td></tr><tr><th>S Ladda</th><td>0</td><td>0.0</td><td>0.0</td><td>0</td><td>0</td><td>0</td><td>0</td></tr><tr><th>MK Pandey</th><td>2215</td><td>28.397435897435898</td><td>120.11930585683297</td><td>9</td><td>1</td><td>197</td><td>64</td></tr><tr><th>TA Boult</th><td>5</td><td>0</td><td>62.5</td><td>0</td><td>0</td><td>0</td><td>0</td></tr><tr><th>SB Styris</th><td>131</td><td>18.714285714285715</td><td>98.49624060150376</td><td>0</td><td>0</td><td>10</td><td>3</td></tr><tr><th>JDS Neesham</th><td>42</td><td>14.0</td><td>91.30434782608695</td><td>0</td><td>0</td><td>3</td><td>1</td></tr><tr><th>CR Woakes</th><td>46</td><td>11.5</td><td>97.87234042553192</td><td>0</td><td>0</td><td>4</td><td>1</td></tr><tr><th>JP Faulkner</th><td>527</td><td>20.26923076923077</td><td>135.47557840616966</td><td>0</td><td>0</td><td>36</td><td>23</td></tr><tr><th>AC Thomas</th><td>20</td><td>10.0</td><td>105.26315789473684</td><td>0</td><td>0</td><td>1</td><td>1</td></tr><tr><th>MA Agarwal</th><td>814</td><td>17.695652173913043</td><td>123.33333333333334</td><td>3</td><td>0</td><td>82</td><td>33</td></tr><tr><th>DT Christian</th><td>420</td><td>18.26086956521739</td><td>123.16715542521995</td><td>0</td><td>0</td><td>22</td><td>18</td></tr><tr><th>Salman Butt</th><td>193</td><td>27.571428571428573</td><td>119.87577639751552</td><td>1</td><td>0</td><td>30</td><td>2</td></tr><tr><th>RR Sarwan</th><td>73</td><td>18.25</td><td>97.33333333333334</td><td>0</td><td>0</td><td>6</td><td>1</td></tr><tr><th>MS Bisla</th><td>798</td><td>21.0</td><td>113.67521367521367</td><td>4</td><td>0</td><td>93</td><td>23</td></tr><tr><th>B Laughlin</th><td>4</td><td>4.0</td><td>44.44444444444444</td><td>0</td><td>0</td><td>0</td><td>0</td></tr><tr><th>DJ Jacobs</th><td>92</td><td>13.142857142857142</td><td>93.87755102040816</td><td>0</td><td>0</td><td>10</td><td>4</td></tr><tr><th>TG Southee</th><td>54</td><td>9.0</td><td>154.2857142857143</td><td>0</td><td>0</td><td>3</td><td>3</td></tr><tr><th>VH Zol</th><td>29</td><td>14.5</td><td>111.53846153846155</td><td>0</td><td>0</td><td>3</td><td>1</td></tr><tr><th>J Yadav</th><td>6</td><td>3.0</td><td>60.0</td><td>0</td><td>0</td><td>0</td><td>0</td></tr><tr><th>X Thalaivan Sargunam</th><td>10</td><td>10.0</td><td>58.82352941176471</td><td>0</td><td>0</td><td>0</td><td>0</td></tr><tr><th>BCJ Cutting</th><td>124</td><td>24.8</td><td>187.87878787878788</td><td>0</td><td>0</td><td>9</td><td>10</td></tr><tr><th>AB de Villiers</th><td>3473</td><td>38.16483516483517</td><td>148.1655290102389</td><td>22</td><td>3</td><td>287</td><td>156</td></tr><tr><th>SR Watson</th><td>2622</td><td>30.847058823529412</td><td>138.65679534637758</td><td>14</td><td>2</td><td>257</td><td>122</td></tr><tr><th>K Goel</th><td>218</td><td>14.533333333333333</td><td>94.37229437229438</td><td>0</td><td>0</td><td>17</td><td>9</td></tr><tr><th>PR Shah</th><td>92</td><td>11.5</td><td>101.0989010989011</td><td>0</td><td>0</td><td>9</td><td>2</td></tr><tr><th>SP Goswami</th><td>241</td><td>16.066666666666666</td><td>96.01593625498009</td><td>1</td><td>0</td><td>26</td><td>2</td></tr><tr><th>KK Nair</th><td>1158</td><td>25.17391304347826</td><td>126.9736842105263</td><td>8</td><td>0</td><td>135</td><td>26</td></tr><tr><th>T Taibu</th><td>31</td><td>10.333333333333334</td><td>119.23076923076923</td><td>0</td><td>0</td><td>3</td><td>0</td></tr><tr><th>R Ashwin</th><td>231</td><td>10.5</td><td>96.25</td><td>0</td><td>0</td><td>22</td><td>2</td></tr><tr><th>A Nehra</th><td>41</td><td>5.857142857142857</td><td>66.12903225806451</td><td>0</td><td>0</td><td>3</td><td>1</td></tr><tr><th>Shivam Sharma</th><td>5</td><td>5.0</td><td>166.66666666666669</td><td>0</td><td>0</td><td>1</td><td>0</td></tr><tr><th>MP Stoinis</th><td>163</td><td>23.285714285714285</td><td>123.48484848484848</td><td>1</td><td>0</td><td>14</td><td>4</td></tr><tr><th>M de Lange</th><td>1</td><td>1.0</td><td>50.0</td><td>0</td><td>0</td><td>0</td><td>0</td></tr><tr><th>RR Powar</th><td>67</td><td>22.333333333333332</td><td>104.6875</td><td>0</td><td>0</td><td>6</td><td>1</td></tr><tr><th>Z Khan</th><td>117</td><td>8.357142857142858</td><td>82.97872340425532</td><td>0</td><td>0</td><td>11</td><td>2</td></tr><tr><th>AJ Finch</th><td>1603</td><td>27.16949152542373</td><td>130.43124491456467</td><td>13</td><td>0</td><td>170</td><td>59</td></tr><tr><th>R Dhawan</th><td>153</td><td>21.857142857142858</td><td>113.33333333333333</td><td>0</td><td>0</td><td>13</td><td>4</td></tr><tr><th>S Kaushik</th><td>0</td><td>0.0</td><td>0.0</td><td>0</td><td>0</td><td>0</td><td>0</td></tr><tr><th>D Salunkhe</th><td>33</td><td>16.5</td><td>137.5</td><td>0</td><td>0</td><td>5</td><td>0</td></tr><tr><th>SN Khan</th><td>177</td><td>29.5</td><td>173.52941176470588</td><td>0</td><td>0</td><td>19</td><td>6</td></tr><tr><th>AL Menaria</th><td>401</td><td>19.095238095238095</td><td>112.64044943820224</td><td>0</td><td>0</td><td>24</td><td>18</td></tr><tr><th>PA Reddy</th><td>164</td><td>16.4</td><td>102.49999999999999</td><td>0</td><td>0</td><td>15</td><td>2</td></tr><tr><th>KL Rahul</th><td>725</td><td>30.208333333333332</td><td>125.64991334488735</td><td>4</td><td>0</td><td>61</td><td>24</td></tr><tr><th>Sachin Baby</th><td>137</td><td>17.125</td><td>135.64356435643566</td><td>0</td><td>0</td><td>11</td><td>5</td></tr><tr><th>AD Nath</th><td>20</td><td>5.0</td><td>71.42857142857143</td><td>0</td><td>0</td><td>1</td><td>0</td></tr><tr><th>MS Wade</th><td>22</td><td>7.333333333333333</td><td>66.66666666666666</td><td>0</td><td>0</td><td>0</td><td>0</td></tr><tr><th>N Saini</th><td>140</td><td>14.0</td><td>99.29078014184397</td><td>1</td><td>0</td><td>16</td><td>0</td></tr><tr><th>CM Gautam</th><td>169</td><td>16.9</td><td>112.66666666666667</td><td>0</td><td>0</td><td>17</td><td>6</td></tr><tr><th>SB Bangar</th><td>49</td><td>7.0</td><td>84.48275862068965</td><td>0</td><td>0</td><td>1</td><td>3</td></tr><tr><th>DJ Hussey</th><td>1322</td><td>26.979591836734695</td><td>122.97674418604652</td><td>5</td><td>0</td><td>90</td><td>60</td></tr><tr><th>Harbhajan Singh</th><td>799</td><td>15.666666666666666</td><td>142.42424242424244</td><td>1</td><td>0</td><td>76</td><td>41</td></tr><tr><th>MD Mishra</th><td>237</td><td>14.8125</td><td>113.9423076923077</td><td>0</td><td>0</td><td>24</td><td>8</td></tr><tr><th>UA Birla</th><td>7</td><td>7.0</td><td>50.0</td><td>0</td><td>0</td><td>1</td><td>0</td></tr><tr><th>RJ Harris</th><td>117</td><td>9.75</td><td>104.46428571428572</td><td>0</td><td>0</td><td>6</td><td>3</td></tr><tr><th>B Kumar</th><td>158</td><td>8.31578947368421</td><td>100.63694267515923</td><td>0</td><td>0</td><td>15</td><td>3</td></tr><tr><th>A Flintoff</th><td>62</td><td>31.0</td><td>116.98113207547169</td><td>0</td><td>0</td><td>5</td><td>2</td></tr><tr><th>CH Morris</th><td>439</td><td>36.583333333333336</td><td>165.66037735849056</td><td>2</td><td>0</td><td>33</td><td>23</td></tr><tr><th>MF Maharoof</th><td>177</td><td>17.7</td><td>143.90243902439025</td><td>0</td><td>0</td><td>12</td><td>9</td></tr><tr><th>L Balaji</th><td>36</td><td>4.5</td><td>73.46938775510205</td><td>0</td><td>0</td><td>2</td><td>1</td></tr><tr><th>SE Bond</th><td>1</td><td>1.0</td><td>50.0</td><td>0</td><td>0</td><td>0</td><td>0</td></tr><tr><th>R Rampaul</th><td>51</td><td>10.2</td><td>102.0</td><td>0</td><td>0</td><td>3</td><td>2</td></tr><tr><th>AA Chavan</th><td>12</td><td>6.0</td><td>109.09090909090908</td><td>0</td><td>0</td><td>2</td><td>0</td></tr><tr><th>C de Grandhomme</th><td>126</td><td>15.75</td><td>136.95652173913044</td><td>0</td><td>0</td><td>10</td><td>6</td></tr><tr><th>PA Patel</th><td>2322</td><td>21.700934579439252</td><td>117.21352852094901</td><td>10</td><td>0</td><td>297</td><td>35</td></tr><tr><th>Kamran Akmal</th><td>128</td><td>25.6</td><td>164.1025641025641</td><td>1</td><td>0</td><td>13</td><td>8</td></tr><tr><th>S Sriram</th><td>31</td><td>15.5</td><td>86.11111111111111</td><td>0</td><td>0</td><td>3</td><td>0</td></tr><tr><th>CA Ingram</th><td>21</td><td>10.5</td><td>80.76923076923077</td><td>0</td><td>0</td><td>2</td><td>0</td></tr><tr><th>JEC Franklin</th><td>327</td><td>29.727272727272727</td><td>108.63787375415282</td><td>1</td><td>0</td><td>25</td><td>9</td></tr><tr><th>S Sohal</th><td>368</td><td>18.4</td><td>126.02739726027397</td><td>2</td><td>0</td><td>34</td><td>18</td></tr><tr><th>U Kaul</th><td>0</td><td>0</td><td>0.0</td><td>0</td><td>0</td><td>0</td><td>0</td></tr><tr><th>AA Jhunjhunwala</th><td>217</td><td>16.692307692307693</td><td>103.33333333333334</td><td>1</td><td>0</td><td>19</td><td>5</td></tr><tr><th>TM Dilshan</th><td>1153</td><td>26.813953488372093</td><td>114.49851042701091</td><td>9</td><td>0</td><td>140</td><td>24</td></tr><tr><th>Yuvraj Singh</th><td>2587</td><td>25.613861386138613</td><td>131.1866125760649</td><td>12</td><td>0</td><td>204</td><td>141</td></tr><tr><th>M Klinger</th><td>73</td><td>18.25</td><td>94.8051948051948</td><td>0</td><td>0</td><td>9</td><td>0</td></tr><tr><th>M Kaif</th><td>259</td><td>14.38888888888889</td><td>103.60000000000001</td><td>0</td><td>0</td><td>22</td><td>6</td></tr><tr><th>JDP Oram</th><td>106</td><td>13.25</td><td>98.14814814814815</td><td>0</td><td>0</td><td>6</td><td>5</td></tr><tr><th>AD Mathews</th><td>724</td><td>23.35483870967742</td><td>125.91304347826086</td><td>1</td><td>0</td><td>44</td><td>29</td></tr><tr><th>SM Pollock</th><td>147</td><td>18.375</td><td>132.43243243243242</td><td>0</td><td>0</td><td>12</td><td>8</td></tr><tr><th>PP Chawla</th><td>515</td><td>12.261904761904763</td><td>113.68653421633555</td><td>0</td><td>0</td><td>49</td><td>15</td></tr><tr><th>S Kaul</th><td>9</td><td>0</td><td>69.23076923076923</td><td>0</td><td>0</td><td>0</td><td>0</td></tr><tr><th>SB Jakati</th><td>28</td><td>28.0</td><td>96.55172413793103</td><td>0</td><td>0</td><td>3</td><td>0</td></tr><tr><th>Harpreet Singh</th><td>20</td><td>10.0</td><td>76.92307692307693</td><td>0</td><td>0</td><td>0</td><td>0</td></tr><tr><th>Misbah-ul-Haq</th><td>117</td><td>16.714285714285715</td><td>144.44444444444443</td><td>0</td><td>0</td><td>10</td><td>6</td></tr><tr><th>MR Marsh</th><td>225</td><td>18.75</td><td>114.79591836734696</td><td>0</td><td>0</td><td>9</td><td>14</td></tr><tr><th>Parvez Rasool</th><td>17</td><td>8.5</td><td>85.0</td><td>0</td><td>0</td><td>1</td><td>0</td></tr><tr><th>D Kalyankrishna</th><td>3</td><td>3.0</td><td>37.5</td><td>0</td><td>0</td><td>0</td><td>0</td></tr><tr><th>RR Pant</th><td>564</td><td>25.636363636363637</td><td>151.20643431635386</td><td>3</td><td>0</td><td>47</td><td>30</td></tr><tr><th>PD Collingwood</th><td>203</td><td>40.6</td><td>130.12820512820514</td><td>3</td><td>0</td><td>9</td><td>13</td></tr><tr><th>W Jaffer</th><td>130</td><td>16.25</td><td>107.43801652892562</td><td>1</td><td>0</td><td>14</td><td>3</td></tr><tr><th>SW Tait</th><td>23</td><td>7.666666666666667</td><td>88.46153846153845</td><td>0</td><td>0</td><td>1</td><td>1</td></tr><tr><th>HH Gibbs</th><td>886</td><td>27.6875</td><td>109.78934324659231</td><td>6</td><td>0</td><td>83</td><td>31</td></tr><tr><th>RV Uthappa</th><td>3778</td><td>29.515625</td><td>131.6376306620209</td><td>22</td><td>0</td><td>377</td><td>125</td></tr><tr><th>SA Abbott</th><td>15</td><td>7.5</td><td>115.38461538461537</td><td>0</td><td>0</td><td>1</td><td>1</td></tr><tr><th>ND Doshi</th><td>0</td><td>0.0</td><td>0.0</td><td>0</td><td>0</td><td>0</td><td>0</td></tr><tr><th>AB Agarkar</th><td>179</td><td>17.9</td><td>116.23376623376625</td><td>0</td><td>0</td><td>13</td><td>5</td></tr><tr><th>OA Shah</th><td>506</td><td>33.733333333333334</td><td>130.0771208226221</td><td>4</td><td>0</td><td>34</td><td>23</td></tr><tr><th>DJ Muthuswami</th><td>1</td><td>1.0</td><td>33.33333333333333</td><td>0</td><td>0</td><td>0</td><td>0</td></tr><tr><th>C Madan</th><td>15</td><td>15.0</td><td>78.94736842105263</td><td>0</td><td>0</td><td>3</td><td>0</td></tr><tr><th>DJ Thornely</th><td>39</td><td>13.0</td><td>73.58490566037736</td><td>0</td><td>0</td><td>2</td><td>2</td></tr><tr><th>DJ Harris</th><td>111</td><td>27.75</td><td>109.9009900990099</td><td>0</td><td>0</td><td>11</td><td>5</td></tr><tr><th>JC Buttler</th><td>527</td><td>23.954545454545453</td><td>145.98337950138506</td><td>1</td><td>0</td><td>50</td><td>26</td></tr><tr><th>BJ Hodge</th><td>1400</td><td>33.333333333333336</td><td>125.22361359570662</td><td>6</td><td>0</td><td>122</td><td>43</td></tr><tr><th>AT Rayudu</th><td>2416</td><td>27.146067415730336</td><td>126.16187989556136</td><td>14</td><td>0</td><td>205</td><td>79</td></tr><tr><th>JH Kallis</th><td>2427</td><td>28.55294117647059</td><td>109.22592259225922</td><td>17</td><td>0</td><td>255</td><td>44</td></tr><tr><th>AS Yadav</th><td>49</td><td>9.8</td><td>125.64102564102564</td><td>0</td><td>0</td><td>5</td><td>2</td></tr><tr><th>SP Fleming</th><td>196</td><td>21.77777777777778</td><td>118.7878787878788</td><td>0</td><td>0</td><td>27</td><td>3</td></tr><tr><th>AN Ahmed</th><td>36</td><td>36.0</td><td>138.46153846153845</td><td>0</td><td>0</td><td>4</td><td>1</td></tr><tr><th>V Kohli</th><td>4418</td><td>37.440677966101696</td><td>129.8266235674405</td><td>30</td><td>4</td><td>383</td><td>160</td></tr><tr><th>DH Yagnik</th><td>170</td><td>17.0</td><td>124.08759124087592</td><td>0</td><td>0</td><td>23</td><td>2</td></tr><tr><th>JJ Bumrah</th><td>25</td><td>12.5</td><td>96.15384615384616</td><td>0</td><td>0</td><td>1</td><td>1</td></tr><tr><th>S Randiv</th><td>2</td><td>2.0</td><td>50.0</td><td>0</td><td>0</td><td>0</td><td>0</td></tr><tr><th>STR Binny</th><td>766</td><td>20.157894736842106</td><td>126.82119205298012</td><td>0</td><td>0</td><td>59</td><td>29</td></tr><tr><th>KP Pietersen</th><td>1001</td><td>35.75</td><td>134.72409152086138</td><td>4</td><td>1</td><td>91</td><td>40</td></tr><tr><th>UBT Chand</th><td>300</td><td>15.0</td><td>100.0</td><td>1</td><td>0</td><td>32</td><td>9</td></tr><tr><th>SK Warne</th><td>198</td><td>9.9</td><td>92.5233644859813</td><td>0</td><td>0</td><td>14</td><td>6</td></tr><tr><th>MS Dhoni</th><td>3560</td><td>37.87234042553192</td><td>136.7127496159754</td><td>17</td><td>0</td><td>251</td><td>156</td></tr><tr><th>AP Dole</th><td>34</td><td>17.0</td><td>154.54545454545453</td><td>0</td><td>0</td><td>3</td><td>1</td></tr><tr><th>HH Pandya</th><td>406</td><td>21.36842105263158</td><td>142.4561403508772</td><td>1</td><td>0</td><td>24</td><td>28</td></tr><tr><th>R Bishnoi</th><td>19</td><td>6.333333333333333</td><td>111.76470588235294</td><td>0</td><td>0</td><td>1</td><td>2</td></tr><tr><th>SM Harwood</th><td>9</td><td>0</td><td>64.28571428571429</td><td>0</td><td>0</td><td>0</td><td>0</td></tr><tr><th>S Badrinath</th><td>1441</td><td>30.659574468085108</td><td>118.8943894389439</td><td>11</td><td>0</td><td>154</td><td>28</td></tr><tr><th>AS Raut</th><td>194</td><td>21.555555555555557</td><td>116.1676646706587</td><td>0</td><td>0</td><td>13</td><td>7</td></tr><tr><th>BA Stokes</th><td>316</td><td>31.6</td><td>142.98642533936652</td><td>1</td><td>1</td><td>22</td><td>15</td></tr><tr><th>TM Head</th><td>205</td><td>29.285714285714285</td><td>138.51351351351352</td><td>1</td><td>0</td><td>12</td><td>8</td></tr><tr><th>Ankit Soni</th><td>7</td><td>3.5</td><td>77.77777777777779</td><td>0</td><td>0</td><td>0</td><td>1</td></tr><tr><th>R Vinay Kumar</th><td>304</td><td>10.857142857142858</td><td>112.1771217712177</td><td>0</td><td>0</td><td>20</td><td>9</td></tr><tr><th>AP Tare</th><td>339</td><td>14.125</td><td>124.17582417582418</td><td>1</td><td>0</td><td>40</td><td>11</td></tr><tr><th>Younis Khan</th><td>3</td><td>3.0</td><td>42.857142857142854</td><td>0</td><td>0</td><td>0</td><td>0</td></tr><tr><th>AD Mascarenhas</th><td>79</td><td>8.777777777777779</td><td>101.28205128205127</td><td>0</td><td>0</td><td>5</td><td>1</td></tr><tr><th>Y Venugopal Rao</th><td>985</td><td>22.386363636363637</td><td>117.82296650717703</td><td>3</td><td>0</td><td>77</td><td>37</td></tr><tr><th>SMSM Senanayake</th><td>10</td><td>10.0</td><td>58.82352941176471</td><td>0</td><td>0</td><td>0</td><td>0</td></tr><tr><th>MS Gony</th><td>99</td><td>9.9</td><td>139.43661971830986</td><td>0</td><td>0</td><td>6</td><td>8</td></tr><tr><th>Bipul Sharma</th><td>187</td><td>23.375</td><td>152.03252032520325</td><td>0</td><td>0</td><td>11</td><td>9</td></tr><tr><th>KC Cariappa</th><td>15</td><td>5.0</td><td>83.33333333333334</td><td>0</td><td>0</td><td>0</td><td>1</td></tr><tr><th>A Mithun</th><td>34</td><td>6.8</td><td>130.76923076923077</td><td>0</td><td>0</td><td>4</td><td>1</td></tr><tr><th>SA Yadav</th><td>608</td><td>20.96551724137931</td><td>130.752688172043</td><td>1</td><td>0</td><td>54</td><td>21</td></tr><tr><th>Pankaj Singh</th><td>7</td><td>3.5</td><td>58.333333333333336</td><td>0</td><td>0</td><td>0</td><td>0</td></tr><tr><th>NS Naik</th><td>23</td><td>11.5</td><td>74.19354838709677</td><td>0</td><td>0</td><td>1</td><td>0</td></tr><tr><th>AB Barath</th><td>42</td><td>21.0</td><td>100.0</td><td>0</td><td>0</td><td>5</td><td>1</td></tr><tr><th>S Nadeem</th><td>26</td><td>2.1666666666666665</td><td>37.142857142857146</td><td>0</td><td>0</td><td>1</td><td>0</td></tr><tr><th>Mohammad Hafeez</th><td>64</td><td>9.142857142857142</td><td>77.10843373493977</td><td>0</td><td>0</td><td>7</td><td>2</td></tr><tr><th>HV Patel</th><td>47</td><td>5.222222222222222</td><td>138.23529411764704</td><td>0</td><td>0</td><td>2</td><td>3</td></tr><tr><th>S Tyagi</th><td>3</td><td>3.0</td><td>75.0</td><td>0</td><td>0</td><td>0</td><td>0</td></tr><tr><th>GD McGrath</th><td>4</td><td>4.0</td><td>80.0</td><td>0</td><td>0</td><td>1</td><td>0</td></tr><tr><th>Harmeet Singh</th><td>18</td><td>4.5</td><td>150.0</td><td>0</td><td>0</td><td>3</td><td>0</td></tr><tr><th>SP Jackson</th><td>38</td><td>19.0</td><td>122.58064516129032</td><td>0</td><td>0</td><td>5</td><td>0</td></tr><tr><th>KA Pollard</th><td>2344</td><td>28.585365853658537</td><td>146.59161976235146</td><td>12</td><td>0</td><td>157</td><td>147</td></tr><tr><th>G Gambhir</th><td>4132</td><td>31.541984732824428</td><td>124.60796139927623</td><td>35</td><td>0</td><td>484</td><td>58</td></tr><tr><th>B Lee</th><td>124</td><td>12.4</td><td>127.83505154639174</td><td>0</td><td>0</td><td>8</td><td>8</td></tr><tr><th>Yashpal Singh</th><td>47</td><td>11.75</td><td>71.21212121212122</td><td>0</td><td>0</td><td>5</td><td>0</td></tr><tr><th>V Shankar</th><td>101</td><td>50.5</td><td>134.66666666666666</td><td>1</td><td>0</td><td>12</td><td>1</td></tr><tr><th>YA Abdulla</th><td>0</td><td>0</td><td>0.0</td><td>0</td><td>0</td><td>0</td><td>0</td></tr><tr><th>LR Shukla</th><td>405</td><td>15.0</td><td>115.71428571428572</td><td>0</td><td>0</td><td>33</td><td>16</td></tr><tr><th>V Sehwag</th><td>2728</td><td>27.555555555555557</td><td>155.44159544159544</td><td>16</td><td>2</td><td>334</td><td>106</td></tr><tr><th>JR Hopes</th><td>417</td><td>26.0625</td><td>136.27450980392157</td><td>4</td><td>0</td><td>49</td><td>11</td></tr><tr><th>R Sharma</th><td>66</td><td>4.714285714285714</td><td>88.0</td><td>0</td><td>0</td><td>5</td><td>3</td></tr><tr><th>SP Narine</th><td>271</td><td>13.55</td><td>147.2826086956522</td><td>1</td><td>0</td><td>36</td><td>12</td></tr><tr><th>AD Russell</th><td>574</td><td>26.09090909090909</td><td>173.41389728096678</td><td>3</td><td>0</td><td>48</td><td>37</td></tr><tr><th>DB Das</th><td>304</td><td>21.714285714285715</td><td>116.47509578544062</td><td>0</td><td>0</td><td>23</td><td>16</td></tr><tr><th>I Malhotra</th><td>7</td><td>0</td><td>175.0</td><td>0</td><td>0</td><td>1</td><td>0</td></tr><tr><th>SS Iyer</th><td>807</td><td>27.82758620689655</td><td>128.50318471337582</td><td>6</td><td>0</td><td>79</td><td>32</td></tr><tr><th>DNT Zoysa</th><td>11</td><td>11.0</td><td>122.22222222222223</td><td>0</td><td>0</td><td>1</td><td>0</td></tr><tr><th>A Kumble</th><td>35</td><td>11.666666666666666</td><td>74.46808510638297</td><td>0</td><td>0</td><td>3</td><td>0</td></tr><tr><th>J Theron</th><td>10</td><td>5.0</td><td>83.33333333333334</td><td>0</td><td>0</td><td>1</td><td>0</td></tr><tr><th>Basil Thampi</th><td>28</td><td>0</td><td>100.0</td><td>0</td><td>0</td><td>1</td><td>1</td></tr><tr><th>S Gopal</th><td>14</td><td>7.0</td><td>51.85185185185185</td><td>0</td><td>0</td><td>1</td><td>0</td></tr><tr><th>SS Shaikh</th><td>6</td><td>6.0</td><td>85.71428571428571</td><td>0</td><td>0</td><td>1</td><td>0</td></tr><tr><th>RG Sharma</th><td>4207</td><td>32.6124031007752</td><td>130.8960796515246</td><td>32</td><td>1</td><td>354</td><td>173</td></tr><tr><th>MK Tiwary</th><td>1648</td><td>29.428571428571427</td><td>117.29537366548041</td><td>7</td><td>0</td><td>152</td><td>39</td></tr><tr><th>Y Nagar</th><td>285</td><td>20.357142857142858</td><td>110.03861003861005</td><td>0</td><td>0</td><td>20</td><td>9</td></tr><tr><th>S Badree</th><td>13</td><td>2.6</td><td>56.52173913043478</td><td>0</td><td>0</td><td>0</td><td>0</td></tr><tr><th>Ishan Kishan</th><td>319</td><td>21.266666666666666</td><td>129.1497975708502</td><td>1</td><td>0</td><td>34</td><td>13</td></tr><tr><th>DT Patil</th><td>13</td><td>6.5</td><td>100.0</td><td>0</td><td>0</td><td>1</td><td>0</td></tr><tr><th>MN Samuels</th><td>161</td><td>12.384615384615385</td><td>93.6046511627907</td><td>0</td><td>0</td><td>9</td><td>7</td></tr><tr><th>DL Vettori</th><td>121</td><td>15.125</td><td>107.07964601769913</td><td>0</td><td>0</td><td>11</td><td>2</td></tr><tr><th>JE Taylor</th><td>3</td><td>3.0</td><td>100.0</td><td>0</td><td>0</td><td>0</td><td>0</td></tr><tr><th>RG More</th><td>2</td><td>0</td><td>100.0</td><td>0</td><td>0</td><td>0</td><td>0</td></tr><tr><th>DP Vijaykumar</th><td>1</td><td>0</td><td>100.0</td><td>0</td><td>0</td><td>0</td><td>0</td></tr><tr><th>P Negi</th><td>353</td><td>17.65</td><td>129.77941176470588</td><td>0</td><td>0</td><td>26</td><td>16</td></tr><tr><th>LMP Simmons</th><td>1079</td><td>39.96296296296296</td><td>126.6431924882629</td><td>11</td><td>1</td><td>109</td><td>44</td></tr><tr><th>N Rana</th><td>437</td><td>31.214285714285715</td><td>128.90855457227138</td><td>4</td><td>0</td><td>31</td><td>25</td></tr><tr><th>Ankit Sharma</th><td>87</td><td>12.428571428571429</td><td>129.8507462686567</td><td>0</td><td>0</td><td>7</td><td>4</td></tr><tr><th>B Akhil</th><td>76</td><td>12.666666666666666</td><td>138.1818181818182</td><td>0</td><td>0</td><td>5</td><td>5</td></tr><tr><th>GJ Maxwell</th><td>1228</td><td>25.06122448979592</td><td>164.3908969210174</td><td>6</td><td>0</td><td>96</td><td>82</td></tr><tr><th>R Shukla</th><td>19</td><td>19.0</td><td>82.6086956521739</td><td>0</td><td>0</td><td>2</td><td>0</td></tr><tr><th>CL White</th><td>954</td><td>26.5</td><td>126.35761589403972</td><td>6</td><td>0</td><td>76</td><td>36</td></tr><tr><th>KD Karthik</th><td>2903</td><td>24.811965811965813</td><td>125.94360086767895</td><td>14</td><td>0</td><td>286</td><td>71</td></tr><tr><th>M Manhas</th><td>514</td><td>22.347826086956523</td><td>109.36170212765957</td><td>0</td><td>0</td><td>43</td><td>10</td></tr><tr><th>R McLaren</th><td>159</td><td>19.875</td><td>92.98245614035088</td><td>1</td><td>0</td><td>14</td><td>1</td></tr><tr><th>V Pratap Singh</th><td>0</td><td>0.0</td><td>0.0</td><td>0</td><td>0</td><td>0</td><td>0</td></tr><tr><th>Niraj Patel</th><td>121</td><td>30.25</td><td>101.68067226890756</td><td>1</td><td>0</td><td>14</td><td>1</td></tr><tr><th>Shoaib Ahmed</th><td>1</td><td>0.5</td><td>16.666666666666664</td><td>0</td><td>0</td><td>0</td><td>0</td></tr><tr><th>IC Pandey</th><td>0</td><td>0.0</td><td>0.0</td><td>0</td><td>0</td><td>0</td><td>0</td></tr><tr><th>KS Williamson</th><td>411</td><td>31.615384615384617</td><td>129.24528301886792</td><td>3</td><td>0</td><td>35</td><td>11</td></tr><tr><th>A Mishra</th><td>340</td><td>11.724137931034482</td><td>93.66391184573003</td><td>0</td><td>0</td><td>27</td><td>5</td></tr><tr><th>TD Paine</th><td>10</td><td>5.0</td><td>38.46153846153847</td><td>0</td><td>0</td><td>0</td><td>0</td></tr><tr><th>SE Marsh</th><td>2477</td><td>39.317460317460316</td><td>132.7438370846731</td><td>20</td><td>1</td><td>266</td><td>78</td></tr><tr><th>AB Dinda</th><td>26</td><td>2.6</td><td>54.166666666666664</td><td>0</td><td>0</td><td>2</td><td>0</td></tr><tr><th>LA Pomersbach</th><td>302</td><td>27.454545454545453</td><td>122.76422764227641</td><td>1</td><td>0</td><td>25</td><td>13</td></tr><tr><th>GJ Bailey</th><td>663</td><td>24.555555555555557</td><td>121.875</td><td>2</td><td>0</td><td>59</td><td>19</td></tr><tr><th>J Syed Mohammad</th><td>29</td><td>14.5</td><td>111.53846153846155</td><td>0</td><td>0</td><td>4</td><td>0</td></tr><tr><th>NM Coulter-Nile</th><td>52</td><td>6.5</td><td>104.0</td><td>0</td><td>0</td><td>3</td><td>4</td></tr><tr><th>FY Fazal</th><td>183</td><td>18.3</td><td>105.78034682080926</td><td>0</td><td>0</td><td>22</td><td>1</td></tr><tr><th>CRD Fernando</th><td>4</td><td>0</td><td>133.33333333333331</td><td>0</td><td>0</td><td>0</td><td>0</td></tr><tr><th>ER Dwivedi</th><td>24</td><td>12.0</td><td>171.42857142857142</td><td>0</td><td>0</td><td>2</td><td>2</td></tr><tr><th>SD Chitnis</th><td>99</td><td>14.142857142857142</td><td>111.23595505617978</td><td>0</td><td>0</td><td>10</td><td>2</td></tr><tr><th>J Suchith</th><td>48</td><td>48.0</td><td>150.0</td><td>0</td><td>0</td><td>4</td><td>2</td></tr><tr><th>FH Edwards</th><td>4</td><td>4.0</td><td>80.0</td><td>0</td><td>0</td><td>0</td><td>0</td></tr><tr><th>Kuldeep Yadav</th><td>20</td><td>10.0</td><td>90.9090909090909</td><td>0</td><td>0</td><td>2</td><td>0</td></tr><tr><th>K Upadhyay</th><td>12</td><td>0</td><td>133.33333333333331</td><td>0</td><td>0</td><td>0</td><td>1</td></tr><tr><th>JD Ryder</th><td>604</td><td>21.571428571428573</td><td>131.87772925764193</td><td>4</td><td>0</td><td>69</td><td>19</td></tr><tr><th>AN Ghosh</th><td>7</td><td>3.5</td><td>87.5</td><td>0</td><td>0</td><td>1</td><td>0</td></tr><tr><th>PM Sarvesh Kumar</th><td>1</td><td>0</td><td>50.0</td><td>0</td><td>0</td><td>0</td><td>0</td></tr><tr><th>AJ Tye</th><td>53</td><td>26.5</td><td>176.66666666666666</td><td>0</td><td>0</td><td>4</td><td>3</td></tr><tr><th>NL McCullum</th><td>26</td><td>26.0</td><td>118.18181818181819</td><td>0</td><td>0</td><td>0</td><td>1</td></tr><tr><th>PV Tambe</th><td>18</td><td>9.0</td><td>46.15384615384615</td><td>0</td><td>0</td><td>1</td><td>0</td></tr><tr><th>P Kumar</th><td>340</td><td>8.947368421052632</td><td>108.28025477707006</td><td>0</td><td>0</td><td>22</td><td>17</td></tr><tr><th>RR Rossouw</th><td>53</td><td>10.6</td><td>103.921568627451</td><td>0</td><td>0</td><td>3</td><td>3</td></tr><tr><th>C Munro</th><td>30</td><td>10.0</td><td>100.0</td><td>0</td><td>0</td><td>3</td><td>0</td></tr><tr><th>SB Joshi</th><td>6</td><td>3.0</td><td>42.857142857142854</td><td>0</td><td>0</td><td>0</td><td>0</td></tr><tr><th>LPC Silva</th><td>40</td><td>20.0</td><td>153.84615384615387</td><td>0</td><td>0</td><td>5</td><td>1</td></tr><tr><th>AB McDonald</th><td>123</td><td>24.6</td><td>123.0</td><td>0</td><td>0</td><td>9</td><td>4</td></tr><tr><th>KJ Abbott</th><td>13</td><td>13.0</td><td>162.5</td><td>0</td><td>0</td><td>0</td><td>1</td></tr><tr><th>J Arunkumar</th><td>23</td><td>7.666666666666667</td><td>100.0</td><td>0</td><td>0</td><td>5</td><td>0</td></tr><tr><th>S Aravind</th><td>59</td><td>14.75</td><td>103.50877192982458</td><td>0</td><td>0</td><td>7</td><td>0</td></tr><tr><th>BR Dunk</th><td>40</td><td>13.333333333333334</td><td>114.28571428571428</td><td>0</td><td>0</td><td>7</td><td>0</td></tr><tr><th>J Botha</th><td>409</td><td>20.45</td><td>113.9275766016713</td><td>1</td><td>0</td><td>39</td><td>5</td></tr><tr><th>RR Bhatkal</th><td>0</td><td>0.0</td><td>0.0</td><td>0</td><td>0</td><td>0</td><td>0</td></tr><tr><th>RT Ponting</th><td>91</td><td>10.11111111111111</td><td>71.09375</td><td>0</td><td>0</td><td>5</td><td>2</td></tr><tr><th>D Wiese</th><td>127</td><td>31.75</td><td>141.11111111111111</td><td>0</td><td>0</td><td>12</td><td>4</td></tr><tr><th>BJ Haddin</th><td>18</td><td>18.0</td><td>163.63636363636365</td><td>0</td><td>0</td><td>2</td><td>1</td></tr><tr><th>NJ Rimmington</th><td>1</td><td>0</td><td>100.0</td><td>0</td><td>0</td><td>0</td><td>0</td></tr><tr><th>AF Milne</th><td>7</td><td>3.5</td><td>58.333333333333336</td><td>0</td><td>0</td><td>0</td><td>0</td></tr><tr><th>M Vijay</th><td>2511</td><td>26.431578947368422</td><td>123.39066339066338</td><td>13</td><td>2</td><td>237</td><td>89</td></tr><tr><th>A Chopra</th><td>53</td><td>8.833333333333334</td><td>74.64788732394366</td><td>0</td><td>0</td><td>7</td><td>0</td></tr><tr><th>Mashrafe Mortaza</th><td>2</td><td>0</td><td>100.0</td><td>0</td><td>0</td><td>0</td><td>0</td></tr><tr><th>BB Sran</th><td>4</td><td>0</td><td>100.0</td><td>0</td><td>0</td><td>0</td><td>0</td></tr><tr><th>RJ Peterson</th><td>32</td><td>10.666666666666666</td><td>106.66666666666667</td><td>0</td><td>0</td><td>3</td><td>1</td></tr><tr><th>KV Sharma</th><td>317</td><td>15.095238095238095</td><td>115.69343065693431</td><td>0</td><td>0</td><td>18</td><td>14</td></tr><tr><th>JJ van der Wath</th><td>18</td><td>9.0</td><td>112.5</td><td>0</td><td>0</td><td>1</td><td>1</td></tr><tr><th>Karanveer Singh</th><td>12</td><td>12.0</td><td>70.58823529411765</td><td>0</td><td>0</td><td>1</td><td>0</td></tr><tr><th>KW Richardson</th><td>36</td><td>12.0</td><td>92.3076923076923</td><td>0</td><td>0</td><td>2</td><td>1</td></tr><tr><th>D du Preez</th><td>10</td><td>10.0</td><td>76.92307692307693</td><td>0</td><td>0</td><td>0</td><td>0</td></tr><tr><th>CK Langeveldt</th><td>8</td><td>4.0</td><td>88.88888888888889</td><td>0</td><td>0</td><td>0</td><td>1</td></tr><tr><th>SS Tiwary</th><td>1276</td><td>28.355555555555554</td><td>119.58762886597938</td><td>7</td><td>0</td><td>93</td><td>45</td></tr><tr><th>DJ Hooda</th><td>373</td><td>14.346153846153847</td><td>139.17910447761196</td><td>1</td><td>0</td><td>20</td><td>20</td></tr><tr><th>WD Parnell</th><td>63</td><td>7.0</td><td>84.0</td><td>0</td><td>0</td><td>4</td><td>1</td></tr><tr><th>DAJ Bracewell</th><td>12</td><td>0</td><td>133.33333333333331</td><td>0</td><td>0</td><td>1</td><td>0</td></tr><tr><th>GC Smith</th><td>739</td><td>28.423076923076923</td><td>110.62874251497006</td><td>4</td><td>0</td><td>94</td><td>9</td></tr><tr><th>Shoaib Akhtar</th><td>2</td><td>2.0</td><td>28.57142857142857</td><td>0</td><td>0</td><td>0</td><td>0</td></tr><tr><th>KMDN Kulasekara</th><td>5</td><td>0</td><td>166.66666666666669</td><td>0</td><td>0</td><td>1</td><td>0</td></tr><tr><th>PC Valthaty</th><td>505</td><td>22.954545454545453</td><td>120.8133971291866</td><td>2</td><td>1</td><td>61</td><td>20</td></tr><tr><th>S Narwal</th><td>37</td><td>12.333333333333334</td><td>137.03703703703704</td><td>0</td><td>0</td><td>6</td><td>0</td></tr><tr><th>CR Brathwaite</th><td>95</td><td>11.875</td><td>179.24528301886792</td><td>0</td><td>0</td><td>8</td><td>8</td></tr><tr><th>LRPL Taylor</th><td>1017</td><td>25.425</td><td>123.72262773722629</td><td>3</td><td>0</td><td>66</td><td>46</td></tr><tr><th>GR Napier</th><td>15</td><td>15.0</td><td>93.75</td><td>0</td><td>0</td><td>1</td><td>0</td></tr><tr><th>RR Raje</th><td>20</td><td>20.0</td><td>111.11111111111111</td><td>0</td><td>0</td><td>1</td><td>1</td></tr><tr><th>AC Gilchrist</th><td>2069</td><td>27.223684210526315</td><td>138.39464882943145</td><td>11</td><td>2</td><td>239</td><td>92</td></tr><tr><th>S Dhawan</th><td>3561</td><td>32.669724770642205</td><td>121.86858316221767</td><td>28</td><td>0</td><td>401</td><td>71</td></tr><tr><th>MM Sharma</th><td>112</td><td>8.0</td><td>109.80392156862746</td><td>0</td><td>0</td><td>8</td><td>4</td></tr><tr><th>P Sahu</th><td>19</td><td>19.0</td><td>146.15384615384613</td><td>0</td><td>0</td><td>1</td><td>1</td></tr><tr><th>Sunny Singh</th><td>43</td><td>10.75</td><td>138.70967741935485</td><td>0</td><td>0</td><td>6</td><td>1</td></tr><tr><th>RA Tripathi</th><td>391</td><td>27.928571428571427</td><td>146.44194756554307</td><td>2</td><td>0</td><td>43</td><td>17</td></tr><tr><th>Shahid Afridi</th><td>81</td><td>10.125</td><td>176.08695652173913</td><td>0</td><td>0</td><td>7</td><td>6</td></tr><tr><th>R Dravid</th><td>2174</td><td>28.233766233766232</td><td>115.5154091392136</td><td>11</td><td>0</td><td>269</td><td>28</td></tr><tr><th>A Ashish Reddy</th><td>280</td><td>18.666666666666668</td><td>145.0777202072539</td><td>0</td><td>0</td><td>16</td><td>15</td></tr><tr><th>P Dogra</th><td>127</td><td>11.545454545454545</td><td>92.02898550724638</td><td>0</td><td>0</td><td>4</td><td>5</td></tr><tr><th>AG Paunikar</th><td>49</td><td>9.8</td><td>84.48275862068965</td><td>0</td><td>0</td><td>9</td><td>0</td></tr><tr><th>VR Aaron</th><td>46</td><td>11.5</td><td>83.63636363636363</td><td>0</td><td>0</td><td>2</td><td>2</td></tr><tr><th>DE Bollinger</th><td>21</td><td>21.0</td><td>91.30434782608695</td><td>0</td><td>0</td><td>1</td><td>1</td></tr><tr><th>BMAJ Mendis</th><td>23</td><td>7.666666666666667</td><td>85.18518518518519</td><td>0</td><td>0</td><td>0</td><td>0</td></tr><tr><th>AM Nayar</th><td>672</td><td>17.68421052631579</td><td>116.46447140381282</td><td>0</td><td>0</td><td>55</td><td>20</td></tr><tr><th>SPD Smith</th><td>1703</td><td>37.02173913043478</td><td>131.7092034029389</td><td>5</td><td>1</td><td>150</td><td>45</td></tr><tr><th>VVS Laxman</th><td>282</td><td>14.842105263157896</td><td>105.61797752808988</td><td>1</td><td>0</td><td>33</td><td>5</td></tr><tr><th>CJ McKay</th><td>8</td><td>8.0</td><td>53.333333333333336</td><td>0</td><td>0</td><td>0</td><td>0</td></tr><tr><th>Anirudh Singh</th><td>63</td><td>15.75</td><td>95.45454545454545</td><td>0</td><td>0</td><td>6</td><td>1</td></tr><tr><th>S Sreesanth</th><td>34</td><td>8.5</td><td>61.81818181818181</td><td>0</td><td>0</td><td>6</td><td>0</td></tr><tr><th>TR Birt</th><td>75</td><td>15.0</td><td>129.31034482758622</td><td>0</td><td>0</td><td>9</td><td>2</td></tr><tr><th>P Parameswaran</th><td>1</td><td>0</td><td>50.0</td><td>0</td><td>0</td><td>0</td><td>0</td></tr><tr><th>MG Johnson</th><td>151</td><td>11.615384615384615</td><td>98.69281045751634</td><td>0</td><td>0</td><td>8</td><td>7</td></tr><tr><th>B Sumanth</th><td>35</td><td>35.0</td><td>94.5945945945946</td><td>0</td><td>0</td><td>3</td><td>0</td></tr><tr><th>KK Cooper</th><td>116</td><td>12.88888888888889</td><td>170.58823529411765</td><td>0</td><td>0</td><td>9</td><td>8</td></tr><tr><th>MDKJ Perera</th><td>14</td><td>7.0</td><td>107.6923076923077</td><td>0</td><td>0</td><td>3</td><td>0</td></tr><tr><th>I Sharma</th><td>45</td><td>7.5</td><td>77.58620689655173</td><td>0</td><td>0</td><td>3</td><td>1</td></tr><tr><th>Shoaib Malik</th><td>52</td><td>13.0</td><td>110.63829787234043</td><td>0</td><td>0</td><td>5</td><td>0</td></tr><tr><th>Y Gnaneswara Rao</th><td>19</td><td>19.0</td><td>111.76470588235294</td><td>0</td><td>0</td><td>3</td><td>0</td></tr><tr><th>Kamran Khan</th><td>3</td><td>3.0</td><td>60.0</td><td>0</td><td>0</td><td>0</td><td>0</td></tr><tr><th>RV Gomez</th><td>50</td><td>10.0</td><td>98.0392156862745</td><td>0</td><td>0</td><td>5</td><td>1</td></tr><tr><th>NJ Maddinson</th><td>20</td><td>6.666666666666667</td><td>95.23809523809523</td><td>0</td><td>0</td><td>4</td><td>0</td></tr><tr><th>Swapnil Singh</th><td>12</td><td>4.0</td><td>60.0</td><td>0</td><td>0</td><td>0</td><td>0</td></tr><tr><th>WPUJC Vaas</th><td>81</td><td>10.125</td><td>110.95890410958904</td><td>0</td><td>0</td><td>2</td><td>3</td></tr><tr><th>A Mukund</th><td>19</td><td>9.5</td><td>86.36363636363636</td><td>0</td><td>0</td><td>1</td><td>0</td></tr><tr><th>SK Trivedi</th><td>42</td><td>6.0</td><td>71.1864406779661</td><td>0</td><td>0</td><td>3</td><td>1</td></tr><tr><th>A Chandila</th><td>4</td><td>0</td><td>57.14285714285714</td><td>0</td><td>0</td><td>0</td><td>0</td></tr><tr><th>Azhar Mahmood</th><td>388</td><td>20.42105263157895</td><td>128.05280528052805</td><td>2</td><td>0</td><td>39</td><td>13</td></tr><tr><th>Joginder Sharma</th><td>36</td><td>9.0</td><td>120.0</td><td>0</td><td>0</td><td>1</td><td>2</td></tr><tr><th>F Behardien</th><td>14</td><td>7.0</td><td>107.6923076923077</td><td>0</td><td>0</td><td>2</td><td>0</td></tr><tr><th>Q de Kock</th><td>726</td><td>29.04</td><td>132.24043715846994</td><td>5</td><td>1</td><td>90</td><td>21</td></tr><tr><th>KH Pandya</th><td>480</td><td>34.285714285714285</td><td>158.41584158415841</td><td>1</td><td>0</td><td>46</td><td>20</td></tr><tr><th>KB Arun Karthik</th><td>51</td><td>10.2</td><td>100.0</td><td>0</td><td>0</td><td>4</td><td>1</td></tr><tr><th>S Chanderpaul</th><td>25</td><td>8.333333333333334</td><td>80.64516129032258</td><td>0</td><td>0</td><td>4</td><td>0</td></tr><tr><th>MM Patel</th><td>39</td><td>6.5</td><td>95.1219512195122</td><td>0</td><td>0</td><td>5</td><td>0</td></tr><tr><th>P Awana</th><td>5</td><td>2.5</td><td>35.714285714285715</td><td>0</td><td>0</td><td>0</td><td>0</td></tr><tr><th>DS Lehmann</th><td>18</td><td>9.0</td><td>100.0</td><td>0</td><td>0</td><td>3</td><td>0</td></tr><tr><th>AM Rahane</th><td>3057</td><td>33.59340659340659</td><td>120.59171597633136</td><td>25</td><td>1</td><td>320</td><td>60</td></tr><tr><th>MJ Guptill</th><td>189</td><td>21.0</td><td>132.16783216783216</td><td>1</td><td>0</td><td>20</td><td>8</td></tr><tr><th>MJ McClenaghan</th><td>63</td><td>7.875</td><td>143.1818181818182</td><td>0</td><td>0</td><td>2</td><td>6</td></tr><tr><th>M Morkel</th><td>126</td><td>11.454545454545455</td><td>140.0</td><td>0</td><td>0</td><td>11</td><td>5</td></tr><tr><th>SN Thakur</th><td>7</td><td>2.3333333333333335</td><td>77.77777777777779</td><td>0</td><td>0</td><td>1</td><td>0</td></tr><tr><th>TM Srivastava</th><td>8</td><td>8.0</td><td>72.72727272727273</td><td>0</td><td>0</td><td>0</td><td>0</td></tr><tr><th>M Vohra</th><td>957</td><td>24.53846153846154</td><td>132.73231622746187</td><td>3</td><td>0</td><td>95</td><td>35</td></tr><tr><th>BAW Mendis</th><td>3</td><td>1.5</td><td>50.0</td><td>0</td><td>0</td><td>0</td><td>0</td></tr><tr><th>T Kohli</th><td>11</td><td>3.6666666666666665</td><td>57.89473684210527</td><td>0</td><td>0</td><td>0</td><td>1</td></tr><tr><th>RE Levi</th><td>83</td><td>13.833333333333334</td><td>113.69863013698631</td><td>1</td><td>0</td><td>10</td><td>4</td></tr><tr><th>EJG Morgan</th><td>854</td><td>21.35</td><td>121.13475177304964</td><td>4</td><td>0</td><td>72</td><td>34</td></tr><tr><th>Mohammad Ashraful</th><td>2</td><td>2.0</td><td>20.0</td><td>0</td><td>0</td><td>0</td><td>0</td></tr><tr><th>K Rabada</th><td>55</td><td>18.333333333333332</td><td>85.9375</td><td>0</td><td>0</td><td>5</td><td>1</td></tr><tr><th>MA Khote</th><td>24</td><td>12.0</td><td>109.09090909090908</td><td>0</td><td>0</td><td>2</td><td>1</td></tr><tr><th>BB McCullum</th><td>2753</td><td>28.091836734693878</td><td>131.22020972354625</td><td>13</td><td>2</td><td>277</td><td>124</td></tr><tr><th>SK Raina</th><td>4540</td><td>33.88059701492537</td><td>139.09313725490196</td><td>31</td><td>1</td><td>402</td><td>173</td></tr></table>"
      ],
      "text/plain": [
       "[['Name',\n",
       "  'Runs',\n",
       "  'Average',\n",
       "  'Strike rate',\n",
       "  'Fifty',\n",
       "  'Century',\n",
       "  'Fours',\n",
       "  'Sixes'],\n",
       " ['JP Duminy', 1993, 39.86, 124.87468671679198, 14, 0, 123, 78],\n",
       " ['ML Hayden', 1107, 35.70967741935484, 137.51552795031057, 8, 0, 121, 44],\n",
       " ['AS Rajpoot', 6, 6.0, 46.15384615384615, 0, 0, 1, 0],\n",
       " ['Rashid Khan', 11, 5.5, 122.22222222222223, 0, 0, 0, 1],\n",
       " ['CJ Ferguson', 98, 16.333333333333332, 83.76068376068376, 0, 0, 9, 0],\n",
       " ['MJ Clarke', 98, 16.333333333333332, 104.25531914893618, 0, 0, 12, 0],\n",
       " ['VY Mahesh', 15, 7.5, 55.55555555555556, 0, 0, 0, 0],\n",
       " ['BA Bhatt', 6, 6.0, 85.71428571428571, 0, 0, 0, 1],\n",
       " ['KC Sangakkara',\n",
       "  1687,\n",
       "  25.953846153846154,\n",
       "  121.19252873563218,\n",
       "  10,\n",
       "  0,\n",
       "  195,\n",
       "  27],\n",
       " ['DP Nannes', 4, 4.0, 30.76923076923077, 0, 0, 0, 0],\n",
       " ['CH Gayle', 3626, 40.741573033707866, 151.209341117598, 21, 5, 294, 265],\n",
       " ['A Symonds', 974, 36.074074074074076, 129.86666666666667, 5, 1, 74, 41],\n",
       " ['MN van Wyk', 167, 55.666666666666664, 126.51515151515152, 1, 0, 19, 1],\n",
       " ['YS Chahal', 15, 5.0, 53.57142857142857, 0, 0, 0, 0],\n",
       " ['H Das', 2, 2.0, 40.0, 0, 0, 0, 0],\n",
       " ['SL Malinga', 88, 5.5, 88.88888888888889, 0, 0, 6, 5],\n",
       " ['VRV Singh', 4, 2.0, 133.33333333333331, 0, 0, 1, 0],\n",
       " ['L Ronchi', 34, 6.8, 100.0, 0, 0, 6, 1],\n",
       " ['F du Plessis', 1295, 30.11627906976744, 127.96442687747036, 8, 0, 110, 38],\n",
       " ['S Rana', 91, 22.75, 112.34567901234568, 0, 0, 9, 1],\n",
       " ['DL Chahar', 14, 14.0, 233.33333333333334, 0, 0, 0, 2],\n",
       " ['AR Patel', 606, 20.2, 128.1183932346723, 0, 0, 34, 28],\n",
       " ['AR Bawne', 12, 0, 100.0, 0, 0, 1, 0],\n",
       " ['JM Kemp', 26, 13.0, 108.33333333333333, 0, 0, 1, 1],\n",
       " ['MJ Lumb', 278, 23.166666666666668, 143.29896907216494, 1, 0, 45, 6],\n",
       " ['Washington Sundar', 9, 9.0, 75.0, 0, 0, 0, 0],\n",
       " ['MEK Hussey', 1977, 38.76470588235294, 122.64267990074443, 15, 1, 198, 52],\n",
       " ['SM Katich', 241, 24.1, 129.56989247311827, 2, 0, 26, 8],\n",
       " ['SR Tendulkar', 2334, 33.82608695652174, 119.81519507186857, 13, 1, 296, 29],\n",
       " ['AC Voges', 181, 45.25, 126.57342657342659, 0, 0, 15, 3],\n",
       " ['WA Mota', 56, 9.333333333333334, 74.66666666666667, 0, 0, 2, 0],\n",
       " ['Mohammad Nabi', 2, 2.0, 66.66666666666666, 0, 0, 0, 0],\n",
       " ['JO Holder', 38, 7.6, 122.58064516129032, 0, 0, 4, 2],\n",
       " ['NV Ojha', 1553, 20.986486486486488, 118.6401833460657, 6, 0, 121, 79],\n",
       " ['T Thushara', 12, 6.0, 66.66666666666666, 0, 0, 0, 0],\n",
       " ['S Vidyut', 145, 18.125, 133.0275229357798, 1, 0, 21, 3],\n",
       " ['MV Boucher', 394, 28.142857142857142, 127.50809061488673, 1, 0, 32, 13],\n",
       " ['UT Khawaja', 127, 21.166666666666668, 127.0, 0, 0, 14, 3],\n",
       " ['RD Chahar', 3, 0, 150.0, 0, 0, 0, 0],\n",
       " ['ST Jayasuriya', 768, 27.428571428571427, 144.36090225563908, 4, 1, 84, 39],\n",
       " ['Vishnu Vinod', 19, 6.333333333333333, 73.07692307692307, 0, 0, 1, 1],\n",
       " ['R Sathish', 270, 15.882352941176471, 116.88311688311688, 0, 0, 22, 6],\n",
       " ['RS Bopara', 531, 29.5, 117.21854304635761, 3, 0, 39, 16],\n",
       " ['M Rawat', 55, 11.0, 79.71014492753623, 0, 0, 4, 1],\n",
       " ['L Ablish', 0, 0, 0.0, 0, 0, 0, 0],\n",
       " ['CJ Jordan', 3, 1.5, 60.0, 0, 0, 0, 0],\n",
       " ['Imran Tahir', 18, 4.5, 72.0, 0, 0, 3, 0],\n",
       " ['AA Bilakhia', 69, 13.8, 81.17647058823529, 0, 0, 5, 0],\n",
       " ['R Bhatia', 342, 11.4, 120.4225352112676, 0, 0, 24, 13],\n",
       " ['LA Carseldine', 81, 20.25, 119.11764705882352, 0, 0, 11, 0],\n",
       " ['UT Yadav', 94, 13.428571428571429, 104.44444444444446, 0, 0, 8, 3],\n",
       " ['Sunny Gupta', 0, 0.0, 0.0, 0, 0, 0, 0],\n",
       " ['RJ Quiney', 103, 14.714285714285714, 100.98039215686273, 1, 0, 12, 3],\n",
       " ['RS Gavaskar', 2, 2.0, 25.0, 0, 0, 0, 0],\n",
       " ['DA Warner', 4014, 40.14, 142.1388101983003, 36, 3, 401, 160],\n",
       " ['T Henderson', 11, 5.5, 68.75, 0, 0, 0, 1],\n",
       " ['MA Starc', 96, 13.714285714285714, 97.95918367346938, 0, 0, 10, 0],\n",
       " ['LJ Wright', 106, 21.2, 176.66666666666666, 0, 0, 16, 3],\n",
       " ['RE van der Merwe', 159, 14.454545454545455, 112.7659574468085, 0, 0, 11, 8],\n",
       " ['JD Unadkat', 5, 5.0, 38.46153846153847, 0, 0, 0, 0],\n",
       " ['DM Bravo', 6, 0, 120.0, 0, 0, 1, 0],\n",
       " ['MC Juneja', 125, 17.857142857142858, 97.65625, 0, 0, 11, 1],\n",
       " ['B Chipli', 280, 18.666666666666668, 111.55378486055776, 1, 0, 28, 7],\n",
       " ['Mohammad Asif', 3, 1.5, 50.0, 0, 0, 0, 0],\n",
       " ['M Ntini', 11, 11.0, 61.111111111111114, 0, 0, 2, 0],\n",
       " ['PP Ojha', 16, 1.3333333333333333, 35.55555555555556, 0, 0, 0, 0],\n",
       " ['DR Smith', 2385, 28.392857142857142, 135.20408163265304, 17, 0, 245, 117],\n",
       " ['CK Kapugedera', 16, 5.333333333333333, 69.56521739130434, 0, 0, 0, 0],\n",
       " ['CA Lynn', 384, 38.4, 158.02469135802468, 3, 0, 31, 23],\n",
       " ['VS Yeligati', 2, 2.0, 100.0, 0, 0, 0, 0],\n",
       " ['KP Appanna', 2, 2.0, 50.0, 0, 0, 0, 0],\n",
       " ['C Nanda', 0, 0.0, 0.0, 0, 0, 0, 0],\n",
       " ['RN ten Doeschate',\n",
       "  326,\n",
       "  23.285714285714285,\n",
       "  138.72340425531914,\n",
       "  1,\n",
       "  0,\n",
       "  26,\n",
       "  15],\n",
       " ['VS Malik', 7, 7.0, 100.0, 0, 0, 1, 0],\n",
       " ['NLTC Perera', 422, 19.181818181818183, 137.45928338762215, 0, 0, 23, 26],\n",
       " ['S Anirudha', 136, 17.0, 120.35398230088497, 1, 0, 9, 7],\n",
       " ['A Singh', 2, 0.5, 20.0, 0, 0, 0, 0],\n",
       " ['Iqbal Abdulla', 88, 44.0, 104.76190476190477, 0, 0, 9, 1],\n",
       " ['SW Billings', 226, 22.6, 134.52380952380955, 2, 0, 23, 5],\n",
       " ['A Uniyal', 4, 4.0, 57.14285714285714, 0, 0, 0, 0],\n",
       " ['Abdur Razzak', 0, 0, 0.0, 0, 0, 0, 0],\n",
       " ['SA Asnodkar', 423, 21.15, 124.7787610619469, 2, 0, 56, 10],\n",
       " ['DJ Bravo', 1262, 22.945454545454545, 126.32632632632632, 4, 0, 102, 48],\n",
       " ['PJ Cummins', 77, 12.833333333333334, 140.0, 0, 0, 5, 4],\n",
       " ['PJ Sangwan', 24, 4.0, 68.57142857142857, 0, 0, 1, 0],\n",
       " ['AUK Pathan', 39, 7.8, 169.56521739130434, 0, 0, 5, 2],\n",
       " ['TL Suman', 676, 21.125, 117.56521739130434, 2, 0, 55, 26],\n",
       " ['Anureet Singh', 33, 8.25, 76.74418604651163, 0, 0, 2, 1],\n",
       " ['YV Takawale', 192, 24.0, 107.86516853932584, 0, 0, 26, 3],\n",
       " ['CJ Anderson', 521, 27.42105263157895, 129.92518703241896, 3, 0, 40, 30],\n",
       " ['IR Jaggi', 76, 15.2, 78.35051546391753, 0, 0, 6, 0],\n",
       " ['JJ Roy', 59, 29.5, 147.5, 0, 0, 9, 1],\n",
       " ['YK Pathan', 2904, 29.632653061224488, 145.49098196392785, 13, 1, 239, 147],\n",
       " ['IK Pathan', 1139, 21.49056603773585, 120.40169133192389, 1, 0, 87, 37],\n",
       " ['M Kartik', 113, 16.142857142857142, 104.62962962962963, 0, 0, 7, 1],\n",
       " ['GH Vihari', 280, 15.555555555555555, 89.45686900958466, 0, 0, 23, 1],\n",
       " ['HM Amla', 577, 44.38461538461539, 141.76904176904176, 3, 2, 60, 21],\n",
       " ['M Muralitharan', 20, 3.3333333333333335, 66.66666666666666, 0, 0, 1, 0],\n",
       " ['BJ Rohrer', 193, 27.571428571428573, 137.85714285714286, 1, 0, 21, 5],\n",
       " ['Sohail Tanvir', 36, 12.0, 124.13793103448276, 0, 0, 3, 1],\n",
       " ['DW Steyn', 166, 7.545454545454546, 105.0632911392405, 0, 0, 14, 3],\n",
       " ['A Zampa', 5, 2.5, 62.5, 0, 0, 1, 0],\n",
       " ['SV Samson', 1426, 25.464285714285715, 124.43280977312392, 7, 1, 112, 57],\n",
       " ['MC Henriques', 969, 28.5, 128.1746031746032, 5, 0, 87, 27],\n",
       " ['A Choudhary', 25, 25.0, 125.0, 0, 0, 1, 1],\n",
       " ['Umar Gul', 39, 13.0, 205.26315789473685, 0, 0, 1, 5],\n",
       " ['PSP Handscomb', 6, 6.0, 50.0, 0, 0, 0, 0],\n",
       " ['Mandeep Singh', 1112, 20.21818181818182, 120.8695652173913, 5, 0, 134, 18],\n",
       " ['Shakib Al Hasan', 498, 20.75, 130.36649214659687, 2, 0, 44, 15],\n",
       " ['BE Hendricks', 1, 1.0, 33.33333333333333, 0, 0, 0, 0],\n",
       " ['DPMD Jayawardene', 1802, 28.15625, 123.25581395348837, 10, 1, 200, 39],\n",
       " ['RP Singh', 52, 3.466666666666667, 68.42105263157895, 0, 0, 2, 1],\n",
       " ['Sandeep Sharma', 26, 26.0, 74.28571428571429, 0, 0, 1, 0],\n",
       " ['M Ashwin', 0, 0.0, 0.0, 0, 0, 0, 0],\n",
       " ['JA Morkel', 974, 24.35, 141.98250728862973, 3, 0, 61, 55],\n",
       " ['CA Pujara', 390, 20.526315789473685, 99.74424552429667, 1, 0, 50, 4],\n",
       " ['DJG Sammy', 295, 19.666666666666668, 122.40663900414938, 1, 0, 15, 18],\n",
       " ['AC Blizzard', 120, 17.142857142857142, 133.33333333333331, 1, 0, 21, 2],\n",
       " ['SB Wagh', 2, 1.0, 66.66666666666666, 0, 0, 0, 0],\n",
       " ['KM Jadhav', 893, 23.5, 134.89425981873111, 3, 0, 72, 33],\n",
       " ['Gurkeerat Singh', 342, 16.285714285714285, 125.73529411764706, 1, 0, 36, 9],\n",
       " ['BB Samantray', 125, 25.0, 110.61946902654867, 1, 0, 13, 2],\n",
       " ['AP Majumdar', 87, 21.75, 114.4736842105263, 0, 0, 7, 2],\n",
       " ['AG Murtaza', 10, 10.0, 71.42857142857143, 0, 0, 1, 0],\n",
       " ['DR Martyn', 19, 19.0, 79.16666666666666, 0, 0, 1, 0],\n",
       " ['R Ninan', 3, 3.0, 50.0, 0, 0, 0, 0],\n",
       " ['Mohammed Shami', 46, 6.571428571428571, 102.22222222222221, 0, 0, 4, 2],\n",
       " ['WP Saha', 1557, 25.524590163934427, 130.73047858942067, 6, 1, 130, 57],\n",
       " ['AA Noffke', 9, 9.0, 90.0, 0, 0, 1, 0],\n",
       " ['Jaskaran Singh', 8, 8.0, 72.72727272727273, 0, 0, 0, 0],\n",
       " ['LH Ferguson', 1, 0, 100.0, 0, 0, 0, 0],\n",
       " ['DS Kulkarni', 90, 11.25, 93.75, 0, 0, 6, 2],\n",
       " ['RA Jadeja', 1732, 24.055555555555557, 122.92405961674946, 0, 0, 125, 57],\n",
       " ['KAJ Roach', 10, 10.0, 111.11111111111111, 0, 0, 1, 0],\n",
       " ['GB Hogg', 22, 7.333333333333333, 100.0, 0, 0, 1, 0],\n",
       " ['DB Ravi Teja', 375, 19.736842105263158, 118.29652996845425, 1, 0, 35, 9],\n",
       " ['R Tewatia', 35, 17.5, 145.83333333333331, 0, 0, 4, 1],\n",
       " ['SC Ganguly', 1349, 25.452830188679247, 106.80918448139352, 7, 0, 137, 42],\n",
       " ['SJ Srivastava', 5, 5.0, 100.0, 0, 0, 0, 0],\n",
       " ['DA Miller', 1563, 34.733333333333334, 141.44796380090497, 8, 1, 104, 78],\n",
       " ['RS Sodhi', 4, 0, 200.0, 0, 0, 1, 0],\n",
       " ['TS Mills', 8, 2.6666666666666665, 72.72727272727273, 0, 0, 0, 1],\n",
       " ['S Ladda', 0, 0.0, 0.0, 0, 0, 0, 0],\n",
       " ['MK Pandey', 2215, 28.397435897435898, 120.11930585683297, 9, 1, 197, 64],\n",
       " ['TA Boult', 5, 0, 62.5, 0, 0, 0, 0],\n",
       " ['SB Styris', 131, 18.714285714285715, 98.49624060150376, 0, 0, 10, 3],\n",
       " ['JDS Neesham', 42, 14.0, 91.30434782608695, 0, 0, 3, 1],\n",
       " ['CR Woakes', 46, 11.5, 97.87234042553192, 0, 0, 4, 1],\n",
       " ['JP Faulkner', 527, 20.26923076923077, 135.47557840616966, 0, 0, 36, 23],\n",
       " ['AC Thomas', 20, 10.0, 105.26315789473684, 0, 0, 1, 1],\n",
       " ['MA Agarwal', 814, 17.695652173913043, 123.33333333333334, 3, 0, 82, 33],\n",
       " ['DT Christian', 420, 18.26086956521739, 123.16715542521995, 0, 0, 22, 18],\n",
       " ['Salman Butt', 193, 27.571428571428573, 119.87577639751552, 1, 0, 30, 2],\n",
       " ['RR Sarwan', 73, 18.25, 97.33333333333334, 0, 0, 6, 1],\n",
       " ['MS Bisla', 798, 21.0, 113.67521367521367, 4, 0, 93, 23],\n",
       " ['B Laughlin', 4, 4.0, 44.44444444444444, 0, 0, 0, 0],\n",
       " ['DJ Jacobs', 92, 13.142857142857142, 93.87755102040816, 0, 0, 10, 4],\n",
       " ['TG Southee', 54, 9.0, 154.2857142857143, 0, 0, 3, 3],\n",
       " ['VH Zol', 29, 14.5, 111.53846153846155, 0, 0, 3, 1],\n",
       " ['J Yadav', 6, 3.0, 60.0, 0, 0, 0, 0],\n",
       " ['X Thalaivan Sargunam', 10, 10.0, 58.82352941176471, 0, 0, 0, 0],\n",
       " ['BCJ Cutting', 124, 24.8, 187.87878787878788, 0, 0, 9, 10],\n",
       " ['AB de Villiers',\n",
       "  3473,\n",
       "  38.16483516483517,\n",
       "  148.1655290102389,\n",
       "  22,\n",
       "  3,\n",
       "  287,\n",
       "  156],\n",
       " ['SR Watson', 2622, 30.847058823529412, 138.65679534637758, 14, 2, 257, 122],\n",
       " ['K Goel', 218, 14.533333333333333, 94.37229437229438, 0, 0, 17, 9],\n",
       " ['PR Shah', 92, 11.5, 101.0989010989011, 0, 0, 9, 2],\n",
       " ['SP Goswami', 241, 16.066666666666666, 96.01593625498009, 1, 0, 26, 2],\n",
       " ['KK Nair', 1158, 25.17391304347826, 126.9736842105263, 8, 0, 135, 26],\n",
       " ['T Taibu', 31, 10.333333333333334, 119.23076923076923, 0, 0, 3, 0],\n",
       " ['R Ashwin', 231, 10.5, 96.25, 0, 0, 22, 2],\n",
       " ['A Nehra', 41, 5.857142857142857, 66.12903225806451, 0, 0, 3, 1],\n",
       " ['Shivam Sharma', 5, 5.0, 166.66666666666669, 0, 0, 1, 0],\n",
       " ['MP Stoinis', 163, 23.285714285714285, 123.48484848484848, 1, 0, 14, 4],\n",
       " ['M de Lange', 1, 1.0, 50.0, 0, 0, 0, 0],\n",
       " ['RR Powar', 67, 22.333333333333332, 104.6875, 0, 0, 6, 1],\n",
       " ['Z Khan', 117, 8.357142857142858, 82.97872340425532, 0, 0, 11, 2],\n",
       " ['AJ Finch', 1603, 27.16949152542373, 130.43124491456467, 13, 0, 170, 59],\n",
       " ['R Dhawan', 153, 21.857142857142858, 113.33333333333333, 0, 0, 13, 4],\n",
       " ['S Kaushik', 0, 0.0, 0.0, 0, 0, 0, 0],\n",
       " ['D Salunkhe', 33, 16.5, 137.5, 0, 0, 5, 0],\n",
       " ['SN Khan', 177, 29.5, 173.52941176470588, 0, 0, 19, 6],\n",
       " ['AL Menaria', 401, 19.095238095238095, 112.64044943820224, 0, 0, 24, 18],\n",
       " ['PA Reddy', 164, 16.4, 102.49999999999999, 0, 0, 15, 2],\n",
       " ['KL Rahul', 725, 30.208333333333332, 125.64991334488735, 4, 0, 61, 24],\n",
       " ['Sachin Baby', 137, 17.125, 135.64356435643566, 0, 0, 11, 5],\n",
       " ['AD Nath', 20, 5.0, 71.42857142857143, 0, 0, 1, 0],\n",
       " ['MS Wade', 22, 7.333333333333333, 66.66666666666666, 0, 0, 0, 0],\n",
       " ['N Saini', 140, 14.0, 99.29078014184397, 1, 0, 16, 0],\n",
       " ['CM Gautam', 169, 16.9, 112.66666666666667, 0, 0, 17, 6],\n",
       " ['SB Bangar', 49, 7.0, 84.48275862068965, 0, 0, 1, 3],\n",
       " ['DJ Hussey', 1322, 26.979591836734695, 122.97674418604652, 5, 0, 90, 60],\n",
       " ['Harbhajan Singh',\n",
       "  799,\n",
       "  15.666666666666666,\n",
       "  142.42424242424244,\n",
       "  1,\n",
       "  0,\n",
       "  76,\n",
       "  41],\n",
       " ['MD Mishra', 237, 14.8125, 113.9423076923077, 0, 0, 24, 8],\n",
       " ['UA Birla', 7, 7.0, 50.0, 0, 0, 1, 0],\n",
       " ['RJ Harris', 117, 9.75, 104.46428571428572, 0, 0, 6, 3],\n",
       " ['B Kumar', 158, 8.31578947368421, 100.63694267515923, 0, 0, 15, 3],\n",
       " ['A Flintoff', 62, 31.0, 116.98113207547169, 0, 0, 5, 2],\n",
       " ['CH Morris', 439, 36.583333333333336, 165.66037735849056, 2, 0, 33, 23],\n",
       " ['MF Maharoof', 177, 17.7, 143.90243902439025, 0, 0, 12, 9],\n",
       " ['L Balaji', 36, 4.5, 73.46938775510205, 0, 0, 2, 1],\n",
       " ['SE Bond', 1, 1.0, 50.0, 0, 0, 0, 0],\n",
       " ['R Rampaul', 51, 10.2, 102.0, 0, 0, 3, 2],\n",
       " ['AA Chavan', 12, 6.0, 109.09090909090908, 0, 0, 2, 0],\n",
       " ['C de Grandhomme', 126, 15.75, 136.95652173913044, 0, 0, 10, 6],\n",
       " ['PA Patel', 2322, 21.700934579439252, 117.21352852094901, 10, 0, 297, 35],\n",
       " ['Kamran Akmal', 128, 25.6, 164.1025641025641, 1, 0, 13, 8],\n",
       " ['S Sriram', 31, 15.5, 86.11111111111111, 0, 0, 3, 0],\n",
       " ['CA Ingram', 21, 10.5, 80.76923076923077, 0, 0, 2, 0],\n",
       " ['JEC Franklin', 327, 29.727272727272727, 108.63787375415282, 1, 0, 25, 9],\n",
       " ['S Sohal', 368, 18.4, 126.02739726027397, 2, 0, 34, 18],\n",
       " ['U Kaul', 0, 0, 0.0, 0, 0, 0, 0],\n",
       " ['AA Jhunjhunwala', 217, 16.692307692307693, 103.33333333333334, 1, 0, 19, 5],\n",
       " ['TM Dilshan', 1153, 26.813953488372093, 114.49851042701091, 9, 0, 140, 24],\n",
       " ['Yuvraj Singh',\n",
       "  2587,\n",
       "  25.613861386138613,\n",
       "  131.1866125760649,\n",
       "  12,\n",
       "  0,\n",
       "  204,\n",
       "  141],\n",
       " ['M Klinger', 73, 18.25, 94.8051948051948, 0, 0, 9, 0],\n",
       " ['M Kaif', 259, 14.38888888888889, 103.60000000000001, 0, 0, 22, 6],\n",
       " ['JDP Oram', 106, 13.25, 98.14814814814815, 0, 0, 6, 5],\n",
       " ['AD Mathews', 724, 23.35483870967742, 125.91304347826086, 1, 0, 44, 29],\n",
       " ['SM Pollock', 147, 18.375, 132.43243243243242, 0, 0, 12, 8],\n",
       " ['PP Chawla', 515, 12.261904761904763, 113.68653421633555, 0, 0, 49, 15],\n",
       " ['S Kaul', 9, 0, 69.23076923076923, 0, 0, 0, 0],\n",
       " ['SB Jakati', 28, 28.0, 96.55172413793103, 0, 0, 3, 0],\n",
       " ['Harpreet Singh', 20, 10.0, 76.92307692307693, 0, 0, 0, 0],\n",
       " ['Misbah-ul-Haq', 117, 16.714285714285715, 144.44444444444443, 0, 0, 10, 6],\n",
       " ['MR Marsh', 225, 18.75, 114.79591836734696, 0, 0, 9, 14],\n",
       " ['Parvez Rasool', 17, 8.5, 85.0, 0, 0, 1, 0],\n",
       " ['D Kalyankrishna', 3, 3.0, 37.5, 0, 0, 0, 0],\n",
       " ['RR Pant', 564, 25.636363636363637, 151.20643431635386, 3, 0, 47, 30],\n",
       " ['PD Collingwood', 203, 40.6, 130.12820512820514, 3, 0, 9, 13],\n",
       " ['W Jaffer', 130, 16.25, 107.43801652892562, 1, 0, 14, 3],\n",
       " ['SW Tait', 23, 7.666666666666667, 88.46153846153845, 0, 0, 1, 1],\n",
       " ['HH Gibbs', 886, 27.6875, 109.78934324659231, 6, 0, 83, 31],\n",
       " ['RV Uthappa', 3778, 29.515625, 131.6376306620209, 22, 0, 377, 125],\n",
       " ['SA Abbott', 15, 7.5, 115.38461538461537, 0, 0, 1, 1],\n",
       " ['ND Doshi', 0, 0.0, 0.0, 0, 0, 0, 0],\n",
       " ['AB Agarkar', 179, 17.9, 116.23376623376625, 0, 0, 13, 5],\n",
       " ['OA Shah', 506, 33.733333333333334, 130.0771208226221, 4, 0, 34, 23],\n",
       " ['DJ Muthuswami', 1, 1.0, 33.33333333333333, 0, 0, 0, 0],\n",
       " ['C Madan', 15, 15.0, 78.94736842105263, 0, 0, 3, 0],\n",
       " ['DJ Thornely', 39, 13.0, 73.58490566037736, 0, 0, 2, 2],\n",
       " ['DJ Harris', 111, 27.75, 109.9009900990099, 0, 0, 11, 5],\n",
       " ['JC Buttler', 527, 23.954545454545453, 145.98337950138506, 1, 0, 50, 26],\n",
       " ['BJ Hodge', 1400, 33.333333333333336, 125.22361359570662, 6, 0, 122, 43],\n",
       " ['AT Rayudu', 2416, 27.146067415730336, 126.16187989556136, 14, 0, 205, 79],\n",
       " ['JH Kallis', 2427, 28.55294117647059, 109.22592259225922, 17, 0, 255, 44],\n",
       " ['AS Yadav', 49, 9.8, 125.64102564102564, 0, 0, 5, 2],\n",
       " ['SP Fleming', 196, 21.77777777777778, 118.7878787878788, 0, 0, 27, 3],\n",
       " ['AN Ahmed', 36, 36.0, 138.46153846153845, 0, 0, 4, 1],\n",
       " ['V Kohli', 4418, 37.440677966101696, 129.8266235674405, 30, 4, 383, 160],\n",
       " ['DH Yagnik', 170, 17.0, 124.08759124087592, 0, 0, 23, 2],\n",
       " ['JJ Bumrah', 25, 12.5, 96.15384615384616, 0, 0, 1, 1],\n",
       " ['S Randiv', 2, 2.0, 50.0, 0, 0, 0, 0],\n",
       " ['STR Binny', 766, 20.157894736842106, 126.82119205298012, 0, 0, 59, 29],\n",
       " ['KP Pietersen', 1001, 35.75, 134.72409152086138, 4, 1, 91, 40],\n",
       " ['UBT Chand', 300, 15.0, 100.0, 1, 0, 32, 9],\n",
       " ['SK Warne', 198, 9.9, 92.5233644859813, 0, 0, 14, 6],\n",
       " ['MS Dhoni', 3560, 37.87234042553192, 136.7127496159754, 17, 0, 251, 156],\n",
       " ['AP Dole', 34, 17.0, 154.54545454545453, 0, 0, 3, 1],\n",
       " ['HH Pandya', 406, 21.36842105263158, 142.4561403508772, 1, 0, 24, 28],\n",
       " ['R Bishnoi', 19, 6.333333333333333, 111.76470588235294, 0, 0, 1, 2],\n",
       " ['SM Harwood', 9, 0, 64.28571428571429, 0, 0, 0, 0],\n",
       " ['S Badrinath', 1441, 30.659574468085108, 118.8943894389439, 11, 0, 154, 28],\n",
       " ['AS Raut', 194, 21.555555555555557, 116.1676646706587, 0, 0, 13, 7],\n",
       " ['BA Stokes', 316, 31.6, 142.98642533936652, 1, 1, 22, 15],\n",
       " ['TM Head', 205, 29.285714285714285, 138.51351351351352, 1, 0, 12, 8],\n",
       " ['Ankit Soni', 7, 3.5, 77.77777777777779, 0, 0, 0, 1],\n",
       " ['R Vinay Kumar', 304, 10.857142857142858, 112.1771217712177, 0, 0, 20, 9],\n",
       " ['AP Tare', 339, 14.125, 124.17582417582418, 1, 0, 40, 11],\n",
       " ['Younis Khan', 3, 3.0, 42.857142857142854, 0, 0, 0, 0],\n",
       " ['AD Mascarenhas', 79, 8.777777777777779, 101.28205128205127, 0, 0, 5, 1],\n",
       " ['Y Venugopal Rao',\n",
       "  985,\n",
       "  22.386363636363637,\n",
       "  117.82296650717703,\n",
       "  3,\n",
       "  0,\n",
       "  77,\n",
       "  37],\n",
       " ['SMSM Senanayake', 10, 10.0, 58.82352941176471, 0, 0, 0, 0],\n",
       " ['MS Gony', 99, 9.9, 139.43661971830986, 0, 0, 6, 8],\n",
       " ['Bipul Sharma', 187, 23.375, 152.03252032520325, 0, 0, 11, 9],\n",
       " ['KC Cariappa', 15, 5.0, 83.33333333333334, 0, 0, 0, 1],\n",
       " ['A Mithun', 34, 6.8, 130.76923076923077, 0, 0, 4, 1],\n",
       " ['SA Yadav', 608, 20.96551724137931, 130.752688172043, 1, 0, 54, 21],\n",
       " ['Pankaj Singh', 7, 3.5, 58.333333333333336, 0, 0, 0, 0],\n",
       " ['NS Naik', 23, 11.5, 74.19354838709677, 0, 0, 1, 0],\n",
       " ['AB Barath', 42, 21.0, 100.0, 0, 0, 5, 1],\n",
       " ['S Nadeem', 26, 2.1666666666666665, 37.142857142857146, 0, 0, 1, 0],\n",
       " ['Mohammad Hafeez', 64, 9.142857142857142, 77.10843373493977, 0, 0, 7, 2],\n",
       " ['HV Patel', 47, 5.222222222222222, 138.23529411764704, 0, 0, 2, 3],\n",
       " ['S Tyagi', 3, 3.0, 75.0, 0, 0, 0, 0],\n",
       " ['GD McGrath', 4, 4.0, 80.0, 0, 0, 1, 0],\n",
       " ['Harmeet Singh', 18, 4.5, 150.0, 0, 0, 3, 0],\n",
       " ['SP Jackson', 38, 19.0, 122.58064516129032, 0, 0, 5, 0],\n",
       " ['KA Pollard', 2344, 28.585365853658537, 146.59161976235146, 12, 0, 157, 147],\n",
       " ['G Gambhir', 4132, 31.541984732824428, 124.60796139927623, 35, 0, 484, 58],\n",
       " ['B Lee', 124, 12.4, 127.83505154639174, 0, 0, 8, 8],\n",
       " ['Yashpal Singh', 47, 11.75, 71.21212121212122, 0, 0, 5, 0],\n",
       " ['V Shankar', 101, 50.5, 134.66666666666666, 1, 0, 12, 1],\n",
       " ['YA Abdulla', 0, 0, 0.0, 0, 0, 0, 0],\n",
       " ['LR Shukla', 405, 15.0, 115.71428571428572, 0, 0, 33, 16],\n",
       " ['V Sehwag', 2728, 27.555555555555557, 155.44159544159544, 16, 2, 334, 106],\n",
       " ['JR Hopes', 417, 26.0625, 136.27450980392157, 4, 0, 49, 11],\n",
       " ['R Sharma', 66, 4.714285714285714, 88.0, 0, 0, 5, 3],\n",
       " ['SP Narine', 271, 13.55, 147.2826086956522, 1, 0, 36, 12],\n",
       " ['AD Russell', 574, 26.09090909090909, 173.41389728096678, 3, 0, 48, 37],\n",
       " ['DB Das', 304, 21.714285714285715, 116.47509578544062, 0, 0, 23, 16],\n",
       " ['I Malhotra', 7, 0, 175.0, 0, 0, 1, 0],\n",
       " ['SS Iyer', 807, 27.82758620689655, 128.50318471337582, 6, 0, 79, 32],\n",
       " ['DNT Zoysa', 11, 11.0, 122.22222222222223, 0, 0, 1, 0],\n",
       " ['A Kumble', 35, 11.666666666666666, 74.46808510638297, 0, 0, 3, 0],\n",
       " ['J Theron', 10, 5.0, 83.33333333333334, 0, 0, 1, 0],\n",
       " ['Basil Thampi', 28, 0, 100.0, 0, 0, 1, 1],\n",
       " ['S Gopal', 14, 7.0, 51.85185185185185, 0, 0, 1, 0],\n",
       " ['SS Shaikh', 6, 6.0, 85.71428571428571, 0, 0, 1, 0],\n",
       " ['RG Sharma', 4207, 32.6124031007752, 130.8960796515246, 32, 1, 354, 173],\n",
       " ['MK Tiwary', 1648, 29.428571428571427, 117.29537366548041, 7, 0, 152, 39],\n",
       " ['Y Nagar', 285, 20.357142857142858, 110.03861003861005, 0, 0, 20, 9],\n",
       " ['S Badree', 13, 2.6, 56.52173913043478, 0, 0, 0, 0],\n",
       " ['Ishan Kishan', 319, 21.266666666666666, 129.1497975708502, 1, 0, 34, 13],\n",
       " ['DT Patil', 13, 6.5, 100.0, 0, 0, 1, 0],\n",
       " ['MN Samuels', 161, 12.384615384615385, 93.6046511627907, 0, 0, 9, 7],\n",
       " ['DL Vettori', 121, 15.125, 107.07964601769913, 0, 0, 11, 2],\n",
       " ['JE Taylor', 3, 3.0, 100.0, 0, 0, 0, 0],\n",
       " ['RG More', 2, 0, 100.0, 0, 0, 0, 0],\n",
       " ['DP Vijaykumar', 1, 0, 100.0, 0, 0, 0, 0],\n",
       " ['P Negi', 353, 17.65, 129.77941176470588, 0, 0, 26, 16],\n",
       " ['LMP Simmons', 1079, 39.96296296296296, 126.6431924882629, 11, 1, 109, 44],\n",
       " ['N Rana', 437, 31.214285714285715, 128.90855457227138, 4, 0, 31, 25],\n",
       " ['Ankit Sharma', 87, 12.428571428571429, 129.8507462686567, 0, 0, 7, 4],\n",
       " ['B Akhil', 76, 12.666666666666666, 138.1818181818182, 0, 0, 5, 5],\n",
       " ['GJ Maxwell', 1228, 25.06122448979592, 164.3908969210174, 6, 0, 96, 82],\n",
       " ['R Shukla', 19, 19.0, 82.6086956521739, 0, 0, 2, 0],\n",
       " ['CL White', 954, 26.5, 126.35761589403972, 6, 0, 76, 36],\n",
       " ['KD Karthik', 2903, 24.811965811965813, 125.94360086767895, 14, 0, 286, 71],\n",
       " ['M Manhas', 514, 22.347826086956523, 109.36170212765957, 0, 0, 43, 10],\n",
       " ['R McLaren', 159, 19.875, 92.98245614035088, 1, 0, 14, 1],\n",
       " ['V Pratap Singh', 0, 0.0, 0.0, 0, 0, 0, 0],\n",
       " ['Niraj Patel', 121, 30.25, 101.68067226890756, 1, 0, 14, 1],\n",
       " ['Shoaib Ahmed', 1, 0.5, 16.666666666666664, 0, 0, 0, 0],\n",
       " ['IC Pandey', 0, 0.0, 0.0, 0, 0, 0, 0],\n",
       " ['KS Williamson', 411, 31.615384615384617, 129.24528301886792, 3, 0, 35, 11],\n",
       " ['A Mishra', 340, 11.724137931034482, 93.66391184573003, 0, 0, 27, 5],\n",
       " ['TD Paine', 10, 5.0, 38.46153846153847, 0, 0, 0, 0],\n",
       " ['SE Marsh', 2477, 39.317460317460316, 132.7438370846731, 20, 1, 266, 78],\n",
       " ['AB Dinda', 26, 2.6, 54.166666666666664, 0, 0, 2, 0],\n",
       " ['LA Pomersbach', 302, 27.454545454545453, 122.76422764227641, 1, 0, 25, 13],\n",
       " ['GJ Bailey', 663, 24.555555555555557, 121.875, 2, 0, 59, 19],\n",
       " ['J Syed Mohammad', 29, 14.5, 111.53846153846155, 0, 0, 4, 0],\n",
       " ['NM Coulter-Nile', 52, 6.5, 104.0, 0, 0, 3, 4],\n",
       " ['FY Fazal', 183, 18.3, 105.78034682080926, 0, 0, 22, 1],\n",
       " ['CRD Fernando', 4, 0, 133.33333333333331, 0, 0, 0, 0],\n",
       " ['ER Dwivedi', 24, 12.0, 171.42857142857142, 0, 0, 2, 2],\n",
       " ['SD Chitnis', 99, 14.142857142857142, 111.23595505617978, 0, 0, 10, 2],\n",
       " ['J Suchith', 48, 48.0, 150.0, 0, 0, 4, 2],\n",
       " ['FH Edwards', 4, 4.0, 80.0, 0, 0, 0, 0],\n",
       " ['Kuldeep Yadav', 20, 10.0, 90.9090909090909, 0, 0, 2, 0],\n",
       " ['K Upadhyay', 12, 0, 133.33333333333331, 0, 0, 0, 1],\n",
       " ['JD Ryder', 604, 21.571428571428573, 131.87772925764193, 4, 0, 69, 19],\n",
       " ['AN Ghosh', 7, 3.5, 87.5, 0, 0, 1, 0],\n",
       " ['PM Sarvesh Kumar', 1, 0, 50.0, 0, 0, 0, 0],\n",
       " ['AJ Tye', 53, 26.5, 176.66666666666666, 0, 0, 4, 3],\n",
       " ['NL McCullum', 26, 26.0, 118.18181818181819, 0, 0, 0, 1],\n",
       " ['PV Tambe', 18, 9.0, 46.15384615384615, 0, 0, 1, 0],\n",
       " ['P Kumar', 340, 8.947368421052632, 108.28025477707006, 0, 0, 22, 17],\n",
       " ['RR Rossouw', 53, 10.6, 103.921568627451, 0, 0, 3, 3],\n",
       " ['C Munro', 30, 10.0, 100.0, 0, 0, 3, 0],\n",
       " ['SB Joshi', 6, 3.0, 42.857142857142854, 0, 0, 0, 0],\n",
       " ['LPC Silva', 40, 20.0, 153.84615384615387, 0, 0, 5, 1],\n",
       " ['AB McDonald', 123, 24.6, 123.0, 0, 0, 9, 4],\n",
       " ['KJ Abbott', 13, 13.0, 162.5, 0, 0, 0, 1],\n",
       " ['J Arunkumar', 23, 7.666666666666667, 100.0, 0, 0, 5, 0],\n",
       " ['S Aravind', 59, 14.75, 103.50877192982458, 0, 0, 7, 0],\n",
       " ['BR Dunk', 40, 13.333333333333334, 114.28571428571428, 0, 0, 7, 0],\n",
       " ['J Botha', 409, 20.45, 113.9275766016713, 1, 0, 39, 5],\n",
       " ['RR Bhatkal', 0, 0.0, 0.0, 0, 0, 0, 0],\n",
       " ['RT Ponting', 91, 10.11111111111111, 71.09375, 0, 0, 5, 2],\n",
       " ['D Wiese', 127, 31.75, 141.11111111111111, 0, 0, 12, 4],\n",
       " ['BJ Haddin', 18, 18.0, 163.63636363636365, 0, 0, 2, 1],\n",
       " ['NJ Rimmington', 1, 0, 100.0, 0, 0, 0, 0],\n",
       " ['AF Milne', 7, 3.5, 58.333333333333336, 0, 0, 0, 0],\n",
       " ['M Vijay', 2511, 26.431578947368422, 123.39066339066338, 13, 2, 237, 89],\n",
       " ['A Chopra', 53, 8.833333333333334, 74.64788732394366, 0, 0, 7, 0],\n",
       " ['Mashrafe Mortaza', 2, 0, 100.0, 0, 0, 0, 0],\n",
       " ['BB Sran', 4, 0, 100.0, 0, 0, 0, 0],\n",
       " ['RJ Peterson', 32, 10.666666666666666, 106.66666666666667, 0, 0, 3, 1],\n",
       " ['KV Sharma', 317, 15.095238095238095, 115.69343065693431, 0, 0, 18, 14],\n",
       " ['JJ van der Wath', 18, 9.0, 112.5, 0, 0, 1, 1],\n",
       " ['Karanveer Singh', 12, 12.0, 70.58823529411765, 0, 0, 1, 0],\n",
       " ['KW Richardson', 36, 12.0, 92.3076923076923, 0, 0, 2, 1],\n",
       " ['D du Preez', 10, 10.0, 76.92307692307693, 0, 0, 0, 0],\n",
       " ['CK Langeveldt', 8, 4.0, 88.88888888888889, 0, 0, 0, 1],\n",
       " ['SS Tiwary', 1276, 28.355555555555554, 119.58762886597938, 7, 0, 93, 45],\n",
       " ['DJ Hooda', 373, 14.346153846153847, 139.17910447761196, 1, 0, 20, 20],\n",
       " ['WD Parnell', 63, 7.0, 84.0, 0, 0, 4, 1],\n",
       " ['DAJ Bracewell', 12, 0, 133.33333333333331, 0, 0, 1, 0],\n",
       " ['GC Smith', 739, 28.423076923076923, 110.62874251497006, 4, 0, 94, 9],\n",
       " ['Shoaib Akhtar', 2, 2.0, 28.57142857142857, 0, 0, 0, 0],\n",
       " ['KMDN Kulasekara', 5, 0, 166.66666666666669, 0, 0, 1, 0],\n",
       " ['PC Valthaty', 505, 22.954545454545453, 120.8133971291866, 2, 1, 61, 20],\n",
       " ['S Narwal', 37, 12.333333333333334, 137.03703703703704, 0, 0, 6, 0],\n",
       " ['CR Brathwaite', 95, 11.875, 179.24528301886792, 0, 0, 8, 8],\n",
       " ['LRPL Taylor', 1017, 25.425, 123.72262773722629, 3, 0, 66, 46],\n",
       " ['GR Napier', 15, 15.0, 93.75, 0, 0, 1, 0],\n",
       " ['RR Raje', 20, 20.0, 111.11111111111111, 0, 0, 1, 1],\n",
       " ['AC Gilchrist',\n",
       "  2069,\n",
       "  27.223684210526315,\n",
       "  138.39464882943145,\n",
       "  11,\n",
       "  2,\n",
       "  239,\n",
       "  92],\n",
       " ['S Dhawan', 3561, 32.669724770642205, 121.86858316221767, 28, 0, 401, 71],\n",
       " ['MM Sharma', 112, 8.0, 109.80392156862746, 0, 0, 8, 4],\n",
       " ['P Sahu', 19, 19.0, 146.15384615384613, 0, 0, 1, 1],\n",
       " ['Sunny Singh', 43, 10.75, 138.70967741935485, 0, 0, 6, 1],\n",
       " ['RA Tripathi', 391, 27.928571428571427, 146.44194756554307, 2, 0, 43, 17],\n",
       " ['Shahid Afridi', 81, 10.125, 176.08695652173913, 0, 0, 7, 6],\n",
       " ['R Dravid', 2174, 28.233766233766232, 115.5154091392136, 11, 0, 269, 28],\n",
       " ['A Ashish Reddy', 280, 18.666666666666668, 145.0777202072539, 0, 0, 16, 15],\n",
       " ['P Dogra', 127, 11.545454545454545, 92.02898550724638, 0, 0, 4, 5],\n",
       " ['AG Paunikar', 49, 9.8, 84.48275862068965, 0, 0, 9, 0],\n",
       " ['VR Aaron', 46, 11.5, 83.63636363636363, 0, 0, 2, 2],\n",
       " ['DE Bollinger', 21, 21.0, 91.30434782608695, 0, 0, 1, 1],\n",
       " ['BMAJ Mendis', 23, 7.666666666666667, 85.18518518518519, 0, 0, 0, 0],\n",
       " ['AM Nayar', 672, 17.68421052631579, 116.46447140381282, 0, 0, 55, 20],\n",
       " ['SPD Smith', 1703, 37.02173913043478, 131.7092034029389, 5, 1, 150, 45],\n",
       " ['VVS Laxman', 282, 14.842105263157896, 105.61797752808988, 1, 0, 33, 5],\n",
       " ['CJ McKay', 8, 8.0, 53.333333333333336, 0, 0, 0, 0],\n",
       " ['Anirudh Singh', 63, 15.75, 95.45454545454545, 0, 0, 6, 1],\n",
       " ['S Sreesanth', 34, 8.5, 61.81818181818181, 0, 0, 6, 0],\n",
       " ['TR Birt', 75, 15.0, 129.31034482758622, 0, 0, 9, 2],\n",
       " ['P Parameswaran', 1, 0, 50.0, 0, 0, 0, 0],\n",
       " ['MG Johnson', 151, 11.615384615384615, 98.69281045751634, 0, 0, 8, 7],\n",
       " ['B Sumanth', 35, 35.0, 94.5945945945946, 0, 0, 3, 0],\n",
       " ['KK Cooper', 116, 12.88888888888889, 170.58823529411765, 0, 0, 9, 8],\n",
       " ['MDKJ Perera', 14, 7.0, 107.6923076923077, 0, 0, 3, 0],\n",
       " ['I Sharma', 45, 7.5, 77.58620689655173, 0, 0, 3, 1],\n",
       " ['Shoaib Malik', 52, 13.0, 110.63829787234043, 0, 0, 5, 0],\n",
       " ['Y Gnaneswara Rao', 19, 19.0, 111.76470588235294, 0, 0, 3, 0],\n",
       " ['Kamran Khan', 3, 3.0, 60.0, 0, 0, 0, 0],\n",
       " ['RV Gomez', 50, 10.0, 98.0392156862745, 0, 0, 5, 1],\n",
       " ['NJ Maddinson', 20, 6.666666666666667, 95.23809523809523, 0, 0, 4, 0],\n",
       " ['Swapnil Singh', 12, 4.0, 60.0, 0, 0, 0, 0],\n",
       " ['WPUJC Vaas', 81, 10.125, 110.95890410958904, 0, 0, 2, 3],\n",
       " ['A Mukund', 19, 9.5, 86.36363636363636, 0, 0, 1, 0],\n",
       " ['SK Trivedi', 42, 6.0, 71.1864406779661, 0, 0, 3, 1],\n",
       " ['A Chandila', 4, 0, 57.14285714285714, 0, 0, 0, 0],\n",
       " ['Azhar Mahmood', 388, 20.42105263157895, 128.05280528052805, 2, 0, 39, 13],\n",
       " ['Joginder Sharma', 36, 9.0, 120.0, 0, 0, 1, 2],\n",
       " ['F Behardien', 14, 7.0, 107.6923076923077, 0, 0, 2, 0],\n",
       " ['Q de Kock', 726, 29.04, 132.24043715846994, 5, 1, 90, 21],\n",
       " ['KH Pandya', 480, 34.285714285714285, 158.41584158415841, 1, 0, 46, 20],\n",
       " ['KB Arun Karthik', 51, 10.2, 100.0, 0, 0, 4, 1],\n",
       " ['S Chanderpaul', 25, 8.333333333333334, 80.64516129032258, 0, 0, 4, 0],\n",
       " ['MM Patel', 39, 6.5, 95.1219512195122, 0, 0, 5, 0],\n",
       " ['P Awana', 5, 2.5, 35.714285714285715, 0, 0, 0, 0],\n",
       " ['DS Lehmann', 18, 9.0, 100.0, 0, 0, 3, 0],\n",
       " ['AM Rahane', 3057, 33.59340659340659, 120.59171597633136, 25, 1, 320, 60],\n",
       " ['MJ Guptill', 189, 21.0, 132.16783216783216, 1, 0, 20, 8],\n",
       " ['MJ McClenaghan', 63, 7.875, 143.1818181818182, 0, 0, 2, 6],\n",
       " ['M Morkel', 126, 11.454545454545455, 140.0, 0, 0, 11, 5],\n",
       " ['SN Thakur', 7, 2.3333333333333335, 77.77777777777779, 0, 0, 1, 0],\n",
       " ['TM Srivastava', 8, 8.0, 72.72727272727273, 0, 0, 0, 0],\n",
       " ['M Vohra', 957, 24.53846153846154, 132.73231622746187, 3, 0, 95, 35],\n",
       " ['BAW Mendis', 3, 1.5, 50.0, 0, 0, 0, 0],\n",
       " ['T Kohli', 11, 3.6666666666666665, 57.89473684210527, 0, 0, 0, 1],\n",
       " ['RE Levi', 83, 13.833333333333334, 113.69863013698631, 1, 0, 10, 4],\n",
       " ['EJG Morgan', 854, 21.35, 121.13475177304964, 4, 0, 72, 34],\n",
       " ['Mohammad Ashraful', 2, 2.0, 20.0, 0, 0, 0, 0],\n",
       " ['K Rabada', 55, 18.333333333333332, 85.9375, 0, 0, 5, 1],\n",
       " ['MA Khote', 24, 12.0, 109.09090909090908, 0, 0, 2, 1],\n",
       " ['BB McCullum',\n",
       "  2753,\n",
       "  28.091836734693878,\n",
       "  131.22020972354625,\n",
       "  13,\n",
       "  2,\n",
       "  277,\n",
       "  124],\n",
       " ['SK Raina', 4540, 33.88059701492537, 139.09313725490196, 31, 1, 402, 173]]"
      ]
     },
     "execution_count": 324,
     "metadata": {},
     "output_type": "execute_result"
    }
   ],
   "source": [
    "analysis_condition = ListTable()\n",
    "\n",
    "analysis_condition.append(['Name', 'Runs', 'Average', 'Strike rate','Fifty', 'Century', 'Fours','Sixes'])\n",
    "for i in range(len(player_list)):\n",
    "    analysis_condition.append([player_list[i], Players_Runs[i], P_avg[i], Players_SR[i],Player_fifty[i], Player_century[i], Player_four[i],Player_six[i]])\n",
    "analysis_condition"
   ]
  },
  {
   "cell_type": "markdown",
   "metadata": {},
   "source": [
    "## Correlation Analysis"
   ]
  },
  {
   "cell_type": "markdown",
   "metadata": {},
   "source": [
    "### Making Data Dictionary for All players"
   ]
  },
  {
   "cell_type": "code",
   "execution_count": 164,
   "metadata": {
    "scrolled": true
   },
   "outputs": [
    {
     "data": {
      "text/html": [
       "<div>\n",
       "<style scoped>\n",
       "    .dataframe tbody tr th:only-of-type {\n",
       "        vertical-align: middle;\n",
       "    }\n",
       "\n",
       "    .dataframe tbody tr th {\n",
       "        vertical-align: top;\n",
       "    }\n",
       "\n",
       "    .dataframe thead th {\n",
       "        text-align: right;\n",
       "    }\n",
       "</style>\n",
       "<table border=\"1\" class=\"dataframe\">\n",
       "  <thead>\n",
       "    <tr style=\"text-align: right;\">\n",
       "      <th></th>\n",
       "      <th>Average</th>\n",
       "      <th>Century</th>\n",
       "      <th>Fifty</th>\n",
       "      <th>Four</th>\n",
       "      <th>Runs</th>\n",
       "      <th>Six</th>\n",
       "      <th>Strike Rate</th>\n",
       "    </tr>\n",
       "  </thead>\n",
       "  <tbody>\n",
       "    <tr>\n",
       "      <th>Average</th>\n",
       "      <td>1.000000</td>\n",
       "      <td>0.376923</td>\n",
       "      <td>0.535704</td>\n",
       "      <td>0.567525</td>\n",
       "      <td>0.585589</td>\n",
       "      <td>0.544384</td>\n",
       "      <td>0.595474</td>\n",
       "    </tr>\n",
       "    <tr>\n",
       "      <th>Century</th>\n",
       "      <td>0.376923</td>\n",
       "      <td>1.000000</td>\n",
       "      <td>0.612013</td>\n",
       "      <td>0.597991</td>\n",
       "      <td>0.618807</td>\n",
       "      <td>0.703608</td>\n",
       "      <td>0.189443</td>\n",
       "    </tr>\n",
       "    <tr>\n",
       "      <th>Fifty</th>\n",
       "      <td>0.535704</td>\n",
       "      <td>0.612013</td>\n",
       "      <td>1.000000</td>\n",
       "      <td>0.957205</td>\n",
       "      <td>0.954166</td>\n",
       "      <td>0.851429</td>\n",
       "      <td>0.261085</td>\n",
       "    </tr>\n",
       "    <tr>\n",
       "      <th>Four</th>\n",
       "      <td>0.567525</td>\n",
       "      <td>0.597991</td>\n",
       "      <td>0.957205</td>\n",
       "      <td>1.000000</td>\n",
       "      <td>0.981999</td>\n",
       "      <td>0.853202</td>\n",
       "      <td>0.305469</td>\n",
       "    </tr>\n",
       "    <tr>\n",
       "      <th>Runs</th>\n",
       "      <td>0.585589</td>\n",
       "      <td>0.618807</td>\n",
       "      <td>0.954166</td>\n",
       "      <td>0.981999</td>\n",
       "      <td>1.000000</td>\n",
       "      <td>0.919069</td>\n",
       "      <td>0.320494</td>\n",
       "    </tr>\n",
       "    <tr>\n",
       "      <th>Six</th>\n",
       "      <td>0.544384</td>\n",
       "      <td>0.703608</td>\n",
       "      <td>0.851429</td>\n",
       "      <td>0.853202</td>\n",
       "      <td>0.919069</td>\n",
       "      <td>1.000000</td>\n",
       "      <td>0.336450</td>\n",
       "    </tr>\n",
       "    <tr>\n",
       "      <th>Strike Rate</th>\n",
       "      <td>0.595474</td>\n",
       "      <td>0.189443</td>\n",
       "      <td>0.261085</td>\n",
       "      <td>0.305469</td>\n",
       "      <td>0.320494</td>\n",
       "      <td>0.336450</td>\n",
       "      <td>1.000000</td>\n",
       "    </tr>\n",
       "  </tbody>\n",
       "</table>\n",
       "</div>"
      ],
      "text/plain": [
       "              Average   Century     Fifty      Four      Runs       Six  \\\n",
       "Average      1.000000  0.376923  0.535704  0.567525  0.585589  0.544384   \n",
       "Century      0.376923  1.000000  0.612013  0.597991  0.618807  0.703608   \n",
       "Fifty        0.535704  0.612013  1.000000  0.957205  0.954166  0.851429   \n",
       "Four         0.567525  0.597991  0.957205  1.000000  0.981999  0.853202   \n",
       "Runs         0.585589  0.618807  0.954166  0.981999  1.000000  0.919069   \n",
       "Six          0.544384  0.703608  0.851429  0.853202  0.919069  1.000000   \n",
       "Strike Rate  0.595474  0.189443  0.261085  0.305469  0.320494  0.336450   \n",
       "\n",
       "             Strike Rate  \n",
       "Average         0.595474  \n",
       "Century         0.189443  \n",
       "Fifty           0.261085  \n",
       "Four            0.305469  \n",
       "Runs            0.320494  \n",
       "Six             0.336450  \n",
       "Strike Rate     1.000000  "
      ]
     },
     "execution_count": 164,
     "metadata": {},
     "output_type": "execute_result"
    }
   ],
   "source": [
    "batsman_details = {\"Name\":player_list,\"Runs\":Players_Runs, \"Strike Rate\":Players_SR ,\"Average\":P_avg,\"Century\": Player_century,\"Fifty\": Player_fifty,\"Six\": Player_six,\"Four\": Player_four}\n",
    "batsman_details_dataframe = pd.DataFrame(batsman_details)\n",
    "batsman_details_dataframe.corr()"
   ]
  },
  {
   "cell_type": "code",
   "execution_count": 360,
   "metadata": {},
   "outputs": [
    {
     "data": {
      "text/html": [
       "<div>\n",
       "<style scoped>\n",
       "    .dataframe tbody tr th:only-of-type {\n",
       "        vertical-align: middle;\n",
       "    }\n",
       "\n",
       "    .dataframe tbody tr th {\n",
       "        vertical-align: top;\n",
       "    }\n",
       "\n",
       "    .dataframe thead th {\n",
       "        text-align: right;\n",
       "    }\n",
       "</style>\n",
       "<table border=\"1\" class=\"dataframe\">\n",
       "  <thead>\n",
       "    <tr style=\"text-align: right;\">\n",
       "      <th></th>\n",
       "      <th>Average</th>\n",
       "      <th>Century</th>\n",
       "      <th>Fifty</th>\n",
       "      <th>Four</th>\n",
       "      <th>Name</th>\n",
       "      <th>Runs</th>\n",
       "      <th>Six</th>\n",
       "      <th>Strike Rate</th>\n",
       "    </tr>\n",
       "  </thead>\n",
       "  <tbody>\n",
       "    <tr>\n",
       "      <th>0</th>\n",
       "      <td>39.860000</td>\n",
       "      <td>0</td>\n",
       "      <td>14</td>\n",
       "      <td>123</td>\n",
       "      <td>JP Duminy</td>\n",
       "      <td>1993</td>\n",
       "      <td>78</td>\n",
       "      <td>124.874687</td>\n",
       "    </tr>\n",
       "    <tr>\n",
       "      <th>1</th>\n",
       "      <td>35.709677</td>\n",
       "      <td>0</td>\n",
       "      <td>8</td>\n",
       "      <td>121</td>\n",
       "      <td>ML Hayden</td>\n",
       "      <td>1107</td>\n",
       "      <td>44</td>\n",
       "      <td>137.515528</td>\n",
       "    </tr>\n",
       "    <tr>\n",
       "      <th>2</th>\n",
       "      <td>6.000000</td>\n",
       "      <td>0</td>\n",
       "      <td>0</td>\n",
       "      <td>1</td>\n",
       "      <td>AS Rajpoot</td>\n",
       "      <td>6</td>\n",
       "      <td>0</td>\n",
       "      <td>46.153846</td>\n",
       "    </tr>\n",
       "    <tr>\n",
       "      <th>3</th>\n",
       "      <td>5.500000</td>\n",
       "      <td>0</td>\n",
       "      <td>0</td>\n",
       "      <td>0</td>\n",
       "      <td>Rashid Khan</td>\n",
       "      <td>11</td>\n",
       "      <td>1</td>\n",
       "      <td>122.222222</td>\n",
       "    </tr>\n",
       "    <tr>\n",
       "      <th>4</th>\n",
       "      <td>16.333333</td>\n",
       "      <td>0</td>\n",
       "      <td>0</td>\n",
       "      <td>9</td>\n",
       "      <td>CJ Ferguson</td>\n",
       "      <td>98</td>\n",
       "      <td>0</td>\n",
       "      <td>83.760684</td>\n",
       "    </tr>\n",
       "    <tr>\n",
       "      <th>5</th>\n",
       "      <td>16.333333</td>\n",
       "      <td>0</td>\n",
       "      <td>0</td>\n",
       "      <td>12</td>\n",
       "      <td>MJ Clarke</td>\n",
       "      <td>98</td>\n",
       "      <td>0</td>\n",
       "      <td>104.255319</td>\n",
       "    </tr>\n",
       "    <tr>\n",
       "      <th>6</th>\n",
       "      <td>7.500000</td>\n",
       "      <td>0</td>\n",
       "      <td>0</td>\n",
       "      <td>0</td>\n",
       "      <td>VY Mahesh</td>\n",
       "      <td>15</td>\n",
       "      <td>0</td>\n",
       "      <td>55.555556</td>\n",
       "    </tr>\n",
       "    <tr>\n",
       "      <th>7</th>\n",
       "      <td>6.000000</td>\n",
       "      <td>0</td>\n",
       "      <td>0</td>\n",
       "      <td>0</td>\n",
       "      <td>BA Bhatt</td>\n",
       "      <td>6</td>\n",
       "      <td>1</td>\n",
       "      <td>85.714286</td>\n",
       "    </tr>\n",
       "    <tr>\n",
       "      <th>8</th>\n",
       "      <td>25.953846</td>\n",
       "      <td>0</td>\n",
       "      <td>10</td>\n",
       "      <td>195</td>\n",
       "      <td>KC Sangakkara</td>\n",
       "      <td>1687</td>\n",
       "      <td>27</td>\n",
       "      <td>121.192529</td>\n",
       "    </tr>\n",
       "    <tr>\n",
       "      <th>9</th>\n",
       "      <td>4.000000</td>\n",
       "      <td>0</td>\n",
       "      <td>0</td>\n",
       "      <td>0</td>\n",
       "      <td>DP Nannes</td>\n",
       "      <td>4</td>\n",
       "      <td>0</td>\n",
       "      <td>30.769231</td>\n",
       "    </tr>\n",
       "    <tr>\n",
       "      <th>10</th>\n",
       "      <td>40.741573</td>\n",
       "      <td>5</td>\n",
       "      <td>21</td>\n",
       "      <td>294</td>\n",
       "      <td>CH Gayle</td>\n",
       "      <td>3626</td>\n",
       "      <td>265</td>\n",
       "      <td>151.209341</td>\n",
       "    </tr>\n",
       "    <tr>\n",
       "      <th>11</th>\n",
       "      <td>36.074074</td>\n",
       "      <td>1</td>\n",
       "      <td>5</td>\n",
       "      <td>74</td>\n",
       "      <td>A Symonds</td>\n",
       "      <td>974</td>\n",
       "      <td>41</td>\n",
       "      <td>129.866667</td>\n",
       "    </tr>\n",
       "    <tr>\n",
       "      <th>12</th>\n",
       "      <td>55.666667</td>\n",
       "      <td>0</td>\n",
       "      <td>1</td>\n",
       "      <td>19</td>\n",
       "      <td>MN van Wyk</td>\n",
       "      <td>167</td>\n",
       "      <td>1</td>\n",
       "      <td>126.515152</td>\n",
       "    </tr>\n",
       "    <tr>\n",
       "      <th>13</th>\n",
       "      <td>5.000000</td>\n",
       "      <td>0</td>\n",
       "      <td>0</td>\n",
       "      <td>0</td>\n",
       "      <td>YS Chahal</td>\n",
       "      <td>15</td>\n",
       "      <td>0</td>\n",
       "      <td>53.571429</td>\n",
       "    </tr>\n",
       "    <tr>\n",
       "      <th>14</th>\n",
       "      <td>2.000000</td>\n",
       "      <td>0</td>\n",
       "      <td>0</td>\n",
       "      <td>0</td>\n",
       "      <td>H Das</td>\n",
       "      <td>2</td>\n",
       "      <td>0</td>\n",
       "      <td>40.000000</td>\n",
       "    </tr>\n",
       "    <tr>\n",
       "      <th>15</th>\n",
       "      <td>5.500000</td>\n",
       "      <td>0</td>\n",
       "      <td>0</td>\n",
       "      <td>6</td>\n",
       "      <td>SL Malinga</td>\n",
       "      <td>88</td>\n",
       "      <td>5</td>\n",
       "      <td>88.888889</td>\n",
       "    </tr>\n",
       "    <tr>\n",
       "      <th>16</th>\n",
       "      <td>2.000000</td>\n",
       "      <td>0</td>\n",
       "      <td>0</td>\n",
       "      <td>1</td>\n",
       "      <td>VRV Singh</td>\n",
       "      <td>4</td>\n",
       "      <td>0</td>\n",
       "      <td>133.333333</td>\n",
       "    </tr>\n",
       "    <tr>\n",
       "      <th>17</th>\n",
       "      <td>6.800000</td>\n",
       "      <td>0</td>\n",
       "      <td>0</td>\n",
       "      <td>6</td>\n",
       "      <td>L Ronchi</td>\n",
       "      <td>34</td>\n",
       "      <td>1</td>\n",
       "      <td>100.000000</td>\n",
       "    </tr>\n",
       "    <tr>\n",
       "      <th>18</th>\n",
       "      <td>30.116279</td>\n",
       "      <td>0</td>\n",
       "      <td>8</td>\n",
       "      <td>110</td>\n",
       "      <td>F du Plessis</td>\n",
       "      <td>1295</td>\n",
       "      <td>38</td>\n",
       "      <td>127.964427</td>\n",
       "    </tr>\n",
       "    <tr>\n",
       "      <th>19</th>\n",
       "      <td>22.750000</td>\n",
       "      <td>0</td>\n",
       "      <td>0</td>\n",
       "      <td>9</td>\n",
       "      <td>S Rana</td>\n",
       "      <td>91</td>\n",
       "      <td>1</td>\n",
       "      <td>112.345679</td>\n",
       "    </tr>\n",
       "    <tr>\n",
       "      <th>20</th>\n",
       "      <td>14.000000</td>\n",
       "      <td>0</td>\n",
       "      <td>0</td>\n",
       "      <td>0</td>\n",
       "      <td>DL Chahar</td>\n",
       "      <td>14</td>\n",
       "      <td>2</td>\n",
       "      <td>233.333333</td>\n",
       "    </tr>\n",
       "    <tr>\n",
       "      <th>21</th>\n",
       "      <td>20.200000</td>\n",
       "      <td>0</td>\n",
       "      <td>0</td>\n",
       "      <td>34</td>\n",
       "      <td>AR Patel</td>\n",
       "      <td>606</td>\n",
       "      <td>28</td>\n",
       "      <td>128.118393</td>\n",
       "    </tr>\n",
       "    <tr>\n",
       "      <th>22</th>\n",
       "      <td>0.000000</td>\n",
       "      <td>0</td>\n",
       "      <td>0</td>\n",
       "      <td>1</td>\n",
       "      <td>AR Bawne</td>\n",
       "      <td>12</td>\n",
       "      <td>0</td>\n",
       "      <td>100.000000</td>\n",
       "    </tr>\n",
       "    <tr>\n",
       "      <th>23</th>\n",
       "      <td>13.000000</td>\n",
       "      <td>0</td>\n",
       "      <td>0</td>\n",
       "      <td>1</td>\n",
       "      <td>JM Kemp</td>\n",
       "      <td>26</td>\n",
       "      <td>1</td>\n",
       "      <td>108.333333</td>\n",
       "    </tr>\n",
       "    <tr>\n",
       "      <th>24</th>\n",
       "      <td>23.166667</td>\n",
       "      <td>0</td>\n",
       "      <td>1</td>\n",
       "      <td>45</td>\n",
       "      <td>MJ Lumb</td>\n",
       "      <td>278</td>\n",
       "      <td>6</td>\n",
       "      <td>143.298969</td>\n",
       "    </tr>\n",
       "    <tr>\n",
       "      <th>25</th>\n",
       "      <td>9.000000</td>\n",
       "      <td>0</td>\n",
       "      <td>0</td>\n",
       "      <td>0</td>\n",
       "      <td>Washington Sundar</td>\n",
       "      <td>9</td>\n",
       "      <td>0</td>\n",
       "      <td>75.000000</td>\n",
       "    </tr>\n",
       "    <tr>\n",
       "      <th>26</th>\n",
       "      <td>38.764706</td>\n",
       "      <td>1</td>\n",
       "      <td>15</td>\n",
       "      <td>198</td>\n",
       "      <td>MEK Hussey</td>\n",
       "      <td>1977</td>\n",
       "      <td>52</td>\n",
       "      <td>122.642680</td>\n",
       "    </tr>\n",
       "    <tr>\n",
       "      <th>27</th>\n",
       "      <td>24.100000</td>\n",
       "      <td>0</td>\n",
       "      <td>2</td>\n",
       "      <td>26</td>\n",
       "      <td>SM Katich</td>\n",
       "      <td>241</td>\n",
       "      <td>8</td>\n",
       "      <td>129.569892</td>\n",
       "    </tr>\n",
       "    <tr>\n",
       "      <th>28</th>\n",
       "      <td>33.826087</td>\n",
       "      <td>1</td>\n",
       "      <td>13</td>\n",
       "      <td>296</td>\n",
       "      <td>SR Tendulkar</td>\n",
       "      <td>2334</td>\n",
       "      <td>29</td>\n",
       "      <td>119.815195</td>\n",
       "    </tr>\n",
       "    <tr>\n",
       "      <th>29</th>\n",
       "      <td>45.250000</td>\n",
       "      <td>0</td>\n",
       "      <td>0</td>\n",
       "      <td>15</td>\n",
       "      <td>AC Voges</td>\n",
       "      <td>181</td>\n",
       "      <td>3</td>\n",
       "      <td>126.573427</td>\n",
       "    </tr>\n",
       "    <tr>\n",
       "      <th>...</th>\n",
       "      <td>...</td>\n",
       "      <td>...</td>\n",
       "      <td>...</td>\n",
       "      <td>...</td>\n",
       "      <td>...</td>\n",
       "      <td>...</td>\n",
       "      <td>...</td>\n",
       "      <td>...</td>\n",
       "    </tr>\n",
       "    <tr>\n",
       "      <th>431</th>\n",
       "      <td>10.125000</td>\n",
       "      <td>0</td>\n",
       "      <td>0</td>\n",
       "      <td>2</td>\n",
       "      <td>WPUJC Vaas</td>\n",
       "      <td>81</td>\n",
       "      <td>3</td>\n",
       "      <td>110.958904</td>\n",
       "    </tr>\n",
       "    <tr>\n",
       "      <th>432</th>\n",
       "      <td>9.500000</td>\n",
       "      <td>0</td>\n",
       "      <td>0</td>\n",
       "      <td>1</td>\n",
       "      <td>A Mukund</td>\n",
       "      <td>19</td>\n",
       "      <td>0</td>\n",
       "      <td>86.363636</td>\n",
       "    </tr>\n",
       "    <tr>\n",
       "      <th>433</th>\n",
       "      <td>6.000000</td>\n",
       "      <td>0</td>\n",
       "      <td>0</td>\n",
       "      <td>3</td>\n",
       "      <td>SK Trivedi</td>\n",
       "      <td>42</td>\n",
       "      <td>1</td>\n",
       "      <td>71.186441</td>\n",
       "    </tr>\n",
       "    <tr>\n",
       "      <th>434</th>\n",
       "      <td>0.000000</td>\n",
       "      <td>0</td>\n",
       "      <td>0</td>\n",
       "      <td>0</td>\n",
       "      <td>A Chandila</td>\n",
       "      <td>4</td>\n",
       "      <td>0</td>\n",
       "      <td>57.142857</td>\n",
       "    </tr>\n",
       "    <tr>\n",
       "      <th>435</th>\n",
       "      <td>20.421053</td>\n",
       "      <td>0</td>\n",
       "      <td>2</td>\n",
       "      <td>39</td>\n",
       "      <td>Azhar Mahmood</td>\n",
       "      <td>388</td>\n",
       "      <td>13</td>\n",
       "      <td>128.052805</td>\n",
       "    </tr>\n",
       "    <tr>\n",
       "      <th>436</th>\n",
       "      <td>9.000000</td>\n",
       "      <td>0</td>\n",
       "      <td>0</td>\n",
       "      <td>1</td>\n",
       "      <td>Joginder Sharma</td>\n",
       "      <td>36</td>\n",
       "      <td>2</td>\n",
       "      <td>120.000000</td>\n",
       "    </tr>\n",
       "    <tr>\n",
       "      <th>437</th>\n",
       "      <td>7.000000</td>\n",
       "      <td>0</td>\n",
       "      <td>0</td>\n",
       "      <td>2</td>\n",
       "      <td>F Behardien</td>\n",
       "      <td>14</td>\n",
       "      <td>0</td>\n",
       "      <td>107.692308</td>\n",
       "    </tr>\n",
       "    <tr>\n",
       "      <th>438</th>\n",
       "      <td>29.040000</td>\n",
       "      <td>1</td>\n",
       "      <td>5</td>\n",
       "      <td>90</td>\n",
       "      <td>Q de Kock</td>\n",
       "      <td>726</td>\n",
       "      <td>21</td>\n",
       "      <td>132.240437</td>\n",
       "    </tr>\n",
       "    <tr>\n",
       "      <th>439</th>\n",
       "      <td>34.285714</td>\n",
       "      <td>0</td>\n",
       "      <td>1</td>\n",
       "      <td>46</td>\n",
       "      <td>KH Pandya</td>\n",
       "      <td>480</td>\n",
       "      <td>20</td>\n",
       "      <td>158.415842</td>\n",
       "    </tr>\n",
       "    <tr>\n",
       "      <th>440</th>\n",
       "      <td>10.200000</td>\n",
       "      <td>0</td>\n",
       "      <td>0</td>\n",
       "      <td>4</td>\n",
       "      <td>KB Arun Karthik</td>\n",
       "      <td>51</td>\n",
       "      <td>1</td>\n",
       "      <td>100.000000</td>\n",
       "    </tr>\n",
       "    <tr>\n",
       "      <th>441</th>\n",
       "      <td>8.333333</td>\n",
       "      <td>0</td>\n",
       "      <td>0</td>\n",
       "      <td>4</td>\n",
       "      <td>S Chanderpaul</td>\n",
       "      <td>25</td>\n",
       "      <td>0</td>\n",
       "      <td>80.645161</td>\n",
       "    </tr>\n",
       "    <tr>\n",
       "      <th>442</th>\n",
       "      <td>6.500000</td>\n",
       "      <td>0</td>\n",
       "      <td>0</td>\n",
       "      <td>5</td>\n",
       "      <td>MM Patel</td>\n",
       "      <td>39</td>\n",
       "      <td>0</td>\n",
       "      <td>95.121951</td>\n",
       "    </tr>\n",
       "    <tr>\n",
       "      <th>443</th>\n",
       "      <td>2.500000</td>\n",
       "      <td>0</td>\n",
       "      <td>0</td>\n",
       "      <td>0</td>\n",
       "      <td>P Awana</td>\n",
       "      <td>5</td>\n",
       "      <td>0</td>\n",
       "      <td>35.714286</td>\n",
       "    </tr>\n",
       "    <tr>\n",
       "      <th>444</th>\n",
       "      <td>9.000000</td>\n",
       "      <td>0</td>\n",
       "      <td>0</td>\n",
       "      <td>3</td>\n",
       "      <td>DS Lehmann</td>\n",
       "      <td>18</td>\n",
       "      <td>0</td>\n",
       "      <td>100.000000</td>\n",
       "    </tr>\n",
       "    <tr>\n",
       "      <th>445</th>\n",
       "      <td>33.593407</td>\n",
       "      <td>1</td>\n",
       "      <td>25</td>\n",
       "      <td>320</td>\n",
       "      <td>AM Rahane</td>\n",
       "      <td>3057</td>\n",
       "      <td>60</td>\n",
       "      <td>120.591716</td>\n",
       "    </tr>\n",
       "    <tr>\n",
       "      <th>446</th>\n",
       "      <td>21.000000</td>\n",
       "      <td>0</td>\n",
       "      <td>1</td>\n",
       "      <td>20</td>\n",
       "      <td>MJ Guptill</td>\n",
       "      <td>189</td>\n",
       "      <td>8</td>\n",
       "      <td>132.167832</td>\n",
       "    </tr>\n",
       "    <tr>\n",
       "      <th>447</th>\n",
       "      <td>7.875000</td>\n",
       "      <td>0</td>\n",
       "      <td>0</td>\n",
       "      <td>2</td>\n",
       "      <td>MJ McClenaghan</td>\n",
       "      <td>63</td>\n",
       "      <td>6</td>\n",
       "      <td>143.181818</td>\n",
       "    </tr>\n",
       "    <tr>\n",
       "      <th>448</th>\n",
       "      <td>11.454545</td>\n",
       "      <td>0</td>\n",
       "      <td>0</td>\n",
       "      <td>11</td>\n",
       "      <td>M Morkel</td>\n",
       "      <td>126</td>\n",
       "      <td>5</td>\n",
       "      <td>140.000000</td>\n",
       "    </tr>\n",
       "    <tr>\n",
       "      <th>449</th>\n",
       "      <td>2.333333</td>\n",
       "      <td>0</td>\n",
       "      <td>0</td>\n",
       "      <td>1</td>\n",
       "      <td>SN Thakur</td>\n",
       "      <td>7</td>\n",
       "      <td>0</td>\n",
       "      <td>77.777778</td>\n",
       "    </tr>\n",
       "    <tr>\n",
       "      <th>450</th>\n",
       "      <td>8.000000</td>\n",
       "      <td>0</td>\n",
       "      <td>0</td>\n",
       "      <td>0</td>\n",
       "      <td>TM Srivastava</td>\n",
       "      <td>8</td>\n",
       "      <td>0</td>\n",
       "      <td>72.727273</td>\n",
       "    </tr>\n",
       "    <tr>\n",
       "      <th>451</th>\n",
       "      <td>24.538462</td>\n",
       "      <td>0</td>\n",
       "      <td>3</td>\n",
       "      <td>95</td>\n",
       "      <td>M Vohra</td>\n",
       "      <td>957</td>\n",
       "      <td>35</td>\n",
       "      <td>132.732316</td>\n",
       "    </tr>\n",
       "    <tr>\n",
       "      <th>452</th>\n",
       "      <td>1.500000</td>\n",
       "      <td>0</td>\n",
       "      <td>0</td>\n",
       "      <td>0</td>\n",
       "      <td>BAW Mendis</td>\n",
       "      <td>3</td>\n",
       "      <td>0</td>\n",
       "      <td>50.000000</td>\n",
       "    </tr>\n",
       "    <tr>\n",
       "      <th>453</th>\n",
       "      <td>3.666667</td>\n",
       "      <td>0</td>\n",
       "      <td>0</td>\n",
       "      <td>0</td>\n",
       "      <td>T Kohli</td>\n",
       "      <td>11</td>\n",
       "      <td>1</td>\n",
       "      <td>57.894737</td>\n",
       "    </tr>\n",
       "    <tr>\n",
       "      <th>454</th>\n",
       "      <td>13.833333</td>\n",
       "      <td>0</td>\n",
       "      <td>1</td>\n",
       "      <td>10</td>\n",
       "      <td>RE Levi</td>\n",
       "      <td>83</td>\n",
       "      <td>4</td>\n",
       "      <td>113.698630</td>\n",
       "    </tr>\n",
       "    <tr>\n",
       "      <th>455</th>\n",
       "      <td>21.350000</td>\n",
       "      <td>0</td>\n",
       "      <td>4</td>\n",
       "      <td>72</td>\n",
       "      <td>EJG Morgan</td>\n",
       "      <td>854</td>\n",
       "      <td>34</td>\n",
       "      <td>121.134752</td>\n",
       "    </tr>\n",
       "    <tr>\n",
       "      <th>456</th>\n",
       "      <td>2.000000</td>\n",
       "      <td>0</td>\n",
       "      <td>0</td>\n",
       "      <td>0</td>\n",
       "      <td>Mohammad Ashraful</td>\n",
       "      <td>2</td>\n",
       "      <td>0</td>\n",
       "      <td>20.000000</td>\n",
       "    </tr>\n",
       "    <tr>\n",
       "      <th>457</th>\n",
       "      <td>18.333333</td>\n",
       "      <td>0</td>\n",
       "      <td>0</td>\n",
       "      <td>5</td>\n",
       "      <td>K Rabada</td>\n",
       "      <td>55</td>\n",
       "      <td>1</td>\n",
       "      <td>85.937500</td>\n",
       "    </tr>\n",
       "    <tr>\n",
       "      <th>458</th>\n",
       "      <td>12.000000</td>\n",
       "      <td>0</td>\n",
       "      <td>0</td>\n",
       "      <td>2</td>\n",
       "      <td>MA Khote</td>\n",
       "      <td>24</td>\n",
       "      <td>1</td>\n",
       "      <td>109.090909</td>\n",
       "    </tr>\n",
       "    <tr>\n",
       "      <th>459</th>\n",
       "      <td>28.091837</td>\n",
       "      <td>2</td>\n",
       "      <td>13</td>\n",
       "      <td>277</td>\n",
       "      <td>BB McCullum</td>\n",
       "      <td>2753</td>\n",
       "      <td>124</td>\n",
       "      <td>131.220210</td>\n",
       "    </tr>\n",
       "    <tr>\n",
       "      <th>460</th>\n",
       "      <td>33.880597</td>\n",
       "      <td>1</td>\n",
       "      <td>31</td>\n",
       "      <td>402</td>\n",
       "      <td>SK Raina</td>\n",
       "      <td>4540</td>\n",
       "      <td>173</td>\n",
       "      <td>139.093137</td>\n",
       "    </tr>\n",
       "  </tbody>\n",
       "</table>\n",
       "<p>461 rows × 8 columns</p>\n",
       "</div>"
      ],
      "text/plain": [
       "       Average  Century  Fifty  Four               Name  Runs  Six  \\\n",
       "0    39.860000        0     14   123          JP Duminy  1993   78   \n",
       "1    35.709677        0      8   121          ML Hayden  1107   44   \n",
       "2     6.000000        0      0     1         AS Rajpoot     6    0   \n",
       "3     5.500000        0      0     0        Rashid Khan    11    1   \n",
       "4    16.333333        0      0     9        CJ Ferguson    98    0   \n",
       "5    16.333333        0      0    12          MJ Clarke    98    0   \n",
       "6     7.500000        0      0     0          VY Mahesh    15    0   \n",
       "7     6.000000        0      0     0           BA Bhatt     6    1   \n",
       "8    25.953846        0     10   195      KC Sangakkara  1687   27   \n",
       "9     4.000000        0      0     0          DP Nannes     4    0   \n",
       "10   40.741573        5     21   294           CH Gayle  3626  265   \n",
       "11   36.074074        1      5    74          A Symonds   974   41   \n",
       "12   55.666667        0      1    19         MN van Wyk   167    1   \n",
       "13    5.000000        0      0     0          YS Chahal    15    0   \n",
       "14    2.000000        0      0     0              H Das     2    0   \n",
       "15    5.500000        0      0     6         SL Malinga    88    5   \n",
       "16    2.000000        0      0     1          VRV Singh     4    0   \n",
       "17    6.800000        0      0     6           L Ronchi    34    1   \n",
       "18   30.116279        0      8   110       F du Plessis  1295   38   \n",
       "19   22.750000        0      0     9             S Rana    91    1   \n",
       "20   14.000000        0      0     0          DL Chahar    14    2   \n",
       "21   20.200000        0      0    34           AR Patel   606   28   \n",
       "22    0.000000        0      0     1           AR Bawne    12    0   \n",
       "23   13.000000        0      0     1            JM Kemp    26    1   \n",
       "24   23.166667        0      1    45            MJ Lumb   278    6   \n",
       "25    9.000000        0      0     0  Washington Sundar     9    0   \n",
       "26   38.764706        1     15   198         MEK Hussey  1977   52   \n",
       "27   24.100000        0      2    26          SM Katich   241    8   \n",
       "28   33.826087        1     13   296       SR Tendulkar  2334   29   \n",
       "29   45.250000        0      0    15           AC Voges   181    3   \n",
       "..         ...      ...    ...   ...                ...   ...  ...   \n",
       "431  10.125000        0      0     2         WPUJC Vaas    81    3   \n",
       "432   9.500000        0      0     1           A Mukund    19    0   \n",
       "433   6.000000        0      0     3         SK Trivedi    42    1   \n",
       "434   0.000000        0      0     0         A Chandila     4    0   \n",
       "435  20.421053        0      2    39      Azhar Mahmood   388   13   \n",
       "436   9.000000        0      0     1    Joginder Sharma    36    2   \n",
       "437   7.000000        0      0     2        F Behardien    14    0   \n",
       "438  29.040000        1      5    90          Q de Kock   726   21   \n",
       "439  34.285714        0      1    46          KH Pandya   480   20   \n",
       "440  10.200000        0      0     4    KB Arun Karthik    51    1   \n",
       "441   8.333333        0      0     4      S Chanderpaul    25    0   \n",
       "442   6.500000        0      0     5           MM Patel    39    0   \n",
       "443   2.500000        0      0     0            P Awana     5    0   \n",
       "444   9.000000        0      0     3         DS Lehmann    18    0   \n",
       "445  33.593407        1     25   320          AM Rahane  3057   60   \n",
       "446  21.000000        0      1    20         MJ Guptill   189    8   \n",
       "447   7.875000        0      0     2     MJ McClenaghan    63    6   \n",
       "448  11.454545        0      0    11           M Morkel   126    5   \n",
       "449   2.333333        0      0     1          SN Thakur     7    0   \n",
       "450   8.000000        0      0     0      TM Srivastava     8    0   \n",
       "451  24.538462        0      3    95            M Vohra   957   35   \n",
       "452   1.500000        0      0     0         BAW Mendis     3    0   \n",
       "453   3.666667        0      0     0            T Kohli    11    1   \n",
       "454  13.833333        0      1    10            RE Levi    83    4   \n",
       "455  21.350000        0      4    72         EJG Morgan   854   34   \n",
       "456   2.000000        0      0     0  Mohammad Ashraful     2    0   \n",
       "457  18.333333        0      0     5           K Rabada    55    1   \n",
       "458  12.000000        0      0     2           MA Khote    24    1   \n",
       "459  28.091837        2     13   277        BB McCullum  2753  124   \n",
       "460  33.880597        1     31   402           SK Raina  4540  173   \n",
       "\n",
       "     Strike Rate  \n",
       "0     124.874687  \n",
       "1     137.515528  \n",
       "2      46.153846  \n",
       "3     122.222222  \n",
       "4      83.760684  \n",
       "5     104.255319  \n",
       "6      55.555556  \n",
       "7      85.714286  \n",
       "8     121.192529  \n",
       "9      30.769231  \n",
       "10    151.209341  \n",
       "11    129.866667  \n",
       "12    126.515152  \n",
       "13     53.571429  \n",
       "14     40.000000  \n",
       "15     88.888889  \n",
       "16    133.333333  \n",
       "17    100.000000  \n",
       "18    127.964427  \n",
       "19    112.345679  \n",
       "20    233.333333  \n",
       "21    128.118393  \n",
       "22    100.000000  \n",
       "23    108.333333  \n",
       "24    143.298969  \n",
       "25     75.000000  \n",
       "26    122.642680  \n",
       "27    129.569892  \n",
       "28    119.815195  \n",
       "29    126.573427  \n",
       "..           ...  \n",
       "431   110.958904  \n",
       "432    86.363636  \n",
       "433    71.186441  \n",
       "434    57.142857  \n",
       "435   128.052805  \n",
       "436   120.000000  \n",
       "437   107.692308  \n",
       "438   132.240437  \n",
       "439   158.415842  \n",
       "440   100.000000  \n",
       "441    80.645161  \n",
       "442    95.121951  \n",
       "443    35.714286  \n",
       "444   100.000000  \n",
       "445   120.591716  \n",
       "446   132.167832  \n",
       "447   143.181818  \n",
       "448   140.000000  \n",
       "449    77.777778  \n",
       "450    72.727273  \n",
       "451   132.732316  \n",
       "452    50.000000  \n",
       "453    57.894737  \n",
       "454   113.698630  \n",
       "455   121.134752  \n",
       "456    20.000000  \n",
       "457    85.937500  \n",
       "458   109.090909  \n",
       "459   131.220210  \n",
       "460   139.093137  \n",
       "\n",
       "[461 rows x 8 columns]"
      ]
     },
     "execution_count": 360,
     "metadata": {},
     "output_type": "execute_result"
    }
   ],
   "source": [
    "batsman_details_dataframe"
   ]
  },
  {
   "cell_type": "markdown",
   "metadata": {},
   "source": [
    "### Clustering the Player based of StrikeRate and Runs Scored"
   ]
  },
  {
   "cell_type": "code",
   "execution_count": 258,
   "metadata": {
    "collapsed": true
   },
   "outputs": [],
   "source": [
    "ClassA_name,ClassB_name,ClassC_name = [],[],[]\n",
    "ClassA_Runs,ClassB_Runs,ClassC_Runs = [],[],[]\n",
    "ClassA_SR,ClassB_SR,ClassC_SR = [],[],[]\n",
    "ClassA_avg,ClassB_avg,ClassC_avg = [],[],[]\n",
    "ClassA_cent,ClassB_cent,ClassC_cent = [],[],[]\n",
    "ClassA_fifty,ClassB_fifty,ClassC_fifty = [],[],[]\n",
    "ClassA_six,ClassB_six,ClassC_six = [],[],[]\n",
    "ClassA_four,ClassB_four,ClassC_four = [],[],[]\n",
    "\n",
    "for i in range(len(Players_Runs)-1):\n",
    "    if(Players_Runs[i]>1500 and Players_SR[i]<130):\n",
    "        ClassB_name.append(player_list[i])\n",
    "        ClassB_Runs.append(Players_Runs[i])\n",
    "        ClassB_SR.append(Players_SR[i])\n",
    "        ClassB_avg.append(P_avg[i])\n",
    "        ClassB_cent.append(Player_century[i])\n",
    "        ClassB_fifty.append(Player_fifty[i])\n",
    "        ClassB_six.append(Player_six[i])\n",
    "        ClassB_four.append(Player_four[i])\n",
    "    elif(Players_Runs[i]>1500 and Players_SR[i]>130):\n",
    "        ClassA_name.append(player_list[i])\n",
    "        ClassA_Runs.append(Players_Runs[i])\n",
    "        ClassA_SR.append(Players_SR[i])\n",
    "        ClassA_avg.append(P_avg[i])\n",
    "        ClassA_cent.append(Player_century[i])\n",
    "        ClassA_fifty.append(Player_fifty[i])\n",
    "        ClassA_six.append(Player_six[i])\n",
    "        ClassA_four.append(Player_four[i])\n",
    "    else:\n",
    "        ClassC_name.append(player_list[i])\n",
    "        ClassC_Runs.append(Players_Runs[i])\n",
    "        ClassC_SR.append(Players_SR[i])\n",
    "        ClassC_avg.append(P_avg[i])\n",
    "        ClassC_cent.append(Player_century[i])\n",
    "        ClassC_fifty.append(Player_fifty[i])\n",
    "        ClassC_six.append(Player_six[i])\n",
    "        ClassC_four.append(Player_four[i])"
   ]
  },
  {
   "cell_type": "markdown",
   "metadata": {},
   "source": [
    "### Making Data Dictionary for Class A player (More Runs and High Strike rate)"
   ]
  },
  {
   "cell_type": "code",
   "execution_count": 259,
   "metadata": {},
   "outputs": [
    {
     "data": {
      "text/html": [
       "<div>\n",
       "<style scoped>\n",
       "    .dataframe tbody tr th:only-of-type {\n",
       "        vertical-align: middle;\n",
       "    }\n",
       "\n",
       "    .dataframe tbody tr th {\n",
       "        vertical-align: top;\n",
       "    }\n",
       "\n",
       "    .dataframe thead th {\n",
       "        text-align: right;\n",
       "    }\n",
       "</style>\n",
       "<table border=\"1\" class=\"dataframe\">\n",
       "  <thead>\n",
       "    <tr style=\"text-align: right;\">\n",
       "      <th></th>\n",
       "      <th>Average</th>\n",
       "      <th>Century</th>\n",
       "      <th>Fifty</th>\n",
       "      <th>Four</th>\n",
       "      <th>Name</th>\n",
       "      <th>Runs</th>\n",
       "      <th>Six</th>\n",
       "      <th>Strike Rate</th>\n",
       "    </tr>\n",
       "  </thead>\n",
       "  <tbody>\n",
       "    <tr>\n",
       "      <th>0</th>\n",
       "      <td>40.741573</td>\n",
       "      <td>5</td>\n",
       "      <td>21</td>\n",
       "      <td>294</td>\n",
       "      <td>CH Gayle</td>\n",
       "      <td>3626</td>\n",
       "      <td>265</td>\n",
       "      <td>151.209341</td>\n",
       "    </tr>\n",
       "    <tr>\n",
       "      <th>1</th>\n",
       "      <td>40.140000</td>\n",
       "      <td>3</td>\n",
       "      <td>36</td>\n",
       "      <td>401</td>\n",
       "      <td>DA Warner</td>\n",
       "      <td>4014</td>\n",
       "      <td>160</td>\n",
       "      <td>142.138810</td>\n",
       "    </tr>\n",
       "    <tr>\n",
       "      <th>2</th>\n",
       "      <td>28.392857</td>\n",
       "      <td>0</td>\n",
       "      <td>17</td>\n",
       "      <td>245</td>\n",
       "      <td>DR Smith</td>\n",
       "      <td>2385</td>\n",
       "      <td>117</td>\n",
       "      <td>135.204082</td>\n",
       "    </tr>\n",
       "    <tr>\n",
       "      <th>3</th>\n",
       "      <td>29.632653</td>\n",
       "      <td>1</td>\n",
       "      <td>13</td>\n",
       "      <td>239</td>\n",
       "      <td>YK Pathan</td>\n",
       "      <td>2904</td>\n",
       "      <td>147</td>\n",
       "      <td>145.490982</td>\n",
       "    </tr>\n",
       "    <tr>\n",
       "      <th>4</th>\n",
       "      <td>25.524590</td>\n",
       "      <td>1</td>\n",
       "      <td>6</td>\n",
       "      <td>130</td>\n",
       "      <td>WP Saha</td>\n",
       "      <td>1557</td>\n",
       "      <td>57</td>\n",
       "      <td>130.730479</td>\n",
       "    </tr>\n",
       "    <tr>\n",
       "      <th>5</th>\n",
       "      <td>34.733333</td>\n",
       "      <td>1</td>\n",
       "      <td>8</td>\n",
       "      <td>104</td>\n",
       "      <td>DA Miller</td>\n",
       "      <td>1563</td>\n",
       "      <td>78</td>\n",
       "      <td>141.447964</td>\n",
       "    </tr>\n",
       "    <tr>\n",
       "      <th>6</th>\n",
       "      <td>38.164835</td>\n",
       "      <td>3</td>\n",
       "      <td>22</td>\n",
       "      <td>287</td>\n",
       "      <td>AB de Villiers</td>\n",
       "      <td>3473</td>\n",
       "      <td>156</td>\n",
       "      <td>148.165529</td>\n",
       "    </tr>\n",
       "    <tr>\n",
       "      <th>7</th>\n",
       "      <td>30.847059</td>\n",
       "      <td>2</td>\n",
       "      <td>14</td>\n",
       "      <td>257</td>\n",
       "      <td>SR Watson</td>\n",
       "      <td>2622</td>\n",
       "      <td>122</td>\n",
       "      <td>138.656795</td>\n",
       "    </tr>\n",
       "    <tr>\n",
       "      <th>8</th>\n",
       "      <td>27.169492</td>\n",
       "      <td>0</td>\n",
       "      <td>13</td>\n",
       "      <td>170</td>\n",
       "      <td>AJ Finch</td>\n",
       "      <td>1603</td>\n",
       "      <td>59</td>\n",
       "      <td>130.431245</td>\n",
       "    </tr>\n",
       "    <tr>\n",
       "      <th>9</th>\n",
       "      <td>25.613861</td>\n",
       "      <td>0</td>\n",
       "      <td>12</td>\n",
       "      <td>204</td>\n",
       "      <td>Yuvraj Singh</td>\n",
       "      <td>2587</td>\n",
       "      <td>141</td>\n",
       "      <td>131.186613</td>\n",
       "    </tr>\n",
       "    <tr>\n",
       "      <th>10</th>\n",
       "      <td>29.515625</td>\n",
       "      <td>0</td>\n",
       "      <td>22</td>\n",
       "      <td>377</td>\n",
       "      <td>RV Uthappa</td>\n",
       "      <td>3778</td>\n",
       "      <td>125</td>\n",
       "      <td>131.637631</td>\n",
       "    </tr>\n",
       "    <tr>\n",
       "      <th>11</th>\n",
       "      <td>37.872340</td>\n",
       "      <td>0</td>\n",
       "      <td>17</td>\n",
       "      <td>251</td>\n",
       "      <td>MS Dhoni</td>\n",
       "      <td>3560</td>\n",
       "      <td>156</td>\n",
       "      <td>136.712750</td>\n",
       "    </tr>\n",
       "    <tr>\n",
       "      <th>12</th>\n",
       "      <td>28.585366</td>\n",
       "      <td>0</td>\n",
       "      <td>12</td>\n",
       "      <td>157</td>\n",
       "      <td>KA Pollard</td>\n",
       "      <td>2344</td>\n",
       "      <td>147</td>\n",
       "      <td>146.591620</td>\n",
       "    </tr>\n",
       "    <tr>\n",
       "      <th>13</th>\n",
       "      <td>27.555556</td>\n",
       "      <td>2</td>\n",
       "      <td>16</td>\n",
       "      <td>334</td>\n",
       "      <td>V Sehwag</td>\n",
       "      <td>2728</td>\n",
       "      <td>106</td>\n",
       "      <td>155.441595</td>\n",
       "    </tr>\n",
       "    <tr>\n",
       "      <th>14</th>\n",
       "      <td>32.612403</td>\n",
       "      <td>1</td>\n",
       "      <td>32</td>\n",
       "      <td>354</td>\n",
       "      <td>RG Sharma</td>\n",
       "      <td>4207</td>\n",
       "      <td>173</td>\n",
       "      <td>130.896080</td>\n",
       "    </tr>\n",
       "    <tr>\n",
       "      <th>15</th>\n",
       "      <td>39.317460</td>\n",
       "      <td>1</td>\n",
       "      <td>20</td>\n",
       "      <td>266</td>\n",
       "      <td>SE Marsh</td>\n",
       "      <td>2477</td>\n",
       "      <td>78</td>\n",
       "      <td>132.743837</td>\n",
       "    </tr>\n",
       "    <tr>\n",
       "      <th>16</th>\n",
       "      <td>27.223684</td>\n",
       "      <td>2</td>\n",
       "      <td>11</td>\n",
       "      <td>239</td>\n",
       "      <td>AC Gilchrist</td>\n",
       "      <td>2069</td>\n",
       "      <td>92</td>\n",
       "      <td>138.394649</td>\n",
       "    </tr>\n",
       "    <tr>\n",
       "      <th>17</th>\n",
       "      <td>37.021739</td>\n",
       "      <td>1</td>\n",
       "      <td>5</td>\n",
       "      <td>150</td>\n",
       "      <td>SPD Smith</td>\n",
       "      <td>1703</td>\n",
       "      <td>45</td>\n",
       "      <td>131.709203</td>\n",
       "    </tr>\n",
       "    <tr>\n",
       "      <th>18</th>\n",
       "      <td>28.091837</td>\n",
       "      <td>2</td>\n",
       "      <td>13</td>\n",
       "      <td>277</td>\n",
       "      <td>BB McCullum</td>\n",
       "      <td>2753</td>\n",
       "      <td>124</td>\n",
       "      <td>131.220210</td>\n",
       "    </tr>\n",
       "  </tbody>\n",
       "</table>\n",
       "</div>"
      ],
      "text/plain": [
       "      Average  Century  Fifty  Four            Name  Runs  Six  Strike Rate\n",
       "0   40.741573        5     21   294        CH Gayle  3626  265   151.209341\n",
       "1   40.140000        3     36   401       DA Warner  4014  160   142.138810\n",
       "2   28.392857        0     17   245        DR Smith  2385  117   135.204082\n",
       "3   29.632653        1     13   239       YK Pathan  2904  147   145.490982\n",
       "4   25.524590        1      6   130         WP Saha  1557   57   130.730479\n",
       "5   34.733333        1      8   104       DA Miller  1563   78   141.447964\n",
       "6   38.164835        3     22   287  AB de Villiers  3473  156   148.165529\n",
       "7   30.847059        2     14   257       SR Watson  2622  122   138.656795\n",
       "8   27.169492        0     13   170        AJ Finch  1603   59   130.431245\n",
       "9   25.613861        0     12   204    Yuvraj Singh  2587  141   131.186613\n",
       "10  29.515625        0     22   377      RV Uthappa  3778  125   131.637631\n",
       "11  37.872340        0     17   251        MS Dhoni  3560  156   136.712750\n",
       "12  28.585366        0     12   157      KA Pollard  2344  147   146.591620\n",
       "13  27.555556        2     16   334        V Sehwag  2728  106   155.441595\n",
       "14  32.612403        1     32   354       RG Sharma  4207  173   130.896080\n",
       "15  39.317460        1     20   266        SE Marsh  2477   78   132.743837\n",
       "16  27.223684        2     11   239    AC Gilchrist  2069   92   138.394649\n",
       "17  37.021739        1      5   150       SPD Smith  1703   45   131.709203\n",
       "18  28.091837        2     13   277     BB McCullum  2753  124   131.220210"
      ]
     },
     "execution_count": 259,
     "metadata": {},
     "output_type": "execute_result"
    }
   ],
   "source": [
    "batsman_dict_A = {\"Name\":ClassA_name,\"Runs\":ClassA_Runs, \"Strike Rate\":ClassA_SR ,\"Average\":ClassA_avg,\"Century\": ClassA_cent,\"Fifty\": ClassA_fifty,\"Six\": ClassA_six,\"Four\": ClassA_four}\n",
    "batsman_dataframe_A = pd.DataFrame(batsman_dict_A)\n",
    "batsman_dataframe_A"
   ]
  },
  {
   "cell_type": "markdown",
   "metadata": {},
   "source": [
    "### Correlation Matrix for Class A Players"
   ]
  },
  {
   "cell_type": "code",
   "execution_count": 261,
   "metadata": {},
   "outputs": [
    {
     "data": {
      "text/html": [
       "<div>\n",
       "<style scoped>\n",
       "    .dataframe tbody tr th:only-of-type {\n",
       "        vertical-align: middle;\n",
       "    }\n",
       "\n",
       "    .dataframe tbody tr th {\n",
       "        vertical-align: top;\n",
       "    }\n",
       "\n",
       "    .dataframe thead th {\n",
       "        text-align: right;\n",
       "    }\n",
       "</style>\n",
       "<table border=\"1\" class=\"dataframe\">\n",
       "  <thead>\n",
       "    <tr style=\"text-align: right;\">\n",
       "      <th></th>\n",
       "      <th>Average</th>\n",
       "      <th>Century</th>\n",
       "      <th>Fifty</th>\n",
       "      <th>Four</th>\n",
       "      <th>Runs</th>\n",
       "      <th>Six</th>\n",
       "      <th>Strike Rate</th>\n",
       "    </tr>\n",
       "  </thead>\n",
       "  <tbody>\n",
       "    <tr>\n",
       "      <th>Average</th>\n",
       "      <td>1.000000</td>\n",
       "      <td>0.502680</td>\n",
       "      <td>0.469557</td>\n",
       "      <td>0.277737</td>\n",
       "      <td>0.436654</td>\n",
       "      <td>0.377328</td>\n",
       "      <td>0.256072</td>\n",
       "    </tr>\n",
       "    <tr>\n",
       "      <th>Century</th>\n",
       "      <td>0.502680</td>\n",
       "      <td>1.000000</td>\n",
       "      <td>0.329552</td>\n",
       "      <td>0.380185</td>\n",
       "      <td>0.343764</td>\n",
       "      <td>0.525647</td>\n",
       "      <td>0.566521</td>\n",
       "    </tr>\n",
       "    <tr>\n",
       "      <th>Fifty</th>\n",
       "      <td>0.469557</td>\n",
       "      <td>0.329552</td>\n",
       "      <td>1.000000</td>\n",
       "      <td>0.856935</td>\n",
       "      <td>0.864320</td>\n",
       "      <td>0.581754</td>\n",
       "      <td>0.137611</td>\n",
       "    </tr>\n",
       "    <tr>\n",
       "      <th>Four</th>\n",
       "      <td>0.277737</td>\n",
       "      <td>0.380185</td>\n",
       "      <td>0.856935</td>\n",
       "      <td>1.000000</td>\n",
       "      <td>0.867993</td>\n",
       "      <td>0.531737</td>\n",
       "      <td>0.194929</td>\n",
       "    </tr>\n",
       "    <tr>\n",
       "      <th>Runs</th>\n",
       "      <td>0.436654</td>\n",
       "      <td>0.343764</td>\n",
       "      <td>0.864320</td>\n",
       "      <td>0.867993</td>\n",
       "      <td>1.000000</td>\n",
       "      <td>0.781292</td>\n",
       "      <td>0.223305</td>\n",
       "    </tr>\n",
       "    <tr>\n",
       "      <th>Six</th>\n",
       "      <td>0.377328</td>\n",
       "      <td>0.525647</td>\n",
       "      <td>0.581754</td>\n",
       "      <td>0.531737</td>\n",
       "      <td>0.781292</td>\n",
       "      <td>1.000000</td>\n",
       "      <td>0.475118</td>\n",
       "    </tr>\n",
       "    <tr>\n",
       "      <th>Strike Rate</th>\n",
       "      <td>0.256072</td>\n",
       "      <td>0.566521</td>\n",
       "      <td>0.137611</td>\n",
       "      <td>0.194929</td>\n",
       "      <td>0.223305</td>\n",
       "      <td>0.475118</td>\n",
       "      <td>1.000000</td>\n",
       "    </tr>\n",
       "  </tbody>\n",
       "</table>\n",
       "</div>"
      ],
      "text/plain": [
       "              Average   Century     Fifty      Four      Runs       Six  \\\n",
       "Average      1.000000  0.502680  0.469557  0.277737  0.436654  0.377328   \n",
       "Century      0.502680  1.000000  0.329552  0.380185  0.343764  0.525647   \n",
       "Fifty        0.469557  0.329552  1.000000  0.856935  0.864320  0.581754   \n",
       "Four         0.277737  0.380185  0.856935  1.000000  0.867993  0.531737   \n",
       "Runs         0.436654  0.343764  0.864320  0.867993  1.000000  0.781292   \n",
       "Six          0.377328  0.525647  0.581754  0.531737  0.781292  1.000000   \n",
       "Strike Rate  0.256072  0.566521  0.137611  0.194929  0.223305  0.475118   \n",
       "\n",
       "             Strike Rate  \n",
       "Average         0.256072  \n",
       "Century         0.566521  \n",
       "Fifty           0.137611  \n",
       "Four            0.194929  \n",
       "Runs            0.223305  \n",
       "Six             0.475118  \n",
       "Strike Rate     1.000000  "
      ]
     },
     "execution_count": 261,
     "metadata": {},
     "output_type": "execute_result"
    }
   ],
   "source": [
    "batsman_dataframe_A.corr()"
   ]
  },
  {
   "cell_type": "markdown",
   "metadata": {},
   "source": [
    "### Making Data Dictionary for Class B players (More Runs and Low Strike rate)"
   ]
  },
  {
   "cell_type": "code",
   "execution_count": 260,
   "metadata": {},
   "outputs": [
    {
     "data": {
      "text/html": [
       "<div>\n",
       "<style scoped>\n",
       "    .dataframe tbody tr th:only-of-type {\n",
       "        vertical-align: middle;\n",
       "    }\n",
       "\n",
       "    .dataframe tbody tr th {\n",
       "        vertical-align: top;\n",
       "    }\n",
       "\n",
       "    .dataframe thead th {\n",
       "        text-align: right;\n",
       "    }\n",
       "</style>\n",
       "<table border=\"1\" class=\"dataframe\">\n",
       "  <thead>\n",
       "    <tr style=\"text-align: right;\">\n",
       "      <th></th>\n",
       "      <th>Average</th>\n",
       "      <th>Century</th>\n",
       "      <th>Fifty</th>\n",
       "      <th>Four</th>\n",
       "      <th>Name</th>\n",
       "      <th>Runs</th>\n",
       "      <th>Six</th>\n",
       "      <th>Strike Rate</th>\n",
       "    </tr>\n",
       "  </thead>\n",
       "  <tbody>\n",
       "    <tr>\n",
       "      <th>0</th>\n",
       "      <td>39.860000</td>\n",
       "      <td>0</td>\n",
       "      <td>14</td>\n",
       "      <td>123</td>\n",
       "      <td>JP Duminy</td>\n",
       "      <td>1993</td>\n",
       "      <td>78</td>\n",
       "      <td>124.874687</td>\n",
       "    </tr>\n",
       "    <tr>\n",
       "      <th>1</th>\n",
       "      <td>25.953846</td>\n",
       "      <td>0</td>\n",
       "      <td>10</td>\n",
       "      <td>195</td>\n",
       "      <td>KC Sangakkara</td>\n",
       "      <td>1687</td>\n",
       "      <td>27</td>\n",
       "      <td>121.192529</td>\n",
       "    </tr>\n",
       "    <tr>\n",
       "      <th>2</th>\n",
       "      <td>38.764706</td>\n",
       "      <td>1</td>\n",
       "      <td>15</td>\n",
       "      <td>198</td>\n",
       "      <td>MEK Hussey</td>\n",
       "      <td>1977</td>\n",
       "      <td>52</td>\n",
       "      <td>122.642680</td>\n",
       "    </tr>\n",
       "    <tr>\n",
       "      <th>3</th>\n",
       "      <td>33.826087</td>\n",
       "      <td>1</td>\n",
       "      <td>13</td>\n",
       "      <td>296</td>\n",
       "      <td>SR Tendulkar</td>\n",
       "      <td>2334</td>\n",
       "      <td>29</td>\n",
       "      <td>119.815195</td>\n",
       "    </tr>\n",
       "    <tr>\n",
       "      <th>4</th>\n",
       "      <td>20.986486</td>\n",
       "      <td>0</td>\n",
       "      <td>6</td>\n",
       "      <td>121</td>\n",
       "      <td>NV Ojha</td>\n",
       "      <td>1553</td>\n",
       "      <td>79</td>\n",
       "      <td>118.640183</td>\n",
       "    </tr>\n",
       "    <tr>\n",
       "      <th>5</th>\n",
       "      <td>28.156250</td>\n",
       "      <td>1</td>\n",
       "      <td>10</td>\n",
       "      <td>200</td>\n",
       "      <td>DPMD Jayawardene</td>\n",
       "      <td>1802</td>\n",
       "      <td>39</td>\n",
       "      <td>123.255814</td>\n",
       "    </tr>\n",
       "    <tr>\n",
       "      <th>6</th>\n",
       "      <td>24.055556</td>\n",
       "      <td>0</td>\n",
       "      <td>0</td>\n",
       "      <td>125</td>\n",
       "      <td>RA Jadeja</td>\n",
       "      <td>1732</td>\n",
       "      <td>57</td>\n",
       "      <td>122.924060</td>\n",
       "    </tr>\n",
       "    <tr>\n",
       "      <th>7</th>\n",
       "      <td>28.397436</td>\n",
       "      <td>1</td>\n",
       "      <td>9</td>\n",
       "      <td>197</td>\n",
       "      <td>MK Pandey</td>\n",
       "      <td>2215</td>\n",
       "      <td>64</td>\n",
       "      <td>120.119306</td>\n",
       "    </tr>\n",
       "    <tr>\n",
       "      <th>8</th>\n",
       "      <td>21.700935</td>\n",
       "      <td>0</td>\n",
       "      <td>10</td>\n",
       "      <td>297</td>\n",
       "      <td>PA Patel</td>\n",
       "      <td>2322</td>\n",
       "      <td>35</td>\n",
       "      <td>117.213529</td>\n",
       "    </tr>\n",
       "    <tr>\n",
       "      <th>9</th>\n",
       "      <td>27.146067</td>\n",
       "      <td>0</td>\n",
       "      <td>14</td>\n",
       "      <td>205</td>\n",
       "      <td>AT Rayudu</td>\n",
       "      <td>2416</td>\n",
       "      <td>79</td>\n",
       "      <td>126.161880</td>\n",
       "    </tr>\n",
       "    <tr>\n",
       "      <th>10</th>\n",
       "      <td>28.552941</td>\n",
       "      <td>0</td>\n",
       "      <td>17</td>\n",
       "      <td>255</td>\n",
       "      <td>JH Kallis</td>\n",
       "      <td>2427</td>\n",
       "      <td>44</td>\n",
       "      <td>109.225923</td>\n",
       "    </tr>\n",
       "    <tr>\n",
       "      <th>11</th>\n",
       "      <td>37.440678</td>\n",
       "      <td>4</td>\n",
       "      <td>30</td>\n",
       "      <td>383</td>\n",
       "      <td>V Kohli</td>\n",
       "      <td>4418</td>\n",
       "      <td>160</td>\n",
       "      <td>129.826624</td>\n",
       "    </tr>\n",
       "    <tr>\n",
       "      <th>12</th>\n",
       "      <td>31.541985</td>\n",
       "      <td>0</td>\n",
       "      <td>35</td>\n",
       "      <td>484</td>\n",
       "      <td>G Gambhir</td>\n",
       "      <td>4132</td>\n",
       "      <td>58</td>\n",
       "      <td>124.607961</td>\n",
       "    </tr>\n",
       "    <tr>\n",
       "      <th>13</th>\n",
       "      <td>29.428571</td>\n",
       "      <td>0</td>\n",
       "      <td>7</td>\n",
       "      <td>152</td>\n",
       "      <td>MK Tiwary</td>\n",
       "      <td>1648</td>\n",
       "      <td>39</td>\n",
       "      <td>117.295374</td>\n",
       "    </tr>\n",
       "    <tr>\n",
       "      <th>14</th>\n",
       "      <td>24.811966</td>\n",
       "      <td>0</td>\n",
       "      <td>14</td>\n",
       "      <td>286</td>\n",
       "      <td>KD Karthik</td>\n",
       "      <td>2903</td>\n",
       "      <td>71</td>\n",
       "      <td>125.943601</td>\n",
       "    </tr>\n",
       "    <tr>\n",
       "      <th>15</th>\n",
       "      <td>26.431579</td>\n",
       "      <td>2</td>\n",
       "      <td>13</td>\n",
       "      <td>237</td>\n",
       "      <td>M Vijay</td>\n",
       "      <td>2511</td>\n",
       "      <td>89</td>\n",
       "      <td>123.390663</td>\n",
       "    </tr>\n",
       "    <tr>\n",
       "      <th>16</th>\n",
       "      <td>32.669725</td>\n",
       "      <td>0</td>\n",
       "      <td>28</td>\n",
       "      <td>401</td>\n",
       "      <td>S Dhawan</td>\n",
       "      <td>3561</td>\n",
       "      <td>71</td>\n",
       "      <td>121.868583</td>\n",
       "    </tr>\n",
       "    <tr>\n",
       "      <th>17</th>\n",
       "      <td>28.233766</td>\n",
       "      <td>0</td>\n",
       "      <td>11</td>\n",
       "      <td>269</td>\n",
       "      <td>R Dravid</td>\n",
       "      <td>2174</td>\n",
       "      <td>28</td>\n",
       "      <td>115.515409</td>\n",
       "    </tr>\n",
       "    <tr>\n",
       "      <th>18</th>\n",
       "      <td>33.593407</td>\n",
       "      <td>1</td>\n",
       "      <td>25</td>\n",
       "      <td>320</td>\n",
       "      <td>AM Rahane</td>\n",
       "      <td>3057</td>\n",
       "      <td>60</td>\n",
       "      <td>120.591716</td>\n",
       "    </tr>\n",
       "  </tbody>\n",
       "</table>\n",
       "</div>"
      ],
      "text/plain": [
       "      Average  Century  Fifty  Four              Name  Runs  Six  Strike Rate\n",
       "0   39.860000        0     14   123         JP Duminy  1993   78   124.874687\n",
       "1   25.953846        0     10   195     KC Sangakkara  1687   27   121.192529\n",
       "2   38.764706        1     15   198        MEK Hussey  1977   52   122.642680\n",
       "3   33.826087        1     13   296      SR Tendulkar  2334   29   119.815195\n",
       "4   20.986486        0      6   121           NV Ojha  1553   79   118.640183\n",
       "5   28.156250        1     10   200  DPMD Jayawardene  1802   39   123.255814\n",
       "6   24.055556        0      0   125         RA Jadeja  1732   57   122.924060\n",
       "7   28.397436        1      9   197         MK Pandey  2215   64   120.119306\n",
       "8   21.700935        0     10   297          PA Patel  2322   35   117.213529\n",
       "9   27.146067        0     14   205         AT Rayudu  2416   79   126.161880\n",
       "10  28.552941        0     17   255         JH Kallis  2427   44   109.225923\n",
       "11  37.440678        4     30   383           V Kohli  4418  160   129.826624\n",
       "12  31.541985        0     35   484         G Gambhir  4132   58   124.607961\n",
       "13  29.428571        0      7   152         MK Tiwary  1648   39   117.295374\n",
       "14  24.811966        0     14   286        KD Karthik  2903   71   125.943601\n",
       "15  26.431579        2     13   237           M Vijay  2511   89   123.390663\n",
       "16  32.669725        0     28   401          S Dhawan  3561   71   121.868583\n",
       "17  28.233766        0     11   269          R Dravid  2174   28   115.515409\n",
       "18  33.593407        1     25   320         AM Rahane  3057   60   120.591716"
      ]
     },
     "execution_count": 260,
     "metadata": {},
     "output_type": "execute_result"
    }
   ],
   "source": [
    "batsman_dict_B = {\"Name\":ClassB_name,\"Runs\":ClassB_Runs, \"Strike Rate\":ClassB_SR ,\"Average\":ClassB_avg,\"Century\": ClassB_cent,\"Fifty\": ClassB_fifty,\"Six\": ClassB_six,\"Four\": ClassB_four}\n",
    "batsman_dataframe_B = pd.DataFrame(batsman_dict_B)\n",
    "batsman_dataframe_B"
   ]
  },
  {
   "cell_type": "markdown",
   "metadata": {},
   "source": [
    "### Correlation Matrix for Class B Players"
   ]
  },
  {
   "cell_type": "code",
   "execution_count": 262,
   "metadata": {},
   "outputs": [
    {
     "data": {
      "text/html": [
       "<div>\n",
       "<style scoped>\n",
       "    .dataframe tbody tr th:only-of-type {\n",
       "        vertical-align: middle;\n",
       "    }\n",
       "\n",
       "    .dataframe tbody tr th {\n",
       "        vertical-align: top;\n",
       "    }\n",
       "\n",
       "    .dataframe thead th {\n",
       "        text-align: right;\n",
       "    }\n",
       "</style>\n",
       "<table border=\"1\" class=\"dataframe\">\n",
       "  <thead>\n",
       "    <tr style=\"text-align: right;\">\n",
       "      <th></th>\n",
       "      <th>Average</th>\n",
       "      <th>Century</th>\n",
       "      <th>Fifty</th>\n",
       "      <th>Four</th>\n",
       "      <th>Runs</th>\n",
       "      <th>Six</th>\n",
       "      <th>Strike Rate</th>\n",
       "    </tr>\n",
       "  </thead>\n",
       "  <tbody>\n",
       "    <tr>\n",
       "      <th>Average</th>\n",
       "      <td>1.000000</td>\n",
       "      <td>0.407470</td>\n",
       "      <td>0.546154</td>\n",
       "      <td>0.247848</td>\n",
       "      <td>0.377414</td>\n",
       "      <td>0.289301</td>\n",
       "      <td>0.315933</td>\n",
       "    </tr>\n",
       "    <tr>\n",
       "      <th>Century</th>\n",
       "      <td>0.407470</td>\n",
       "      <td>1.000000</td>\n",
       "      <td>0.341871</td>\n",
       "      <td>0.258795</td>\n",
       "      <td>0.463352</td>\n",
       "      <td>0.693932</td>\n",
       "      <td>0.452694</td>\n",
       "    </tr>\n",
       "    <tr>\n",
       "      <th>Fifty</th>\n",
       "      <td>0.546154</td>\n",
       "      <td>0.341871</td>\n",
       "      <td>1.000000</td>\n",
       "      <td>0.872121</td>\n",
       "      <td>0.916141</td>\n",
       "      <td>0.423440</td>\n",
       "      <td>0.314377</td>\n",
       "    </tr>\n",
       "    <tr>\n",
       "      <th>Four</th>\n",
       "      <td>0.247848</td>\n",
       "      <td>0.258795</td>\n",
       "      <td>0.872121</td>\n",
       "      <td>1.000000</td>\n",
       "      <td>0.901814</td>\n",
       "      <td>0.202608</td>\n",
       "      <td>0.172805</td>\n",
       "    </tr>\n",
       "    <tr>\n",
       "      <th>Runs</th>\n",
       "      <td>0.377414</td>\n",
       "      <td>0.463352</td>\n",
       "      <td>0.916141</td>\n",
       "      <td>0.901814</td>\n",
       "      <td>1.000000</td>\n",
       "      <td>0.579498</td>\n",
       "      <td>0.421043</td>\n",
       "    </tr>\n",
       "    <tr>\n",
       "      <th>Six</th>\n",
       "      <td>0.289301</td>\n",
       "      <td>0.693932</td>\n",
       "      <td>0.423440</td>\n",
       "      <td>0.202608</td>\n",
       "      <td>0.579498</td>\n",
       "      <td>1.000000</td>\n",
       "      <td>0.639518</td>\n",
       "    </tr>\n",
       "    <tr>\n",
       "      <th>Strike Rate</th>\n",
       "      <td>0.315933</td>\n",
       "      <td>0.452694</td>\n",
       "      <td>0.314377</td>\n",
       "      <td>0.172805</td>\n",
       "      <td>0.421043</td>\n",
       "      <td>0.639518</td>\n",
       "      <td>1.000000</td>\n",
       "    </tr>\n",
       "  </tbody>\n",
       "</table>\n",
       "</div>"
      ],
      "text/plain": [
       "              Average   Century     Fifty      Four      Runs       Six  \\\n",
       "Average      1.000000  0.407470  0.546154  0.247848  0.377414  0.289301   \n",
       "Century      0.407470  1.000000  0.341871  0.258795  0.463352  0.693932   \n",
       "Fifty        0.546154  0.341871  1.000000  0.872121  0.916141  0.423440   \n",
       "Four         0.247848  0.258795  0.872121  1.000000  0.901814  0.202608   \n",
       "Runs         0.377414  0.463352  0.916141  0.901814  1.000000  0.579498   \n",
       "Six          0.289301  0.693932  0.423440  0.202608  0.579498  1.000000   \n",
       "Strike Rate  0.315933  0.452694  0.314377  0.172805  0.421043  0.639518   \n",
       "\n",
       "             Strike Rate  \n",
       "Average         0.315933  \n",
       "Century         0.452694  \n",
       "Fifty           0.314377  \n",
       "Four            0.172805  \n",
       "Runs            0.421043  \n",
       "Six             0.639518  \n",
       "Strike Rate     1.000000  "
      ]
     },
     "execution_count": 262,
     "metadata": {},
     "output_type": "execute_result"
    }
   ],
   "source": [
    "batsman_dataframe_B.corr()"
   ]
  },
  {
   "cell_type": "markdown",
   "metadata": {},
   "source": [
    "### Making Data Dictionary for Class C player (Less Runs)"
   ]
  },
  {
   "cell_type": "code",
   "execution_count": 264,
   "metadata": {},
   "outputs": [
    {
     "data": {
      "text/html": [
       "<div>\n",
       "<style scoped>\n",
       "    .dataframe tbody tr th:only-of-type {\n",
       "        vertical-align: middle;\n",
       "    }\n",
       "\n",
       "    .dataframe tbody tr th {\n",
       "        vertical-align: top;\n",
       "    }\n",
       "\n",
       "    .dataframe thead th {\n",
       "        text-align: right;\n",
       "    }\n",
       "</style>\n",
       "<table border=\"1\" class=\"dataframe\">\n",
       "  <thead>\n",
       "    <tr style=\"text-align: right;\">\n",
       "      <th></th>\n",
       "      <th>Average</th>\n",
       "      <th>Century</th>\n",
       "      <th>Fifty</th>\n",
       "      <th>Four</th>\n",
       "      <th>Name</th>\n",
       "      <th>Runs</th>\n",
       "      <th>Six</th>\n",
       "      <th>Strike Rate</th>\n",
       "    </tr>\n",
       "  </thead>\n",
       "  <tbody>\n",
       "    <tr>\n",
       "      <th>0</th>\n",
       "      <td>35.709677</td>\n",
       "      <td>0</td>\n",
       "      <td>8</td>\n",
       "      <td>121</td>\n",
       "      <td>ML Hayden</td>\n",
       "      <td>1107</td>\n",
       "      <td>44</td>\n",
       "      <td>137.515528</td>\n",
       "    </tr>\n",
       "    <tr>\n",
       "      <th>1</th>\n",
       "      <td>6.000000</td>\n",
       "      <td>0</td>\n",
       "      <td>0</td>\n",
       "      <td>1</td>\n",
       "      <td>AS Rajpoot</td>\n",
       "      <td>6</td>\n",
       "      <td>0</td>\n",
       "      <td>46.153846</td>\n",
       "    </tr>\n",
       "    <tr>\n",
       "      <th>2</th>\n",
       "      <td>5.500000</td>\n",
       "      <td>0</td>\n",
       "      <td>0</td>\n",
       "      <td>0</td>\n",
       "      <td>Rashid Khan</td>\n",
       "      <td>11</td>\n",
       "      <td>1</td>\n",
       "      <td>122.222222</td>\n",
       "    </tr>\n",
       "    <tr>\n",
       "      <th>3</th>\n",
       "      <td>16.333333</td>\n",
       "      <td>0</td>\n",
       "      <td>0</td>\n",
       "      <td>9</td>\n",
       "      <td>CJ Ferguson</td>\n",
       "      <td>98</td>\n",
       "      <td>0</td>\n",
       "      <td>83.760684</td>\n",
       "    </tr>\n",
       "    <tr>\n",
       "      <th>4</th>\n",
       "      <td>16.333333</td>\n",
       "      <td>0</td>\n",
       "      <td>0</td>\n",
       "      <td>12</td>\n",
       "      <td>MJ Clarke</td>\n",
       "      <td>98</td>\n",
       "      <td>0</td>\n",
       "      <td>104.255319</td>\n",
       "    </tr>\n",
       "    <tr>\n",
       "      <th>5</th>\n",
       "      <td>7.500000</td>\n",
       "      <td>0</td>\n",
       "      <td>0</td>\n",
       "      <td>0</td>\n",
       "      <td>VY Mahesh</td>\n",
       "      <td>15</td>\n",
       "      <td>0</td>\n",
       "      <td>55.555556</td>\n",
       "    </tr>\n",
       "    <tr>\n",
       "      <th>6</th>\n",
       "      <td>6.000000</td>\n",
       "      <td>0</td>\n",
       "      <td>0</td>\n",
       "      <td>0</td>\n",
       "      <td>BA Bhatt</td>\n",
       "      <td>6</td>\n",
       "      <td>1</td>\n",
       "      <td>85.714286</td>\n",
       "    </tr>\n",
       "    <tr>\n",
       "      <th>7</th>\n",
       "      <td>4.000000</td>\n",
       "      <td>0</td>\n",
       "      <td>0</td>\n",
       "      <td>0</td>\n",
       "      <td>DP Nannes</td>\n",
       "      <td>4</td>\n",
       "      <td>0</td>\n",
       "      <td>30.769231</td>\n",
       "    </tr>\n",
       "    <tr>\n",
       "      <th>8</th>\n",
       "      <td>36.074074</td>\n",
       "      <td>1</td>\n",
       "      <td>5</td>\n",
       "      <td>74</td>\n",
       "      <td>A Symonds</td>\n",
       "      <td>974</td>\n",
       "      <td>41</td>\n",
       "      <td>129.866667</td>\n",
       "    </tr>\n",
       "    <tr>\n",
       "      <th>9</th>\n",
       "      <td>55.666667</td>\n",
       "      <td>0</td>\n",
       "      <td>1</td>\n",
       "      <td>19</td>\n",
       "      <td>MN van Wyk</td>\n",
       "      <td>167</td>\n",
       "      <td>1</td>\n",
       "      <td>126.515152</td>\n",
       "    </tr>\n",
       "    <tr>\n",
       "      <th>10</th>\n",
       "      <td>5.000000</td>\n",
       "      <td>0</td>\n",
       "      <td>0</td>\n",
       "      <td>0</td>\n",
       "      <td>YS Chahal</td>\n",
       "      <td>15</td>\n",
       "      <td>0</td>\n",
       "      <td>53.571429</td>\n",
       "    </tr>\n",
       "    <tr>\n",
       "      <th>11</th>\n",
       "      <td>2.000000</td>\n",
       "      <td>0</td>\n",
       "      <td>0</td>\n",
       "      <td>0</td>\n",
       "      <td>H Das</td>\n",
       "      <td>2</td>\n",
       "      <td>0</td>\n",
       "      <td>40.000000</td>\n",
       "    </tr>\n",
       "    <tr>\n",
       "      <th>12</th>\n",
       "      <td>5.500000</td>\n",
       "      <td>0</td>\n",
       "      <td>0</td>\n",
       "      <td>6</td>\n",
       "      <td>SL Malinga</td>\n",
       "      <td>88</td>\n",
       "      <td>5</td>\n",
       "      <td>88.888889</td>\n",
       "    </tr>\n",
       "    <tr>\n",
       "      <th>13</th>\n",
       "      <td>2.000000</td>\n",
       "      <td>0</td>\n",
       "      <td>0</td>\n",
       "      <td>1</td>\n",
       "      <td>VRV Singh</td>\n",
       "      <td>4</td>\n",
       "      <td>0</td>\n",
       "      <td>133.333333</td>\n",
       "    </tr>\n",
       "    <tr>\n",
       "      <th>14</th>\n",
       "      <td>6.800000</td>\n",
       "      <td>0</td>\n",
       "      <td>0</td>\n",
       "      <td>6</td>\n",
       "      <td>L Ronchi</td>\n",
       "      <td>34</td>\n",
       "      <td>1</td>\n",
       "      <td>100.000000</td>\n",
       "    </tr>\n",
       "    <tr>\n",
       "      <th>15</th>\n",
       "      <td>30.116279</td>\n",
       "      <td>0</td>\n",
       "      <td>8</td>\n",
       "      <td>110</td>\n",
       "      <td>F du Plessis</td>\n",
       "      <td>1295</td>\n",
       "      <td>38</td>\n",
       "      <td>127.964427</td>\n",
       "    </tr>\n",
       "    <tr>\n",
       "      <th>16</th>\n",
       "      <td>22.750000</td>\n",
       "      <td>0</td>\n",
       "      <td>0</td>\n",
       "      <td>9</td>\n",
       "      <td>S Rana</td>\n",
       "      <td>91</td>\n",
       "      <td>1</td>\n",
       "      <td>112.345679</td>\n",
       "    </tr>\n",
       "    <tr>\n",
       "      <th>17</th>\n",
       "      <td>14.000000</td>\n",
       "      <td>0</td>\n",
       "      <td>0</td>\n",
       "      <td>0</td>\n",
       "      <td>DL Chahar</td>\n",
       "      <td>14</td>\n",
       "      <td>2</td>\n",
       "      <td>233.333333</td>\n",
       "    </tr>\n",
       "    <tr>\n",
       "      <th>18</th>\n",
       "      <td>20.200000</td>\n",
       "      <td>0</td>\n",
       "      <td>0</td>\n",
       "      <td>34</td>\n",
       "      <td>AR Patel</td>\n",
       "      <td>606</td>\n",
       "      <td>28</td>\n",
       "      <td>128.118393</td>\n",
       "    </tr>\n",
       "    <tr>\n",
       "      <th>19</th>\n",
       "      <td>0.000000</td>\n",
       "      <td>0</td>\n",
       "      <td>0</td>\n",
       "      <td>1</td>\n",
       "      <td>AR Bawne</td>\n",
       "      <td>12</td>\n",
       "      <td>0</td>\n",
       "      <td>100.000000</td>\n",
       "    </tr>\n",
       "    <tr>\n",
       "      <th>20</th>\n",
       "      <td>13.000000</td>\n",
       "      <td>0</td>\n",
       "      <td>0</td>\n",
       "      <td>1</td>\n",
       "      <td>JM Kemp</td>\n",
       "      <td>26</td>\n",
       "      <td>1</td>\n",
       "      <td>108.333333</td>\n",
       "    </tr>\n",
       "    <tr>\n",
       "      <th>21</th>\n",
       "      <td>23.166667</td>\n",
       "      <td>0</td>\n",
       "      <td>1</td>\n",
       "      <td>45</td>\n",
       "      <td>MJ Lumb</td>\n",
       "      <td>278</td>\n",
       "      <td>6</td>\n",
       "      <td>143.298969</td>\n",
       "    </tr>\n",
       "    <tr>\n",
       "      <th>22</th>\n",
       "      <td>9.000000</td>\n",
       "      <td>0</td>\n",
       "      <td>0</td>\n",
       "      <td>0</td>\n",
       "      <td>Washington Sundar</td>\n",
       "      <td>9</td>\n",
       "      <td>0</td>\n",
       "      <td>75.000000</td>\n",
       "    </tr>\n",
       "    <tr>\n",
       "      <th>23</th>\n",
       "      <td>24.100000</td>\n",
       "      <td>0</td>\n",
       "      <td>2</td>\n",
       "      <td>26</td>\n",
       "      <td>SM Katich</td>\n",
       "      <td>241</td>\n",
       "      <td>8</td>\n",
       "      <td>129.569892</td>\n",
       "    </tr>\n",
       "    <tr>\n",
       "      <th>24</th>\n",
       "      <td>45.250000</td>\n",
       "      <td>0</td>\n",
       "      <td>0</td>\n",
       "      <td>15</td>\n",
       "      <td>AC Voges</td>\n",
       "      <td>181</td>\n",
       "      <td>3</td>\n",
       "      <td>126.573427</td>\n",
       "    </tr>\n",
       "    <tr>\n",
       "      <th>25</th>\n",
       "      <td>9.333333</td>\n",
       "      <td>0</td>\n",
       "      <td>0</td>\n",
       "      <td>2</td>\n",
       "      <td>WA Mota</td>\n",
       "      <td>56</td>\n",
       "      <td>0</td>\n",
       "      <td>74.666667</td>\n",
       "    </tr>\n",
       "    <tr>\n",
       "      <th>26</th>\n",
       "      <td>2.000000</td>\n",
       "      <td>0</td>\n",
       "      <td>0</td>\n",
       "      <td>0</td>\n",
       "      <td>Mohammad Nabi</td>\n",
       "      <td>2</td>\n",
       "      <td>0</td>\n",
       "      <td>66.666667</td>\n",
       "    </tr>\n",
       "    <tr>\n",
       "      <th>27</th>\n",
       "      <td>7.600000</td>\n",
       "      <td>0</td>\n",
       "      <td>0</td>\n",
       "      <td>4</td>\n",
       "      <td>JO Holder</td>\n",
       "      <td>38</td>\n",
       "      <td>2</td>\n",
       "      <td>122.580645</td>\n",
       "    </tr>\n",
       "    <tr>\n",
       "      <th>28</th>\n",
       "      <td>6.000000</td>\n",
       "      <td>0</td>\n",
       "      <td>0</td>\n",
       "      <td>0</td>\n",
       "      <td>T Thushara</td>\n",
       "      <td>12</td>\n",
       "      <td>0</td>\n",
       "      <td>66.666667</td>\n",
       "    </tr>\n",
       "    <tr>\n",
       "      <th>29</th>\n",
       "      <td>18.125000</td>\n",
       "      <td>0</td>\n",
       "      <td>1</td>\n",
       "      <td>21</td>\n",
       "      <td>S Vidyut</td>\n",
       "      <td>145</td>\n",
       "      <td>3</td>\n",
       "      <td>133.027523</td>\n",
       "    </tr>\n",
       "    <tr>\n",
       "      <th>...</th>\n",
       "      <td>...</td>\n",
       "      <td>...</td>\n",
       "      <td>...</td>\n",
       "      <td>...</td>\n",
       "      <td>...</td>\n",
       "      <td>...</td>\n",
       "      <td>...</td>\n",
       "      <td>...</td>\n",
       "    </tr>\n",
       "    <tr>\n",
       "      <th>392</th>\n",
       "      <td>10.000000</td>\n",
       "      <td>0</td>\n",
       "      <td>0</td>\n",
       "      <td>5</td>\n",
       "      <td>RV Gomez</td>\n",
       "      <td>50</td>\n",
       "      <td>1</td>\n",
       "      <td>98.039216</td>\n",
       "    </tr>\n",
       "    <tr>\n",
       "      <th>393</th>\n",
       "      <td>6.666667</td>\n",
       "      <td>0</td>\n",
       "      <td>0</td>\n",
       "      <td>4</td>\n",
       "      <td>NJ Maddinson</td>\n",
       "      <td>20</td>\n",
       "      <td>0</td>\n",
       "      <td>95.238095</td>\n",
       "    </tr>\n",
       "    <tr>\n",
       "      <th>394</th>\n",
       "      <td>4.000000</td>\n",
       "      <td>0</td>\n",
       "      <td>0</td>\n",
       "      <td>0</td>\n",
       "      <td>Swapnil Singh</td>\n",
       "      <td>12</td>\n",
       "      <td>0</td>\n",
       "      <td>60.000000</td>\n",
       "    </tr>\n",
       "    <tr>\n",
       "      <th>395</th>\n",
       "      <td>10.125000</td>\n",
       "      <td>0</td>\n",
       "      <td>0</td>\n",
       "      <td>2</td>\n",
       "      <td>WPUJC Vaas</td>\n",
       "      <td>81</td>\n",
       "      <td>3</td>\n",
       "      <td>110.958904</td>\n",
       "    </tr>\n",
       "    <tr>\n",
       "      <th>396</th>\n",
       "      <td>9.500000</td>\n",
       "      <td>0</td>\n",
       "      <td>0</td>\n",
       "      <td>1</td>\n",
       "      <td>A Mukund</td>\n",
       "      <td>19</td>\n",
       "      <td>0</td>\n",
       "      <td>86.363636</td>\n",
       "    </tr>\n",
       "    <tr>\n",
       "      <th>397</th>\n",
       "      <td>6.000000</td>\n",
       "      <td>0</td>\n",
       "      <td>0</td>\n",
       "      <td>3</td>\n",
       "      <td>SK Trivedi</td>\n",
       "      <td>42</td>\n",
       "      <td>1</td>\n",
       "      <td>71.186441</td>\n",
       "    </tr>\n",
       "    <tr>\n",
       "      <th>398</th>\n",
       "      <td>0.000000</td>\n",
       "      <td>0</td>\n",
       "      <td>0</td>\n",
       "      <td>0</td>\n",
       "      <td>A Chandila</td>\n",
       "      <td>4</td>\n",
       "      <td>0</td>\n",
       "      <td>57.142857</td>\n",
       "    </tr>\n",
       "    <tr>\n",
       "      <th>399</th>\n",
       "      <td>20.421053</td>\n",
       "      <td>0</td>\n",
       "      <td>2</td>\n",
       "      <td>39</td>\n",
       "      <td>Azhar Mahmood</td>\n",
       "      <td>388</td>\n",
       "      <td>13</td>\n",
       "      <td>128.052805</td>\n",
       "    </tr>\n",
       "    <tr>\n",
       "      <th>400</th>\n",
       "      <td>9.000000</td>\n",
       "      <td>0</td>\n",
       "      <td>0</td>\n",
       "      <td>1</td>\n",
       "      <td>Joginder Sharma</td>\n",
       "      <td>36</td>\n",
       "      <td>2</td>\n",
       "      <td>120.000000</td>\n",
       "    </tr>\n",
       "    <tr>\n",
       "      <th>401</th>\n",
       "      <td>7.000000</td>\n",
       "      <td>0</td>\n",
       "      <td>0</td>\n",
       "      <td>2</td>\n",
       "      <td>F Behardien</td>\n",
       "      <td>14</td>\n",
       "      <td>0</td>\n",
       "      <td>107.692308</td>\n",
       "    </tr>\n",
       "    <tr>\n",
       "      <th>402</th>\n",
       "      <td>29.040000</td>\n",
       "      <td>1</td>\n",
       "      <td>5</td>\n",
       "      <td>90</td>\n",
       "      <td>Q de Kock</td>\n",
       "      <td>726</td>\n",
       "      <td>21</td>\n",
       "      <td>132.240437</td>\n",
       "    </tr>\n",
       "    <tr>\n",
       "      <th>403</th>\n",
       "      <td>34.285714</td>\n",
       "      <td>0</td>\n",
       "      <td>1</td>\n",
       "      <td>46</td>\n",
       "      <td>KH Pandya</td>\n",
       "      <td>480</td>\n",
       "      <td>20</td>\n",
       "      <td>158.415842</td>\n",
       "    </tr>\n",
       "    <tr>\n",
       "      <th>404</th>\n",
       "      <td>10.200000</td>\n",
       "      <td>0</td>\n",
       "      <td>0</td>\n",
       "      <td>4</td>\n",
       "      <td>KB Arun Karthik</td>\n",
       "      <td>51</td>\n",
       "      <td>1</td>\n",
       "      <td>100.000000</td>\n",
       "    </tr>\n",
       "    <tr>\n",
       "      <th>405</th>\n",
       "      <td>8.333333</td>\n",
       "      <td>0</td>\n",
       "      <td>0</td>\n",
       "      <td>4</td>\n",
       "      <td>S Chanderpaul</td>\n",
       "      <td>25</td>\n",
       "      <td>0</td>\n",
       "      <td>80.645161</td>\n",
       "    </tr>\n",
       "    <tr>\n",
       "      <th>406</th>\n",
       "      <td>6.500000</td>\n",
       "      <td>0</td>\n",
       "      <td>0</td>\n",
       "      <td>5</td>\n",
       "      <td>MM Patel</td>\n",
       "      <td>39</td>\n",
       "      <td>0</td>\n",
       "      <td>95.121951</td>\n",
       "    </tr>\n",
       "    <tr>\n",
       "      <th>407</th>\n",
       "      <td>2.500000</td>\n",
       "      <td>0</td>\n",
       "      <td>0</td>\n",
       "      <td>0</td>\n",
       "      <td>P Awana</td>\n",
       "      <td>5</td>\n",
       "      <td>0</td>\n",
       "      <td>35.714286</td>\n",
       "    </tr>\n",
       "    <tr>\n",
       "      <th>408</th>\n",
       "      <td>9.000000</td>\n",
       "      <td>0</td>\n",
       "      <td>0</td>\n",
       "      <td>3</td>\n",
       "      <td>DS Lehmann</td>\n",
       "      <td>18</td>\n",
       "      <td>0</td>\n",
       "      <td>100.000000</td>\n",
       "    </tr>\n",
       "    <tr>\n",
       "      <th>409</th>\n",
       "      <td>21.000000</td>\n",
       "      <td>0</td>\n",
       "      <td>1</td>\n",
       "      <td>20</td>\n",
       "      <td>MJ Guptill</td>\n",
       "      <td>189</td>\n",
       "      <td>8</td>\n",
       "      <td>132.167832</td>\n",
       "    </tr>\n",
       "    <tr>\n",
       "      <th>410</th>\n",
       "      <td>7.875000</td>\n",
       "      <td>0</td>\n",
       "      <td>0</td>\n",
       "      <td>2</td>\n",
       "      <td>MJ McClenaghan</td>\n",
       "      <td>63</td>\n",
       "      <td>6</td>\n",
       "      <td>143.181818</td>\n",
       "    </tr>\n",
       "    <tr>\n",
       "      <th>411</th>\n",
       "      <td>11.454545</td>\n",
       "      <td>0</td>\n",
       "      <td>0</td>\n",
       "      <td>11</td>\n",
       "      <td>M Morkel</td>\n",
       "      <td>126</td>\n",
       "      <td>5</td>\n",
       "      <td>140.000000</td>\n",
       "    </tr>\n",
       "    <tr>\n",
       "      <th>412</th>\n",
       "      <td>2.333333</td>\n",
       "      <td>0</td>\n",
       "      <td>0</td>\n",
       "      <td>1</td>\n",
       "      <td>SN Thakur</td>\n",
       "      <td>7</td>\n",
       "      <td>0</td>\n",
       "      <td>77.777778</td>\n",
       "    </tr>\n",
       "    <tr>\n",
       "      <th>413</th>\n",
       "      <td>8.000000</td>\n",
       "      <td>0</td>\n",
       "      <td>0</td>\n",
       "      <td>0</td>\n",
       "      <td>TM Srivastava</td>\n",
       "      <td>8</td>\n",
       "      <td>0</td>\n",
       "      <td>72.727273</td>\n",
       "    </tr>\n",
       "    <tr>\n",
       "      <th>414</th>\n",
       "      <td>24.538462</td>\n",
       "      <td>0</td>\n",
       "      <td>3</td>\n",
       "      <td>95</td>\n",
       "      <td>M Vohra</td>\n",
       "      <td>957</td>\n",
       "      <td>35</td>\n",
       "      <td>132.732316</td>\n",
       "    </tr>\n",
       "    <tr>\n",
       "      <th>415</th>\n",
       "      <td>1.500000</td>\n",
       "      <td>0</td>\n",
       "      <td>0</td>\n",
       "      <td>0</td>\n",
       "      <td>BAW Mendis</td>\n",
       "      <td>3</td>\n",
       "      <td>0</td>\n",
       "      <td>50.000000</td>\n",
       "    </tr>\n",
       "    <tr>\n",
       "      <th>416</th>\n",
       "      <td>3.666667</td>\n",
       "      <td>0</td>\n",
       "      <td>0</td>\n",
       "      <td>0</td>\n",
       "      <td>T Kohli</td>\n",
       "      <td>11</td>\n",
       "      <td>1</td>\n",
       "      <td>57.894737</td>\n",
       "    </tr>\n",
       "    <tr>\n",
       "      <th>417</th>\n",
       "      <td>13.833333</td>\n",
       "      <td>0</td>\n",
       "      <td>1</td>\n",
       "      <td>10</td>\n",
       "      <td>RE Levi</td>\n",
       "      <td>83</td>\n",
       "      <td>4</td>\n",
       "      <td>113.698630</td>\n",
       "    </tr>\n",
       "    <tr>\n",
       "      <th>418</th>\n",
       "      <td>21.350000</td>\n",
       "      <td>0</td>\n",
       "      <td>4</td>\n",
       "      <td>72</td>\n",
       "      <td>EJG Morgan</td>\n",
       "      <td>854</td>\n",
       "      <td>34</td>\n",
       "      <td>121.134752</td>\n",
       "    </tr>\n",
       "    <tr>\n",
       "      <th>419</th>\n",
       "      <td>2.000000</td>\n",
       "      <td>0</td>\n",
       "      <td>0</td>\n",
       "      <td>0</td>\n",
       "      <td>Mohammad Ashraful</td>\n",
       "      <td>2</td>\n",
       "      <td>0</td>\n",
       "      <td>20.000000</td>\n",
       "    </tr>\n",
       "    <tr>\n",
       "      <th>420</th>\n",
       "      <td>18.333333</td>\n",
       "      <td>0</td>\n",
       "      <td>0</td>\n",
       "      <td>5</td>\n",
       "      <td>K Rabada</td>\n",
       "      <td>55</td>\n",
       "      <td>1</td>\n",
       "      <td>85.937500</td>\n",
       "    </tr>\n",
       "    <tr>\n",
       "      <th>421</th>\n",
       "      <td>12.000000</td>\n",
       "      <td>0</td>\n",
       "      <td>0</td>\n",
       "      <td>2</td>\n",
       "      <td>MA Khote</td>\n",
       "      <td>24</td>\n",
       "      <td>1</td>\n",
       "      <td>109.090909</td>\n",
       "    </tr>\n",
       "  </tbody>\n",
       "</table>\n",
       "<p>422 rows × 8 columns</p>\n",
       "</div>"
      ],
      "text/plain": [
       "       Average  Century  Fifty  Four               Name  Runs  Six  \\\n",
       "0    35.709677        0      8   121          ML Hayden  1107   44   \n",
       "1     6.000000        0      0     1         AS Rajpoot     6    0   \n",
       "2     5.500000        0      0     0        Rashid Khan    11    1   \n",
       "3    16.333333        0      0     9        CJ Ferguson    98    0   \n",
       "4    16.333333        0      0    12          MJ Clarke    98    0   \n",
       "5     7.500000        0      0     0          VY Mahesh    15    0   \n",
       "6     6.000000        0      0     0           BA Bhatt     6    1   \n",
       "7     4.000000        0      0     0          DP Nannes     4    0   \n",
       "8    36.074074        1      5    74          A Symonds   974   41   \n",
       "9    55.666667        0      1    19         MN van Wyk   167    1   \n",
       "10    5.000000        0      0     0          YS Chahal    15    0   \n",
       "11    2.000000        0      0     0              H Das     2    0   \n",
       "12    5.500000        0      0     6         SL Malinga    88    5   \n",
       "13    2.000000        0      0     1          VRV Singh     4    0   \n",
       "14    6.800000        0      0     6           L Ronchi    34    1   \n",
       "15   30.116279        0      8   110       F du Plessis  1295   38   \n",
       "16   22.750000        0      0     9             S Rana    91    1   \n",
       "17   14.000000        0      0     0          DL Chahar    14    2   \n",
       "18   20.200000        0      0    34           AR Patel   606   28   \n",
       "19    0.000000        0      0     1           AR Bawne    12    0   \n",
       "20   13.000000        0      0     1            JM Kemp    26    1   \n",
       "21   23.166667        0      1    45            MJ Lumb   278    6   \n",
       "22    9.000000        0      0     0  Washington Sundar     9    0   \n",
       "23   24.100000        0      2    26          SM Katich   241    8   \n",
       "24   45.250000        0      0    15           AC Voges   181    3   \n",
       "25    9.333333        0      0     2            WA Mota    56    0   \n",
       "26    2.000000        0      0     0      Mohammad Nabi     2    0   \n",
       "27    7.600000        0      0     4          JO Holder    38    2   \n",
       "28    6.000000        0      0     0         T Thushara    12    0   \n",
       "29   18.125000        0      1    21           S Vidyut   145    3   \n",
       "..         ...      ...    ...   ...                ...   ...  ...   \n",
       "392  10.000000        0      0     5           RV Gomez    50    1   \n",
       "393   6.666667        0      0     4       NJ Maddinson    20    0   \n",
       "394   4.000000        0      0     0      Swapnil Singh    12    0   \n",
       "395  10.125000        0      0     2         WPUJC Vaas    81    3   \n",
       "396   9.500000        0      0     1           A Mukund    19    0   \n",
       "397   6.000000        0      0     3         SK Trivedi    42    1   \n",
       "398   0.000000        0      0     0         A Chandila     4    0   \n",
       "399  20.421053        0      2    39      Azhar Mahmood   388   13   \n",
       "400   9.000000        0      0     1    Joginder Sharma    36    2   \n",
       "401   7.000000        0      0     2        F Behardien    14    0   \n",
       "402  29.040000        1      5    90          Q de Kock   726   21   \n",
       "403  34.285714        0      1    46          KH Pandya   480   20   \n",
       "404  10.200000        0      0     4    KB Arun Karthik    51    1   \n",
       "405   8.333333        0      0     4      S Chanderpaul    25    0   \n",
       "406   6.500000        0      0     5           MM Patel    39    0   \n",
       "407   2.500000        0      0     0            P Awana     5    0   \n",
       "408   9.000000        0      0     3         DS Lehmann    18    0   \n",
       "409  21.000000        0      1    20         MJ Guptill   189    8   \n",
       "410   7.875000        0      0     2     MJ McClenaghan    63    6   \n",
       "411  11.454545        0      0    11           M Morkel   126    5   \n",
       "412   2.333333        0      0     1          SN Thakur     7    0   \n",
       "413   8.000000        0      0     0      TM Srivastava     8    0   \n",
       "414  24.538462        0      3    95            M Vohra   957   35   \n",
       "415   1.500000        0      0     0         BAW Mendis     3    0   \n",
       "416   3.666667        0      0     0            T Kohli    11    1   \n",
       "417  13.833333        0      1    10            RE Levi    83    4   \n",
       "418  21.350000        0      4    72         EJG Morgan   854   34   \n",
       "419   2.000000        0      0     0  Mohammad Ashraful     2    0   \n",
       "420  18.333333        0      0     5           K Rabada    55    1   \n",
       "421  12.000000        0      0     2           MA Khote    24    1   \n",
       "\n",
       "     Strike Rate  \n",
       "0     137.515528  \n",
       "1      46.153846  \n",
       "2     122.222222  \n",
       "3      83.760684  \n",
       "4     104.255319  \n",
       "5      55.555556  \n",
       "6      85.714286  \n",
       "7      30.769231  \n",
       "8     129.866667  \n",
       "9     126.515152  \n",
       "10     53.571429  \n",
       "11     40.000000  \n",
       "12     88.888889  \n",
       "13    133.333333  \n",
       "14    100.000000  \n",
       "15    127.964427  \n",
       "16    112.345679  \n",
       "17    233.333333  \n",
       "18    128.118393  \n",
       "19    100.000000  \n",
       "20    108.333333  \n",
       "21    143.298969  \n",
       "22     75.000000  \n",
       "23    129.569892  \n",
       "24    126.573427  \n",
       "25     74.666667  \n",
       "26     66.666667  \n",
       "27    122.580645  \n",
       "28     66.666667  \n",
       "29    133.027523  \n",
       "..           ...  \n",
       "392    98.039216  \n",
       "393    95.238095  \n",
       "394    60.000000  \n",
       "395   110.958904  \n",
       "396    86.363636  \n",
       "397    71.186441  \n",
       "398    57.142857  \n",
       "399   128.052805  \n",
       "400   120.000000  \n",
       "401   107.692308  \n",
       "402   132.240437  \n",
       "403   158.415842  \n",
       "404   100.000000  \n",
       "405    80.645161  \n",
       "406    95.121951  \n",
       "407    35.714286  \n",
       "408   100.000000  \n",
       "409   132.167832  \n",
       "410   143.181818  \n",
       "411   140.000000  \n",
       "412    77.777778  \n",
       "413    72.727273  \n",
       "414   132.732316  \n",
       "415    50.000000  \n",
       "416    57.894737  \n",
       "417   113.698630  \n",
       "418   121.134752  \n",
       "419    20.000000  \n",
       "420    85.937500  \n",
       "421   109.090909  \n",
       "\n",
       "[422 rows x 8 columns]"
      ]
     },
     "execution_count": 264,
     "metadata": {},
     "output_type": "execute_result"
    }
   ],
   "source": [
    "batsman_dict_C = {\"Name\":ClassC_name,\"Runs\":ClassC_Runs, \"Strike Rate\":ClassC_SR ,\"Average\":ClassC_avg,\"Century\": ClassC_cent,\"Fifty\": ClassC_fifty,\"Six\": ClassC_six,\"Four\": ClassC_four}\n",
    "batsman_dataframe_C = pd.DataFrame(batsman_dict_C)\n",
    "batsman_dataframe_C"
   ]
  },
  {
   "cell_type": "markdown",
   "metadata": {},
   "source": [
    "### Correlation Matrix for Class C Players"
   ]
  },
  {
   "cell_type": "code",
   "execution_count": 263,
   "metadata": {},
   "outputs": [
    {
     "data": {
      "text/html": [
       "<div>\n",
       "<style scoped>\n",
       "    .dataframe tbody tr th:only-of-type {\n",
       "        vertical-align: middle;\n",
       "    }\n",
       "\n",
       "    .dataframe tbody tr th {\n",
       "        vertical-align: top;\n",
       "    }\n",
       "\n",
       "    .dataframe thead th {\n",
       "        text-align: right;\n",
       "    }\n",
       "</style>\n",
       "<table border=\"1\" class=\"dataframe\">\n",
       "  <thead>\n",
       "    <tr style=\"text-align: right;\">\n",
       "      <th></th>\n",
       "      <th>Average</th>\n",
       "      <th>Century</th>\n",
       "      <th>Fifty</th>\n",
       "      <th>Four</th>\n",
       "      <th>Runs</th>\n",
       "      <th>Six</th>\n",
       "      <th>Strike Rate</th>\n",
       "    </tr>\n",
       "  </thead>\n",
       "  <tbody>\n",
       "    <tr>\n",
       "      <th>Average</th>\n",
       "      <td>1.000000</td>\n",
       "      <td>0.274762</td>\n",
       "      <td>0.534521</td>\n",
       "      <td>0.578062</td>\n",
       "      <td>0.583429</td>\n",
       "      <td>0.544312</td>\n",
       "      <td>0.577449</td>\n",
       "    </tr>\n",
       "    <tr>\n",
       "      <th>Century</th>\n",
       "      <td>0.274762</td>\n",
       "      <td>1.000000</td>\n",
       "      <td>0.326655</td>\n",
       "      <td>0.304050</td>\n",
       "      <td>0.286484</td>\n",
       "      <td>0.304109</td>\n",
       "      <td>0.118608</td>\n",
       "    </tr>\n",
       "    <tr>\n",
       "      <th>Fifty</th>\n",
       "      <td>0.534521</td>\n",
       "      <td>0.326655</td>\n",
       "      <td>1.000000</td>\n",
       "      <td>0.895402</td>\n",
       "      <td>0.865931</td>\n",
       "      <td>0.776538</td>\n",
       "      <td>0.270036</td>\n",
       "    </tr>\n",
       "    <tr>\n",
       "      <th>Four</th>\n",
       "      <td>0.578062</td>\n",
       "      <td>0.304050</td>\n",
       "      <td>0.895402</td>\n",
       "      <td>1.000000</td>\n",
       "      <td>0.971351</td>\n",
       "      <td>0.854222</td>\n",
       "      <td>0.353785</td>\n",
       "    </tr>\n",
       "    <tr>\n",
       "      <th>Runs</th>\n",
       "      <td>0.583429</td>\n",
       "      <td>0.286484</td>\n",
       "      <td>0.865931</td>\n",
       "      <td>0.971351</td>\n",
       "      <td>1.000000</td>\n",
       "      <td>0.931574</td>\n",
       "      <td>0.364954</td>\n",
       "    </tr>\n",
       "    <tr>\n",
       "      <th>Six</th>\n",
       "      <td>0.544312</td>\n",
       "      <td>0.304109</td>\n",
       "      <td>0.776538</td>\n",
       "      <td>0.854222</td>\n",
       "      <td>0.931574</td>\n",
       "      <td>1.000000</td>\n",
       "      <td>0.401181</td>\n",
       "    </tr>\n",
       "    <tr>\n",
       "      <th>Strike Rate</th>\n",
       "      <td>0.577449</td>\n",
       "      <td>0.118608</td>\n",
       "      <td>0.270036</td>\n",
       "      <td>0.353785</td>\n",
       "      <td>0.364954</td>\n",
       "      <td>0.401181</td>\n",
       "      <td>1.000000</td>\n",
       "    </tr>\n",
       "  </tbody>\n",
       "</table>\n",
       "</div>"
      ],
      "text/plain": [
       "              Average   Century     Fifty      Four      Runs       Six  \\\n",
       "Average      1.000000  0.274762  0.534521  0.578062  0.583429  0.544312   \n",
       "Century      0.274762  1.000000  0.326655  0.304050  0.286484  0.304109   \n",
       "Fifty        0.534521  0.326655  1.000000  0.895402  0.865931  0.776538   \n",
       "Four         0.578062  0.304050  0.895402  1.000000  0.971351  0.854222   \n",
       "Runs         0.583429  0.286484  0.865931  0.971351  1.000000  0.931574   \n",
       "Six          0.544312  0.304109  0.776538  0.854222  0.931574  1.000000   \n",
       "Strike Rate  0.577449  0.118608  0.270036  0.353785  0.364954  0.401181   \n",
       "\n",
       "             Strike Rate  \n",
       "Average         0.577449  \n",
       "Century         0.118608  \n",
       "Fifty           0.270036  \n",
       "Four            0.353785  \n",
       "Runs            0.364954  \n",
       "Six             0.401181  \n",
       "Strike Rate     1.000000  "
      ]
     },
     "execution_count": 263,
     "metadata": {},
     "output_type": "execute_result"
    }
   ],
   "source": [
    "batsman_dataframe_C.corr()"
   ]
  },
  {
   "cell_type": "markdown",
   "metadata": {},
   "source": [
    "## Visualization"
   ]
  },
  {
   "cell_type": "markdown",
   "metadata": {},
   "source": [
    "### Bar Graph for Runs Scored by the player"
   ]
  },
  {
   "cell_type": "code",
   "execution_count": 331,
   "metadata": {
    "scrolled": false
   },
   "outputs": [
    {
     "data": {
      "text/plain": [
       "[<matplotlib.lines.Line2D at 0x2ae88e85860>]"
      ]
     },
     "execution_count": 331,
     "metadata": {},
     "output_type": "execute_result"
    },
    {
     "data": {
      "image/png": "[encoded data removed]",
      "text/plain": [
       "<matplotlib.figure.Figure at 0x2ae8bd10160>"
      ]
     },
     "metadata": {},
     "output_type": "display_data"
    }
   ],
   "source": [
    "index = np.arange(461)\n",
    "plt.figure(figsize=(30,10))\n",
    "plt.subplots_adjust(bottom=0.15)\n",
    "ax = plt.bar(index,  Players_Runs)\n",
    "plt.suptitle(\"Runs Scored\", fontsize=20)\n",
    "mean = np.empty(len(player_list))\n",
    "mean.fill(np.mean(Players_Runs))\n",
    "plt.plot(index, mean)"
   ]
  },
  {
   "cell_type": "markdown",
   "metadata": {},
   "source": [
    "### Bar Graph for Average of the player"
   ]
  },
  {
   "cell_type": "code",
   "execution_count": 332,
   "metadata": {},
   "outputs": [
    {
     "data": {
      "text/plain": [
       "[<matplotlib.lines.Line2D at 0x2ae8c9a5d68>]"
      ]
     },
     "execution_count": 332,
     "metadata": {},
     "output_type": "execute_result"
    },
    {
     "data": {
      "image/png": "[encoded data removed]",
      "text/plain": [
       "<matplotlib.figure.Figure at 0x2ae8d560550>"
      ]
     },
     "metadata": {},
     "output_type": "display_data"
    }
   ],
   "source": [
    "plt.figure(figsize=(30,10))\n",
    "plt.subplots_adjust(bottom=0.15)\n",
    "ax = plt.bar(index, P_avg)\n",
    "plt.suptitle(\"Average\", fontsize=20)\n",
    "mean = np.empty(len(player_list))\n",
    "mean.fill(np.mean(P_avg))\n",
    "plt.plot(index, mean)"
   ]
  },
  {
   "cell_type": "markdown",
   "metadata": {},
   "source": [
    "### Bar Graph for Strike Rate of the player"
   ]
  },
  {
   "cell_type": "code",
   "execution_count": 333,
   "metadata": {
    "scrolled": false
   },
   "outputs": [
    {
     "data": {
      "text/plain": [
       "[<matplotlib.lines.Line2D at 0x2ae8db7ce10>]"
      ]
     },
     "execution_count": 333,
     "metadata": {},
     "output_type": "execute_result"
    },
    {
     "data": {
      "image/png": "[encoded data removed]",
      "text/plain": [
       "<matplotlib.figure.Figure at 0x2ae8d54c7b8>"
      ]
     },
     "metadata": {},
     "output_type": "display_data"
    }
   ],
   "source": [
    "plt.figure(figsize=(30,10))\n",
    "plt.subplots_adjust(bottom=0.15)\n",
    "ax = plt.bar(index,  Players_SR)\n",
    "plt.suptitle(\"Strike Rate\", fontsize=20)\n",
    "mean = np.empty(len(player_list))\n",
    "mean.fill(np.mean(Players_SR))\n",
    "plt.plot(index, mean)"
   ]
  },
  {
   "cell_type": "markdown",
   "metadata": {},
   "source": [
    "### Bar Graph for Century Scored by the Player"
   ]
  },
  {
   "cell_type": "code",
   "execution_count": 334,
   "metadata": {},
   "outputs": [
    {
     "data": {
      "text/plain": [
       "[<matplotlib.lines.Line2D at 0x2ae8e85d5f8>]"
      ]
     },
     "execution_count": 334,
     "metadata": {},
     "output_type": "execute_result"
    },
    {
     "data": {
      "image/png": "[encoded data removed]",
      "text/plain": [
       "<matplotlib.figure.Figure at 0x2ae8effd780>"
      ]
     },
     "metadata": {},
     "output_type": "display_data"
    }
   ],
   "source": [
    "plt.figure(figsize=(30,10))\n",
    "plt.subplots_adjust(bottom=0.15)\n",
    "ax = plt.bar(index,  Player_century)\n",
    "plt.suptitle(\"Century Scored\", fontsize=20)\n",
    "mean = np.empty(len(player_list))\n",
    "mean.fill(np.mean(Player_century))\n",
    "plt.plot(index, mean)"
   ]
  },
  {
   "cell_type": "markdown",
   "metadata": {},
   "source": [
    "### Bar Graph for Half Century Scored by the Player"
   ]
  },
  {
   "cell_type": "code",
   "execution_count": 319,
   "metadata": {},
   "outputs": [
    {
     "data": {
      "text/plain": [
       "[<matplotlib.lines.Line2D at 0x2ae83b21400>]"
      ]
     },
     "execution_count": 319,
     "metadata": {},
     "output_type": "execute_result"
    },
    {
     "data": {
      "image/png": "[encoded data removed]",
      "text/plain": [
       "<matplotlib.figure.Figure at 0x2ae848dea58>"
      ]
     },
     "metadata": {},
     "output_type": "display_data"
    }
   ],
   "source": [
    "plt.figure(figsize=(30,10))\n",
    "ax = plt.bar(index,  Player_fifty)\n",
    "\n",
    "mean = np.empty(len(player_list))\n",
    "mean.fill(np.mean(Player_fifty))\n",
    "plt.plot(index, mean)"
   ]
  },
  {
   "cell_type": "markdown",
   "metadata": {},
   "source": [
    "### Bar Graph for Six Hitted by the Player"
   ]
  },
  {
   "cell_type": "code",
   "execution_count": 320,
   "metadata": {},
   "outputs": [
    {
     "data": {
      "text/plain": [
       "[<matplotlib.lines.Line2D at 0x2ae84cdb898>]"
      ]
     },
     "execution_count": 320,
     "metadata": {},
     "output_type": "execute_result"
    },
    {
     "data": {
      "image/png": "[encoded data removed]",
      "text/plain": [
       "<matplotlib.figure.Figure at 0x2ae84833cc0>"
      ]
     },
     "metadata": {},
     "output_type": "display_data"
    }
   ],
   "source": [
    "plt.figure(figsize=(30,10))\n",
    "plt.subplots_adjust(bottom=0.15)\n",
    "ax = plt.bar(index,  Player_six)\n",
    "\n",
    "mean = np.empty(len(player_list))\n",
    "mean.fill(np.mean(Player_six))\n",
    "plt.plot(index, mean)"
   ]
  },
  {
   "cell_type": "markdown",
   "metadata": {},
   "source": [
    "### Bar Graph for Four Hitted by the player"
   ]
  },
  {
   "cell_type": "code",
   "execution_count": 321,
   "metadata": {},
   "outputs": [
    {
     "data": {
      "text/plain": [
       "[<matplotlib.lines.Line2D at 0x2ae878ce278>]"
      ]
     },
     "execution_count": 321,
     "metadata": {},
     "output_type": "execute_result"
    },
    {
     "data": {
      "image/png": "[encoded data removed]",
      "text/plain": [
       "<matplotlib.figure.Figure at 0x2ae84cdb668>"
      ]
     },
     "metadata": {},
     "output_type": "display_data"
    }
   ],
   "source": [
    "plt.figure(figsize=(30,10))\n",
    "plt.subplots_adjust(bottom=0.15)\n",
    "ax = plt.bar(index,  Player_four)\n",
    "\n",
    "mean = np.empty(len(player_list))\n",
    "mean.fill(np.mean(Player_four))\n",
    "plt.plot(index, mean)"
   ]
  },
  {
   "cell_type": "markdown",
   "metadata": {},
   "source": [
    "### Scatter Plot of Runs Scored vs Strike Rate"
   ]
  },
  {
   "cell_type": "code",
   "execution_count": 337,
   "metadata": {},
   "outputs": [
    {
     "data": {
      "text/plain": [
       "<matplotlib.collections.PathCollection at 0x2ae8fab1d68>"
      ]
     },
     "execution_count": 337,
     "metadata": {},
     "output_type": "execute_result"
    },
    {
     "data": {
      "image/png": "[encoded data removed]",
      "text/plain": [
       "<matplotlib.figure.Figure at 0x2ae8f76dcc0>"
      ]
     },
     "metadata": {},
     "output_type": "display_data"
    }
   ],
   "source": [
    "plt.figure(figsize=(20,10))\n",
    "plt.title(\"Runs Scored vs Strike Rate\", fontsize=20)\n",
    "plt.scatter(Players_Runs, Players_SR)"
   ]
  },
  {
   "cell_type": "markdown",
   "metadata": {},
   "source": [
    "### Scatter Plot of Runs Scored vs Average"
   ]
  },
  {
   "cell_type": "code",
   "execution_count": 338,
   "metadata": {
    "scrolled": false
   },
   "outputs": [
    {
     "data": {
      "text/plain": [
       "<matplotlib.collections.PathCollection at 0x2ae8fac1320>"
      ]
     },
     "execution_count": 338,
     "metadata": {},
     "output_type": "execute_result"
    },
    {
     "data": {
      "image/png": "[encoded data removed]",
      "text/plain": [
       "<matplotlib.figure.Figure at 0x2ae8fac1f98>"
      ]
     },
     "metadata": {},
     "output_type": "display_data"
    }
   ],
   "source": [
    "plt.figure(figsize=(20,10))\n",
    "plt.title(\"Runs Scored vs Average\", fontsize=20)\n",
    "plt.scatter(Players_Runs, P_avg)"
   ]
  },
  {
   "cell_type": "markdown",
   "metadata": {},
   "source": [
    "### Function to generate eqautaion of Line"
   ]
  },
  {
   "cell_type": "code",
   "execution_count": 288,
   "metadata": {
    "collapsed": true
   },
   "outputs": [],
   "source": [
    "from scipy.optimize import curve_fit\n",
    "def y(x, m, b):\n",
    "    return m * x + b"
   ]
  },
  {
   "cell_type": "markdown",
   "metadata": {},
   "source": [
    "### Scatter Plot of Runs Scored vs Six Hitted"
   ]
  },
  {
   "cell_type": "code",
   "execution_count": 339,
   "metadata": {},
   "outputs": [
    {
     "name": "stdout",
     "output_type": "stream",
     "text": [
      "Equation of Line : 0.036264969491593635  * X +  -0.332469379565149\n"
     ]
    },
    {
     "data": {
      "image/png": "[encoded data removed]",
      "text/plain": [
       "<matplotlib.figure.Figure at 0x2ae8fb02438>"
      ]
     },
     "metadata": {},
     "output_type": "display_data"
    }
   ],
   "source": [
    "popt, pcov = curve_fit(y, Players_Runs, Player_six)\n",
    "plt.figure(figsize=(20,10))\n",
    "plt.title(\"Runs Scored vs Six Hitted\", fontsize=20)\n",
    "plt.xlabel('Runs', fontsize=18)\n",
    "plt.ylabel('Sixes', fontsize=16)\n",
    "plt.scatter(Players_Runs, Player_six)\n",
    "lines = np.arange(max(Players_Runs))\n",
    "abline_values = [popt[0] * i + popt[1] for i in lines]\n",
    "plt.plot(lines,abline_values,'g')\n",
    "print(\"Equation of Line :\",popt[0],\" * X + \",popt[1])"
   ]
  },
  {
   "cell_type": "markdown",
   "metadata": {
    "collapsed": true
   },
   "source": [
    "### Scatter Plot of Runs Scored vs Four Scored"
   ]
  },
  {
   "cell_type": "code",
   "execution_count": 340,
   "metadata": {
    "scrolled": false
   },
   "outputs": [
    {
     "name": "stdout",
     "output_type": "stream",
     "text": [
      "Equation of Line : 0.0949201461247442  * X +  -0.9177778158875125\n"
     ]
    },
    {
     "data": {
      "image/png": "[encoded data removed]",
      "text/plain": [
       "<matplotlib.figure.Figure at 0x2ae8fc5b5c0>"
      ]
     },
     "metadata": {},
     "output_type": "display_data"
    }
   ],
   "source": [
    "popt, pcov = curve_fit(y, Players_Runs, Player_four)\n",
    "plt.figure(figsize=(20,10))\n",
    "plt.title(\"Runs Scored vs Four Hitted\", fontsize=20)\n",
    "plt.xlabel('Runs', fontsize=18)\n",
    "plt.ylabel('Fours', fontsize=16)\n",
    "plt.scatter(Players_Runs,Player_four)\n",
    "lines = np.arange(max(Players_Runs))\n",
    "abline_values = [popt[0] * i + popt[1] for i in lines]\n",
    "plt.plot(lines,abline_values,'g')\n",
    "print(\"Equation of Line :\",popt[0],\" * X + \",popt[1])"
   ]
  },
  {
   "cell_type": "markdown",
   "metadata": {},
   "source": [
    "### Scatter Plot of Runs Scored vs Total Boundry Scored"
   ]
  },
  {
   "cell_type": "code",
   "execution_count": 341,
   "metadata": {},
   "outputs": [
    {
     "name": "stdout",
     "output_type": "stream",
     "text": [
      "Equation of Line : 0.1311851156185173  * X +  -1.2502471954504788\n"
     ]
    },
    {
     "data": {
      "image/png": "[encoded data removed]",
      "text/plain": [
       "<matplotlib.figure.Figure at 0x2ae8fc49b00>"
      ]
     },
     "metadata": {},
     "output_type": "display_data"
    }
   ],
   "source": [
    "popt, pcov = curve_fit(y, Players_Runs, np.array(Player_four)+np.array(Player_six))\n",
    "plt.figure(figsize=(20,10))\n",
    "plt.title(\"Runs Scored vs Total Boundry Scored\", fontsize=20)\n",
    "plt.xlabel('Runs', fontsize=18)\n",
    "plt.ylabel('Boundries', fontsize=16)\n",
    "plt.scatter(Players_Runs,np.array(Player_four)+np.array(Player_six))\n",
    "lines = np.arange(max(Players_Runs))\n",
    "abline_values = [popt[0] * i + popt[1] for i in lines]\n",
    "plt.plot(lines,abline_values,'g')\n",
    "print(\"Equation of Line :\",popt[0],\" * X + \",popt[1])"
   ]
  },
  {
   "cell_type": "markdown",
   "metadata": {},
   "source": [
    "### Scatter Plot of Six Hitted vs Four Scored"
   ]
  },
  {
   "cell_type": "code",
   "execution_count": 342,
   "metadata": {},
   "outputs": [
    {
     "name": "stdout",
     "output_type": "stream",
     "text": [
      "Equation of Line : 0.3482921610104425  * X +  1.2647882985444319\n"
     ]
    },
    {
     "data": {
      "image/png": "[encoded data removed]",
      "text/plain": [
       "<matplotlib.figure.Figure at 0x2ae8fce6b38>"
      ]
     },
     "metadata": {},
     "output_type": "display_data"
    }
   ],
   "source": [
    "popt, pcov = curve_fit(y,Player_four, Player_six)\n",
    "plt.figure(figsize=(20,10))\n",
    "plt.title(\" Six Hitted vs Four Scored\", fontsize=20)\n",
    "plt.xlabel('Four', fontsize=18)\n",
    "plt.ylabel('Sixes', fontsize=16)\n",
    "plt.scatter(Player_four, Player_six)\n",
    "lines = np.arange(max(Player_four))\n",
    "abline_values = [popt[0] * i  for i in lines]\n",
    "plt.plot(lines,abline_values,'g')\n",
    "print(\"Equation of Line :\",popt[0],\" * X + \",popt[1])"
   ]
  },
  {
   "cell_type": "markdown",
   "metadata": {},
   "source": [
    "## Finding the TOP-10 Batsman"
   ]
  },
  {
   "cell_type": "markdown",
   "metadata": {},
   "source": [
    "### Function for printing in markdown"
   ]
  },
  {
   "cell_type": "code",
   "execution_count": 267,
   "metadata": {
    "collapsed": true
   },
   "outputs": [],
   "source": [
    "def printmd(string):\n",
    "    display(Markdown(string))"
   ]
  },
  {
   "cell_type": "markdown",
   "metadata": {},
   "source": [
    "### TOP-10 Batsman based on Runs Scored"
   ]
  },
  {
   "cell_type": "code",
   "execution_count": 344,
   "metadata": {},
   "outputs": [
    {
     "data": {
      "text/markdown": [
       "**SK Raina** : 4540"
      ],
      "text/plain": [
       "<IPython.core.display.Markdown object>"
      ]
     },
     "metadata": {},
     "output_type": "display_data"
    },
    {
     "data": {
      "text/markdown": [
       "**V Kohli** : 4418"
      ],
      "text/plain": [
       "<IPython.core.display.Markdown object>"
      ]
     },
     "metadata": {},
     "output_type": "display_data"
    },
    {
     "data": {
      "text/markdown": [
       "**RG Sharma** : 4207"
      ],
      "text/plain": [
       "<IPython.core.display.Markdown object>"
      ]
     },
     "metadata": {},
     "output_type": "display_data"
    },
    {
     "data": {
      "text/markdown": [
       "**G Gambhir** : 4132"
      ],
      "text/plain": [
       "<IPython.core.display.Markdown object>"
      ]
     },
     "metadata": {},
     "output_type": "display_data"
    },
    {
     "data": {
      "text/markdown": [
       "**DA Warner** : 4014"
      ],
      "text/plain": [
       "<IPython.core.display.Markdown object>"
      ]
     },
     "metadata": {},
     "output_type": "display_data"
    },
    {
     "data": {
      "text/markdown": [
       "**RV Uthappa** : 3778"
      ],
      "text/plain": [
       "<IPython.core.display.Markdown object>"
      ]
     },
     "metadata": {},
     "output_type": "display_data"
    },
    {
     "data": {
      "text/markdown": [
       "**CH Gayle** : 3626"
      ],
      "text/plain": [
       "<IPython.core.display.Markdown object>"
      ]
     },
     "metadata": {},
     "output_type": "display_data"
    },
    {
     "data": {
      "text/markdown": [
       "**S Dhawan** : 3561"
      ],
      "text/plain": [
       "<IPython.core.display.Markdown object>"
      ]
     },
     "metadata": {},
     "output_type": "display_data"
    },
    {
     "data": {
      "text/markdown": [
       "**MS Dhoni** : 3560"
      ],
      "text/plain": [
       "<IPython.core.display.Markdown object>"
      ]
     },
     "metadata": {},
     "output_type": "display_data"
    },
    {
     "data": {
      "text/markdown": [
       "**AB de Villiers** : 3473"
      ],
      "text/plain": [
       "<IPython.core.display.Markdown object>"
      ]
     },
     "metadata": {},
     "output_type": "display_data"
    }
   ],
   "source": [
    "top_runs = sorted(range(len(Players_Runs)), key=lambda i: Players_Runs[i])[-10:]\n",
    "\n",
    "for value in top_runs[::-1]:\n",
    "    printmd('**' + player_list[value] + '** : ' + str(Players_Runs[value]))"
   ]
  },
  {
   "cell_type": "markdown",
   "metadata": {},
   "source": [
    "### TOP-10 Batsman based on Strike Rate"
   ]
  },
  {
   "cell_type": "code",
   "execution_count": 345,
   "metadata": {},
   "outputs": [
    {
     "data": {
      "text/markdown": [
       "**DL Chahar** : 233.33"
      ],
      "text/plain": [
       "<IPython.core.display.Markdown object>"
      ]
     },
     "metadata": {},
     "output_type": "display_data"
    },
    {
     "data": {
      "text/markdown": [
       "**Umar Gul** : 205.26"
      ],
      "text/plain": [
       "<IPython.core.display.Markdown object>"
      ]
     },
     "metadata": {},
     "output_type": "display_data"
    },
    {
     "data": {
      "text/markdown": [
       "**RS Sodhi** : 200.00"
      ],
      "text/plain": [
       "<IPython.core.display.Markdown object>"
      ]
     },
     "metadata": {},
     "output_type": "display_data"
    },
    {
     "data": {
      "text/markdown": [
       "**BCJ Cutting** : 187.88"
      ],
      "text/plain": [
       "<IPython.core.display.Markdown object>"
      ]
     },
     "metadata": {},
     "output_type": "display_data"
    },
    {
     "data": {
      "text/markdown": [
       "**CR Brathwaite** : 179.25"
      ],
      "text/plain": [
       "<IPython.core.display.Markdown object>"
      ]
     },
     "metadata": {},
     "output_type": "display_data"
    },
    {
     "data": {
      "text/markdown": [
       "**AJ Tye** : 176.67"
      ],
      "text/plain": [
       "<IPython.core.display.Markdown object>"
      ]
     },
     "metadata": {},
     "output_type": "display_data"
    },
    {
     "data": {
      "text/markdown": [
       "**LJ Wright** : 176.67"
      ],
      "text/plain": [
       "<IPython.core.display.Markdown object>"
      ]
     },
     "metadata": {},
     "output_type": "display_data"
    },
    {
     "data": {
      "text/markdown": [
       "**Shahid Afridi** : 176.09"
      ],
      "text/plain": [
       "<IPython.core.display.Markdown object>"
      ]
     },
     "metadata": {},
     "output_type": "display_data"
    },
    {
     "data": {
      "text/markdown": [
       "**I Malhotra** : 175.00"
      ],
      "text/plain": [
       "<IPython.core.display.Markdown object>"
      ]
     },
     "metadata": {},
     "output_type": "display_data"
    },
    {
     "data": {
      "text/markdown": [
       "**SN Khan** : 173.53"
      ],
      "text/plain": [
       "<IPython.core.display.Markdown object>"
      ]
     },
     "metadata": {},
     "output_type": "display_data"
    }
   ],
   "source": [
    "top_sr = sorted(range(len(Players_SR)), key=lambda i: Players_SR[i])[-10:]\n",
    "\n",
    "for value in top_sr[::-1]:\n",
    "    printmd('**' + player_list[value] + '** : ' + str('{0:.2f}'.format(Players_SR[value])))"
   ]
  },
  {
   "cell_type": "markdown",
   "metadata": {},
   "source": [
    "### TOP-10 Batsman based on Average"
   ]
  },
  {
   "cell_type": "code",
   "execution_count": 346,
   "metadata": {
    "scrolled": true
   },
   "outputs": [
    {
     "data": {
      "text/markdown": [
       "**MN van Wyk** : 55.67"
      ],
      "text/plain": [
       "<IPython.core.display.Markdown object>"
      ]
     },
     "metadata": {},
     "output_type": "display_data"
    },
    {
     "data": {
      "text/markdown": [
       "**V Shankar** : 50.50"
      ],
      "text/plain": [
       "<IPython.core.display.Markdown object>"
      ]
     },
     "metadata": {},
     "output_type": "display_data"
    },
    {
     "data": {
      "text/markdown": [
       "**J Suchith** : 48.00"
      ],
      "text/plain": [
       "<IPython.core.display.Markdown object>"
      ]
     },
     "metadata": {},
     "output_type": "display_data"
    },
    {
     "data": {
      "text/markdown": [
       "**AC Voges** : 45.25"
      ],
      "text/plain": [
       "<IPython.core.display.Markdown object>"
      ]
     },
     "metadata": {},
     "output_type": "display_data"
    },
    {
     "data": {
      "text/markdown": [
       "**HM Amla** : 44.38"
      ],
      "text/plain": [
       "<IPython.core.display.Markdown object>"
      ]
     },
     "metadata": {},
     "output_type": "display_data"
    },
    {
     "data": {
      "text/markdown": [
       "**Iqbal Abdulla** : 44.00"
      ],
      "text/plain": [
       "<IPython.core.display.Markdown object>"
      ]
     },
     "metadata": {},
     "output_type": "display_data"
    },
    {
     "data": {
      "text/markdown": [
       "**CH Gayle** : 40.74"
      ],
      "text/plain": [
       "<IPython.core.display.Markdown object>"
      ]
     },
     "metadata": {},
     "output_type": "display_data"
    },
    {
     "data": {
      "text/markdown": [
       "**PD Collingwood** : 40.60"
      ],
      "text/plain": [
       "<IPython.core.display.Markdown object>"
      ]
     },
     "metadata": {},
     "output_type": "display_data"
    },
    {
     "data": {
      "text/markdown": [
       "**DA Warner** : 40.14"
      ],
      "text/plain": [
       "<IPython.core.display.Markdown object>"
      ]
     },
     "metadata": {},
     "output_type": "display_data"
    },
    {
     "data": {
      "text/markdown": [
       "**LMP Simmons** : 39.96"
      ],
      "text/plain": [
       "<IPython.core.display.Markdown object>"
      ]
     },
     "metadata": {},
     "output_type": "display_data"
    }
   ],
   "source": [
    "top_avg = sorted(range(len(P_avg)), key=lambda i: P_avg[i])[-10:]\n",
    "\n",
    "for value in top_avg[::-1]:\n",
    "    printmd('**' + player_list[value] + '** : ' + str('{0:.2f}'.format(P_avg[value])))"
   ]
  },
  {
   "cell_type": "markdown",
   "metadata": {},
   "source": [
    "### TOP-10 Batsman based on Century Scored"
   ]
  },
  {
   "cell_type": "code",
   "execution_count": 347,
   "metadata": {
    "scrolled": true
   },
   "outputs": [
    {
     "data": {
      "text/markdown": [
       "**CH Gayle** : 5"
      ],
      "text/plain": [
       "<IPython.core.display.Markdown object>"
      ]
     },
     "metadata": {},
     "output_type": "display_data"
    },
    {
     "data": {
      "text/markdown": [
       "**V Kohli** : 4"
      ],
      "text/plain": [
       "<IPython.core.display.Markdown object>"
      ]
     },
     "metadata": {},
     "output_type": "display_data"
    },
    {
     "data": {
      "text/markdown": [
       "**AB de Villiers** : 3"
      ],
      "text/plain": [
       "<IPython.core.display.Markdown object>"
      ]
     },
     "metadata": {},
     "output_type": "display_data"
    },
    {
     "data": {
      "text/markdown": [
       "**DA Warner** : 3"
      ],
      "text/plain": [
       "<IPython.core.display.Markdown object>"
      ]
     },
     "metadata": {},
     "output_type": "display_data"
    },
    {
     "data": {
      "text/markdown": [
       "**BB McCullum** : 2"
      ],
      "text/plain": [
       "<IPython.core.display.Markdown object>"
      ]
     },
     "metadata": {},
     "output_type": "display_data"
    },
    {
     "data": {
      "text/markdown": [
       "**AC Gilchrist** : 2"
      ],
      "text/plain": [
       "<IPython.core.display.Markdown object>"
      ]
     },
     "metadata": {},
     "output_type": "display_data"
    },
    {
     "data": {
      "text/markdown": [
       "**M Vijay** : 2"
      ],
      "text/plain": [
       "<IPython.core.display.Markdown object>"
      ]
     },
     "metadata": {},
     "output_type": "display_data"
    },
    {
     "data": {
      "text/markdown": [
       "**V Sehwag** : 2"
      ],
      "text/plain": [
       "<IPython.core.display.Markdown object>"
      ]
     },
     "metadata": {},
     "output_type": "display_data"
    },
    {
     "data": {
      "text/markdown": [
       "**SR Watson** : 2"
      ],
      "text/plain": [
       "<IPython.core.display.Markdown object>"
      ]
     },
     "metadata": {},
     "output_type": "display_data"
    },
    {
     "data": {
      "text/markdown": [
       "**HM Amla** : 2"
      ],
      "text/plain": [
       "<IPython.core.display.Markdown object>"
      ]
     },
     "metadata": {},
     "output_type": "display_data"
    }
   ],
   "source": [
    "top_century = sorted(range(len(Player_century)), key=lambda i: Player_century[i])[-10:]\n",
    "\n",
    "for value in top_century[::-1]:\n",
    "    printmd('**' + player_list[value] + '** : ' + str(Player_century[value]))"
   ]
  },
  {
   "cell_type": "markdown",
   "metadata": {},
   "source": [
    "### TOP-10 Batsman based on Half-Century Scored"
   ]
  },
  {
   "cell_type": "code",
   "execution_count": 348,
   "metadata": {},
   "outputs": [
    {
     "data": {
      "text/markdown": [
       "**DA Warner** : 36"
      ],
      "text/plain": [
       "<IPython.core.display.Markdown object>"
      ]
     },
     "metadata": {},
     "output_type": "display_data"
    },
    {
     "data": {
      "text/markdown": [
       "**G Gambhir** : 35"
      ],
      "text/plain": [
       "<IPython.core.display.Markdown object>"
      ]
     },
     "metadata": {},
     "output_type": "display_data"
    },
    {
     "data": {
      "text/markdown": [
       "**RG Sharma** : 32"
      ],
      "text/plain": [
       "<IPython.core.display.Markdown object>"
      ]
     },
     "metadata": {},
     "output_type": "display_data"
    },
    {
     "data": {
      "text/markdown": [
       "**SK Raina** : 31"
      ],
      "text/plain": [
       "<IPython.core.display.Markdown object>"
      ]
     },
     "metadata": {},
     "output_type": "display_data"
    },
    {
     "data": {
      "text/markdown": [
       "**V Kohli** : 30"
      ],
      "text/plain": [
       "<IPython.core.display.Markdown object>"
      ]
     },
     "metadata": {},
     "output_type": "display_data"
    },
    {
     "data": {
      "text/markdown": [
       "**S Dhawan** : 28"
      ],
      "text/plain": [
       "<IPython.core.display.Markdown object>"
      ]
     },
     "metadata": {},
     "output_type": "display_data"
    },
    {
     "data": {
      "text/markdown": [
       "**AM Rahane** : 25"
      ],
      "text/plain": [
       "<IPython.core.display.Markdown object>"
      ]
     },
     "metadata": {},
     "output_type": "display_data"
    },
    {
     "data": {
      "text/markdown": [
       "**RV Uthappa** : 22"
      ],
      "text/plain": [
       "<IPython.core.display.Markdown object>"
      ]
     },
     "metadata": {},
     "output_type": "display_data"
    },
    {
     "data": {
      "text/markdown": [
       "**AB de Villiers** : 22"
      ],
      "text/plain": [
       "<IPython.core.display.Markdown object>"
      ]
     },
     "metadata": {},
     "output_type": "display_data"
    },
    {
     "data": {
      "text/markdown": [
       "**CH Gayle** : 21"
      ],
      "text/plain": [
       "<IPython.core.display.Markdown object>"
      ]
     },
     "metadata": {},
     "output_type": "display_data"
    }
   ],
   "source": [
    "top_fifty = sorted(range(len(Player_fifty)), key=lambda i: Player_fifty[i])[-10:]\n",
    "\n",
    "for value in top_fifty[::-1]:\n",
    "    printmd('**' + player_list[value] + '** : ' + str(Player_fifty[value]))"
   ]
  },
  {
   "cell_type": "markdown",
   "metadata": {},
   "source": [
    "### TOP-10 Batsman based on Six Hitted"
   ]
  },
  {
   "cell_type": "code",
   "execution_count": 349,
   "metadata": {},
   "outputs": [
    {
     "data": {
      "text/markdown": [
       "**CH Gayle** : 265"
      ],
      "text/plain": [
       "<IPython.core.display.Markdown object>"
      ]
     },
     "metadata": {},
     "output_type": "display_data"
    },
    {
     "data": {
      "text/markdown": [
       "**SK Raina** : 173"
      ],
      "text/plain": [
       "<IPython.core.display.Markdown object>"
      ]
     },
     "metadata": {},
     "output_type": "display_data"
    },
    {
     "data": {
      "text/markdown": [
       "**RG Sharma** : 173"
      ],
      "text/plain": [
       "<IPython.core.display.Markdown object>"
      ]
     },
     "metadata": {},
     "output_type": "display_data"
    },
    {
     "data": {
      "text/markdown": [
       "**V Kohli** : 160"
      ],
      "text/plain": [
       "<IPython.core.display.Markdown object>"
      ]
     },
     "metadata": {},
     "output_type": "display_data"
    },
    {
     "data": {
      "text/markdown": [
       "**DA Warner** : 160"
      ],
      "text/plain": [
       "<IPython.core.display.Markdown object>"
      ]
     },
     "metadata": {},
     "output_type": "display_data"
    },
    {
     "data": {
      "text/markdown": [
       "**MS Dhoni** : 156"
      ],
      "text/plain": [
       "<IPython.core.display.Markdown object>"
      ]
     },
     "metadata": {},
     "output_type": "display_data"
    },
    {
     "data": {
      "text/markdown": [
       "**AB de Villiers** : 156"
      ],
      "text/plain": [
       "<IPython.core.display.Markdown object>"
      ]
     },
     "metadata": {},
     "output_type": "display_data"
    },
    {
     "data": {
      "text/markdown": [
       "**KA Pollard** : 147"
      ],
      "text/plain": [
       "<IPython.core.display.Markdown object>"
      ]
     },
     "metadata": {},
     "output_type": "display_data"
    },
    {
     "data": {
      "text/markdown": [
       "**YK Pathan** : 147"
      ],
      "text/plain": [
       "<IPython.core.display.Markdown object>"
      ]
     },
     "metadata": {},
     "output_type": "display_data"
    },
    {
     "data": {
      "text/markdown": [
       "**Yuvraj Singh** : 141"
      ],
      "text/plain": [
       "<IPython.core.display.Markdown object>"
      ]
     },
     "metadata": {},
     "output_type": "display_data"
    }
   ],
   "source": [
    "top_six = sorted(range(len(Player_six)), key=lambda i: Player_six[i])[-10:]\n",
    "\n",
    "for value in top_six[::-1]:\n",
    "    printmd('**' + player_list[value] + '** : ' + str(Player_six[value]))"
   ]
  },
  {
   "cell_type": "markdown",
   "metadata": {},
   "source": [
    "### TOP-10 Batsman based on Four Scored"
   ]
  },
  {
   "cell_type": "code",
   "execution_count": 350,
   "metadata": {},
   "outputs": [
    {
     "data": {
      "text/markdown": [
       "**G Gambhir** : 484"
      ],
      "text/plain": [
       "<IPython.core.display.Markdown object>"
      ]
     },
     "metadata": {},
     "output_type": "display_data"
    },
    {
     "data": {
      "text/markdown": [
       "**SK Raina** : 402"
      ],
      "text/plain": [
       "<IPython.core.display.Markdown object>"
      ]
     },
     "metadata": {},
     "output_type": "display_data"
    },
    {
     "data": {
      "text/markdown": [
       "**S Dhawan** : 401"
      ],
      "text/plain": [
       "<IPython.core.display.Markdown object>"
      ]
     },
     "metadata": {},
     "output_type": "display_data"
    },
    {
     "data": {
      "text/markdown": [
       "**DA Warner** : 401"
      ],
      "text/plain": [
       "<IPython.core.display.Markdown object>"
      ]
     },
     "metadata": {},
     "output_type": "display_data"
    },
    {
     "data": {
      "text/markdown": [
       "**V Kohli** : 383"
      ],
      "text/plain": [
       "<IPython.core.display.Markdown object>"
      ]
     },
     "metadata": {},
     "output_type": "display_data"
    },
    {
     "data": {
      "text/markdown": [
       "**RV Uthappa** : 377"
      ],
      "text/plain": [
       "<IPython.core.display.Markdown object>"
      ]
     },
     "metadata": {},
     "output_type": "display_data"
    },
    {
     "data": {
      "text/markdown": [
       "**RG Sharma** : 354"
      ],
      "text/plain": [
       "<IPython.core.display.Markdown object>"
      ]
     },
     "metadata": {},
     "output_type": "display_data"
    },
    {
     "data": {
      "text/markdown": [
       "**V Sehwag** : 334"
      ],
      "text/plain": [
       "<IPython.core.display.Markdown object>"
      ]
     },
     "metadata": {},
     "output_type": "display_data"
    },
    {
     "data": {
      "text/markdown": [
       "**AM Rahane** : 320"
      ],
      "text/plain": [
       "<IPython.core.display.Markdown object>"
      ]
     },
     "metadata": {},
     "output_type": "display_data"
    },
    {
     "data": {
      "text/markdown": [
       "**PA Patel** : 297"
      ],
      "text/plain": [
       "<IPython.core.display.Markdown object>"
      ]
     },
     "metadata": {},
     "output_type": "display_data"
    }
   ],
   "source": [
    "top_four = sorted(range(len(Player_four)), key=lambda i: Player_four[i])[-10:]\n",
    "\n",
    "for value in top_four[::-1]:\n",
    "    printmd('**' + player_list[value] + '** : ' + str(Player_four[value]))"
   ]
  }
 ],
 "metadata": {
  "kernelspec": {
   "display_name": "Python 3",
   "language": "python",
   "name": "python3"
  },
  "language_info": {
   "codemirror_mode": {
    "name": "ipython",
    "version": 3
   },
   "file_extension": ".py",
   "mimetype": "text/x-python",
   "name": "python",
   "nbconvert_exporter": "python",
   "pygments_lexer": "ipython3",
   "version": "3.6.1"
  }
 },
 "nbformat": 4,
 "nbformat_minor": 2
}
